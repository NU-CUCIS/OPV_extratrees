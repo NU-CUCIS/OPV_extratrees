{
 "cells": [
  {
   "cell_type": "markdown",
   "metadata": {},
   "source": [
    "### Importing Libraries\n"
   ]
  },
  {
   "cell_type": "code",
   "execution_count": 2,
   "metadata": {
    "collapsed": true
   },
   "outputs": [],
   "source": [
    "%matplotlib inline"
   ]
  },
  {
   "cell_type": "code",
   "execution_count": 3,
   "metadata": {
    "collapsed": true
   },
   "outputs": [],
   "source": [
    "from IPython.display import Image\n",
    "\n",
    "import pandas as pd\n",
    "from pandas import DataFrame\n",
    "import numpy,pickle\n",
    "from numpy import load, save,append, array,percentile,hstack\n",
    "\n",
    "import matplotlib.pyplot as plt\n",
    "import seaborn as sns\n",
    "from scipy.spatial.distance import dice,hamming,jaccard,kulsinski,matching,yule,rogerstanimoto\n",
    "from scipy import stats\n",
    "from scipy.stats import pointbiserialr as pointbiserial"
   ]
  },
  {
   "cell_type": "code",
   "execution_count": 4,
   "metadata": {
    "collapsed": true
   },
   "outputs": [],
   "source": [
    "def warn(*args, **kwargs):\n",
    "    pass\n",
    "import warnings\n",
    "warnings.warn = warn\n",
    "warnings.filterwarnings(\"ignore\")"
   ]
  },
  {
   "cell_type": "code",
   "execution_count": 5,
   "metadata": {
    "collapsed": true
   },
   "outputs": [],
   "source": [
    "from rdkit import Chem, DataStructs\n",
    "from rdkit.Chem import AllChem,MACCSkeys,AtomPairs\n",
    "from rdkit.Chem.Fingerprints import FingerprintMols\n",
    "from rdkit.Chem.AtomPairs import Pairs,Torsions\n",
    "from rdkit.Chem.AtomPairs.Torsions import GetTopologicalTorsionFingerprintAsIntVect as TopologicalTorsionFingerPrint\n",
    "from rdkit.Chem.Draw import IPythonConsole, SimilarityMaps\n",
    "from rdkit.Chem.AtomPairs.Pairs import ExplainPairScore as ExplainAtomPairScore"
   ]
  },
  {
   "cell_type": "markdown",
   "metadata": {},
   "source": [
    "#### Function calls to get fingerprint from SMILES\n"
   ]
  },
  {
   "cell_type": "code",
   "execution_count": 6,
   "metadata": {
    "collapsed": true
   },
   "outputs": [],
   "source": [
    "def getAtomPair(mol):\n",
    "\treturn SimilarityMaps.GetAPFingerprint(mol, fpType='bv')\n",
    "\n",
    "def getTopological(mol):\n",
    "\treturn SimilarityMaps.GetTTFingerprint(mol, fpType='bv')\n",
    "\n",
    "def getCircular(mol):\n",
    "\treturn SimilarityMaps.GetMorganFingerprint(mol, fpType='bv')\n",
    "\n",
    "def getMACCS(mol):\n",
    "\treturn MACCSkeys.GenMACCSKeys(mol)\n",
    "\n"
   ]
  },
  {
   "cell_type": "markdown",
   "metadata": {},
   "source": [
    "#### Utility Functions"
   ]
  },
  {
   "cell_type": "code",
   "execution_count": 7,
   "metadata": {
    "collapsed": true
   },
   "outputs": [],
   "source": [
    "def loadNumpy(name,path='.'):\n",
    "    if \".npy\" in name:\n",
    "        fullPath = path+'/'+name\n",
    "    else:\n",
    "        fullPath = path+'/'+name+'.npy'\n",
    "    return load(fullPath)\n",
    "\n",
    "\n",
    "def saveNumpy(obj, name, path='.'):\n",
    "    if \".npy\" not in name:\n",
    "        fullPath = path+'/'+name\n",
    "        save(fullPath, obj)\n",
    "        print name,'saved successfully in',path\n",
    "    else:\n",
    "        fullPath = path+'/'+name.split(\".npy\")[0]\n",
    "        save(fullPath, obj)\n",
    "        print name,'saved successfully in',path\n",
    "        \n",
    "def loadData(name,path='.'):\n",
    "    '''\n",
    "    This loads a pickle file and returns the content which is a DICTIONARY object in our case.\n",
    "    '''\n",
    "    if \".pkl\" in name:\n",
    "            name = name.split(\".pkl\")[0]\n",
    "    if \"/\" in name:\n",
    "            name = name.split(\"/\",1)[1]\n",
    "\n",
    "    with open(path+\"/\"+name + '.pkl', 'rb') as f:\n",
    "          return pickle.load(f)\n",
    "        \n",
    "def saveData(obj, name,path='.'):\n",
    "    '''\n",
    "    This saves a object into a pickle file. In our case, it is generally a DICTIONARY object.\n",
    "    '''\n",
    "\n",
    "    with open(path+\"/\"+name + '.pkl', 'wb') as f:\n",
    "            pickle.dump(obj, f)"
   ]
  },
  {
   "cell_type": "code",
   "execution_count": 8,
   "metadata": {
    "collapsed": true
   },
   "outputs": [],
   "source": [
    "data = pd.read_csv('allFunctionals.csv','|')"
   ]
  },
  {
   "cell_type": "code",
   "execution_count": 186,
   "metadata": {},
   "outputs": [
    {
     "data": {
      "text/plain": [
       "Index([u'Unnamed: 0', u'Unnamed: 1', u'Unnamed: 2', u'Unnamed: 3',\n",
       "       u'Unnamed: 4', u'Unnamed: 5', u'Unnamed: 6', u'B3LYP', u'B3LYP.1',\n",
       "       u'B3LYP.2', u'PBE', u'PBE.1', u'PBE.2', u'PB86', u'PB87', u'PB88',\n",
       "       u'M06', u'M07', u'M08'],\n",
       "      dtype='object')"
      ]
     },
     "execution_count": 186,
     "metadata": {},
     "output_type": "execute_result"
    }
   ],
   "source": [
    "data.keys()"
   ]
  },
  {
   "cell_type": "markdown",
   "metadata": {},
   "source": [
    "#### Extracting SMILES From Dataset"
   ]
  },
  {
   "cell_type": "code",
   "execution_count": 84,
   "metadata": {
    "collapsed": true
   },
   "outputs": [],
   "source": [
    "SMILES = []\n",
    "for SMILE in data['Unnamed: 1'][1:]:\n",
    "    SMILES += [SMILE]"
   ]
  },
  {
   "cell_type": "code",
   "execution_count": 85,
   "metadata": {
    "collapsed": true
   },
   "outputs": [],
   "source": [
    "MACCS = []\n",
    "AtomPair = []\n",
    "Topological = []\n",
    "Circular = []\n",
    "mols = []\n",
    "for SMILE in SMILES:\n",
    "    mol = Chem.MolFromSmiles(SMILE)\n",
    "    mols += [mol]\n",
    "    MACCS += [numpy.transpose(getMACCS(mol))]\n",
    "    AtomPair += [numpy.transpose(getAtomPair(mol))]\n",
    "    Topological += [numpy.transpose(getTopological(mol))]\n",
    "    Circular += [numpy.transpose(getCircular(mol))]"
   ]
  },
  {
   "cell_type": "code",
   "execution_count": 86,
   "metadata": {},
   "outputs": [
    {
     "name": "stdout",
     "output_type": "stream",
     "text": [
      "mols saved successfully in .\n"
     ]
    }
   ],
   "source": [
    "saveNumpy(mols,'mols')"
   ]
  },
  {
   "cell_type": "code",
   "execution_count": 46,
   "metadata": {},
   "outputs": [
    {
     "name": "stdout",
     "output_type": "stream",
     "text": [
      "MACCS saved successfully in .\n",
      "Circular saved successfully in .\n",
      "AtomPair saved successfully in .\n",
      "Topological saved successfully in .\n"
     ]
    }
   ],
   "source": [
    "saveNumpy(MACCS,'MACCS')\n",
    "saveNumpy(Circular,'Circular')\n",
    "saveNumpy(AtomPair,'AtomPair')\n",
    "saveNumpy(Topological,'Topological')\n",
    "\n"
   ]
  },
  {
   "cell_type": "markdown",
   "metadata": {},
   "source": [
    "### Extracting HOMO value from Dataset "
   ]
  },
  {
   "cell_type": "code",
   "execution_count": 87,
   "metadata": {
    "collapsed": true
   },
   "outputs": [],
   "source": [
    "HOMO = []\n",
    "for item in data['B3LYP'][1:]:\n",
    "    HOMO += [float(item)]\n",
    "\n",
    "LUMO = []\n",
    "for item in data['B3LYP.1'][1:]:\n",
    "    LUMO += [float(item)]\n",
    "\n",
    "GAP = []\n",
    "for item in data['B3LYP.2'][1:]:\n",
    "    GAP += [float(item)]"
   ]
  },
  {
   "cell_type": "code",
   "execution_count": 88,
   "metadata": {},
   "outputs": [
    {
     "name": "stdout",
     "output_type": "stream",
     "text": [
      "HOMO saved successfully in .\n"
     ]
    }
   ],
   "source": [
    "saveNumpy(HOMO,'HOMO')"
   ]
  },
  {
   "cell_type": "code",
   "execution_count": 89,
   "metadata": {},
   "outputs": [
    {
     "name": "stdout",
     "output_type": "stream",
     "text": [
      "LUMO saved successfully in .\n",
      "GAP saved successfully in .\n"
     ]
    }
   ],
   "source": [
    "saveNumpy(LUMO,'LUMO')\n",
    "saveNumpy(GAP,'GAP')"
   ]
  },
  {
   "cell_type": "markdown",
   "metadata": {},
   "source": [
    "## <font color = \"red\"> Load Best Grid Search Models for Random Forest across all Fingerprints </font>"
   ]
  },
  {
   "cell_type": "markdown",
   "metadata": {},
   "source": [
    "### Function for getting indices from best random forest model (grid search)"
   ]
  },
  {
   "cell_type": "code",
   "execution_count": 67,
   "metadata": {
    "collapsed": true
   },
   "outputs": [],
   "source": [
    "def getIndices(modelFile,X,Y):\n",
    "        model = loadData(modelFile)['best_estimator']\n",
    "        model.fit(X,Y)\n",
    "        features = model.feature_importances_\n",
    "        indices = numpy.argsort(features)[::-1]\n",
    "        return indices"
   ]
  },
  {
   "cell_type": "markdown",
   "metadata": {},
   "source": [
    "#### Getting all and top 10 features of atom pair random forest"
   ]
  },
  {
   "cell_type": "code",
   "execution_count": 146,
   "metadata": {},
   "outputs": [
    {
     "name": "stdout",
     "output_type": "stream",
     "text": [
      "atomAll saved successfully in featuresRF\n",
      "atomTop10 saved successfully in featuresRF\n"
     ]
    }
   ],
   "source": [
    "atomIndices = getIndices('atomRFBest',AtomPair,HOMO)\n",
    "saveNumpy(atomIndices,'atomAll','featuresRF')\n",
    "saveNumpy(atomIndices[:10],'atomTop10','featuresRF')"
   ]
  },
  {
   "cell_type": "code",
   "execution_count": 147,
   "metadata": {},
   "outputs": [
    {
     "data": {
      "text/plain": [
       "array([1484, 1485, 1990,  610,  433, 1058,  551,   47, 1250, 1838])"
      ]
     },
     "execution_count": 147,
     "metadata": {},
     "output_type": "execute_result"
    }
   ],
   "source": [
    "atomIndices[:10]"
   ]
  },
  {
   "cell_type": "code",
   "execution_count": 22,
   "metadata": {
    "collapsed": true
   },
   "outputs": [],
   "source": [
    "atomIndicesTop = loadNumpy('atomTop10','featuresRF')\n",
    "AtomPair = loadNumpy('AtomPair')"
   ]
  },
  {
   "cell_type": "markdown",
   "metadata": {},
   "source": [
    "#### Getting all and top 10 features of maccs random forest"
   ]
  },
  {
   "cell_type": "code",
   "execution_count": 148,
   "metadata": {},
   "outputs": [
    {
     "name": "stdout",
     "output_type": "stream",
     "text": [
      "maccsAll saved successfully in featuresRF\n",
      "maccsTop10 saved successfully in featuresRF\n"
     ]
    }
   ],
   "source": [
    "maccsIndices = getIndices('maccsRFBest',MACCS,HOMO)\n",
    "saveNumpy(maccsIndices,'maccsAll','featuresRF')\n",
    "saveNumpy(maccsIndices[:10],'maccsTop10','featuresRF')"
   ]
  },
  {
   "cell_type": "code",
   "execution_count": 149,
   "metadata": {},
   "outputs": [
    {
     "data": {
      "text/plain": [
       "array([149, 141, 125,  62, 120,  49,  56,  63,  24, 163])"
      ]
     },
     "execution_count": 149,
     "metadata": {},
     "output_type": "execute_result"
    }
   ],
   "source": [
    "maccsIndices[:10]"
   ]
  },
  {
   "cell_type": "markdown",
   "metadata": {},
   "source": [
    "#### Getting all and top 10 features of topological random forest"
   ]
  },
  {
   "cell_type": "code",
   "execution_count": 150,
   "metadata": {},
   "outputs": [
    {
     "name": "stdout",
     "output_type": "stream",
     "text": [
      "topoAll saved successfully in featuresRF\n",
      "topoTop10 saved successfully in featuresRF\n"
     ]
    }
   ],
   "source": [
    "topoIndices = getIndices('topoRFBest',Topological,HOMO)\n",
    "saveNumpy(topoIndices,'topoAll','featuresRF')\n",
    "saveNumpy(topoIndices[:10],'topoTop10','featuresRF')"
   ]
  },
  {
   "cell_type": "code",
   "execution_count": 151,
   "metadata": {},
   "outputs": [
    {
     "data": {
      "text/plain": [
       "array([1386, 1318, 1550, 1646, 1549, 1341, 1892,  434, 1340, 1645])"
      ]
     },
     "execution_count": 151,
     "metadata": {},
     "output_type": "execute_result"
    }
   ],
   "source": [
    "topoIndices[:10]"
   ]
  },
  {
   "cell_type": "markdown",
   "metadata": {},
   "source": [
    "#### Getting all and top 10 features of circular/morgan random forest"
   ]
  },
  {
   "cell_type": "code",
   "execution_count": 152,
   "metadata": {},
   "outputs": [
    {
     "name": "stdout",
     "output_type": "stream",
     "text": [
      "circularAll saved successfully in featuresRF\n",
      "circularTop10 saved successfully in featuresRF\n"
     ]
    }
   ],
   "source": [
    "circularIndices = getIndices('circularRFBest',Circular,HOMO)\n",
    "saveNumpy(circularIndices,'circularAll','featuresRF')\n",
    "saveNumpy(circularIndices[:10],'circularTop10','featuresRF')"
   ]
  },
  {
   "cell_type": "code",
   "execution_count": 153,
   "metadata": {},
   "outputs": [
    {
     "data": {
      "text/plain": [
       "array([1809,  162,  468,  431,  529, 1232, 1557,  717, 1963, 1370])"
      ]
     },
     "execution_count": 153,
     "metadata": {},
     "output_type": "execute_result"
    }
   ],
   "source": [
    "circularIndices[:10]"
   ]
  },
  {
   "cell_type": "markdown",
   "metadata": {},
   "source": [
    "## <font color=\"blue\"> Correlation Matrix (for now only AtomPair) </font>"
   ]
  },
  {
   "cell_type": "markdown",
   "metadata": {},
   "source": [
    "#### Utility Functions for correlation"
   ]
  },
  {
   "cell_type": "code",
   "execution_count": 175,
   "metadata": {
    "collapsed": true
   },
   "outputs": [],
   "source": [
    "def correlationMask(X,Y,topIndices):\n",
    "    length = len(X)\n",
    "    d = []\n",
    "    for i in range(length):\n",
    "        d+= [append(X[i][topIndices],Y[i]).tolist()]\n",
    "    df = pd.DataFrame(d)\n",
    "    correlation = df.corr()\n",
    "\n",
    "    # Generate a mask for the upper triangle\n",
    "    mask = numpy.zeros_like(correlation, dtype=numpy.bool)\n",
    "    mask[numpy.triu_indices_from(mask)] = True\n",
    "    \n",
    "    return correlation, mask"
   ]
  },
  {
   "cell_type": "code",
   "execution_count": 176,
   "metadata": {
    "collapsed": true
   },
   "outputs": [],
   "source": [
    "def correlationPlot(correlation,mask):\n",
    "    # Set up the matplotlib figure\n",
    "    f, ax = plt.subplots(figsize=(5, 4))\n",
    "\n",
    "    # Generate a custom diverging colormap\n",
    "    cmap = sns.diverging_palette(220, 10, as_cmap=True)\n",
    "\n",
    "    # Draw the heatmap with the mask and correct aspect ratio\n",
    "    sns.heatmap(correlation, mask=mask, cmap=cmap, vmax=.3, center=0,\n",
    "                square=True, linewidths=.5, cbar_kws={\"shrink\": .5})"
   ]
  },
  {
   "cell_type": "markdown",
   "metadata": {},
   "source": [
    "### HOMO "
   ]
  },
  {
   "cell_type": "code",
   "execution_count": 21,
   "metadata": {
    "collapsed": true
   },
   "outputs": [],
   "source": [
    "correlationAtom = loadNumpy('correlationAtom_HOMO','correlation')\n",
    "maskAtom = numpy.zeros_like(correlationAtom, dtype=numpy.bool)\n",
    "maskAtom[numpy.triu_indices_from(maskAtom)] = True"
   ]
  },
  {
   "cell_type": "code",
   "execution_count": 170,
   "metadata": {
    "collapsed": true
   },
   "outputs": [],
   "source": [
    "correlation, mask = correlationMask(AtomPair,HOMO,atomIndices[:10])"
   ]
  },
  {
   "cell_type": "markdown",
   "metadata": {},
   "source": [
    "#### Correlation with HOMO for top 10 features"
   ]
  },
  {
   "cell_type": "code",
   "execution_count": 171,
   "metadata": {},
   "outputs": [
    {
     "data": {
      "text/html": [
       "<div>\n",
       "<table border=\"1\" class=\"dataframe\">\n",
       "  <thead>\n",
       "    <tr style=\"text-align: right;\">\n",
       "      <th></th>\n",
       "      <th>0</th>\n",
       "      <th>1</th>\n",
       "      <th>2</th>\n",
       "      <th>3</th>\n",
       "      <th>4</th>\n",
       "      <th>5</th>\n",
       "      <th>6</th>\n",
       "      <th>7</th>\n",
       "      <th>8</th>\n",
       "      <th>9</th>\n",
       "      <th>10</th>\n",
       "    </tr>\n",
       "  </thead>\n",
       "  <tbody>\n",
       "    <tr>\n",
       "      <th>0</th>\n",
       "      <td>1.000000</td>\n",
       "      <td>0.936135</td>\n",
       "      <td>0.660907</td>\n",
       "      <td>0.038579</td>\n",
       "      <td>-0.078333</td>\n",
       "      <td>-0.064734</td>\n",
       "      <td>0.423843</td>\n",
       "      <td>0.424098</td>\n",
       "      <td>0.405209</td>\n",
       "      <td>0.029034</td>\n",
       "      <td>0.537786</td>\n",
       "    </tr>\n",
       "    <tr>\n",
       "      <th>1</th>\n",
       "      <td>0.936135</td>\n",
       "      <td>1.000000</td>\n",
       "      <td>0.707992</td>\n",
       "      <td>0.041210</td>\n",
       "      <td>-0.063639</td>\n",
       "      <td>-0.057165</td>\n",
       "      <td>0.382059</td>\n",
       "      <td>0.428665</td>\n",
       "      <td>0.379330</td>\n",
       "      <td>0.031014</td>\n",
       "      <td>0.541964</td>\n",
       "    </tr>\n",
       "    <tr>\n",
       "      <th>2</th>\n",
       "      <td>0.660907</td>\n",
       "      <td>0.707992</td>\n",
       "      <td>1.000000</td>\n",
       "      <td>0.036749</td>\n",
       "      <td>-0.046964</td>\n",
       "      <td>0.030967</td>\n",
       "      <td>0.398784</td>\n",
       "      <td>0.403983</td>\n",
       "      <td>0.425385</td>\n",
       "      <td>0.027657</td>\n",
       "      <td>0.519638</td>\n",
       "    </tr>\n",
       "    <tr>\n",
       "      <th>3</th>\n",
       "      <td>0.038579</td>\n",
       "      <td>0.041210</td>\n",
       "      <td>0.036749</td>\n",
       "      <td>1.000000</td>\n",
       "      <td>0.386056</td>\n",
       "      <td>0.498593</td>\n",
       "      <td>-0.016013</td>\n",
       "      <td>0.090966</td>\n",
       "      <td>0.015632</td>\n",
       "      <td>0.560532</td>\n",
       "      <td>-0.314544</td>\n",
       "    </tr>\n",
       "    <tr>\n",
       "      <th>4</th>\n",
       "      <td>-0.078333</td>\n",
       "      <td>-0.063639</td>\n",
       "      <td>-0.046964</td>\n",
       "      <td>0.386056</td>\n",
       "      <td>1.000000</td>\n",
       "      <td>0.301077</td>\n",
       "      <td>-0.133674</td>\n",
       "      <td>-0.048776</td>\n",
       "      <td>-0.155259</td>\n",
       "      <td>0.249956</td>\n",
       "      <td>-0.426020</td>\n",
       "    </tr>\n",
       "    <tr>\n",
       "      <th>5</th>\n",
       "      <td>-0.064734</td>\n",
       "      <td>-0.057165</td>\n",
       "      <td>0.030967</td>\n",
       "      <td>0.498593</td>\n",
       "      <td>0.301077</td>\n",
       "      <td>1.000000</td>\n",
       "      <td>0.067942</td>\n",
       "      <td>0.022840</td>\n",
       "      <td>0.013173</td>\n",
       "      <td>0.666540</td>\n",
       "      <td>-0.347260</td>\n",
       "    </tr>\n",
       "    <tr>\n",
       "      <th>6</th>\n",
       "      <td>0.423843</td>\n",
       "      <td>0.382059</td>\n",
       "      <td>0.398784</td>\n",
       "      <td>-0.016013</td>\n",
       "      <td>-0.133674</td>\n",
       "      <td>0.067942</td>\n",
       "      <td>1.000000</td>\n",
       "      <td>0.523591</td>\n",
       "      <td>0.193881</td>\n",
       "      <td>0.060680</td>\n",
       "      <td>0.433971</td>\n",
       "    </tr>\n",
       "    <tr>\n",
       "      <th>7</th>\n",
       "      <td>0.424098</td>\n",
       "      <td>0.428665</td>\n",
       "      <td>0.403983</td>\n",
       "      <td>0.090966</td>\n",
       "      <td>-0.048776</td>\n",
       "      <td>0.022840</td>\n",
       "      <td>0.523591</td>\n",
       "      <td>1.000000</td>\n",
       "      <td>0.171848</td>\n",
       "      <td>0.008383</td>\n",
       "      <td>0.435794</td>\n",
       "    </tr>\n",
       "    <tr>\n",
       "      <th>8</th>\n",
       "      <td>0.405209</td>\n",
       "      <td>0.379330</td>\n",
       "      <td>0.425385</td>\n",
       "      <td>0.015632</td>\n",
       "      <td>-0.155259</td>\n",
       "      <td>0.013173</td>\n",
       "      <td>0.193881</td>\n",
       "      <td>0.171848</td>\n",
       "      <td>1.000000</td>\n",
       "      <td>0.011765</td>\n",
       "      <td>0.454669</td>\n",
       "    </tr>\n",
       "    <tr>\n",
       "      <th>9</th>\n",
       "      <td>0.029034</td>\n",
       "      <td>0.031014</td>\n",
       "      <td>0.027657</td>\n",
       "      <td>0.560532</td>\n",
       "      <td>0.249956</td>\n",
       "      <td>0.666540</td>\n",
       "      <td>0.060680</td>\n",
       "      <td>0.008383</td>\n",
       "      <td>0.011765</td>\n",
       "      <td>1.000000</td>\n",
       "      <td>-0.281072</td>\n",
       "    </tr>\n",
       "    <tr>\n",
       "      <th>10</th>\n",
       "      <td>0.537786</td>\n",
       "      <td>0.541964</td>\n",
       "      <td>0.519638</td>\n",
       "      <td>-0.314544</td>\n",
       "      <td>-0.426020</td>\n",
       "      <td>-0.347260</td>\n",
       "      <td>0.433971</td>\n",
       "      <td>0.435794</td>\n",
       "      <td>0.454669</td>\n",
       "      <td>-0.281072</td>\n",
       "      <td>1.000000</td>\n",
       "    </tr>\n",
       "  </tbody>\n",
       "</table>\n",
       "</div>"
      ],
      "text/plain": [
       "          0         1         2         3         4         5         6   \\\n",
       "0   1.000000  0.936135  0.660907  0.038579 -0.078333 -0.064734  0.423843   \n",
       "1   0.936135  1.000000  0.707992  0.041210 -0.063639 -0.057165  0.382059   \n",
       "2   0.660907  0.707992  1.000000  0.036749 -0.046964  0.030967  0.398784   \n",
       "3   0.038579  0.041210  0.036749  1.000000  0.386056  0.498593 -0.016013   \n",
       "4  -0.078333 -0.063639 -0.046964  0.386056  1.000000  0.301077 -0.133674   \n",
       "5  -0.064734 -0.057165  0.030967  0.498593  0.301077  1.000000  0.067942   \n",
       "6   0.423843  0.382059  0.398784 -0.016013 -0.133674  0.067942  1.000000   \n",
       "7   0.424098  0.428665  0.403983  0.090966 -0.048776  0.022840  0.523591   \n",
       "8   0.405209  0.379330  0.425385  0.015632 -0.155259  0.013173  0.193881   \n",
       "9   0.029034  0.031014  0.027657  0.560532  0.249956  0.666540  0.060680   \n",
       "10  0.537786  0.541964  0.519638 -0.314544 -0.426020 -0.347260  0.433971   \n",
       "\n",
       "          7         8         9         10  \n",
       "0   0.424098  0.405209  0.029034  0.537786  \n",
       "1   0.428665  0.379330  0.031014  0.541964  \n",
       "2   0.403983  0.425385  0.027657  0.519638  \n",
       "3   0.090966  0.015632  0.560532 -0.314544  \n",
       "4  -0.048776 -0.155259  0.249956 -0.426020  \n",
       "5   0.022840  0.013173  0.666540 -0.347260  \n",
       "6   0.523591  0.193881  0.060680  0.433971  \n",
       "7   1.000000  0.171848  0.008383  0.435794  \n",
       "8   0.171848  1.000000  0.011765  0.454669  \n",
       "9   0.008383  0.011765  1.000000 -0.281072  \n",
       "10  0.435794  0.454669 -0.281072  1.000000  "
      ]
     },
     "execution_count": 171,
     "metadata": {},
     "output_type": "execute_result"
    }
   ],
   "source": [
    "correlation"
   ]
  },
  {
   "cell_type": "code",
   "execution_count": 174,
   "metadata": {},
   "outputs": [
    {
     "data": {
      "image/png": "[encoded data removed]",
      "text/plain": [
       "<matplotlib.figure.Figure at 0x116d2cc10>"
      ]
     },
     "metadata": {},
     "output_type": "display_data"
    }
   ],
   "source": [
    "correlationPlot(correlation,mask)"
   ]
  },
  {
   "cell_type": "code",
   "execution_count": 183,
   "metadata": {},
   "outputs": [
    {
     "name": "stdout",
     "output_type": "stream",
     "text": [
      "correlationAtom_HOMO saved successfully in correlation\n"
     ]
    }
   ],
   "source": [
    "saveNumpy(correlation,'correlationAtom_HOMO','correlation')"
   ]
  },
  {
   "cell_type": "markdown",
   "metadata": {},
   "source": [
    "### <font color=\"orange\"> Extracting top features from LUMO and GAP best models </font>"
   ]
  },
  {
   "cell_type": "markdown",
   "metadata": {},
   "source": [
    "##### LUMO"
   ]
  },
  {
   "cell_type": "code",
   "execution_count": 188,
   "metadata": {},
   "outputs": [
    {
     "name": "stdout",
     "output_type": "stream",
     "text": [
      "LUMO_atomAll saved successfully in featuresRF\n",
      "LUMO_atomTop10 saved successfully in featuresRF\n"
     ]
    }
   ],
   "source": [
    "atomLUMOIndices = getIndices('LUMO_atomRFBest',AtomPair,LUMO)\n",
    "saveNumpy(atomLUMOIndices,'LUMO_atomAll','featuresRF')\n",
    "saveNumpy(atomLUMOIndices[:10],'LUMO_atomTop10','featuresRF')"
   ]
  },
  {
   "cell_type": "markdown",
   "metadata": {},
   "source": [
    "##### GAP"
   ]
  },
  {
   "cell_type": "code",
   "execution_count": 189,
   "metadata": {},
   "outputs": [
    {
     "name": "stdout",
     "output_type": "stream",
     "text": [
      "GAP_atomAll saved successfully in featuresRF\n",
      "GAP_atomTop10 saved successfully in featuresRF\n"
     ]
    }
   ],
   "source": [
    "atomGAPIndices = getIndices('GAP_atomRFBest',AtomPair,GAP)\n",
    "saveNumpy(atomGAPIndices,'GAP_atomAll','featuresRF')\n",
    "saveNumpy(atomGAPIndices[:10],'GAP_atomTop10','featuresRF')"
   ]
  },
  {
   "cell_type": "markdown",
   "metadata": {},
   "source": [
    "### <font color=\"purple\"> Correlation Matrices for LUMO and GAP </font>"
   ]
  },
  {
   "cell_type": "markdown",
   "metadata": {},
   "source": [
    "##### LUMO"
   ]
  },
  {
   "cell_type": "code",
   "execution_count": 190,
   "metadata": {
    "collapsed": true
   },
   "outputs": [],
   "source": [
    "correlation, mask = correlationMask(AtomPair,LUMO,atomLUMOIndices[:10])"
   ]
  },
  {
   "cell_type": "code",
   "execution_count": 191,
   "metadata": {},
   "outputs": [
    {
     "data": {
      "text/html": [
       "<div>\n",
       "<table border=\"1\" class=\"dataframe\">\n",
       "  <thead>\n",
       "    <tr style=\"text-align: right;\">\n",
       "      <th></th>\n",
       "      <th>0</th>\n",
       "      <th>1</th>\n",
       "      <th>2</th>\n",
       "      <th>3</th>\n",
       "      <th>4</th>\n",
       "      <th>5</th>\n",
       "      <th>6</th>\n",
       "      <th>7</th>\n",
       "      <th>8</th>\n",
       "      <th>9</th>\n",
       "      <th>10</th>\n",
       "    </tr>\n",
       "  </thead>\n",
       "  <tbody>\n",
       "    <tr>\n",
       "      <th>0</th>\n",
       "      <td>1.000000</td>\n",
       "      <td>0.059832</td>\n",
       "      <td>0.126233</td>\n",
       "      <td>0.758076</td>\n",
       "      <td>0.910134</td>\n",
       "      <td>0.113576</td>\n",
       "      <td>0.074167</td>\n",
       "      <td>0.570517</td>\n",
       "      <td>0.811622</td>\n",
       "      <td>0.078403</td>\n",
       "      <td>-0.499269</td>\n",
       "    </tr>\n",
       "    <tr>\n",
       "      <th>1</th>\n",
       "      <td>0.059832</td>\n",
       "      <td>1.000000</td>\n",
       "      <td>-0.117790</td>\n",
       "      <td>0.045357</td>\n",
       "      <td>0.054455</td>\n",
       "      <td>0.387816</td>\n",
       "      <td>0.540898</td>\n",
       "      <td>0.034135</td>\n",
       "      <td>0.048561</td>\n",
       "      <td>0.734324</td>\n",
       "      <td>-0.409870</td>\n",
       "    </tr>\n",
       "    <tr>\n",
       "      <th>2</th>\n",
       "      <td>0.126233</td>\n",
       "      <td>-0.117790</td>\n",
       "      <td>1.000000</td>\n",
       "      <td>0.120115</td>\n",
       "      <td>0.109025</td>\n",
       "      <td>0.092139</td>\n",
       "      <td>-0.063365</td>\n",
       "      <td>0.090397</td>\n",
       "      <td>0.089381</td>\n",
       "      <td>-0.025058</td>\n",
       "      <td>-0.319152</td>\n",
       "    </tr>\n",
       "    <tr>\n",
       "      <th>3</th>\n",
       "      <td>0.758076</td>\n",
       "      <td>0.045357</td>\n",
       "      <td>0.120115</td>\n",
       "      <td>1.000000</td>\n",
       "      <td>0.832928</td>\n",
       "      <td>0.110946</td>\n",
       "      <td>0.083855</td>\n",
       "      <td>0.752587</td>\n",
       "      <td>0.934025</td>\n",
       "      <td>0.059435</td>\n",
       "      <td>-0.515082</td>\n",
       "    </tr>\n",
       "    <tr>\n",
       "      <th>4</th>\n",
       "      <td>0.910134</td>\n",
       "      <td>0.054455</td>\n",
       "      <td>0.109025</td>\n",
       "      <td>0.832928</td>\n",
       "      <td>1.000000</td>\n",
       "      <td>0.133200</td>\n",
       "      <td>0.100675</td>\n",
       "      <td>0.626850</td>\n",
       "      <td>0.891761</td>\n",
       "      <td>0.071357</td>\n",
       "      <td>-0.495539</td>\n",
       "    </tr>\n",
       "    <tr>\n",
       "      <th>5</th>\n",
       "      <td>0.113576</td>\n",
       "      <td>0.387816</td>\n",
       "      <td>0.092139</td>\n",
       "      <td>0.110946</td>\n",
       "      <td>0.133200</td>\n",
       "      <td>1.000000</td>\n",
       "      <td>0.686636</td>\n",
       "      <td>0.083497</td>\n",
       "      <td>0.118783</td>\n",
       "      <td>0.416270</td>\n",
       "      <td>-0.422234</td>\n",
       "    </tr>\n",
       "    <tr>\n",
       "      <th>6</th>\n",
       "      <td>0.074167</td>\n",
       "      <td>0.540898</td>\n",
       "      <td>-0.063365</td>\n",
       "      <td>0.083855</td>\n",
       "      <td>0.100675</td>\n",
       "      <td>0.686636</td>\n",
       "      <td>1.000000</td>\n",
       "      <td>0.063108</td>\n",
       "      <td>0.089778</td>\n",
       "      <td>0.613918</td>\n",
       "      <td>-0.402254</td>\n",
       "    </tr>\n",
       "    <tr>\n",
       "      <th>7</th>\n",
       "      <td>0.570517</td>\n",
       "      <td>0.034135</td>\n",
       "      <td>0.090397</td>\n",
       "      <td>0.752587</td>\n",
       "      <td>0.626850</td>\n",
       "      <td>0.083497</td>\n",
       "      <td>0.063108</td>\n",
       "      <td>1.000000</td>\n",
       "      <td>0.702935</td>\n",
       "      <td>0.044730</td>\n",
       "      <td>-0.440363</td>\n",
       "    </tr>\n",
       "    <tr>\n",
       "      <th>8</th>\n",
       "      <td>0.811622</td>\n",
       "      <td>0.048561</td>\n",
       "      <td>0.089381</td>\n",
       "      <td>0.934025</td>\n",
       "      <td>0.891761</td>\n",
       "      <td>0.118783</td>\n",
       "      <td>0.089778</td>\n",
       "      <td>0.702935</td>\n",
       "      <td>1.000000</td>\n",
       "      <td>0.063634</td>\n",
       "      <td>-0.487229</td>\n",
       "    </tr>\n",
       "    <tr>\n",
       "      <th>9</th>\n",
       "      <td>0.078403</td>\n",
       "      <td>0.734324</td>\n",
       "      <td>-0.025058</td>\n",
       "      <td>0.059435</td>\n",
       "      <td>0.071357</td>\n",
       "      <td>0.416270</td>\n",
       "      <td>0.613918</td>\n",
       "      <td>0.044730</td>\n",
       "      <td>0.063634</td>\n",
       "      <td>1.000000</td>\n",
       "      <td>-0.371024</td>\n",
       "    </tr>\n",
       "    <tr>\n",
       "      <th>10</th>\n",
       "      <td>-0.499269</td>\n",
       "      <td>-0.409870</td>\n",
       "      <td>-0.319152</td>\n",
       "      <td>-0.515082</td>\n",
       "      <td>-0.495539</td>\n",
       "      <td>-0.422234</td>\n",
       "      <td>-0.402254</td>\n",
       "      <td>-0.440363</td>\n",
       "      <td>-0.487229</td>\n",
       "      <td>-0.371024</td>\n",
       "      <td>1.000000</td>\n",
       "    </tr>\n",
       "  </tbody>\n",
       "</table>\n",
       "</div>"
      ],
      "text/plain": [
       "          0         1         2         3         4         5         6   \\\n",
       "0   1.000000  0.059832  0.126233  0.758076  0.910134  0.113576  0.074167   \n",
       "1   0.059832  1.000000 -0.117790  0.045357  0.054455  0.387816  0.540898   \n",
       "2   0.126233 -0.117790  1.000000  0.120115  0.109025  0.092139 -0.063365   \n",
       "3   0.758076  0.045357  0.120115  1.000000  0.832928  0.110946  0.083855   \n",
       "4   0.910134  0.054455  0.109025  0.832928  1.000000  0.133200  0.100675   \n",
       "5   0.113576  0.387816  0.092139  0.110946  0.133200  1.000000  0.686636   \n",
       "6   0.074167  0.540898 -0.063365  0.083855  0.100675  0.686636  1.000000   \n",
       "7   0.570517  0.034135  0.090397  0.752587  0.626850  0.083497  0.063108   \n",
       "8   0.811622  0.048561  0.089381  0.934025  0.891761  0.118783  0.089778   \n",
       "9   0.078403  0.734324 -0.025058  0.059435  0.071357  0.416270  0.613918   \n",
       "10 -0.499269 -0.409870 -0.319152 -0.515082 -0.495539 -0.422234 -0.402254   \n",
       "\n",
       "          7         8         9         10  \n",
       "0   0.570517  0.811622  0.078403 -0.499269  \n",
       "1   0.034135  0.048561  0.734324 -0.409870  \n",
       "2   0.090397  0.089381 -0.025058 -0.319152  \n",
       "3   0.752587  0.934025  0.059435 -0.515082  \n",
       "4   0.626850  0.891761  0.071357 -0.495539  \n",
       "5   0.083497  0.118783  0.416270 -0.422234  \n",
       "6   0.063108  0.089778  0.613918 -0.402254  \n",
       "7   1.000000  0.702935  0.044730 -0.440363  \n",
       "8   0.702935  1.000000  0.063634 -0.487229  \n",
       "9   0.044730  0.063634  1.000000 -0.371024  \n",
       "10 -0.440363 -0.487229 -0.371024  1.000000  "
      ]
     },
     "execution_count": 191,
     "metadata": {},
     "output_type": "execute_result"
    }
   ],
   "source": [
    "correlation"
   ]
  },
  {
   "cell_type": "code",
   "execution_count": 192,
   "metadata": {},
   "outputs": [
    {
     "name": "stdout",
     "output_type": "stream",
     "text": [
      "correlationAtom_LUMO saved successfully in correlation\n"
     ]
    }
   ],
   "source": [
    "saveNumpy(correlation,'correlationAtom_LUMO','correlation')"
   ]
  },
  {
   "cell_type": "code",
   "execution_count": 193,
   "metadata": {},
   "outputs": [
    {
     "data": {
      "image/png": "[encoded data removed]",
      "text/plain": [
       "<matplotlib.figure.Figure at 0x1176b6610>"
      ]
     },
     "metadata": {},
     "output_type": "display_data"
    }
   ],
   "source": [
    "correlationPlot(correlation,mask)"
   ]
  },
  {
   "cell_type": "markdown",
   "metadata": {},
   "source": [
    "##### GAP"
   ]
  },
  {
   "cell_type": "code",
   "execution_count": 194,
   "metadata": {
    "collapsed": true
   },
   "outputs": [],
   "source": [
    "correlation, mask = correlationMask(AtomPair,GAP,atomGAPIndices[:10])"
   ]
  },
  {
   "cell_type": "code",
   "execution_count": 195,
   "metadata": {},
   "outputs": [
    {
     "data": {
      "text/html": [
       "<div>\n",
       "<table border=\"1\" class=\"dataframe\">\n",
       "  <thead>\n",
       "    <tr style=\"text-align: right;\">\n",
       "      <th></th>\n",
       "      <th>0</th>\n",
       "      <th>1</th>\n",
       "      <th>2</th>\n",
       "      <th>3</th>\n",
       "      <th>4</th>\n",
       "      <th>5</th>\n",
       "      <th>6</th>\n",
       "      <th>7</th>\n",
       "      <th>8</th>\n",
       "      <th>9</th>\n",
       "      <th>10</th>\n",
       "    </tr>\n",
       "  </thead>\n",
       "  <tbody>\n",
       "    <tr>\n",
       "      <th>0</th>\n",
       "      <td>1.000000</td>\n",
       "      <td>0.854175</td>\n",
       "      <td>0.285141</td>\n",
       "      <td>0.934025</td>\n",
       "      <td>0.832928</td>\n",
       "      <td>0.253560</td>\n",
       "      <td>0.120115</td>\n",
       "      <td>0.842657</td>\n",
       "      <td>0.313558</td>\n",
       "      <td>0.842657</td>\n",
       "      <td>-0.639035</td>\n",
       "    </tr>\n",
       "    <tr>\n",
       "      <th>1</th>\n",
       "      <td>0.854175</td>\n",
       "      <td>1.000000</td>\n",
       "      <td>0.285141</td>\n",
       "      <td>0.797416</td>\n",
       "      <td>0.710375</td>\n",
       "      <td>0.253560</td>\n",
       "      <td>0.120115</td>\n",
       "      <td>0.842657</td>\n",
       "      <td>0.259300</td>\n",
       "      <td>0.842657</td>\n",
       "      <td>-0.621894</td>\n",
       "    </tr>\n",
       "    <tr>\n",
       "      <th>2</th>\n",
       "      <td>0.285141</td>\n",
       "      <td>0.285141</td>\n",
       "      <td>1.000000</td>\n",
       "      <td>0.305282</td>\n",
       "      <td>0.342336</td>\n",
       "      <td>0.889244</td>\n",
       "      <td>0.098248</td>\n",
       "      <td>0.240277</td>\n",
       "      <td>0.757148</td>\n",
       "      <td>0.240277</td>\n",
       "      <td>-0.567014</td>\n",
       "    </tr>\n",
       "    <tr>\n",
       "      <th>3</th>\n",
       "      <td>0.934025</td>\n",
       "      <td>0.797416</td>\n",
       "      <td>0.305282</td>\n",
       "      <td>1.000000</td>\n",
       "      <td>0.891761</td>\n",
       "      <td>0.271470</td>\n",
       "      <td>0.089381</td>\n",
       "      <td>0.787064</td>\n",
       "      <td>0.335706</td>\n",
       "      <td>0.787064</td>\n",
       "      <td>-0.630422</td>\n",
       "    </tr>\n",
       "    <tr>\n",
       "      <th>4</th>\n",
       "      <td>0.832928</td>\n",
       "      <td>0.710375</td>\n",
       "      <td>0.342336</td>\n",
       "      <td>0.891761</td>\n",
       "      <td>1.000000</td>\n",
       "      <td>0.304420</td>\n",
       "      <td>0.109025</td>\n",
       "      <td>0.701873</td>\n",
       "      <td>0.376453</td>\n",
       "      <td>0.701873</td>\n",
       "      <td>-0.630471</td>\n",
       "    </tr>\n",
       "    <tr>\n",
       "      <th>5</th>\n",
       "      <td>0.253560</td>\n",
       "      <td>0.253560</td>\n",
       "      <td>0.889244</td>\n",
       "      <td>0.271470</td>\n",
       "      <td>0.304420</td>\n",
       "      <td>1.000000</td>\n",
       "      <td>0.129747</td>\n",
       "      <td>0.213664</td>\n",
       "      <td>0.683832</td>\n",
       "      <td>0.213664</td>\n",
       "      <td>-0.550790</td>\n",
       "    </tr>\n",
       "    <tr>\n",
       "      <th>6</th>\n",
       "      <td>0.120115</td>\n",
       "      <td>0.120115</td>\n",
       "      <td>0.098248</td>\n",
       "      <td>0.089381</td>\n",
       "      <td>0.109025</td>\n",
       "      <td>0.129747</td>\n",
       "      <td>1.000000</td>\n",
       "      <td>0.101215</td>\n",
       "      <td>0.118272</td>\n",
       "      <td>0.101215</td>\n",
       "      <td>-0.379294</td>\n",
       "    </tr>\n",
       "    <tr>\n",
       "      <th>7</th>\n",
       "      <td>0.842657</td>\n",
       "      <td>0.842657</td>\n",
       "      <td>0.240277</td>\n",
       "      <td>0.787064</td>\n",
       "      <td>0.701873</td>\n",
       "      <td>0.213664</td>\n",
       "      <td>0.101215</td>\n",
       "      <td>1.000000</td>\n",
       "      <td>0.264222</td>\n",
       "      <td>1.000000</td>\n",
       "      <td>-0.616776</td>\n",
       "    </tr>\n",
       "    <tr>\n",
       "      <th>8</th>\n",
       "      <td>0.313558</td>\n",
       "      <td>0.259300</td>\n",
       "      <td>0.757148</td>\n",
       "      <td>0.335706</td>\n",
       "      <td>0.376453</td>\n",
       "      <td>0.683832</td>\n",
       "      <td>0.118272</td>\n",
       "      <td>0.264222</td>\n",
       "      <td>1.000000</td>\n",
       "      <td>0.264222</td>\n",
       "      <td>-0.572542</td>\n",
       "    </tr>\n",
       "    <tr>\n",
       "      <th>9</th>\n",
       "      <td>0.842657</td>\n",
       "      <td>0.842657</td>\n",
       "      <td>0.240277</td>\n",
       "      <td>0.787064</td>\n",
       "      <td>0.701873</td>\n",
       "      <td>0.213664</td>\n",
       "      <td>0.101215</td>\n",
       "      <td>1.000000</td>\n",
       "      <td>0.264222</td>\n",
       "      <td>1.000000</td>\n",
       "      <td>-0.616776</td>\n",
       "    </tr>\n",
       "    <tr>\n",
       "      <th>10</th>\n",
       "      <td>-0.639035</td>\n",
       "      <td>-0.621894</td>\n",
       "      <td>-0.567014</td>\n",
       "      <td>-0.630422</td>\n",
       "      <td>-0.630471</td>\n",
       "      <td>-0.550790</td>\n",
       "      <td>-0.379294</td>\n",
       "      <td>-0.616776</td>\n",
       "      <td>-0.572542</td>\n",
       "      <td>-0.616776</td>\n",
       "      <td>1.000000</td>\n",
       "    </tr>\n",
       "  </tbody>\n",
       "</table>\n",
       "</div>"
      ],
      "text/plain": [
       "          0         1         2         3         4         5         6   \\\n",
       "0   1.000000  0.854175  0.285141  0.934025  0.832928  0.253560  0.120115   \n",
       "1   0.854175  1.000000  0.285141  0.797416  0.710375  0.253560  0.120115   \n",
       "2   0.285141  0.285141  1.000000  0.305282  0.342336  0.889244  0.098248   \n",
       "3   0.934025  0.797416  0.305282  1.000000  0.891761  0.271470  0.089381   \n",
       "4   0.832928  0.710375  0.342336  0.891761  1.000000  0.304420  0.109025   \n",
       "5   0.253560  0.253560  0.889244  0.271470  0.304420  1.000000  0.129747   \n",
       "6   0.120115  0.120115  0.098248  0.089381  0.109025  0.129747  1.000000   \n",
       "7   0.842657  0.842657  0.240277  0.787064  0.701873  0.213664  0.101215   \n",
       "8   0.313558  0.259300  0.757148  0.335706  0.376453  0.683832  0.118272   \n",
       "9   0.842657  0.842657  0.240277  0.787064  0.701873  0.213664  0.101215   \n",
       "10 -0.639035 -0.621894 -0.567014 -0.630422 -0.630471 -0.550790 -0.379294   \n",
       "\n",
       "          7         8         9         10  \n",
       "0   0.842657  0.313558  0.842657 -0.639035  \n",
       "1   0.842657  0.259300  0.842657 -0.621894  \n",
       "2   0.240277  0.757148  0.240277 -0.567014  \n",
       "3   0.787064  0.335706  0.787064 -0.630422  \n",
       "4   0.701873  0.376453  0.701873 -0.630471  \n",
       "5   0.213664  0.683832  0.213664 -0.550790  \n",
       "6   0.101215  0.118272  0.101215 -0.379294  \n",
       "7   1.000000  0.264222  1.000000 -0.616776  \n",
       "8   0.264222  1.000000  0.264222 -0.572542  \n",
       "9   1.000000  0.264222  1.000000 -0.616776  \n",
       "10 -0.616776 -0.572542 -0.616776  1.000000  "
      ]
     },
     "execution_count": 195,
     "metadata": {},
     "output_type": "execute_result"
    }
   ],
   "source": [
    "correlation"
   ]
  },
  {
   "cell_type": "code",
   "execution_count": 196,
   "metadata": {},
   "outputs": [
    {
     "name": "stdout",
     "output_type": "stream",
     "text": [
      "correlationAtom_GAP saved successfully in correlation\n"
     ]
    }
   ],
   "source": [
    "saveNumpy(correlation,'correlationAtom_GAP','correlation')"
   ]
  },
  {
   "cell_type": "code",
   "execution_count": 197,
   "metadata": {},
   "outputs": [
    {
     "data": {
      "image/png": "[encoded data removed]",
      "text/plain": [
       "<matplotlib.figure.Figure at 0x11764ae50>"
      ]
     },
     "metadata": {},
     "output_type": "display_data"
    }
   ],
   "source": [
    "correlationPlot(correlation,mask)"
   ]
  },
  {
   "cell_type": "markdown",
   "metadata": {},
   "source": [
    "### <font color=\"green\">Correlation Matrices for other fingerprints (HOMO only) </font>"
   ]
  },
  {
   "cell_type": "code",
   "execution_count": 179,
   "metadata": {
    "collapsed": true
   },
   "outputs": [],
   "source": [
    "correlationMACCS, maskMACCS = correlationMask(MACCS,HOMO,maccsIndices[:10])"
   ]
  },
  {
   "cell_type": "code",
   "execution_count": 181,
   "metadata": {},
   "outputs": [
    {
     "name": "stdout",
     "output_type": "stream",
     "text": [
      "correlationMACCS saved successfully in correlation\n"
     ]
    }
   ],
   "source": [
    "saveNumpy(correlationMACCS,'correlationMACCS_HOMO','correlation')"
   ]
  },
  {
   "cell_type": "code",
   "execution_count": 182,
   "metadata": {},
   "outputs": [
    {
     "data": {
      "image/png": "[encoded data removed]",
      "text/plain": [
       "<matplotlib.figure.Figure at 0x1165e4650>"
      ]
     },
     "metadata": {},
     "output_type": "display_data"
    }
   ],
   "source": [
    "correlationPlot(correlationMACCS,maskMACCS)"
   ]
  },
  {
   "cell_type": "code",
   "execution_count": 180,
   "metadata": {
    "collapsed": true
   },
   "outputs": [],
   "source": [
    "correlationTopo, maskTopo = correlationMask(Topological,HOMO,topoIndices[:10])"
   ]
  },
  {
   "cell_type": "code",
   "execution_count": 184,
   "metadata": {},
   "outputs": [
    {
     "name": "stdout",
     "output_type": "stream",
     "text": [
      "correlationTopo_HOMO saved successfully in correlation\n"
     ]
    }
   ],
   "source": [
    "saveNumpy(correlationTopo,'correlationTopo_HOMO','correlation')"
   ]
  },
  {
   "cell_type": "code",
   "execution_count": 178,
   "metadata": {
    "collapsed": true
   },
   "outputs": [],
   "source": [
    "correlationCircular, maskCircular = correlationMask(Circular,HOMO,circularIndices[:10])"
   ]
  },
  {
   "cell_type": "code",
   "execution_count": 185,
   "metadata": {},
   "outputs": [
    {
     "name": "stdout",
     "output_type": "stream",
     "text": [
      "correlationCircular_HOMO saved successfully in correlation\n"
     ]
    }
   ],
   "source": [
    "saveNumpy(correlationCircular,'correlationCircular_HOMO','correlation')"
   ]
  },
  {
   "cell_type": "markdown",
   "metadata": {},
   "source": [
    "### <font color=\"red\"> Point Biserial Correlation </font>"
   ]
  },
  {
   "cell_type": "markdown",
   "metadata": {},
   "source": [
    "#### HOMO "
   ]
  },
  {
   "cell_type": "code",
   "execution_count": 26,
   "metadata": {},
   "outputs": [
    {
     "name": "stdout",
     "output_type": "stream",
     "text": [
      "PointbiserialrResult(correlation=0.53778554279072854, pvalue=3.534850032851735e-27)\n",
      "PointbiserialrResult(correlation=0.54196392230912194, pvalue=1.1808405478562514e-27)\n",
      "PointbiserialrResult(correlation=0.51963758172414332, pvalue=3.4786231146715689e-25)\n",
      "PointbiserialrResult(correlation=-0.31454350108442025, pvalue=2.4501074333772571e-09)\n",
      "PointbiserialrResult(correlation=-0.42602002256888238, pvalue=1.3380890172497364e-16)\n",
      "PointbiserialrResult(correlation=-0.34725996623345362, pvalue=3.4830665893750486e-11)\n",
      "PointbiserialrResult(correlation=0.43397140953381069, pvalue=3.1307780900808911e-17)\n",
      "PointbiserialrResult(correlation=0.43579433507983106, pvalue=2.2318980074442268e-17)\n",
      "PointbiserialrResult(correlation=0.45466876867710582, pvalue=5.9399691666243826e-19)\n",
      "PointbiserialrResult(correlation=-0.2810717900648303, pvalue=1.1493005978416246e-07)\n"
     ]
    }
   ],
   "source": [
    "PointBiserial = []\n",
    "for i in range(10):\n",
    "    PointBiserial +=[ pointbiserial(AtomPair_Top[i], HOMO)]\n",
    "    print PointBiserial[i]"
   ]
  },
  {
   "cell_type": "code",
   "execution_count": 27,
   "metadata": {},
   "outputs": [
    {
     "name": "stdout",
     "output_type": "stream",
     "text": [
      "PointBiserialHOMO saved successfully in correlation\n"
     ]
    }
   ],
   "source": [
    "saveNumpy(PointBiserial,'PointBiserialHOMO','correlation')"
   ]
  },
  {
   "cell_type": "markdown",
   "metadata": {},
   "source": [
    "##### Top Indices for HOMO "
   ]
  },
  {
   "cell_type": "code",
   "execution_count": 37,
   "metadata": {},
   "outputs": [
    {
     "data": {
      "text/plain": [
       "array([1484, 1485, 1990,  610,  433, 1058,  551,   47, 1250, 1838])"
      ]
     },
     "execution_count": 37,
     "metadata": {},
     "output_type": "execute_result"
    }
   ],
   "source": [
    "loadNumpy('atomTop10','featuresRF')"
   ]
  },
  {
   "cell_type": "markdown",
   "metadata": {},
   "source": [
    "#### LUMO "
   ]
  },
  {
   "cell_type": "code",
   "execution_count": 33,
   "metadata": {
    "collapsed": true
   },
   "outputs": [],
   "source": [
    "atomLUMOIndices = loadNumpy('LUMO_atomAll','featuresRF')\n",
    "atomLUMOTopIndices = loadNumpy('LUMO_atomTop10','featuresRF')\n",
    "AtomPair_Top_LUMO = []\n",
    "for i in range(10):\n",
    "    List = []\n",
    "    for j in range(len(AtomPair)):\n",
    "        List += [AtomPair[j][atomLUMOTopIndices[i]]]\n",
    "    AtomPair_Top_LUMO += [List]"
   ]
  },
  {
   "cell_type": "markdown",
   "metadata": {},
   "source": [
    "##### Top Indices for LUMO"
   ]
  },
  {
   "cell_type": "code",
   "execution_count": 35,
   "metadata": {},
   "outputs": [
    {
     "data": {
      "text/plain": [
       "array([1820,  433,  228,   44, 1728, 1276,   48,  548, 1989, 2041])"
      ]
     },
     "execution_count": 35,
     "metadata": {},
     "output_type": "execute_result"
    }
   ],
   "source": [
    "atomLUMOTopIndices"
   ]
  },
  {
   "cell_type": "code",
   "execution_count": 34,
   "metadata": {},
   "outputs": [
    {
     "name": "stdout",
     "output_type": "stream",
     "text": [
      "PointbiserialrResult(correlation=-0.49926908969685962, pvalue=4.3683154853686948e-23)\n",
      "PointbiserialrResult(correlation=-0.40987041220255011, pvalue=2.2780636511537508e-15)\n",
      "PointbiserialrResult(correlation=-0.31915206940893714, pvalue=1.3870918551030099e-09)\n",
      "PointbiserialrResult(correlation=-0.51508169425052885, pvalue=1.0548637880716933e-24)\n",
      "PointbiserialrResult(correlation=-0.4955388856147443, pvalue=1.0225385256739135e-22)\n",
      "PointbiserialrResult(correlation=-0.42223439684824704, pvalue=2.6365026028767406e-16)\n",
      "PointbiserialrResult(correlation=-0.40225375095844723, pvalue=8.2324890937493138e-15)\n",
      "PointbiserialrResult(correlation=-0.44036283426662393, pvalue=9.4714338204752051e-18)\n",
      "PointbiserialrResult(correlation=-0.48722883689830931, pvalue=6.5531305829891301e-22)\n",
      "PointbiserialrResult(correlation=-0.37102379751885495, pvalue=1.1449141034443295e-12)\n"
     ]
    }
   ],
   "source": [
    "PointBiserial = []\n",
    "for i in range(10):\n",
    "    PointBiserial +=[ pointbiserial(AtomPair_Top_LUMO[i], LUMO)]\n",
    "    print PointBiserial[i]"
   ]
  },
  {
   "cell_type": "markdown",
   "metadata": {},
   "source": [
    "#### GAP"
   ]
  },
  {
   "cell_type": "code",
   "execution_count": 39,
   "metadata": {
    "collapsed": true
   },
   "outputs": [],
   "source": [
    "atomGAPTopIndices = loadNumpy('GAP_atomTop10','featuresRF')\n",
    "AtomPair_Top_GAP = []\n",
    "for i in range(10):\n",
    "    List = []\n",
    "    for j in range(len(AtomPair)):\n",
    "        List += [AtomPair[j][atomGAPTopIndices[i]]]\n",
    "    AtomPair_Top_GAP += [List]"
   ]
  },
  {
   "cell_type": "code",
   "execution_count": 40,
   "metadata": {},
   "outputs": [
    {
     "name": "stdout",
     "output_type": "stream",
     "text": [
      "PointbiserialrResult(correlation=-0.639034949637595, pvalue=7.053434500131388e-41)\n",
      "PointbiserialrResult(correlation=-0.62189395343950515, pvalue=3.3472102094555713e-38)\n",
      "PointbiserialrResult(correlation=-0.56701364552372013, pvalue=1.1828402704949364e-30)\n",
      "PointbiserialrResult(correlation=-0.63042153816453494, pvalue=1.637593870513175e-39)\n",
      "PointbiserialrResult(correlation=-0.63047066972502763, pvalue=1.608930898957276e-39)\n",
      "PointbiserialrResult(correlation=-0.5507896204343854, pvalue=1.1072037529399253e-28)\n",
      "PointbiserialrResult(correlation=-0.37929430983034368, pvalue=3.2599828150285882e-13)\n",
      "PointbiserialrResult(correlation=-0.61677574044903771, pvalue=1.9589558512377913e-37)\n",
      "PointbiserialrResult(correlation=-0.57254153708055666, pvalue=2.3772491900870188e-31)\n",
      "PointbiserialrResult(correlation=-0.61677574044903771, pvalue=1.9589558512377913e-37)\n"
     ]
    }
   ],
   "source": [
    "PointBiserial = []\n",
    "for i in range(10):\n",
    "    PointBiserial +=[ pointbiserial(AtomPair_Top_GAP[i], GAP)]\n",
    "    print PointBiserial[i]"
   ]
  },
  {
   "cell_type": "markdown",
   "metadata": {},
   "source": [
    "### <font color=\"purple\"> Similarity Scores By Transforming HOMO into Binary</font>"
   ]
  },
  {
   "cell_type": "code",
   "execution_count": 19,
   "metadata": {
    "collapsed": true
   },
   "outputs": [],
   "source": [
    "HOMO = array(HOMO)\n",
    "FourthQuartileValue = percentile(HOMO,75)\n",
    "HOMOBin = []\n",
    "for elem in HOMO:\n",
    "    if elem<FourthQuartileValue:\n",
    "        HOMOBin += [0]\n",
    "    else:\n",
    "        HOMOBin += [1]"
   ]
  },
  {
   "cell_type": "code",
   "execution_count": 23,
   "metadata": {
    "collapsed": true
   },
   "outputs": [],
   "source": [
    "AtomPair_Top = []\n",
    "for i in range(10):\n",
    "    List = []\n",
    "    for j in range(len(AtomPair)):\n",
    "        List += [AtomPair[j][atomIndicesTop[i]]]\n",
    "    AtomPair_Top += [List]"
   ]
  },
  {
   "cell_type": "markdown",
   "metadata": {},
   "source": [
    "#### Jaccard Similarity "
   ]
  },
  {
   "cell_type": "code",
   "execution_count": 16,
   "metadata": {},
   "outputs": [
    {
     "name": "stdout",
     "output_type": "stream",
     "text": [
      "0.732087227414\n",
      "0.729559748428\n",
      "0.733746130031\n",
      "0.989130434783\n",
      "0.982608695652\n",
      "1.0\n",
      "0.691729323308\n",
      "0.68253968254\n",
      "0.747058823529\n",
      "1.0\n"
     ]
    }
   ],
   "source": [
    "Jaccard = []\n",
    "for i in range(10):\n",
    "    Jaccard +=[ jaccard(AtomPair_Top[i], HOMOBin)]\n",
    "    print Jaccard[i]"
   ]
  },
  {
   "cell_type": "markdown",
   "metadata": {},
   "source": [
    "#### Dice Similarity "
   ]
  },
  {
   "cell_type": "code",
   "execution_count": 17,
   "metadata": {},
   "outputs": [
    {
     "name": "stdout",
     "output_type": "stream",
     "text": [
      "0.577395577396\n",
      "0.574257425743\n",
      "0.579462102689\n",
      "0.978494623656\n",
      "0.965811965812\n",
      "1.0\n",
      "0.528735632184\n",
      "0.518072289157\n",
      "0.596244131455\n",
      "1.0\n"
     ]
    }
   ],
   "source": [
    "Dice = []\n",
    "for i in range(10):\n",
    "    Dice += [dice(AtomPair_Top[i], HOMOBin)]\n",
    "    print Dice[i]"
   ]
  },
  {
   "cell_type": "markdown",
   "metadata": {},
   "source": [
    "#### List of similarity coefficients for boolean/binary arrays\n",
    "dice,jaccard,hamming,kulsinski,matching,yule,rogerstanimoto"
   ]
  },
  {
   "cell_type": "code",
   "execution_count": 18,
   "metadata": {
    "collapsed": true
   },
   "outputs": [],
   "source": [
    "Hamming = []\n",
    "for i in range(10):\n",
    "    Hamming += [hamming(AtomPair_Top[i], HOMOBin)]\n",
    "Kulsinski = []\n",
    "for i in range(10):\n",
    "    Kulsinski += [kulsinski(AtomPair_Top[i], HOMOBin)]\n",
    "Matching = []\n",
    "for i in range(10):\n",
    "    Matching += [matching(AtomPair_Top[i], HOMOBin)]\n",
    "Yule = []\n",
    "for i in range(10):\n",
    "    Yule += [yule(AtomPair_Top[i], HOMOBin)]\n",
    "Tanimoto = []\n",
    "for i in range(10):\n",
    "    Tanimoto += [rogerstanimoto(AtomPair_Top[i], HOMOBin)]    "
   ]
  },
  {
   "cell_type": "code",
   "execution_count": 19,
   "metadata": {},
   "outputs": [
    {
     "data": {
      "text/html": [
       "<div>\n",
       "<table border=\"1\" class=\"dataframe\">\n",
       "  <thead>\n",
       "    <tr style=\"text-align: right;\">\n",
       "      <th></th>\n",
       "      <th>dice</th>\n",
       "      <th>hamming</th>\n",
       "      <th>jaccard</th>\n",
       "      <th>kulsinski</th>\n",
       "      <th>matching</th>\n",
       "      <th>tanimoto</th>\n",
       "      <th>yule</th>\n",
       "    </tr>\n",
       "  </thead>\n",
       "  <tbody>\n",
       "    <tr>\n",
       "      <th>0</th>\n",
       "      <td>0.577396</td>\n",
       "      <td>0.683140</td>\n",
       "      <td>0.732087</td>\n",
       "      <td>0.851468</td>\n",
       "      <td>0.683140</td>\n",
       "      <td>0.811744</td>\n",
       "      <td>0.000000</td>\n",
       "    </tr>\n",
       "    <tr>\n",
       "      <th>1</th>\n",
       "      <td>0.574257</td>\n",
       "      <td>0.674419</td>\n",
       "      <td>0.729560</td>\n",
       "      <td>0.850694</td>\n",
       "      <td>0.674419</td>\n",
       "      <td>0.805556</td>\n",
       "      <td>0.000000</td>\n",
       "    </tr>\n",
       "    <tr>\n",
       "      <th>2</th>\n",
       "      <td>0.579462</td>\n",
       "      <td>0.688953</td>\n",
       "      <td>0.733746</td>\n",
       "      <td>0.851979</td>\n",
       "      <td>0.688953</td>\n",
       "      <td>0.815835</td>\n",
       "      <td>0.000000</td>\n",
       "    </tr>\n",
       "    <tr>\n",
       "      <th>3</th>\n",
       "      <td>0.978495</td>\n",
       "      <td>0.264535</td>\n",
       "      <td>0.989130</td>\n",
       "      <td>0.997701</td>\n",
       "      <td>0.264535</td>\n",
       "      <td>0.418391</td>\n",
       "      <td>1.338583</td>\n",
       "    </tr>\n",
       "    <tr>\n",
       "      <th>4</th>\n",
       "      <td>0.965812</td>\n",
       "      <td>0.328488</td>\n",
       "      <td>0.982609</td>\n",
       "      <td>0.995624</td>\n",
       "      <td>0.328488</td>\n",
       "      <td>0.494530</td>\n",
       "      <td>1.683483</td>\n",
       "    </tr>\n",
       "    <tr>\n",
       "      <th>5</th>\n",
       "      <td>1.000000</td>\n",
       "      <td>0.264535</td>\n",
       "      <td>1.000000</td>\n",
       "      <td>1.000000</td>\n",
       "      <td>0.264535</td>\n",
       "      <td>0.418391</td>\n",
       "      <td>2.000000</td>\n",
       "    </tr>\n",
       "    <tr>\n",
       "      <th>6</th>\n",
       "      <td>0.528736</td>\n",
       "      <td>0.534884</td>\n",
       "      <td>0.691729</td>\n",
       "      <td>0.844697</td>\n",
       "      <td>0.534884</td>\n",
       "      <td>0.696970</td>\n",
       "      <td>0.202361</td>\n",
       "    </tr>\n",
       "    <tr>\n",
       "      <th>7</th>\n",
       "      <td>0.518072</td>\n",
       "      <td>0.500000</td>\n",
       "      <td>0.682540</td>\n",
       "      <td>0.844961</td>\n",
       "      <td>0.500000</td>\n",
       "      <td>0.666667</td>\n",
       "      <td>0.238392</td>\n",
       "    </tr>\n",
       "    <tr>\n",
       "      <th>8</th>\n",
       "      <td>0.596244</td>\n",
       "      <td>0.738372</td>\n",
       "      <td>0.747059</td>\n",
       "      <td>0.856187</td>\n",
       "      <td>0.738372</td>\n",
       "      <td>0.849498</td>\n",
       "      <td>0.000000</td>\n",
       "    </tr>\n",
       "    <tr>\n",
       "      <th>9</th>\n",
       "      <td>1.000000</td>\n",
       "      <td>0.261628</td>\n",
       "      <td>1.000000</td>\n",
       "      <td>1.000000</td>\n",
       "      <td>0.261628</td>\n",
       "      <td>0.414747</td>\n",
       "      <td>2.000000</td>\n",
       "    </tr>\n",
       "  </tbody>\n",
       "</table>\n",
       "</div>"
      ],
      "text/plain": [
       "       dice   hamming   jaccard  kulsinski  matching  tanimoto      yule\n",
       "0  0.577396  0.683140  0.732087   0.851468  0.683140  0.811744  0.000000\n",
       "1  0.574257  0.674419  0.729560   0.850694  0.674419  0.805556  0.000000\n",
       "2  0.579462  0.688953  0.733746   0.851979  0.688953  0.815835  0.000000\n",
       "3  0.978495  0.264535  0.989130   0.997701  0.264535  0.418391  1.338583\n",
       "4  0.965812  0.328488  0.982609   0.995624  0.328488  0.494530  1.683483\n",
       "5  1.000000  0.264535  1.000000   1.000000  0.264535  0.418391  2.000000\n",
       "6  0.528736  0.534884  0.691729   0.844697  0.534884  0.696970  0.202361\n",
       "7  0.518072  0.500000  0.682540   0.844961  0.500000  0.666667  0.238392\n",
       "8  0.596244  0.738372  0.747059   0.856187  0.738372  0.849498  0.000000\n",
       "9  1.000000  0.261628  1.000000   1.000000  0.261628  0.414747  2.000000"
      ]
     },
     "execution_count": 19,
     "metadata": {},
     "output_type": "execute_result"
    }
   ],
   "source": [
    "df = DataFrame({'dice':Dice,'jaccard':Jaccard,'hamming':Hamming,'kulsinski':Kulsinski,'matching':Matching,'yule':Yule,'tanimoto':Tanimoto})\n",
    "df"
   ]
  },
  {
   "cell_type": "code",
   "execution_count": 20,
   "metadata": {
    "collapsed": true
   },
   "outputs": [],
   "source": [
    "df.to_csv('similarityVectors.csv')"
   ]
  },
  {
   "cell_type": "markdown",
   "metadata": {},
   "source": [
    "### <font color=\"blue\"> Loading and Processing 166 bit MACCS binary fingerprint csv </font>"
   ]
  },
  {
   "cell_type": "code",
   "execution_count": 134,
   "metadata": {
    "collapsed": true
   },
   "outputs": [],
   "source": [
    "maccsBin = pd.read_csv('MayaChemData/OPVMACCS.csv')"
   ]
  },
  {
   "cell_type": "code",
   "execution_count": 135,
   "metadata": {
    "collapsed": true
   },
   "outputs": [],
   "source": [
    "maccsBin['MACCS'] = \"\""
   ]
  },
  {
   "cell_type": "code",
   "execution_count": 136,
   "metadata": {
    "collapsed": true
   },
   "outputs": [],
   "source": [
    "for i in range(len(maccsBin)):\n",
    "    maccsBin.ix[i,'MACCS'] = maccsBin.iloc[i]['MACCSKeysFingerprints'].rsplit(';')[-1]"
   ]
  },
  {
   "cell_type": "code",
   "execution_count": 137,
   "metadata": {
    "collapsed": true
   },
   "outputs": [],
   "source": [
    "maccsBin.drop(['MACCSKeysFingerprints'],axis=1,inplace=True)"
   ]
  },
  {
   "cell_type": "code",
   "execution_count": 138,
   "metadata": {},
   "outputs": [
    {
     "data": {
      "text/html": [
       "<div>\n",
       "<style>\n",
       "    .dataframe thead tr:only-child th {\n",
       "        text-align: right;\n",
       "    }\n",
       "\n",
       "    .dataframe thead th {\n",
       "        text-align: left;\n",
       "    }\n",
       "\n",
       "    .dataframe tbody tr th {\n",
       "        vertical-align: top;\n",
       "    }\n",
       "</style>\n",
       "<table border=\"1\" class=\"dataframe\">\n",
       "  <thead>\n",
       "    <tr style=\"text-align: right;\">\n",
       "      <th></th>\n",
       "      <th>CompoundID</th>\n",
       "      <th>MACCS</th>\n",
       "    </tr>\n",
       "  </thead>\n",
       "  <tbody>\n",
       "    <tr>\n",
       "      <th>0</th>\n",
       "      <td>Cmpd1</td>\n",
       "      <td>0000000000000000000010000100000000010000000000...</td>\n",
       "    </tr>\n",
       "    <tr>\n",
       "      <th>1</th>\n",
       "      <td>Cmpd2</td>\n",
       "      <td>0000000000000000000000000100000000010000000010...</td>\n",
       "    </tr>\n",
       "    <tr>\n",
       "      <th>2</th>\n",
       "      <td>Cmpd3</td>\n",
       "      <td>0000000000000000000000000100000010010000000000...</td>\n",
       "    </tr>\n",
       "    <tr>\n",
       "      <th>3</th>\n",
       "      <td>Cmpd4</td>\n",
       "      <td>0000000000000000000100000100010000010000000010...</td>\n",
       "    </tr>\n",
       "    <tr>\n",
       "      <th>4</th>\n",
       "      <td>Cmpd5</td>\n",
       "      <td>0000000000000000000000000100000000010000010010...</td>\n",
       "    </tr>\n",
       "  </tbody>\n",
       "</table>\n",
       "</div>"
      ],
      "text/plain": [
       "  CompoundID                                              MACCS\n",
       "0      Cmpd1  0000000000000000000010000100000000010000000000...\n",
       "1      Cmpd2  0000000000000000000000000100000000010000000010...\n",
       "2      Cmpd3  0000000000000000000000000100000010010000000000...\n",
       "3      Cmpd4  0000000000000000000100000100010000010000000010...\n",
       "4      Cmpd5  0000000000000000000000000100000000010000010010..."
      ]
     },
     "execution_count": 138,
     "metadata": {},
     "output_type": "execute_result"
    }
   ],
   "source": [
    "maccsBin.head()"
   ]
  },
  {
   "cell_type": "markdown",
   "metadata": {},
   "source": [
    "### <font color=\"green\"> Loading and Processing 166 bit MACCS count fingerprint csv </font>"
   ]
  },
  {
   "cell_type": "code",
   "execution_count": 110,
   "metadata": {
    "collapsed": true
   },
   "outputs": [],
   "source": [
    "maccsCount = pd.read_csv('MayaChemData/OPV166Count.csv')\n",
    "maccsCount['MACCS'] = \"\"\n",
    "for i in range(len(maccsCount)):\n",
    "    maccsCount.ix[i,'MACCS'] = maccsCount.iloc[i]['MACCSKeysFingerprints'].rsplit(';')[-1]\n",
    "maccsCount.drop(['MACCSKeysFingerprints'],axis=1,inplace=True)"
   ]
  },
  {
   "cell_type": "code",
   "execution_count": 111,
   "metadata": {},
   "outputs": [
    {
     "data": {
      "text/html": [
       "<div>\n",
       "<style>\n",
       "    .dataframe thead tr:only-child th {\n",
       "        text-align: right;\n",
       "    }\n",
       "\n",
       "    .dataframe thead th {\n",
       "        text-align: left;\n",
       "    }\n",
       "\n",
       "    .dataframe tbody tr th {\n",
       "        vertical-align: top;\n",
       "    }\n",
       "</style>\n",
       "<table border=\"1\" class=\"dataframe\">\n",
       "  <thead>\n",
       "    <tr style=\"text-align: right;\">\n",
       "      <th></th>\n",
       "      <th>CompoundID</th>\n",
       "      <th>MACCS</th>\n",
       "    </tr>\n",
       "  </thead>\n",
       "  <tbody>\n",
       "    <tr>\n",
       "      <th>0</th>\n",
       "      <td>Cmpd1</td>\n",
       "      <td>0 0 0 0 0 0 0 0 0 0 0 0 0 0 0 0 0 0 0 0 1 0 0 ...</td>\n",
       "    </tr>\n",
       "    <tr>\n",
       "      <th>1</th>\n",
       "      <td>Cmpd2</td>\n",
       "      <td>0 0 0 0 0 0 0 0 0 0 0 0 0 0 0 0 0 0 0 0 0 0 0 ...</td>\n",
       "    </tr>\n",
       "    <tr>\n",
       "      <th>2</th>\n",
       "      <td>Cmpd3</td>\n",
       "      <td>0 0 0 0 0 0 0 0 0 0 0 0 0 0 0 0 0 0 0 0 0 0 0 ...</td>\n",
       "    </tr>\n",
       "    <tr>\n",
       "      <th>3</th>\n",
       "      <td>Cmpd4</td>\n",
       "      <td>0 0 0 0 0 0 0 0 0 0 0 0 0 0 0 0 0 0 0 1 0 0 0 ...</td>\n",
       "    </tr>\n",
       "    <tr>\n",
       "      <th>4</th>\n",
       "      <td>Cmpd5</td>\n",
       "      <td>0 0 0 0 0 0 0 0 0 0 0 0 0 0 0 0 0 0 0 0 0 0 0 ...</td>\n",
       "    </tr>\n",
       "  </tbody>\n",
       "</table>\n",
       "</div>"
      ],
      "text/plain": [
       "  CompoundID                                              MACCS\n",
       "0      Cmpd1  0 0 0 0 0 0 0 0 0 0 0 0 0 0 0 0 0 0 0 0 1 0 0 ...\n",
       "1      Cmpd2  0 0 0 0 0 0 0 0 0 0 0 0 0 0 0 0 0 0 0 0 0 0 0 ...\n",
       "2      Cmpd3  0 0 0 0 0 0 0 0 0 0 0 0 0 0 0 0 0 0 0 0 0 0 0 ...\n",
       "3      Cmpd4  0 0 0 0 0 0 0 0 0 0 0 0 0 0 0 0 0 0 0 1 0 0 0 ...\n",
       "4      Cmpd5  0 0 0 0 0 0 0 0 0 0 0 0 0 0 0 0 0 0 0 0 0 0 0 ..."
      ]
     },
     "execution_count": 111,
     "metadata": {},
     "output_type": "execute_result"
    }
   ],
   "source": [
    "maccsCount.head()"
   ]
  },
  {
   "cell_type": "code",
   "execution_count": 9,
   "metadata": {},
   "outputs": [
    {
     "ename": "ParserError",
     "evalue": "Error tokenizing data. C error: EOF inside string starting at line 246",
     "output_type": "error",
     "traceback": [
      "\u001b[0;31m---------------------------------------------------------------------------\u001b[0m",
      "\u001b[0;31mParserError\u001b[0m                               Traceback (most recent call last)",
      "\u001b[0;32m<ipython-input-9-d85f52022de9>\u001b[0m in \u001b[0;36m<module>\u001b[0;34m()\u001b[0m\n\u001b[0;32m----> 1\u001b[0;31m \u001b[0mmaccsCount\u001b[0m \u001b[0;34m=\u001b[0m \u001b[0mpd\u001b[0m\u001b[0;34m.\u001b[0m\u001b[0mread_csv\u001b[0m\u001b[0;34m(\u001b[0m\u001b[0;34m'SampleMACCS322FPCount.csv'\u001b[0m\u001b[0;34m)\u001b[0m\u001b[0;34m\u001b[0m\u001b[0m\n\u001b[0m\u001b[1;32m      2\u001b[0m \u001b[0mmaccsCount\u001b[0m\u001b[0;34m[\u001b[0m\u001b[0;34m'MACCS'\u001b[0m\u001b[0;34m]\u001b[0m \u001b[0;34m=\u001b[0m \u001b[0;34m\"\"\u001b[0m\u001b[0;34m\u001b[0m\u001b[0m\n\u001b[1;32m      3\u001b[0m \u001b[0;32mfor\u001b[0m \u001b[0mi\u001b[0m \u001b[0;32min\u001b[0m \u001b[0mrange\u001b[0m\u001b[0;34m(\u001b[0m\u001b[0mlen\u001b[0m\u001b[0;34m(\u001b[0m\u001b[0mmaccsCount\u001b[0m\u001b[0;34m)\u001b[0m\u001b[0;34m)\u001b[0m\u001b[0;34m:\u001b[0m\u001b[0;34m\u001b[0m\u001b[0m\n\u001b[1;32m      4\u001b[0m     \u001b[0mmaccsCount\u001b[0m\u001b[0;34m.\u001b[0m\u001b[0mix\u001b[0m\u001b[0;34m[\u001b[0m\u001b[0mi\u001b[0m\u001b[0;34m,\u001b[0m\u001b[0;34m'MACCS'\u001b[0m\u001b[0;34m]\u001b[0m \u001b[0;34m=\u001b[0m \u001b[0mmaccsCount\u001b[0m\u001b[0;34m.\u001b[0m\u001b[0miloc\u001b[0m\u001b[0;34m[\u001b[0m\u001b[0mi\u001b[0m\u001b[0;34m]\u001b[0m\u001b[0;34m[\u001b[0m\u001b[0;34m'MACCSKeysFingerprints'\u001b[0m\u001b[0;34m]\u001b[0m\u001b[0;34m.\u001b[0m\u001b[0mrsplit\u001b[0m\u001b[0;34m(\u001b[0m\u001b[0;34m';'\u001b[0m\u001b[0;34m)\u001b[0m\u001b[0;34m[\u001b[0m\u001b[0;34m-\u001b[0m\u001b[0;36m1\u001b[0m\u001b[0;34m]\u001b[0m\u001b[0;34m\u001b[0m\u001b[0m\n\u001b[1;32m      5\u001b[0m \u001b[0mmaccsCount\u001b[0m\u001b[0;34m.\u001b[0m\u001b[0mdrop\u001b[0m\u001b[0;34m(\u001b[0m\u001b[0;34m[\u001b[0m\u001b[0;34m'MACCSKeysFingerprints'\u001b[0m\u001b[0;34m]\u001b[0m\u001b[0;34m,\u001b[0m\u001b[0maxis\u001b[0m\u001b[0;34m=\u001b[0m\u001b[0;36m1\u001b[0m\u001b[0;34m,\u001b[0m\u001b[0minplace\u001b[0m\u001b[0;34m=\u001b[0m\u001b[0mTrue\u001b[0m\u001b[0;34m)\u001b[0m\u001b[0;34m\u001b[0m\u001b[0m\n",
      "\u001b[0;32m/anaconda/lib/python2.7/site-packages/pandas/io/parsers.pyc\u001b[0m in \u001b[0;36mparser_f\u001b[0;34m(filepath_or_buffer, sep, delimiter, header, names, index_col, usecols, squeeze, prefix, mangle_dupe_cols, dtype, engine, converters, true_values, false_values, skipinitialspace, skiprows, nrows, na_values, keep_default_na, na_filter, verbose, skip_blank_lines, parse_dates, infer_datetime_format, keep_date_col, date_parser, dayfirst, iterator, chunksize, compression, thousands, decimal, lineterminator, quotechar, quoting, escapechar, comment, encoding, dialect, tupleize_cols, error_bad_lines, warn_bad_lines, skipfooter, skip_footer, doublequote, delim_whitespace, as_recarray, compact_ints, use_unsigned, low_memory, buffer_lines, memory_map, float_precision)\u001b[0m\n\u001b[1;32m    653\u001b[0m                     skip_blank_lines=skip_blank_lines)\n\u001b[1;32m    654\u001b[0m \u001b[0;34m\u001b[0m\u001b[0m\n\u001b[0;32m--> 655\u001b[0;31m         \u001b[0;32mreturn\u001b[0m \u001b[0m_read\u001b[0m\u001b[0;34m(\u001b[0m\u001b[0mfilepath_or_buffer\u001b[0m\u001b[0;34m,\u001b[0m \u001b[0mkwds\u001b[0m\u001b[0;34m)\u001b[0m\u001b[0;34m\u001b[0m\u001b[0m\n\u001b[0m\u001b[1;32m    656\u001b[0m \u001b[0;34m\u001b[0m\u001b[0m\n\u001b[1;32m    657\u001b[0m     \u001b[0mparser_f\u001b[0m\u001b[0;34m.\u001b[0m\u001b[0m__name__\u001b[0m \u001b[0;34m=\u001b[0m \u001b[0mname\u001b[0m\u001b[0;34m\u001b[0m\u001b[0m\n",
      "\u001b[0;32m/anaconda/lib/python2.7/site-packages/pandas/io/parsers.pyc\u001b[0m in \u001b[0;36m_read\u001b[0;34m(filepath_or_buffer, kwds)\u001b[0m\n\u001b[1;32m    409\u001b[0m \u001b[0;34m\u001b[0m\u001b[0m\n\u001b[1;32m    410\u001b[0m     \u001b[0;32mtry\u001b[0m\u001b[0;34m:\u001b[0m\u001b[0;34m\u001b[0m\u001b[0m\n\u001b[0;32m--> 411\u001b[0;31m         \u001b[0mdata\u001b[0m \u001b[0;34m=\u001b[0m \u001b[0mparser\u001b[0m\u001b[0;34m.\u001b[0m\u001b[0mread\u001b[0m\u001b[0;34m(\u001b[0m\u001b[0mnrows\u001b[0m\u001b[0;34m)\u001b[0m\u001b[0;34m\u001b[0m\u001b[0m\n\u001b[0m\u001b[1;32m    412\u001b[0m     \u001b[0;32mfinally\u001b[0m\u001b[0;34m:\u001b[0m\u001b[0;34m\u001b[0m\u001b[0m\n\u001b[1;32m    413\u001b[0m         \u001b[0mparser\u001b[0m\u001b[0;34m.\u001b[0m\u001b[0mclose\u001b[0m\u001b[0;34m(\u001b[0m\u001b[0;34m)\u001b[0m\u001b[0;34m\u001b[0m\u001b[0m\n",
      "\u001b[0;32m/anaconda/lib/python2.7/site-packages/pandas/io/parsers.pyc\u001b[0m in \u001b[0;36mread\u001b[0;34m(self, nrows)\u001b[0m\n\u001b[1;32m    980\u001b[0m                 \u001b[0;32mraise\u001b[0m \u001b[0mValueError\u001b[0m\u001b[0;34m(\u001b[0m\u001b[0;34m'skipfooter not supported for iteration'\u001b[0m\u001b[0;34m)\u001b[0m\u001b[0;34m\u001b[0m\u001b[0m\n\u001b[1;32m    981\u001b[0m \u001b[0;34m\u001b[0m\u001b[0m\n\u001b[0;32m--> 982\u001b[0;31m         \u001b[0mret\u001b[0m \u001b[0;34m=\u001b[0m \u001b[0mself\u001b[0m\u001b[0;34m.\u001b[0m\u001b[0m_engine\u001b[0m\u001b[0;34m.\u001b[0m\u001b[0mread\u001b[0m\u001b[0;34m(\u001b[0m\u001b[0mnrows\u001b[0m\u001b[0;34m)\u001b[0m\u001b[0;34m\u001b[0m\u001b[0m\n\u001b[0m\u001b[1;32m    983\u001b[0m \u001b[0;34m\u001b[0m\u001b[0m\n\u001b[1;32m    984\u001b[0m         \u001b[0;32mif\u001b[0m \u001b[0mself\u001b[0m\u001b[0;34m.\u001b[0m\u001b[0moptions\u001b[0m\u001b[0;34m.\u001b[0m\u001b[0mget\u001b[0m\u001b[0;34m(\u001b[0m\u001b[0;34m'as_recarray'\u001b[0m\u001b[0;34m)\u001b[0m\u001b[0;34m:\u001b[0m\u001b[0;34m\u001b[0m\u001b[0m\n",
      "\u001b[0;32m/anaconda/lib/python2.7/site-packages/pandas/io/parsers.pyc\u001b[0m in \u001b[0;36mread\u001b[0;34m(self, nrows)\u001b[0m\n\u001b[1;32m   1717\u001b[0m     \u001b[0;32mdef\u001b[0m \u001b[0mread\u001b[0m\u001b[0;34m(\u001b[0m\u001b[0mself\u001b[0m\u001b[0;34m,\u001b[0m \u001b[0mnrows\u001b[0m\u001b[0;34m=\u001b[0m\u001b[0mNone\u001b[0m\u001b[0;34m)\u001b[0m\u001b[0;34m:\u001b[0m\u001b[0;34m\u001b[0m\u001b[0m\n\u001b[1;32m   1718\u001b[0m         \u001b[0;32mtry\u001b[0m\u001b[0;34m:\u001b[0m\u001b[0;34m\u001b[0m\u001b[0m\n\u001b[0;32m-> 1719\u001b[0;31m             \u001b[0mdata\u001b[0m \u001b[0;34m=\u001b[0m \u001b[0mself\u001b[0m\u001b[0;34m.\u001b[0m\u001b[0m_reader\u001b[0m\u001b[0;34m.\u001b[0m\u001b[0mread\u001b[0m\u001b[0;34m(\u001b[0m\u001b[0mnrows\u001b[0m\u001b[0;34m)\u001b[0m\u001b[0;34m\u001b[0m\u001b[0m\n\u001b[0m\u001b[1;32m   1720\u001b[0m         \u001b[0;32mexcept\u001b[0m \u001b[0mStopIteration\u001b[0m\u001b[0;34m:\u001b[0m\u001b[0;34m\u001b[0m\u001b[0m\n\u001b[1;32m   1721\u001b[0m             \u001b[0;32mif\u001b[0m \u001b[0mself\u001b[0m\u001b[0;34m.\u001b[0m\u001b[0m_first_chunk\u001b[0m\u001b[0;34m:\u001b[0m\u001b[0;34m\u001b[0m\u001b[0m\n",
      "\u001b[0;32mpandas/_libs/parsers.pyx\u001b[0m in \u001b[0;36mpandas._libs.parsers.TextReader.read (pandas/_libs/parsers.c:10862)\u001b[0;34m()\u001b[0m\n",
      "\u001b[0;32mpandas/_libs/parsers.pyx\u001b[0m in \u001b[0;36mpandas._libs.parsers.TextReader._read_low_memory (pandas/_libs/parsers.c:11138)\u001b[0;34m()\u001b[0m\n",
      "\u001b[0;32mpandas/_libs/parsers.pyx\u001b[0m in \u001b[0;36mpandas._libs.parsers.TextReader._read_rows (pandas/_libs/parsers.c:11884)\u001b[0;34m()\u001b[0m\n",
      "\u001b[0;32mpandas/_libs/parsers.pyx\u001b[0m in \u001b[0;36mpandas._libs.parsers.TextReader._tokenize_rows (pandas/_libs/parsers.c:11755)\u001b[0;34m()\u001b[0m\n",
      "\u001b[0;32mpandas/_libs/parsers.pyx\u001b[0m in \u001b[0;36mpandas._libs.parsers.raise_parser_error (pandas/_libs/parsers.c:28765)\u001b[0;34m()\u001b[0m\n",
      "\u001b[0;31mParserError\u001b[0m: Error tokenizing data. C error: EOF inside string starting at line 246"
     ]
    }
   ],
   "source": [
    "maccsCount = pd.read_csv('SampleMACCS322FPCount.csv')\n",
    "maccsCount['MACCS'] = \"\"\n",
    "for i in range(len(maccsCount)):\n",
    "    maccsCount.ix[i,'MACCS'] = maccsCount.iloc[i]['MACCSKeysFingerprints'].rsplit(';')[-1]\n",
    "maccsCount.drop(['MACCSKeysFingerprints'],axis=1,inplace=True)"
   ]
  },
  {
   "cell_type": "markdown",
   "metadata": {},
   "source": [
    "### <font color=\"brown\">Writing the molecules to an SDF file to process using MayaChemTools</font>"
   ]
  },
  {
   "cell_type": "code",
   "execution_count": 98,
   "metadata": {
    "collapsed": true
   },
   "outputs": [],
   "source": [
    "w = Chem.SDWriter('OPV.sdf')"
   ]
  },
  {
   "cell_type": "code",
   "execution_count": 99,
   "metadata": {
    "collapsed": true
   },
   "outputs": [],
   "source": [
    "for i in range(344):\n",
    "    w.write(mols[i])"
   ]
  },
  {
   "cell_type": "markdown",
   "metadata": {},
   "source": [
    "### Comparing bit with count vectors"
   ]
  },
  {
   "cell_type": "code",
   "execution_count": 112,
   "metadata": {},
   "outputs": [
    {
     "data": {
      "text/plain": [
       "['0',\n",
       " '0',\n",
       " '0',\n",
       " '0',\n",
       " '0',\n",
       " '0',\n",
       " '0',\n",
       " '0',\n",
       " '0',\n",
       " '0',\n",
       " '0',\n",
       " '0',\n",
       " '0',\n",
       " '0',\n",
       " '0',\n",
       " '0',\n",
       " '0',\n",
       " '0',\n",
       " '0',\n",
       " '0',\n",
       " '1',\n",
       " '0',\n",
       " '0',\n",
       " '0',\n",
       " '0',\n",
       " '6',\n",
       " '0',\n",
       " '0',\n",
       " '0',\n",
       " '0',\n",
       " '0',\n",
       " '0',\n",
       " '0',\n",
       " '0',\n",
       " '0',\n",
       " '8',\n",
       " '0',\n",
       " '0',\n",
       " '0',\n",
       " '0',\n",
       " '0',\n",
       " '0',\n",
       " '0',\n",
       " '0',\n",
       " '0',\n",
       " '0',\n",
       " '0',\n",
       " '0',\n",
       " '0',\n",
       " '5',\n",
       " '1',\n",
       " '0',\n",
       " '0',\n",
       " '0',\n",
       " '1',\n",
       " '0',\n",
       " '0',\n",
       " '1',\n",
       " '1',\n",
       " '2',\n",
       " '1',\n",
       " '5',\n",
       " '0',\n",
       " '1',\n",
       " '0',\n",
       " '0',\n",
       " '2',\n",
       " '0',\n",
       " '0',\n",
       " '0',\n",
       " '0',\n",
       " '0',\n",
       " '2',\n",
       " '0',\n",
       " '0',\n",
       " '19',\n",
       " '0',\n",
       " '0',\n",
       " '0',\n",
       " '0',\n",
       " '14',\n",
       " '0',\n",
       " '8',\n",
       " '0',\n",
       " '0',\n",
       " '0',\n",
       " '0',\n",
       " '9',\n",
       " '0',\n",
       " '0',\n",
       " '0',\n",
       " '0',\n",
       " '1',\n",
       " '0',\n",
       " '0',\n",
       " '8',\n",
       " '0',\n",
       " '0',\n",
       " '16',\n",
       " '0',\n",
       " '0',\n",
       " '2',\n",
       " '0',\n",
       " '0',\n",
       " '6',\n",
       " '0',\n",
       " '0',\n",
       " '2',\n",
       " '0',\n",
       " '0',\n",
       " '0',\n",
       " '1',\n",
       " '0',\n",
       " '0',\n",
       " '0',\n",
       " '0',\n",
       " '0',\n",
       " '0',\n",
       " '0',\n",
       " '8',\n",
       " '0',\n",
       " '0',\n",
       " '0',\n",
       " '2',\n",
       " '9',\n",
       " '0',\n",
       " '0',\n",
       " '0',\n",
       " '0',\n",
       " '2',\n",
       " '0',\n",
       " '0',\n",
       " '0',\n",
       " '0',\n",
       " '0',\n",
       " '2',\n",
       " '8',\n",
       " '0',\n",
       " '0',\n",
       " '2',\n",
       " '3',\n",
       " '0',\n",
       " '0',\n",
       " '0',\n",
       " '1',\n",
       " '2',\n",
       " '0',\n",
       " '1',\n",
       " '3',\n",
       " '0',\n",
       " '0',\n",
       " '0',\n",
       " '0',\n",
       " '0',\n",
       " '0',\n",
       " '0',\n",
       " '0',\n",
       " '0',\n",
       " '2',\n",
       " '3',\n",
       " '0',\n",
       " '0',\n",
       " '1',\n",
       " '2',\n",
       " '9',\n",
       " '1']"
      ]
     },
     "execution_count": 112,
     "metadata": {},
     "output_type": "execute_result"
    }
   ],
   "source": [
    "#print maccsCount.iloc[0]['MACCS'][:-1]\n",
    "List = maccsCount.iloc[0]['MACCS']\n",
    "newList = List.split(' ')\n",
    "len(newList)\n",
    "newList"
   ]
  },
  {
   "cell_type": "code",
   "execution_count": 113,
   "metadata": {},
   "outputs": [
    {
     "name": "stdout",
     "output_type": "stream",
     "text": [
      "000000000000000000001000010000000001000000000000011000100111110100100000100100001010000100001001001001001001000100000001000110000100000110011000010110000000001100111\n"
     ]
    },
    {
     "data": {
      "text/plain": [
       "(168, 168)"
      ]
     },
     "execution_count": 113,
     "metadata": {},
     "output_type": "execute_result"
    }
   ],
   "source": [
    "print maccsBin.iloc[0]['MACCS'][:-3]\n",
    "Bin = maccsBin.iloc[0]['MACCS'][:-3]\n",
    "len(maccsBin.iloc[0]['MACCS']),len(maccsBin.iloc[2]['MACCS'])"
   ]
  },
  {
   "cell_type": "code",
   "execution_count": 114,
   "metadata": {},
   "outputs": [
    {
     "data": {
      "text/plain": [
       "(166, 166)"
      ]
     },
     "execution_count": 114,
     "metadata": {},
     "output_type": "execute_result"
    }
   ],
   "source": [
    "len(maccsCount.iloc[0]['MACCS'].split(' ')), len(maccsCount.iloc[-1]['MACCS'].split(' '))"
   ]
  },
  {
   "cell_type": "code",
   "execution_count": 115,
   "metadata": {},
   "outputs": [
    {
     "data": {
      "text/plain": [
       "168"
      ]
     },
     "execution_count": 115,
     "metadata": {},
     "output_type": "execute_result"
    }
   ],
   "source": [
    "len(maccsBin.iloc[0]['MACCS'])"
   ]
  },
  {
   "cell_type": "code",
   "execution_count": 139,
   "metadata": {
    "collapsed": true
   },
   "outputs": [],
   "source": [
    "maccsBinary = []\n",
    "for i in range(344):\n",
    "    maccsBinVector = []\n",
    "    for item in maccsBin.iloc[i]['MACCS']:\n",
    "        maccsBinVector += [int(item)]\n",
    "    maccsBinary += [maccsBinVector]"
   ]
  },
  {
   "cell_type": "code",
   "execution_count": 140,
   "metadata": {},
   "outputs": [
    {
     "data": {
      "text/plain": [
       "(344, 168, 168)"
      ]
     },
     "execution_count": 140,
     "metadata": {},
     "output_type": "execute_result"
    }
   ],
   "source": [
    "len(maccsBinary), len(maccsBinary[0]), len(maccsBinary[-1])"
   ]
  },
  {
   "cell_type": "code",
   "execution_count": 141,
   "metadata": {},
   "outputs": [
    {
     "name": "stdout",
     "output_type": "stream",
     "text": [
      "maccsBinary saved successfully in .\n"
     ]
    }
   ],
   "source": [
    "saveNumpy(maccsBinary,'maccsBinary')"
   ]
  },
  {
   "cell_type": "code",
   "execution_count": 117,
   "metadata": {},
   "outputs": [
    {
     "data": {
      "text/plain": [
       "'000000000000000000000001000000000100000010001000010000010000001000000110000100000000100000001100001001000001000010000010010111100100101100011111110111010001111110111000'"
      ]
     },
     "execution_count": 117,
     "metadata": {},
     "output_type": "execute_result"
    }
   ],
   "source": [
    "maccsBin.iloc[-1]['MACCS']"
   ]
  },
  {
   "cell_type": "code",
   "execution_count": 118,
   "metadata": {},
   "outputs": [
    {
     "data": {
      "text/plain": [
       "'0 0 0 0 0 0 0 0 0 0 0 0 0 0 0 0 0 0 0 0 0 0 0 1 0 0 0 0 0 0 0 0 0 1 0 0 0 0 0 0 1 0 0 0 4 0 0 0 0 6 0 0 0 0 0 1 0 0 0 0 0 0 1 0 0 0 0 0 0 1 2 0 0 0 0 12 0 0 0 0 0 0 0 0 1 0 0 0 0 0 0 0 2 2 0 0 0 0 18 0 0 2 0 0 0 0 0 4 0 0 0 0 2 0 0 0 0 0 1 0 0 2 0 2 5 2 2 0 0 2 0 0 4 0 4 1 0 0 0 4 2 3 2 2 5 4 0 2 2 2 0 2 0 0 0 8 4 4 4 2 3 0 5 4 5 1'"
      ]
     },
     "execution_count": 118,
     "metadata": {},
     "output_type": "execute_result"
    }
   ],
   "source": [
    "maccsCount.iloc[-1]['MACCS']"
   ]
  },
  {
   "cell_type": "code",
   "execution_count": 123,
   "metadata": {},
   "outputs": [
    {
     "data": {
      "text/plain": [
       "166"
      ]
     },
     "execution_count": 123,
     "metadata": {},
     "output_type": "execute_result"
    }
   ],
   "source": [
    "instance = maccsCount.iloc[-1]['MACCS']\n",
    "len(instance.split(' '))"
   ]
  },
  {
   "cell_type": "code",
   "execution_count": 124,
   "metadata": {
    "collapsed": true
   },
   "outputs": [],
   "source": [
    "maccsCountMatrix = []\n",
    "for i in range(344):\n",
    "    maccsCountVector = maccsCount.iloc[i]['MACCS'].split(' ')\n",
    "    maccsCountList = []\n",
    "    for item in maccsCountVector:\n",
    "        maccsCountList += [int(item)]\n",
    "    maccsCountMatrix += [maccsCountList]"
   ]
  },
  {
   "cell_type": "code",
   "execution_count": 125,
   "metadata": {},
   "outputs": [
    {
     "data": {
      "text/plain": [
       "(344, 166, 166)"
      ]
     },
     "execution_count": 125,
     "metadata": {},
     "output_type": "execute_result"
    }
   ],
   "source": [
    "len(maccsCountMatrix), len(maccsCountMatrix[0]), len(maccsCountMatrix[-1])"
   ]
  },
  {
   "cell_type": "code",
   "execution_count": 126,
   "metadata": {},
   "outputs": [
    {
     "name": "stdout",
     "output_type": "stream",
     "text": [
      "maccsCount saved successfully in .\n"
     ]
    }
   ],
   "source": [
    "saveNumpy(maccsCountMatrix,'maccsCount')"
   ]
  },
  {
   "cell_type": "code",
   "execution_count": 91,
   "metadata": {},
   "outputs": [
    {
     "data": {
      "text/html": [
       "<div>\n",
       "<table border=\"1\" class=\"dataframe\">\n",
       "  <thead>\n",
       "    <tr style=\"text-align: right;\">\n",
       "      <th></th>\n",
       "      <th>A</th>\n",
       "      <th>B</th>\n",
       "      <th>C</th>\n",
       "      <th>D</th>\n",
       "      <th>E</th>\n",
       "    </tr>\n",
       "  </thead>\n",
       "  <tbody>\n",
       "    <tr>\n",
       "      <th>0</th>\n",
       "      <td>1.0</td>\n",
       "      <td>1.329212</td>\n",
       "      <td>NaN</td>\n",
       "      <td>-0.316280</td>\n",
       "      <td>-0.990810</td>\n",
       "    </tr>\n",
       "    <tr>\n",
       "      <th>1</th>\n",
       "      <td>2.0</td>\n",
       "      <td>-1.070816</td>\n",
       "      <td>-1.438713</td>\n",
       "      <td>0.564417</td>\n",
       "      <td>0.295722</td>\n",
       "    </tr>\n",
       "    <tr>\n",
       "      <th>2</th>\n",
       "      <td>3.0</td>\n",
       "      <td>-1.626404</td>\n",
       "      <td>0.219565</td>\n",
       "      <td>0.678805</td>\n",
       "      <td>1.889273</td>\n",
       "    </tr>\n",
       "    <tr>\n",
       "      <th>3</th>\n",
       "      <td>4.0</td>\n",
       "      <td>0.961538</td>\n",
       "      <td>0.104011</td>\n",
       "      <td>-0.481165</td>\n",
       "      <td>0.850229</td>\n",
       "    </tr>\n",
       "    <tr>\n",
       "      <th>4</th>\n",
       "      <td>5.0</td>\n",
       "      <td>1.453425</td>\n",
       "      <td>1.057737</td>\n",
       "      <td>0.165562</td>\n",
       "      <td>0.515018</td>\n",
       "    </tr>\n",
       "    <tr>\n",
       "      <th>5</th>\n",
       "      <td>6.0</td>\n",
       "      <td>-1.336936</td>\n",
       "      <td>0.562861</td>\n",
       "      <td>1.392855</td>\n",
       "      <td>-0.063328</td>\n",
       "    </tr>\n",
       "    <tr>\n",
       "      <th>6</th>\n",
       "      <td>7.0</td>\n",
       "      <td>0.121668</td>\n",
       "      <td>1.207603</td>\n",
       "      <td>-0.002040</td>\n",
       "      <td>1.627796</td>\n",
       "    </tr>\n",
       "    <tr>\n",
       "      <th>7</th>\n",
       "      <td>8.0</td>\n",
       "      <td>0.354493</td>\n",
       "      <td>1.037528</td>\n",
       "      <td>-0.385684</td>\n",
       "      <td>0.519818</td>\n",
       "    </tr>\n",
       "    <tr>\n",
       "      <th>8</th>\n",
       "      <td>9.0</td>\n",
       "      <td>1.686583</td>\n",
       "      <td>-1.325963</td>\n",
       "      <td>1.428984</td>\n",
       "      <td>-2.089354</td>\n",
       "    </tr>\n",
       "    <tr>\n",
       "      <th>9</th>\n",
       "      <td>10.0</td>\n",
       "      <td>-0.129820</td>\n",
       "      <td>0.631523</td>\n",
       "      <td>-0.586538</td>\n",
       "      <td>0.290720</td>\n",
       "    </tr>\n",
       "  </tbody>\n",
       "</table>\n",
       "</div>"
      ],
      "text/plain": [
       "      A         B         C         D         E\n",
       "0   1.0  1.329212       NaN -0.316280 -0.990810\n",
       "1   2.0 -1.070816 -1.438713  0.564417  0.295722\n",
       "2   3.0 -1.626404  0.219565  0.678805  1.889273\n",
       "3   4.0  0.961538  0.104011 -0.481165  0.850229\n",
       "4   5.0  1.453425  1.057737  0.165562  0.515018\n",
       "5   6.0 -1.336936  0.562861  1.392855 -0.063328\n",
       "6   7.0  0.121668  1.207603 -0.002040  1.627796\n",
       "7   8.0  0.354493  1.037528 -0.385684  0.519818\n",
       "8   9.0  1.686583 -1.325963  1.428984 -2.089354\n",
       "9  10.0 -0.129820  0.631523 -0.586538  0.290720"
      ]
     },
     "execution_count": 91,
     "metadata": {},
     "output_type": "execute_result"
    }
   ],
   "source": [
    "def renderDataFrame():\n",
    "    maccsCount = pd.read_csv('OPV166Count.csv')\n",
    "    maccsCount['MACCS'] = \"\"\n",
    "    for i in range(len(maccsCount)):\n",
    "        maccsCount.ix[i,'MACCS'] = maccsCount.iloc[i]['MACCSKeysFingerprints'].rsplit(';')[-1]\n",
    "    maccsCount.drop(['MACCSKeysFingerprints'],axis=1,inplace=True)"
   ]
  },
  {
   "cell_type": "markdown",
   "metadata": {},
   "source": [
    "### <font color=\"orange\"> Extracting Atompair and Topological Fingerprint </font>"
   ]
  },
  {
   "cell_type": "code",
   "execution_count": 46,
   "metadata": {},
   "outputs": [
    {
     "data": {
      "text/plain": [
       "Index([u'CompoundID', u'TopologicalAtomTorsionsFingerprints'], dtype='object')"
      ]
     },
     "execution_count": 46,
     "metadata": {},
     "output_type": "execute_result"
    }
   ],
   "source": [
    "df = pd.read_csv('SampleTATFPSmall.csv')\n",
    "df.keys()"
   ]
  },
  {
   "cell_type": "code",
   "execution_count": 47,
   "metadata": {},
   "outputs": [
    {
     "data": {
      "text/plain": [
       "'FingerprintsVector;TopologicalAtomTorsions:AtomicInvariantsAtomTypes;42;NumericalValues;IDsAndValuesPairsString;C.X1.BO1.H3-N.X2.BO2.H1-C.X3.BO4-C.X2.BO3.H1 1 C.X1.BO1.H3-N.X2.BO2.H1-C.X3.BO4-C.X3.BO4 1 C.X2.BO3.H1-C.X2.BO3.H1-C.X3.BO4-C.X2.BO3.H1 4 C.X2.BO3.H1-C.X2.BO3.H1-C.X3.BO4-Cl.X1.BO1 1 C.X2.BO3.H1-C.X2.BO3.H1-C.X3.BO4-N.X2.BO2.H1 2 C.X2.BO3.H1-C.X2.BO3.H1-C.X3.BO4-N.X3.BO3 2 C.X2.BO3.H1-C.X2.BO3.H1-C.X3.BO4-S.X2.BO2 2 C.X2.BO3.H1-C.X2.BO3.H1-C.X3.BO4-S.X4.BO6 1 C.X2.BO3.H1-C.X3.BO4-C.X3.BO4-C.X2.BO3.H1 2 C.X2.BO3.H1-C.X3.BO4-C.X3.BO4-C.X3.BO4 1 C.X2.BO3.H1-C.X3.BO4-C.X3.BO4-F.X1.BO1 1 C.X2.BO3.H1-C.X3.BO4-C.X3.BO4-N.X2.BO2.H1 2 C.X2.BO3.H1-C.X3.BO4-C.X3.BO4-N.X3.BO3 1 C.X2.BO3.H1-C.X3.BO4-C.X3.BO4-O.X1.BO2 1 C.X2.BO3.H1-C.X3.BO4-N.X2.BO2.H1-C.X3.BO4 3 C.X2.BO3.H1-C.X3.BO4-N.X3.BO3-C.X3.BO4 4 C.X2.BO3.H1-C.X3.BO4-S.X2.BO2-C.X3.BO4 2 C.X2.BO3.H1-C.X3.BO4-S.X4.BO6-N.X2.BO2.H1 1 C.X2.BO3.H1-C.X3.BO4-S.X4.BO6-O.X1.BO2 2 C.X3.BO4-C.X2.BO3.H1-C.X2.BO3.H1-C.X3.BO4 3 C.X3.BO4-C.X2.BO3.H1-C.X3.BO4-C.X3.BO4 5 C.X3.BO4-C.X2.BO3.H1-C.X3.BO4-F.X1.BO1 1 C.X3.BO4-C.X2.BO3.H1-C.X3.BO4-N.X2.BO2.H1 2 C.X3.BO4-C.X3.BO4-C.X3.BO4-N.X2.BO2.H1 1 C.X3.BO4-C.X3.BO4-C.X3.BO4-N.X3.BO3 1 C.X3.BO4-C.X3.BO4-C.X3.BO4-O.X1.BO2 1 C.X3.BO4-C.X3.BO4-N.X2.BO2.H1-C.X3.BO4 1 C.X3.BO4-C.X3.BO4-N.X3.BO3-C.X3.BO4 2 C.X3.BO4-N.X2.BO2.H1-C.X3.BO4-N.X2.BO2.H1 1 C.X3.BO4-N.X2.BO2.H1-C.X3.BO4-N.X3.BO3 1 C.X3.BO4-N.X2.BO2.H1-C.X3.BO4-O.X1.BO2 2 C.X3.BO4-N.X2.BO2.H1-S.X4.BO6-C.X3.BO4 1 C.X3.BO4-N.X2.BO2.H1-S.X4.BO6-O.X1.BO2 2 C.X3.BO4-N.X3.BO3-C.X3.BO4-N.X2.BO2.H1 2 C.X3.BO4-N.X3.BO3-C.X3.BO4-O.X1.BO2 4 C.X3.BO4-S.X2.BO2-C.X3.BO4-Cl.X1.BO1 1 C.X3.BO4-S.X2.BO2-C.X3.BO4-S.X4.BO6 1 F.X1.BO1-C.X3.BO4-C.X3.BO4-N.X2.BO2.H1 1 N.X2.BO2.H1-C.X3.BO4-N.X2.BO2.H1-S.X4.BO6 1 N.X2.BO2.H1-S.X4.BO6-C.X3.BO4-S.X2.BO2 1 O.X1.BO2-C.X3.BO4-N.X2.BO2.H1-S.X4.BO6 1 O.X1.BO2-S.X4.BO6-C.X3.BO4-S.X2.BO2 2'"
      ]
     },
     "execution_count": 47,
     "metadata": {},
     "output_type": "execute_result"
    }
   ],
   "source": [
    "df.iloc[0]['TopologicalAtomTorsionsFingerprints']"
   ]
  },
  {
   "cell_type": "code",
   "execution_count": 56,
   "metadata": {},
   "outputs": [
    {
     "data": {
      "text/plain": [
       "Index([u'CompoundID', u'TopologicalAtomPairsFingerprints'], dtype='object')"
      ]
     },
     "execution_count": 56,
     "metadata": {},
     "output_type": "execute_result"
    }
   ],
   "source": [
    "df = pd.read_csv('SimpleSampleAPFP.csv')#.iloc[0]['TopologicalAtomTorsionsFingerprints']\n",
    "df.keys()"
   ]
  },
  {
   "cell_type": "code",
   "execution_count": 55,
   "metadata": {},
   "outputs": [
    {
     "data": {
      "text/plain": [
       "'1 3 10 3 1 1 6 3 3 2 1 1 2 1 2 11 1 1 4 2 2 1 9 1 3 1 3 1 1 1 1 5 2 1 1 1 1 3 8 1 1 5 3 3 1 7 1 1 5 1 9 1 1 1 1 2 1 1 1 1 11 5 1 10 3 2 5 2 5 1 1 1 1 3 3 1 1 2 6 5 8 2 7 2 1 4 1 2 1 1 1 1 1 1 2 4 7 1 5 2 2 1 2 5 1 5 1 1 2 1 2 4 8 2 4 2 4 2 1 1 1 1 1 1 2 1 1 4 5 2 3 2 3 1 4 6 1 2 2 4 2 3 2 1 2 1 1 1 2 1 3 2 2 2 2 2 1 1 1 4 3 5 1 1 1 1 2'"
      ]
     },
     "execution_count": 55,
     "metadata": {},
     "output_type": "execute_result"
    }
   ],
   "source": [
    "df.iloc[0]['TopologicalAtomPairsFingerprints'].rsplit(';')[-1]"
   ]
  },
  {
   "cell_type": "code",
   "execution_count": 57,
   "metadata": {
    "collapsed": true
   },
   "outputs": [],
   "source": [
    "df['fingerprint'] = \"\"\n",
    "for i in range(len(df)):\n",
    "    df.ix[i,'fingerprint'] = df.iloc[i]['TopologicalAtomPairsFingerprints'].rsplit(';')[-1]\n",
    "df.drop(['TopologicalAtomPairsFingerprints'],axis=1,inplace=True)"
   ]
  },
  {
   "cell_type": "code",
   "execution_count": 63,
   "metadata": {
    "collapsed": true
   },
   "outputs": [],
   "source": [
    "a = df.iloc[0]['fingerprint']\n",
    "b = df.iloc[1]['fingerprint']\n",
    "c = df.iloc[-1]['fingerprint']"
   ]
  },
  {
   "cell_type": "code",
   "execution_count": 64,
   "metadata": {},
   "outputs": [
    {
     "data": {
      "text/plain": [
       "(167, 191, 257)"
      ]
     },
     "execution_count": 64,
     "metadata": {},
     "output_type": "execute_result"
    }
   ],
   "source": [
    "len(a.split(' ')), len(b.split(' ')),len(c.split(' '))"
   ]
  }
 ],
 "metadata": {
  "anaconda-cloud": {},
  "kernelspec": {
   "display_name": "Python 2",
   "language": "python",
   "name": "python2"
  },
  "language_info": {
   "codemirror_mode": {
    "name": "ipython",
    "version": 2
   },
   "file_extension": ".py",
   "mimetype": "text/x-python",
   "name": "python",
   "nbconvert_exporter": "python",
   "pygments_lexer": "ipython2",
   "version": "2.7.15"
  }
 },
 "nbformat": 4,
 "nbformat_minor": 1
}
