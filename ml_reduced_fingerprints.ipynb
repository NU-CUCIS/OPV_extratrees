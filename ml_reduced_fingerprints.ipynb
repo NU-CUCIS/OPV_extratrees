{
 "cells": [
  {
   "cell_type": "code",
   "execution_count": 1,
   "metadata": {
    "collapsed": true
   },
   "outputs": [],
   "source": [
    "%matplotlib inline"
   ]
  },
  {
   "cell_type": "code",
   "execution_count": 2,
   "metadata": {
    "collapsed": true
   },
   "outputs": [],
   "source": [
    "def warn(*args, **kwargs):\n",
    "    pass\n",
    "import warnings\n",
    "warnings.warn = warn\n",
    "warnings.filterwarnings(\"ignore\")"
   ]
  },
  {
   "cell_type": "code",
   "execution_count": 1,
   "metadata": {},
   "outputs": [
    {
     "name": "stderr",
     "output_type": "stream",
     "text": [
      "/Users/arindam/anaconda2/lib/python2.7/site-packages/sklearn/cross_validation.py:41: DeprecationWarning: This module was deprecated in version 0.18 in favor of the model_selection module into which all the refactored classes and functions are moved. Also note that the interface of the new CV iterators are different from that of this module. This module will be removed in 0.20.\n",
      "  \"This module will be removed in 0.20.\", DeprecationWarning)\n",
      "/Users/arindam/anaconda2/lib/python2.7/site-packages/sklearn/grid_search.py:42: DeprecationWarning: This module was deprecated in version 0.18 in favor of the model_selection module into which all the refactored classes and functions are moved. This module will be removed in 0.20.\n",
      "  DeprecationWarning)\n"
     ]
    }
   ],
   "source": [
    "from ml_util import *"
   ]
  },
  {
   "cell_type": "code",
   "execution_count": 2,
   "metadata": {},
   "outputs": [],
   "source": [
    "maccsCount = loadNumpy('maccsCount')"
   ]
  },
  {
   "cell_type": "code",
   "execution_count": 3,
   "metadata": {},
   "outputs": [
    {
     "data": {
      "text/plain": [
       "344"
      ]
     },
     "execution_count": 3,
     "metadata": {},
     "output_type": "execute_result"
    }
   ],
   "source": [
    "len(maccsCount)"
   ]
  },
  {
   "cell_type": "code",
   "execution_count": 3,
   "metadata": {
    "collapsed": true
   },
   "outputs": [],
   "source": [
    "import feather as f"
   ]
  },
  {
   "cell_type": "code",
   "execution_count": 4,
   "metadata": {
    "collapsed": true
   },
   "outputs": [],
   "source": [
    "from IPython.display import Image\n",
    "\n",
    "import pandas as pd\n",
    "from pandas import DataFrame\n",
    "from math import isnan\n",
    "import numpy,pickle\n",
    "from numpy import load, save,append, array,percentile,hstack,mean,abs\n",
    "from sklearn.model_selection import cross_val_predict, ParameterGrid\n",
    "from sklearn.preprocessing import StandardScaler, normalize, scale\n",
    "from sklearn.utils import shuffle\n",
    "from sklearn.decomposition import TruncatedSVD as SVD\n",
    "from sklearn.decomposition import PCA, NMF\n",
    "from sklearn.decomposition import RandomizedPCA as RCA\n",
    "from sklearn.decomposition import KernelPCA as KCA\n",
    "\n",
    "\n",
    "import matplotlib.pyplot as plt\n",
    "import seaborn as sns\n",
    "from scipy.spatial.distance import dice,hamming,jaccard,kulsinski,matching,yule,rogerstanimoto\n",
    "from scipy import stats\n",
    "from scipy.stats import pointbiserialr as pointbiserial\n",
    "from scipy.io import savemat"
   ]
  },
  {
   "cell_type": "code",
   "execution_count": 5,
   "metadata": {
    "collapsed": true
   },
   "outputs": [],
   "source": [
    "from rdkit import Chem, DataStructs\n",
    "from rdkit.Chem import AllChem,MACCSkeys,AtomPairs\n",
    "from rdkit.Chem.Fingerprints import FingerprintMols\n",
    "from rdkit.Chem.AtomPairs import Pairs,Torsions\n",
    "from rdkit.Chem.AtomPairs.Torsions import GetTopologicalTorsionFingerprintAsIntVect as TopologicalTorsionFingerPrint\n",
    "from rdkit.Chem.Draw import IPythonConsole, SimilarityMaps\n",
    "from rdkit.Chem.AtomPairs.Pairs import ExplainPairScore as ExplainAtomPairScore\n"
   ]
  },
  {
   "cell_type": "markdown",
   "metadata": {},
   "source": [
    "### Parameters for Grid Search"
   ]
  },
  {
   "cell_type": "code",
   "execution_count": 6,
   "metadata": {
    "collapsed": true
   },
   "outputs": [],
   "source": [
    "params = {\"randomForest\":{'min_samples_split':[5, 10, 15, 20], 'n_estimators':[100, 200], 'max_features':[0.25, 0.33], 'max_depth':[10 ,25], 'n_jobs':[-1]},\n",
    "\t\"extraTrees\":{'n_estimators':[2,3],'n_jobs':[-1]},\n",
    "\t\"rbfSVM\":{'gamma': [1e-3, 1e-4],\n",
    "\t                     'C': [1, 10, 100, 1000]},\n",
    "\t\"linearSVM\":{'C': [1, 10, 100, 1000]},\n",
    "\t\"ridge\":{'alpha':[0.001],'fit_intercept':[True,False],'normalize':[True],'solver':['svd'],'tol':[0.0001]},\n",
    "\t\"dummy\":{'strategy':['mean','median']},\n",
    "\t\"LinearRegression\":{'fit_intercept':[True,False],'normalize':[True,False]},\t\"NNGarrotteRegression\":{},\"KernelRegression\":{},\n",
    "\t\"KernelRidge\":{'alpha':[1,10]},\n",
    "\t\"AdaBoost\":{},\"Bagging\":{},\n",
    "\t'SGDRegression': {'penalty':['l1','l2','elasticnet',None],'l1_ratio':[0.01,0.10,0.20,0.80]},\n",
    "\t\"KNeighborsRegression\":{'n_neighbors':[2,5,10],'weights':['uniform','distance'],'algorithm':['auto', 'ball_tree', 'kd_tree', 'brute']},\n",
    "\t\"MultiLasso\":{'alpha':[0.01,0.1,1.0,10.0]},\n",
    "\t\"lasso\":{'alpha':[0.01,0.1,1.0,10.0]},\n",
    "\t\"DecisionTree\":{'max_depth':[5,8,11]},\n",
    "\t\"MultiElasticNet\":{'alpha':[0.5,1,2],'l1_ratio':[0,0.5,1.0],'normalize':[True,False],'warm_start':[True,False]}}"
   ]
  },
  {
   "cell_type": "markdown",
   "metadata": {},
   "source": [
    "### <font color=\"purple\"> Utility Functions </font>"
   ]
  },
  {
   "cell_type": "markdown",
   "metadata": {},
   "source": [
    "### Functions for generating Correlation Matrices/Plots"
   ]
  },
  {
   "cell_type": "code",
   "execution_count": 8,
   "metadata": {
    "collapsed": true
   },
   "outputs": [],
   "source": [
    "def correlationMask(X,Y,topIndices):\n",
    "    length = len(X)\n",
    "    d = []\n",
    "    for i in range(length):\n",
    "        d+= [append(X[i][topIndices],Y[i]).tolist()]\n",
    "    df = pd.DataFrame(d)\n",
    "    correlation = df.corr()\n",
    "\n",
    "    # Generate a mask for the upper triangle\n",
    "    mask = numpy.zeros_like(correlation, dtype=numpy.bool)\n",
    "    mask[numpy.triu_indices_from(mask)] = True\n",
    "    \n",
    "    return correlation, mask\n",
    "\n",
    "def correlationPlot(correlation,mask):\n",
    "    # Set up the matplotlib figure\n",
    "    f, ax = plt.subplots(figsize=(8, 6))\n",
    "\n",
    "    # Generate a custom diverging colormap\n",
    "    cmap = sns.diverging_palette(220, 10, as_cmap=True)\n",
    "\n",
    "    # Draw the heatmap with the mask and correct aspect ratio\n",
    "    sns.heatmap(correlation, mask=mask, cmap=cmap, vmax=.3, center=0,\n",
    "                square=True, linewidths=.5, cbar_kws={\"shrink\": .5})"
   ]
  },
  {
   "cell_type": "markdown",
   "metadata": {},
   "source": [
    "### <font color=\"red\"> Learning Function Preparation </font>"
   ]
  },
  {
   "cell_type": "code",
   "execution_count": 9,
   "metadata": {
    "collapsed": true
   },
   "outputs": [],
   "source": [
    "from sklearn.metrics import r2_score\n",
    "from sklearn.metrics import mean_absolute_error as mae\n",
    "from sklearn.metrics import mean_squared_error as mse\n",
    "from paulRegressor import * \n",
    "\n",
    "def mean_absolute_percentage_error(y_true, y_pred):\n",
    "\ty_true = check_arrays(y_true)\n",
    "\ty_pred = check_arrays(y_pred)\n",
    "\n",
    "\treturn mean(abs((y_true - y_pred) / y_true)) * 100\n",
    "\n",
    "def mape(y_true,y_pred):\n",
    "    return mean_absolute_percentage_error(y_true,y_pred)\n",
    "\n",
    "def getEstimator(regressor):\n",
    "\n",
    "\tif \"lasso\" in regressor or \"Lasso\" in regressor:\n",
    "\t\testimator = Lasso(alpha = 0.1)#RandomForestRegressor(random_state=0, n_estimators=100)\\\n",
    "\telif \"MultiLasso\" in regressor:\n",
    "\t\testimator = MultiLasso()\n",
    "\telif \"ridge\" in regressor or \"Ridge\" in regressor:\n",
    "\t\testimator = Ridge()#(alphas=[0.1, 1.0, 10.0])\n",
    "\telif \"SGDRegression\" in regressor:\n",
    "\t\testimator = SGDRegressor()\n",
    "\telif \"NNGarrotteRegression\" in regressor:\n",
    "\t\testimator = NNGarrotteRegressor()\n",
    "\telif \"KernelRegression\" in regressor:\n",
    "\t\testimator = KernelRegressor()\n",
    "\telif \"LinearRegression\" in regressor:\n",
    "\t\testimator = LinearRegression()\n",
    "\telif \"KNeighborsRegression\" in regressor:\n",
    "\t\testimator = KNeighborsRegressor()\n",
    "\telif \"randomForest\" in regressor or \"RandomForest\" in regressor:\n",
    "\t\testimator = RandomForestRegressor()\n",
    "\telif \"extraTrees\" in regressor or \"ExtraTrees\" in regressor:\n",
    "\t\testimator = ExtraTreesRegressor()\n",
    "\telif \"rbfSVM\" in regressor or \"RBFSVM\" in regressor:\n",
    "\t\testimator = SVR(kernel=\"rbf\")\n",
    "\telif \"linearSVM\" in regressor or \"LinearSVM\" in regressor:\n",
    "\t\testimator = SVR(kernel=\"linear\")\n",
    "\telif \"polySVM\" in regressor or \"PolySVM\" in regressor:\n",
    "\t\testimator = polySVR()\n",
    "\telif \"ElasticNet\" in regressor:\n",
    "\t\testimator = ElasticNet()\n",
    "\telif \"MultiElasticNet\" in regressor:\n",
    "\t\testimator = MultiElasticNet()\n",
    "\telif \"gradientBoost\" in regressor or \"GradientBoost\" in regressor:\n",
    "\t\testimator = gradientBoost()\n",
    "\telif \"AdaBoost\" in regressor:\n",
    "\t\testimator = AdaBoostRegressor()\n",
    "\telif \"Bagging\" in regressor:\n",
    "\t\testimator = BaggingRegressor()\n",
    "\telif \"DecisionTree\" in regressor:\n",
    "\t\testimator = DecisionTreeRegressor()\n",
    "\telif \"dummy\" in regressor:\n",
    "\t\testimator = DummyRegressor()\n",
    "\n",
    "\treturn estimator\n",
    "    "
   ]
  },
  {
   "cell_type": "code",
   "execution_count": 10,
   "metadata": {
    "collapsed": true
   },
   "outputs": [],
   "source": [
    "forest = RandomForestRegressor(n_jobs=-1)"
   ]
  },
  {
   "cell_type": "code",
   "execution_count": 11,
   "metadata": {
    "collapsed": true
   },
   "outputs": [],
   "source": [
    "def runReduction(X,algo='SVD',n_components=20,toFit=True):\n",
    "    if algo == 'SVD' or algo=='svd': \n",
    "        model = SVD(n_components=n_components, n_iter=7, random_state=42)\n",
    "    elif algo == 'PCA' or algo=='pca':\n",
    "        model = PCA(n_components=n_components)\n",
    "    elif algo == 'RCA' or algo=='rca':\n",
    "        model = RCA(n_components=n_components)\n",
    "    elif algo == 'KCA' or algo=='kca':\n",
    "        model = KCA(n_components=n_components,n_jobs=-1)\n",
    "    if toFit:\n",
    "        return model.fit_transform(X) \n",
    "    else:\n",
    "        model.fit(X) \n",
    "        return model.explained_variance_ratio_.sum()\n",
    "    \n",
    "def getScore(X,y,estimator=forest, CV=10,metric='all'):\n",
    "    predicted = cross_val_predict(estimator, X, y, cv=CV)\n",
    "    if metric=='r2':\n",
    "        return r2_score(y, predicted)\n",
    "    elif metric=='mse':\n",
    "        return mse(y, predicted)\n",
    "    elif metric=='mae':\n",
    "        return mae(y, predicted)\n",
    "    else:\n",
    "        return r2_score(y, predicted),mse(y, predicted),mae(y, predicted),mape(y,predicted)\n",
    "    \n",
    "def getScoreWithFeatures(X,y,fpType,estimator=forest, CV=10,metric='all'):\n",
    "    predicted = cross_val_predict(estimator, X, y, cv=CV)\n",
    "    if metric=='r2':\n",
    "        return r2_score(y, predicted)\n",
    "    elif metric=='mse':\n",
    "        return mse(y, predicted)\n",
    "    elif metric=='mae':\n",
    "        return mae(y, predicted)\n",
    "    else:\n",
    "        model = estimator.fit(X,y)\n",
    "        features = model.feature_importances_\n",
    "        indices = numpy.argsort(features)[::-1]\n",
    "        saveNumpy(indices, fpType+'BasicCount')\n",
    "        return r2_score(y, predicted),mse(y, predicted),mae(y, predicted),mape(y,predicted)\n",
    "\n",
    "def crossVal_r2(X,y,estimator=forest,CV=10):\n",
    "    predicted = cross_val_predict(estimator, X, y, cv=CV)\n",
    "    return r2_score(y, predicted)"
   ]
  },
  {
   "cell_type": "code",
   "execution_count": 12,
   "metadata": {
    "collapsed": true
   },
   "outputs": [],
   "source": [
    "def GetCircularFingerprint(m):\n",
    "    info={}\n",
    "    fp = AllChem.GetMorganFingerprint(m,2,bitInfo=info)\n",
    "    return info"
   ]
  },
  {
   "cell_type": "markdown",
   "metadata": {},
   "source": [
    "### <font color = \"red\"> Get Count Information </font>"
   ]
  },
  {
   "cell_type": "code",
   "execution_count": 13,
   "metadata": {
    "collapsed": true
   },
   "outputs": [],
   "source": [
    "def getCountInfo(m, fpType):\n",
    "#     m = Chem.MolFromSmiles(formula)\n",
    "    fp = None\n",
    "    if fpType=='AtomPair':\n",
    "        fp = Pairs.GetAtomPairFingerprint(m)\n",
    "        return fp.GetNonzeroElements()\n",
    "    elif fpType=='Morgan' or fpType=='Circular':\n",
    "        fp = AllChem.GetMorganFingerprint(m,2)\n",
    "        return fp.GetNonzeroElements()\n",
    "    elif fpType=='Topological':\n",
    "        fp = Torsions.GetTopologicalTorsionFingerprint(m)\n",
    "        Dict = fp.GetNonzeroElements()\n",
    "        convertedDict = {}\n",
    "        for elem in Dict:\n",
    "            convertedDict[int(elem)] = Dict[elem]\n",
    "        return convertedDict"
   ]
  },
  {
   "cell_type": "markdown",
   "metadata": {},
   "source": [
    "### Extract the keys from the count information "
   ]
  },
  {
   "cell_type": "code",
   "execution_count": 14,
   "metadata": {
    "collapsed": true
   },
   "outputs": [],
   "source": [
    "def getKeys(mol,fpType='AtomPair'):\n",
    "    return getCountInfo(mol,fpType).keys()"
   ]
  },
  {
   "cell_type": "markdown",
   "metadata": {},
   "source": [
    "### Generating the folded fingerprint "
   ]
  },
  {
   "cell_type": "code",
   "execution_count": 15,
   "metadata": {
    "collapsed": true
   },
   "outputs": [],
   "source": [
    "def generateFoldedFingerprint(mols,fpType='AtomPair'):\n",
    "    fpKeys,unfoldedFP = [],[]\n",
    "    for mol in mols:\n",
    "        fpKeys += getKeys(mol,fpType)\n",
    "    fpKeys = list(set(fpKeys))\n",
    "    \n",
    "    ## Iterating over each molecule \n",
    "    for mol in mols:\n",
    "        fpDict = getCountInfo(mol,fpType)\n",
    "        keys = fpDict.keys()\n",
    "        x = list(set(fpKeys)-set(keys))\n",
    "        y = [0]*len(x)\n",
    "        dictionary = dict(zip(x,y))\n",
    "        dictionary.update(fpDict)\n",
    "        List = []\n",
    "        for attribute in fpKeys:\n",
    "            List += [dictionary[attribute]]\n",
    "        unfoldedFP += [List]\n",
    "    saveData(fpKeys,fpType+'Positions')\n",
    "    saveData(unfoldedFP,fpType+'FoldedCount')   \n",
    "    return unfoldedFP"
   ]
  },
  {
   "cell_type": "markdown",
   "metadata": {},
   "source": [
    "### Finding the submolecule for the information bit"
   ]
  },
  {
   "cell_type": "code",
   "execution_count": 16,
   "metadata": {
    "collapsed": true
   },
   "outputs": [],
   "source": [
    "def getSubMoleculeMorgan(m, atom,radius):\n",
    "    env = Chem.FindAtomEnvironmentOfRadiusN(m,radius,atom)\n",
    "    amap={}\n",
    "    submol=Chem.PathToSubmol(m,env,atomMap=amap)\n",
    "    Chem.MolToSmiles(submol)"
   ]
  },
  {
   "cell_type": "code",
   "execution_count": 17,
   "metadata": {
    "collapsed": true
   },
   "outputs": [],
   "source": [
    "mols = loadNumpy('mols')"
   ]
  },
  {
   "cell_type": "markdown",
   "metadata": {},
   "source": [
    "#### <font color=\"red\"> An example molecule </font>"
   ]
  },
  {
   "cell_type": "code",
   "execution_count": 40,
   "metadata": {},
   "outputs": [
    {
     "data": {
      "image/png": "[encoded data removed]",
      "text/plain": [
       "<rdkit.Chem.rdchem.Mol at 0x10f5e30a8>"
      ]
     },
     "execution_count": 40,
     "metadata": {},
     "output_type": "execute_result"
    }
   ],
   "source": [
    "mols[-1]"
   ]
  },
  {
   "cell_type": "code",
   "execution_count": 41,
   "metadata": {},
   "outputs": [
    {
     "data": {
      "image/png": "[encoded data removed]",
      "text/plain": [
       "<rdkit.Chem.rdchem.Mol at 0x10f485e10>"
      ]
     },
     "execution_count": 41,
     "metadata": {},
     "output_type": "execute_result"
    }
   ],
   "source": [
    "mols[0]    "
   ]
  },
  {
   "cell_type": "code",
   "execution_count": 42,
   "metadata": {},
   "outputs": [
    {
     "data": {
      "image/png": "[encoded data removed]",
      "text/plain": [
       "<rdkit.Chem.rdchem.Mol at 0x10f48ef18>"
      ]
     },
     "execution_count": 42,
     "metadata": {},
     "output_type": "execute_result"
    }
   ],
   "source": [
    "mols[1]    "
   ]
  },
  {
   "cell_type": "markdown",
   "metadata": {},
   "source": [
    "### CircularFingerprint with Information about the Bits"
   ]
  },
  {
   "cell_type": "code",
   "execution_count": 43,
   "metadata": {
    "collapsed": true
   },
   "outputs": [],
   "source": [
    "List = []\n",
    "for mol in mols:\n",
    "    List += [GetCircularFingerprint(mol)]"
   ]
  },
  {
   "cell_type": "code",
   "execution_count": 44,
   "metadata": {},
   "outputs": [
    {
     "name": "stdout",
     "output_type": "stream",
     "text": [
      "circularFingerprintWithInfo saved successfully in .\n"
     ]
    }
   ],
   "source": [
    "saveNumpy(List, 'circularFingerprintWithInfo')"
   ]
  },
  {
   "cell_type": "markdown",
   "metadata": {},
   "source": [
    "### <font color=\"blue\"> Folding of the Unfolded Fingerprints </font>"
   ]
  },
  {
   "cell_type": "code",
   "execution_count": 46,
   "metadata": {
    "collapsed": true
   },
   "outputs": [],
   "source": [
    "ap = generateFoldedFingerprint(mols,'AtomPair')"
   ]
  },
  {
   "cell_type": "code",
   "execution_count": 48,
   "metadata": {
    "collapsed": true
   },
   "outputs": [],
   "source": [
    "topo = generateFoldedFingerprint(mols,'Topological')\n",
    "morgan = generateFoldedFingerprint(mols,'Morgan')"
   ]
  },
  {
   "cell_type": "code",
   "execution_count": 10,
   "metadata": {
    "collapsed": true
   },
   "outputs": [],
   "source": [
    "x = loadNumpy('AtomPairCount')"
   ]
  },
  {
   "cell_type": "code",
   "execution_count": 49,
   "metadata": {},
   "outputs": [
    {
     "name": "stdout",
     "output_type": "stream",
     "text": [
      "AtomPairCount saved successfully in .\n",
      "TopologicalCount saved successfully in .\n",
      "MorganCount saved successfully in .\n"
     ]
    }
   ],
   "source": [
    "saveNumpy(ap,'AtomPairCount')\n",
    "saveNumpy(topo,'TopologicalCount')\n",
    "saveNumpy(morgan,'MorganCount')"
   ]
  },
  {
   "cell_type": "code",
   "execution_count": 16,
   "metadata": {
    "collapsed": true
   },
   "outputs": [],
   "source": [
    "apCount = loadData('AtomPairFoldedCount')\n",
    "apPositions = loadData('AtomPairPositions')"
   ]
  },
  {
   "cell_type": "code",
   "execution_count": 93,
   "metadata": {},
   "outputs": [
    {
     "name": "stdout",
     "output_type": "stream",
     "text": [
      "(('C', 1, 0), 18, ('C', 1, 0))\n",
      "(('C', 2, 1), 22, ('O', 1, 0))\n",
      "(('C', 2, 0), 13, ('O', 2, 0))\n",
      "(('C', 2, 1), 3, ('C', 1, 2))\n",
      "(('C', 2, 1), 23, ('C', 2, 1))\n",
      "(('C', 2, 1), 24, ('N', 1, 2))\n",
      "(('C', 2, 1), 25, ('O', 2, 0))\n",
      "(('C', 1, 0), 15, ('F', 1, 0))\n",
      "(('C', 2, 1), 26, ('C', 2, 1))\n",
      "(('N', 3, 0), 5, ('O', 2, 0))\n",
      "(('C', 1, 0), 19, ('N', 1, 2))\n",
      "(('C', 1, 0), 2, ('C', 2, 0))\n",
      "(('C', 2, 1), 4, ('C', 1, 2))\n",
      "(('C', 2, 1), 28, ('O', 2, 0))\n",
      "(('C', 2, 2), 21, ('N', 1, 2))\n",
      "(('C', 2, 1), 29, ('O', 1, 1))\n",
      "(('C', 2, 2), 4, ('C', 2, 2))\n",
      "(('N', 3, 0), 11, ('O', 1, 0))\n",
      "(('C', 2, 1), 30, ('O', 2, 0))\n",
      "(('N', 3, 0), 6, ('O', 2, 0))\n",
      "(('C', 2, 1), 2, ('O', 2, 1))\n",
      "(('C', 1, 0), 20, ('N', 1, 2))\n",
      "(('C', 1, 0), 3, ('C', 2, 2))\n",
      "(('C', 1, 0), 8, ('O', 1, 0))\n",
      "(('C', 2, 1), 5, ('F', 1, 0))\n",
      "(('C', 3, 1), 1, ('S', 4, 0))\n",
      "(('C', 3, 1), 11, ('S', 2, 1))\n",
      "(('C', 2, 2), 22, ('N', 1, 2))\n",
      "(('C', 3, 1), 2, ('Si', 4, 0))\n",
      "(('C', 2, 2), 5, ('C', 2, 2))\n",
      "(('C', 3, 1), 3, ('C', 2, 2))\n",
      "(('C', 2, 1), 9, ('C', 2, 1))\n",
      "(('C', 3, 1), 4, ('F', 1, 0))\n",
      "(('N', 3, 0), 7, ('O', 2, 0))\n",
      "(('C', 1, 0), 21, ('C', 1, 0))\n",
      "(('C', 3, 1), 5, ('Si', 4, 0))\n",
      "(('O', 1, 0), 19, ('O', 1, 1))\n",
      "(('C', 2, 1), 6, ('N', 1, 2))\n",
      "(('C', 3, 1), 6, ('N', 1, 2))\n",
      "(('C', 2, 1), 27, ('S', 2, 0))\n",
      "(('C', 3, 1), 7, ('C', 3, 1))\n",
      "(('C', 2, 2), 6, ('C', 2, 2))\n",
      "(('C', 3, 1), 8, ('C', 3, 1))\n",
      "(('C', 3, 1), 9, ('N', 3, 1))\n",
      "(('N', 3, 0), 8, ('O', 2, 0))\n",
      "(('C', 1, 0), 22, ('N', 1, 2))\n",
      "(('C', 3, 1), 10, ('N', 3, 1))\n",
      "(('C', 3, 1), 12, ('Si', 4, 0))\n",
      "(('C', 2, 1), 7, ('F', 1, 0))\n",
      "(('C', 3, 1), 11, ('C', 3, 1))\n",
      "(('O', 2, 0), 28, ('O', 1, 1))\n",
      "(('C', 2, 1), 17, ('S', 2, 0))\n",
      "(('C', 3, 1), 12, ('S', 2, 1))\n",
      "(('C', 2, 2), 7, ('O', 2, 0))\n",
      "(('C', 3, 1), 13, ('O', 2, 0))\n",
      "(('C', 3, 1), 14, ('C', 3, 1))\n",
      "(('N', 3, 0), 9, ('O', 2, 0))\n",
      "(('C', 1, 0), 23, ('N', 1, 2))\n",
      "(('C', 3, 1), 15, ('N', 2, 1))\n",
      "(('O', 2, 0), 11, ('O', 2, 1))\n",
      "(('C', 2, 1), 8, ('N', 1, 2))\n",
      "(('C', 3, 1), 16, ('N', 2, 1))\n",
      "(('C', 3, 1), 17, ('F', 1, 0))\n",
      "(('C', 2, 2), 8, ('C', 2, 2))\n",
      "(('C', 3, 1), 18, ('C', 2, 2))\n",
      "(('C', 3, 1), 15, ('C', 3, 1))\n",
      "(('C', 3, 1), 19, ('C', 2, 2))\n",
      "(('N', 3, 0), 10, ('O', 2, 0))\n",
      "(('C', 1, 0), 24, ('N', 1, 2))\n",
      "(('C', 1, 0), 7, ('O', 2, 0))\n",
      "(('O', 1, 0), 22, ('O', 1, 1))\n",
      "(('O', 1, 0), 5, ('S', 2, 1))\n",
      "(('C', 2, 1), 9, ('O', 1, 0))\n",
      "(('C', 3, 1), 21, ('C', 3, 1))\n",
      "(('C', 1, 0), 15, ('C', 3, 0))\n",
      "(('C', 3, 1), 22, ('O', 2, 0))\n",
      "(('C', 2, 2), 9, ('C', 2, 2))\n",
      "(('N', 3, 0), 12, ('O', 1, 0))\n",
      "(('C', 3, 1), 23, ('O', 1, 0))\n",
      "(('C', 3, 1), 24, ('N', 1, 2))\n",
      "(('C', 3, 1), 18, ('N', 1, 2))\n",
      "(('C', 2, 1), 3, ('O', 2, 1))\n",
      "(('C', 1, 0), 25, ('C', 1, 0))\n",
      "(('C', 3, 1), 25, ('O', 1, 1))\n",
      "(('N', 1, 2), 27, ('O', 1, 1))\n",
      "(('F', 1, 0), 4, ('F', 1, 0))\n",
      "(('C', 1, 0), 9, ('O', 1, 0))\n",
      "(('C', 2, 1), 10, ('N', 1, 2))\n",
      "(('C', 3, 1), 26, ('O', 1, 1))\n",
      "(('F', 1, 0), 5, ('F', 1, 0))\n",
      "(('C', 2, 2), 27, ('N', 1, 2))\n",
      "(('C', 3, 1), 27, ('N', 1, 2))\n",
      "(('C', 2, 2), 10, ('O', 2, 0))\n",
      "(('C', 3, 1), 13, ('F', 1, 0))\n",
      "(('C', 3, 1), 28, ('C', 3, 1))\n",
      "(('F', 1, 0), 7, ('F', 1, 0))\n",
      "(('C', 3, 1), 12, ('N', 3, 1))\n",
      "(('C', 4, 0), 10, ('O', 1, 0))\n",
      "(('N', 1, 2), 10, ('O', 2, 1))\n",
      "(('C', 1, 0), 26, ('C', 1, 0))\n",
      "(('C', 3, 1), 30, ('N', 1, 2))\n",
      "(('F', 1, 0), 9, ('S', 2, 1))\n",
      "(('C', 2, 1), 11, ('O', 1, 0))\n",
      "(('F', 1, 0), 10, ('F', 1, 0))\n",
      "(('C', 2, 2), 11, ('C', 2, 2))\n",
      "(('C', 3, 1), 2, ('Se', 2, 1))\n",
      "(('C', 1, 0), 11, ('N', 1, 2))\n",
      "(('C', 1, 0), 22, ('N', 2, 1))\n",
      "(('F', 1, 0), 13, ('S', 2, 1))\n",
      "(('C', 1, 0), 27, ('N', 1, 2))\n",
      "(('C', 1, 0), 10, ('O', 2, 0))\n",
      "(('C', 2, 1), 12, ('O', 1, 0))\n",
      "(('C', 1, 0), 6, ('F', 1, 0))\n",
      "(('F', 1, 0), 15, ('F', 1, 0))\n",
      "(('O', 1, 1), 25, ('S', 2, 1))\n",
      "(('C', 2, 1), 18, ('S', 2, 0))\n",
      "(('C', 2, 2), 12, ('C', 2, 2))\n",
      "(('F', 1, 0), 16, ('S', 2, 1))\n",
      "(('C', 1, 0), 5, ('N', 3, 1))\n",
      "(('C', 3, 1), 17, ('S', 1, 1))\n",
      "(('C', 4, 0), 21, ('O', 1, 0))\n",
      "(('C', 2, 1), 7, ('N', 2, 1))\n",
      "(('C', 1, 0), 28, ('C', 1, 0))\n",
      "(('C', 1, 0), 11, ('C', 2, 2))\n",
      "(('C', 2, 0), 15, ('O', 2, 0))\n",
      "(('C', 2, 1), 13, ('O', 1, 0))\n",
      "(('C', 3, 1), 17, ('O', 1, 0))\n",
      "(('C', 2, 2), 13, ('C', 2, 2))\n",
      "(('F', 1, 0), 21, ('F', 1, 0))\n",
      "(('C', 3, 1), 5, ('C', 2, 2))\n",
      "(('C', 3, 1), 16, ('C', 3, 1))\n",
      "(('C', 1, 0), 6, ('Si', 4, 0))\n",
      "(('N', 3, 0), 15, ('O', 2, 0))\n",
      "(('C', 1, 0), 29, ('C', 1, 0))\n",
      "(('C', 1, 0), 12, ('O', 2, 0))\n",
      "(('O', 1, 0), 10, ('O', 2, 1))\n",
      "(('C', 2, 1), 14, ('N', 1, 2))\n",
      "(('C', 1, 1), 12, ('N', 3, 0))\n",
      "(('C', 3, 1), 28, ('S', 1, 1))\n",
      "(('C', 4, 0), 11, ('C', 2, 2))\n",
      "(('C', 3, 1), 19, ('N', 1, 2))\n",
      "(('C', 2, 1), 4, ('O', 2, 1))\n",
      "(('C', 1, 0), 30, ('C', 1, 0))\n",
      "(('C', 1, 0), 13, ('C', 2, 2))\n",
      "(('C', 1, 0), 10, ('O', 1, 0))\n",
      "(('C', 2, 1), 15, ('C', 1, 2))\n",
      "(('C', 4, 0), 6, ('O', 2, 0))\n",
      "(('C', 2, 2), 15, ('O', 2, 0))\n",
      "(('C', 3, 1), 14, ('F', 1, 0))\n",
      "(('N', 3, 1), 30, ('O', 1, 0))\n",
      "(('C', 1, 0), 20, ('C', 4, 0))\n",
      "(('C', 3, 0), 5, ('S', 2, 1))\n",
      "(('C', 1, 0), 14, ('O', 2, 0))\n",
      "(('C', 2, 1), 16, ('C', 1, 2))\n",
      "(('C', 1, 1), 14, ('N', 3, 0))\n",
      "(('C', 4, 0), 19, ('S', 2, 1))\n",
      "(('C', 2, 2), 16, ('O', 2, 0))\n",
      "(('C', 4, 0), 20, ('F', 1, 0))\n",
      "(('C', 1, 0), 23, ('N', 2, 1))\n",
      "(('C', 1, 0), 15, ('C', 2, 2))\n",
      "(('C', 2, 1), 17, ('N', 1, 2))\n",
      "(('C', 1, 0), 7, ('F', 1, 0))\n",
      "(('C', 1, 0), 4, ('C', 1, 0))\n",
      "(('C', 2, 1), 19, ('S', 2, 0))\n",
      "(('C', 2, 2), 17, ('C', 2, 2))\n",
      "(('C', 2, 1), 8, ('N', 2, 1))\n",
      "(('N', 3, 0), 2, ('N', 3, 0))\n",
      "(('C', 1, 0), 16, ('C', 2, 2))\n",
      "(('O', 1, 0), 14, ('S', 2, 1))\n",
      "(('C', 2, 1), 18, ('N', 1, 2))\n",
      "(('C', 2, 2), 18, ('C', 2, 2))\n",
      "(('C', 1, 1), 23, ('N', 3, 1))\n",
      "(('N', 1, 2), 4, ('N', 1, 2))\n",
      "(('C', 2, 0), 2, ('O', 1, 0))\n",
      "(('C', 1, 0), 17, ('O', 2, 0))\n",
      "(('C', 2, 1), 19, ('N', 1, 2))\n",
      "(('C', 2, 1), 2, ('S', 2, 0))\n",
      "(('C', 2, 2), 19, ('C', 2, 2))\n",
      "(('N', 2, 1), 10, ('N', 1, 2))\n",
      "(('C', 2, 1), 5, ('O', 2, 1))\n",
      "(('N', 3, 0), 4, ('N', 3, 0))\n",
      "(('C', 2, 0), 3, ('F', 1, 0))\n",
      "(('C', 1, 0), 18, ('C', 2, 2))\n",
      "(('C', 1, 0), 1, ('N', 3, 0))\n",
      "(('C', 3, 1), 23, ('F', 1, 0))\n",
      "(('C', 2, 1), 11, ('Si', 4, 0))\n",
      "(('C', 2, 1), 20, ('O', 1, 0))\n",
      "(('C', 2, 1), 3, ('O', 2, 0))\n",
      "(('C', 2, 2), 20, ('O', 2, 0))\n",
      "(('C', 3, 1), 15, ('F', 1, 0))\n",
      "(('C', 2, 1), 12, ('C', 2, 1))\n",
      "(('C', 3, 1), 14, ('N', 3, 1))\n",
      "(('C', 2, 0), 4, ('O', 1, 0))\n",
      "(('C', 1, 0), 19, ('O', 2, 0))\n",
      "(('N', 3, 0), 16, ('O', 2, 0))\n",
      "(('C', 1, 0), 2, ('C', 3, 0))\n",
      "(('C', 1, 0), 24, ('S', 1, 1))\n",
      "(('C', 2, 1), 21, ('F', 1, 0))\n",
      "(('C', 2, 1), 4, ('S', 2, 0))\n",
      "(('C', 4, 0), 20, ('S', 2, 1))\n",
      "(('C', 2, 2), 21, ('C', 2, 2))\n",
      "(('C', 1, 0), 21, ('S', 2, 0))\n",
      "(('C', 1, 0), 13, ('N', 1, 2))\n",
      "(('C', 2, 0), 5, ('O', 1, 0))\n",
      "(('C', 1, 0), 20, ('O', 2, 0))\n",
      "(('C', 1, 0), 3, ('C', 3, 0))\n",
      "(('C', 2, 1), 22, ('N', 1, 2))\n",
      "(('C', 1, 0), 8, ('F', 1, 0))\n",
      "(('C', 2, 1), 5, ('S', 2, 0))\n",
      "(('C', 1, 0), 29, ('C', 2, 2))\n",
      "(('C', 2, 1), 20, ('S', 2, 0))\n",
      "(('C', 2, 2), 22, ('O', 2, 0))\n",
      "(('C', 2, 2), 5, ('N', 3, 0))\n",
      "(('C', 1, 0), 7, ('N', 3, 1))\n",
      "(('C', 3, 0), 1, ('C', 3, 1))\n",
      "(('C', 4, 0), 7, ('C', 4, 0))\n",
      "(('C', 2, 0), 6, ('O', 1, 0))\n",
      "(('C', 1, 0), 21, ('C', 2, 2))\n",
      "(('C', 1, 0), 10, ('N', 1, 2))\n",
      "(('O', 2, 0), 4, ('O', 1, 1))\n",
      "(('C', 2, 1), 23, ('N', 1, 2))\n",
      "(('C', 2, 1), 6, ('O', 2, 0))\n",
      "(('C', 3, 1), 19, ('O', 1, 0))\n",
      "(('C', 2, 2), 23, ('C', 2, 2))\n",
      "(('C', 2, 2), 6, ('N', 3, 0))\n",
      "(('C', 3, 1), 14, ('O', 2, 1))\n",
      "(('C', 3, 1), 7, ('C', 2, 2))\n",
      "(('N', 3, 0), 8, ('N', 3, 0))\n",
      "(('C', 2, 0), 7, ('O', 1, 0))\n",
      "(('C', 1, 0), 22, ('C', 2, 2))\n",
      "(('C', 1, 0), 5, ('C', 3, 0))\n",
      "(('O', 2, 0), 5, ('O', 1, 1))\n",
      "(('C', 2, 1), 24, ('O', 1, 0))\n",
      "(('C', 2, 1), 7, ('O', 2, 0))\n",
      "(('C', 2, 2), 7, ('N', 3, 0))\n",
      "(('N', 1, 2), 4, ('O', 1, 1))\n",
      "(('C', 4, 0), 13, ('C', 2, 2))\n",
      "(('C', 2, 1), 6, ('O', 2, 1))\n",
      "(('C', 2, 0), 8, ('N', 1, 2))\n",
      "(('C', 1, 0), 23, ('O', 2, 0))\n",
      "(('C', 1, 0), 6, ('N', 3, 0))\n",
      "(('C', 2, 0), 8, ('C', 2, 2))\n",
      "(('C', 2, 1), 25, ('N', 1, 2))\n",
      "(('C', 2, 1), 8, ('S', 2, 0))\n",
      "(('C', 2, 2), 25, ('C', 2, 2))\n",
      "(('C', 3, 1), 16, ('F', 1, 0))\n",
      "(('O', 2, 0), 18, ('S', 1, 1))\n",
      "(('C', 2, 1), 13, ('C', 2, 1))\n",
      "(('C', 3, 1), 15, ('N', 3, 1))\n",
      "(('N', 3, 0), 10, ('N', 3, 0))\n",
      "(('C', 2, 0), 9, ('N', 1, 2))\n",
      "(('C', 1, 0), 24, ('O', 2, 0))\n",
      "(('C', 1, 0), 7, ('N', 3, 0))\n",
      "(('C', 2, 1), 26, ('N', 1, 2))\n",
      "(('C', 3, 1), 9, ('S', 4, 0))\n",
      "(('C', 2, 1), 9, ('C', 2, 2))\n",
      "(('O', 2, 1), 7, ('O', 2, 1))\n",
      "(('C', 2, 2), 26, ('C', 2, 2))\n",
      "(('C', 2, 2), 9, ('N', 3, 0))\n",
      "(('C', 1, 0), 14, ('N', 1, 2))\n",
      "(('C', 1, 0), 5, ('F', 1, 0))\n",
      "(('N', 3, 0), 11, ('N', 3, 0))\n",
      "(('C', 2, 0), 10, ('N', 1, 2))\n",
      "(('C', 1, 0), 25, ('O', 2, 0))\n",
      "(('C', 1, 0), 8, ('N', 3, 0))\n",
      "(('O', 2, 0), 8, ('O', 1, 1))\n",
      "(('C', 2, 1), 27, ('N', 1, 2))\n",
      "(('C', 1, 0), 9, ('F', 1, 0))\n",
      "(('C', 2, 1), 10, ('O', 2, 0))\n",
      "(('C', 2, 2), 14, ('O', 1, 0))\n",
      "(('C', 2, 1), 21, ('S', 2, 0))\n",
      "(('C', 2, 2), 10, ('N', 3, 0))\n",
      "(('C', 1, 0), 8, ('N', 3, 1))\n",
      "(('N', 1, 2), 7, ('O', 1, 1))\n",
      "(('C', 2, 1), 21, ('N', 3, 0))\n",
      "(('C', 2, 0), 11, ('N', 1, 2))\n",
      "(('C', 1, 0), 26, ('O', 2, 0))\n",
      "(('C', 1, 0), 9, ('N', 3, 0))\n",
      "(('O', 2, 0), 9, ('O', 1, 1))\n",
      "(('C', 2, 1), 28, ('N', 1, 2))\n",
      "(('C', 2, 1), 11, ('C', 2, 2))\n",
      "(('C', 3, 1), 20, ('O', 1, 0))\n",
      "(('N', 1, 2), 8, ('O', 1, 1))\n",
      "(('C', 2, 0), 12, ('N', 1, 2))\n",
      "(('C', 1, 0), 27, ('C', 2, 2))\n",
      "(('C', 1, 0), 10, ('N', 3, 0))\n",
      "(('O', 2, 0), 10, ('O', 1, 1))\n",
      "(('C', 2, 1), 29, ('N', 1, 2))\n",
      "(('N', 3, 1), 13, ('S', 4, 0))\n",
      "(('C', 2, 1), 12, ('C', 2, 2))\n",
      "(('C', 2, 2), 29, ('O', 2, 0))\n",
      "(('C', 2, 0), 8, ('C', 3, 0))\n",
      "(('C', 2, 1), 7, ('O', 2, 1))\n",
      "(('C', 2, 0), 13, ('N', 1, 2))\n",
      "(('C', 1, 0), 28, ('O', 2, 0))\n",
      "(('C', 1, 0), 11, ('N', 3, 0))\n",
      "(('C', 1, 0), 13, ('O', 1, 0))\n",
      "(('C', 2, 1), 30, ('N', 1, 2))\n",
      "(('C', 2, 1), 13, ('C', 2, 2))\n",
      "(('C', 4, 0), 9, ('O', 2, 0))\n",
      "(('C', 2, 2), 30, ('C', 2, 2))\n",
      "(('N', 1, 2), 10, ('O', 1, 1))\n",
      "(('C', 1, 0), 13, ('S', 4, 0))\n",
      "(('C', 2, 0), 14, ('O', 2, 0))\n",
      "(('N', 3, 0), 15, ('N', 3, 0))\n",
      "(('C', 2, 0), 14, ('O', 1, 0))\n",
      "(('C', 1, 0), 29, ('O', 2, 0))\n",
      "(('C', 1, 0), 12, ('N', 3, 0))\n",
      "(('C', 3, 1), 10, ('S', 4, 0))\n",
      "(('C', 2, 1), 14, ('S', 2, 0))\n",
      "(('O', 2, 1), 12, ('S', 2, 1))\n",
      "(('C', 2, 2), 14, ('N', 3, 0))\n",
      "(('C', 2, 0), 15, ('O', 1, 0))\n",
      "(('C', 1, 0), 30, ('C', 2, 2))\n",
      "(('C', 3, 1), 17, ('Si', 4, 0))\n",
      "(('O', 2, 0), 13, ('O', 1, 1))\n",
      "(('C', 1, 0), 10, ('F', 1, 0))\n",
      "(('C', 2, 1), 15, ('C', 2, 2))\n",
      "(('N', 3, 0), 8, ('Si', 4, 0))\n",
      "(('C', 3, 1), 16, ('O', 1, 0))\n",
      "(('C', 2, 1), 22, ('S', 2, 0))\n",
      "(('C', 2, 2), 15, ('N', 3, 0))\n",
      "(('C', 1, 0), 9, ('N', 3, 1))\n",
      "(('C', 3, 0), 3, ('C', 3, 1))\n",
      "(('C', 2, 1), 11, ('N', 2, 1))\n",
      "(('C', 2, 1), 22, ('N', 3, 0))\n",
      "(('C', 1, 0), 3, ('S', 4, 0))\n",
      "(('C', 2, 0), 16, ('O', 1, 0))\n",
      "(('C', 1, 0), 14, ('N', 3, 0))\n",
      "(('C', 3, 1), 1, ('F', 1, 0))\n",
      "(('C', 2, 1), 16, ('C', 2, 2))\n",
      "(('C', 2, 2), 16, ('N', 3, 0))\n",
      "(('C', 3, 1), 9, ('C', 2, 2))\n",
      "(('C', 1, 0), 14, ('C', 3, 0))\n",
      "(('N', 1, 2), 7, ('N', 1, 2))\n",
      "(('N', 3, 0), 18, ('N', 3, 0))\n",
      "(('C', 2, 0), 17, ('O', 1, 0))\n",
      "(('C', 3, 1), 7, ('S', 2, 0))\n",
      "(('C', 1, 0), 15, ('N', 3, 0))\n",
      "(('O', 2, 0), 15, ('O', 1, 1))\n",
      "(('C', 3, 1), 2, ('O', 1, 0))\n",
      "(('C', 2, 1), 17, ('C', 2, 2))\n",
      "(('C', 3, 1), 4, ('O', 2, 0))\n",
      "(('N', 3, 0), 17, ('O', 1, 0))\n",
      "(('C', 4, 0), 15, ('C', 2, 2))\n",
      "(('C', 2, 1), 8, ('O', 2, 1))\n",
      "(('C', 2, 0), 18, ('O', 1, 0))\n",
      "(('C', 2, 0), 1, ('C', 2, 0))\n",
      "(('C', 1, 0), 16, ('N', 3, 0))\n",
      "(('O', 2, 0), 16, ('O', 1, 1))\n",
      "(('O', 1, 0), 11, ('O', 1, 1))\n",
      "(('C', 3, 1), 3, ('F', 1, 0))\n",
      "(('C', 2, 1), 18, ('C', 2, 2))\n",
      "(('C', 4, 0), 10, ('O', 2, 0))\n",
      "(('C', 1, 0), 2, ('C', 2, 2))\n",
      "(('C', 3, 1), 18, ('F', 1, 0))\n",
      "(('C', 2, 2), 18, ('N', 3, 0))\n",
      "(('C', 2, 1), 15, ('C', 2, 1))\n",
      "(('C', 3, 1), 17, ('N', 3, 1))\n",
      "(('N', 3, 0), 20, ('N', 3, 0))\n",
      "(('N', 3, 0), 19, ('N', 1, 2))\n",
      "(('C', 2, 0), 2, ('C', 2, 0))\n",
      "(('C', 1, 0), 17, ('N', 3, 0))\n",
      "(('O', 2, 0), 17, ('O', 1, 1))\n",
      "(('C', 3, 1), 4, ('N', 1, 2))\n",
      "(('C', 2, 1), 19, ('C', 2, 2))\n",
      "(('C', 2, 1), 2, ('N', 3, 0))\n",
      "(('C', 1, 1), 19, ('C', 2, 2))\n",
      "(('C', 2, 2), 19, ('N', 3, 0))\n",
      "(('N', 3, 0), 14, ('F', 1, 0))\n",
      "(('C', 1, 0), 16, ('N', 1, 2))\n",
      "(('N', 1, 2), 16, ('O', 1, 1))\n",
      "(('C', 1, 0), 10, ('S', 2, 1))\n",
      "(('C', 2, 0), 3, ('C', 2, 2))\n",
      "(('C', 1, 0), 18, ('N', 3, 0))\n",
      "(('O', 2, 0), 18, ('O', 1, 1))\n",
      "(('C', 1, 0), 1, ('S', 4, 0))\n",
      "(('C', 3, 1), 5, ('N', 1, 2))\n",
      "(('C', 2, 1), 20, ('C', 2, 2))\n",
      "(('C', 2, 1), 3, ('N', 3, 0))\n",
      "(('C', 2, 1), 23, ('S', 2, 0))\n",
      "(('N', 2, 1), 9, ('N', 1, 2))\n",
      "(('C', 3, 0), 15, ('C', 4, 0))\n",
      "(('C', 2, 0), 4, ('C', 2, 0))\n",
      "(('C', 1, 0), 1, ('C', 3, 1))\n",
      "(('C', 1, 0), 2, ('S', 2, 1))\n",
      "(('C', 1, 0), 3, ('Se', 2, 1))\n",
      "(('C', 1, 0), 4, ('O', 1, 1))\n",
      "(('C', 1, 0), 5, ('C', 2, 1))\n",
      "(('C', 1, 0), 6, ('O', 1, 1))\n",
      "(('C', 1, 0), 7, ('O', 1, 1))\n",
      "(('C', 1, 0), 8, ('S', 2, 1))\n",
      "(('C', 1, 0), 9, ('S', 2, 1))\n",
      "(('C', 1, 0), 10, ('C', 3, 1))\n",
      "(('C', 1, 0), 11, ('C', 1, 1))\n",
      "(('C', 1, 0), 12, ('N', 1, 2))\n",
      "(('C', 1, 0), 13, ('F', 1, 0))\n",
      "(('C', 1, 0), 14, ('C', 3, 1))\n",
      "(('C', 1, 0), 15, ('S', 2, 1))\n",
      "(('C', 1, 0), 16, ('C', 2, 1))\n",
      "(('C', 1, 0), 17, ('C', 3, 1))\n",
      "(('C', 1, 0), 18, ('O', 1, 1))\n",
      "(('C', 1, 0), 19, ('C', 1, 0))\n",
      "(('C', 1, 0), 20, ('F', 1, 0))\n",
      "(('C', 1, 0), 21, ('N', 1, 2))\n",
      "(('C', 1, 0), 22, ('O', 1, 1))\n",
      "(('C', 1, 0), 23, ('C', 1, 1))\n",
      "(('C', 1, 0), 24, ('C', 1, 0))\n",
      "(('C', 1, 0), 25, ('S', 2, 1))\n",
      "(('C', 1, 0), 26, ('S', 2, 1))\n",
      "(('C', 1, 0), 27, ('O', 2, 0))\n",
      "(('C', 1, 0), 28, ('C', 2, 1))\n",
      "(('C', 1, 0), 29, ('C', 2, 1))\n",
      "(('C', 1, 0), 30, ('C', 3, 1))\n",
      "(('C', 2, 0), 1, ('N', 3, 0))\n",
      "(('C', 2, 0), 2, ('S', 2, 1))\n",
      "(('C', 2, 0), 3, ('S', 2, 0))\n",
      "(('C', 2, 0), 4, ('C', 2, 1))\n",
      "(('C', 2, 0), 5, ('C', 3, 1))\n",
      "(('C', 2, 0), 6, ('C', 2, 1))\n",
      "(('C', 2, 0), 7, ('C', 3, 1))\n",
      "(('C', 2, 0), 8, ('C', 2, 1))\n",
      "(('C', 2, 0), 9, ('O', 2, 0))\n",
      "(('C', 2, 0), 10, ('S', 2, 1))\n",
      "(('C', 2, 0), 11, ('C', 2, 1))\n",
      "(('C', 2, 0), 12, ('N', 3, 0))\n",
      "(('C', 2, 0), 13, ('C', 2, 1))\n",
      "(('C', 2, 0), 14, ('C', 2, 1))\n",
      "(('C', 2, 0), 15, ('C', 2, 1))\n",
      "(('C', 2, 0), 16, ('C', 3, 1))\n",
      "(('C', 2, 0), 17, ('C', 2, 1))\n",
      "(('C', 2, 0), 18, ('C', 1, 1))\n",
      "(('C', 2, 0), 19, ('C', 2, 1))\n",
      "(('C', 2, 0), 20, ('S', 2, 1))\n",
      "(('C', 2, 0), 21, ('S', 2, 1))\n",
      "(('C', 2, 0), 22, ('C', 3, 1))\n",
      "(('C', 2, 0), 23, ('C', 2, 0))\n",
      "(('C', 2, 0), 24, ('C', 2, 0))\n",
      "(('C', 2, 0), 25, ('C', 3, 1))\n",
      "(('N', 3, 0), 7, ('Si', 4, 0))\n",
      "(('C', 2, 0), 6, ('C', 2, 2))\n",
      "(('C', 1, 0), 21, ('N', 3, 0))\n",
      "(('C', 1, 0), 15, ('O', 1, 0))\n",
      "(('C', 3, 1), 8, ('N', 1, 2))\n",
      "(('C', 2, 1), 23, ('C', 2, 2))\n",
      "(('C', 3, 1), 18, ('S', 2, 1))\n",
      "(('C', 2, 1), 6, ('N', 3, 0))\n",
      "(('C', 3, 0), 5, ('C', 3, 1))\n",
      "(('C', 3, 0), 6, ('C', 3, 1))\n",
      "(('C', 3, 0), 7, ('C', 3, 1))\n",
      "(('C', 3, 0), 8, ('C', 2, 1))\n",
      "(('C', 3, 1), 19, ('F', 1, 0))\n",
      "(('C', 3, 0), 10, ('C', 4, 0))\n",
      "(('C', 3, 0), 11, ('C', 4, 0))\n",
      "(('C', 3, 0), 12, ('C', 2, 1))\n",
      "(('C', 3, 0), 13, ('C', 2, 1))\n",
      "(('C', 3, 0), 14, ('C', 2, 1))\n",
      "(('C', 3, 0), 15, ('C', 2, 1))\n",
      "(('C', 3, 0), 16, ('C', 2, 1))\n",
      "(('C', 3, 0), 17, ('C', 2, 1))\n",
      "(('C', 3, 0), 18, ('C', 2, 1))\n",
      "(('C', 3, 1), 18, ('N', 3, 1))\n",
      "(('C', 1, 0), 22, ('C', 1, 0))\n",
      "(('C', 2, 0), 7, ('C', 2, 2))\n",
      "(('O', 2, 0), 22, ('O', 1, 1))\n",
      "(('C', 1, 0), 5, ('C', 4, 0))\n",
      "(('O', 2, 0), 5, ('O', 2, 1))\n",
      "(('C', 3, 1), 9, ('N', 1, 2))\n",
      "(('C', 2, 1), 24, ('O', 2, 0))\n",
      "(('C', 4, 0), 1, ('C', 3, 1))\n",
      "(('C', 2, 1), 7, ('N', 3, 0))\n",
      "(('C', 4, 0), 3, ('S', 2, 1))\n",
      "(('C', 4, 0), 4, ('C', 3, 1))\n",
      "(('C', 4, 0), 5, ('S', 2, 1))\n",
      "(('C', 4, 0), 6, ('S', 2, 1))\n",
      "(('C', 4, 0), 7, ('C', 3, 1))\n",
      "(('C', 4, 0), 8, ('S', 2, 1))\n",
      "(('C', 4, 0), 9, ('C', 3, 1))\n",
      "(('C', 4, 0), 10, ('C', 2, 1))\n",
      "(('C', 4, 0), 11, ('O', 1, 1))\n",
      "(('C', 4, 0), 12, ('C', 2, 1))\n",
      "(('C', 4, 0), 13, ('C', 2, 1))\n",
      "(('C', 4, 0), 14, ('C', 3, 1))\n",
      "(('C', 4, 0), 15, ('C', 2, 1))\n",
      "(('C', 4, 0), 16, ('C', 2, 1))\n",
      "(('C', 4, 0), 17, ('S', 2, 1))\n",
      "(('C', 4, 0), 18, ('S', 2, 1))\n",
      "(('C', 4, 0), 19, ('C', 2, 2))\n",
      "(('C', 4, 0), 20, ('O', 1, 1))\n",
      "(('C', 4, 0), 21, ('C', 2, 1))\n",
      "(('C', 4, 0), 22, ('C', 2, 1))\n",
      "(('C', 4, 0), 23, ('S', 2, 1))\n",
      "(('C', 4, 0), 24, ('C', 2, 1))\n",
      "(('N', 2, 1), 9, ('Si', 4, 0))\n",
      "(('O', 2, 0), 23, ('O', 1, 1))\n",
      "(('C', 1, 0), 6, ('C', 4, 0))\n",
      "(('C', 3, 1), 10, ('O', 1, 0))\n",
      "(('C', 2, 1), 25, ('C', 2, 2))\n",
      "(('C', 2, 1), 8, ('N', 3, 0))\n",
      "(('C', 2, 1), 24, ('S', 2, 0))\n",
      "(('C', 1, 0), 11, ('N', 3, 1))\n",
      "(('N', 1, 2), 22, ('O', 1, 1))\n",
      "(('N', 1, 2), 5, ('O', 2, 1))\n",
      "(('C', 2, 1), 13, ('N', 2, 1))\n",
      "(('N', 3, 0), 10, ('Si', 4, 0))\n",
      "(('C', 2, 0), 9, ('C', 2, 2))\n",
      "(('C', 1, 0), 24, ('N', 3, 0))\n",
      "(('C', 1, 0), 7, ('Si', 4, 0))\n",
      "(('N', 3, 0), 14, ('N', 2, 1))\n",
      "(('C', 3, 1), 11, ('N', 1, 2))\n",
      "(('C', 2, 1), 26, ('O', 2, 0))\n",
      "(('C', 2, 1), 9, ('N', 3, 0))\n",
      "(('C', 3, 1), 17, ('S', 2, 0))\n",
      "(('C', 2, 2), 9, ('Si', 4, 0))\n",
      "(('C', 1, 2), 1, ('C', 2, 2))\n",
      "(('N', 3, 0), 11, ('Si', 4, 0))\n",
      "(('C', 2, 0), 10, ('C', 2, 2))\n",
      "(('C', 4, 0), 16, ('O', 2, 0))\n",
      "(('C', 1, 0), 8, ('Si', 4, 0))\n",
      "(('C', 3, 1), 12, ('C', 1, 2))\n",
      "(('C', 2, 1), 27, ('C', 2, 2))\n",
      "(('C', 3, 1), 6, ('O', 2, 0))\n",
      "(('C', 2, 1), 10, ('N', 3, 0))\n",
      "(('C', 1, 2), 5, ('O', 2, 0))\n",
      "(('N', 3, 0), 19, ('O', 1, 0))\n",
      "(('C', 2, 2), 10, ('Si', 4, 0))\n",
      "(('C', 1, 2), 6, ('S', 2, 1))\n",
      "(('C', 4, 0), 17, ('C', 2, 2))\n",
      "(('C', 2, 1), 10, ('O', 2, 1))\n",
      "(('C', 1, 2), 8, ('C', 2, 2))\n",
      "(('C', 2, 0), 11, ('C', 2, 2))\n",
      "(('C', 1, 0), 9, ('Si', 4, 0))\n",
      "(('C', 3, 1), 13, ('O', 1, 0))\n",
      "(('C', 2, 1), 28, ('C', 2, 2))\n",
      "(('C', 2, 1), 11, ('N', 3, 0))\n",
      "(('C', 4, 0), 12, ('O', 2, 0))\n",
      "(('C', 1, 0), 4, ('C', 2, 2))\n",
      "(('C', 1, 0), 15, ('C', 3, 1))\n",
      "(('C', 1, 2), 11, ('S', 2, 1))\n",
      "(('C', 2, 1), 17, ('C', 2, 1))\n",
      "(('C', 3, 1), 19, ('N', 3, 1))\n",
      "(('C', 1, 2), 13, ('S', 2, 1))\n",
      "(('C', 2, 0), 12, ('C', 2, 2))\n",
      "(('O', 2, 0), 27, ('O', 1, 1))\n",
      "(('C', 1, 0), 10, ('Si', 4, 0))\n",
      "(('C', 3, 1), 13, ('S', 4, 0))\n",
      "(('C', 2, 1), 29, ('O', 2, 0))\n",
      "(('C', 2, 1), 12, ('N', 3, 0))\n",
      "(('C', 1, 1), 1, ('C', 2, 1))\n",
      "(('C', 1, 1), 2, ('C', 3, 1))\n",
      "(('C', 1, 1), 3, ('C', 2, 1))\n",
      "(('C', 1, 1), 4, ('C', 3, 1))\n",
      "(('C', 1, 1), 5, ('C', 3, 1))\n",
      "(('C', 1, 1), 6, ('N', 3, 0))\n",
      "(('C', 1, 1), 7, ('C', 3, 1))\n",
      "(('C', 1, 1), 8, ('C', 2, 1))\n",
      "(('C', 1, 1), 9, ('C', 2, 1))\n",
      "(('C', 1, 1), 10, ('O', 2, 0))\n",
      "(('C', 1, 1), 11, ('C', 3, 1))\n",
      "(('C', 1, 1), 12, ('S', 2, 1))\n",
      "(('C', 1, 0), 12, ('S', 2, 1))\n",
      "(('C', 1, 1), 14, ('C', 2, 1))\n",
      "(('C', 1, 1), 15, ('S', 2, 1))\n",
      "(('C', 1, 1), 16, ('C', 3, 1))\n",
      "(('C', 1, 1), 17, ('C', 3, 1))\n",
      "(('C', 1, 1), 18, ('S', 2, 1))\n",
      "(('C', 1, 1), 19, ('C', 2, 1))\n",
      "(('C', 1, 1), 20, ('C', 3, 1))\n",
      "(('C', 1, 1), 21, ('S', 2, 1))\n",
      "(('C', 1, 1), 22, ('C', 2, 1))\n",
      "(('C', 1, 1), 23, ('C', 3, 1))\n",
      "(('C', 1, 1), 24, ('S', 2, 1))\n",
      "(('C', 1, 1), 25, ('C', 2, 1))\n",
      "(('C', 1, 0), 12, ('N', 3, 1))\n",
      "(('C', 2, 1), 1, ('S', 2, 1))\n",
      "(('C', 2, 1), 2, ('C', 2, 1))\n",
      "(('C', 2, 1), 3, ('O', 1, 1))\n",
      "(('C', 2, 1), 4, ('O', 1, 1))\n",
      "(('C', 2, 1), 5, ('N', 2, 1))\n",
      "(('C', 2, 1), 6, ('O', 1, 0))\n",
      "(('C', 2, 1), 7, ('O', 1, 1))\n",
      "(('C', 2, 1), 8, ('C', 2, 2))\n",
      "(('C', 2, 1), 9, ('F', 1, 0))\n",
      "(('C', 2, 1), 10, ('O', 1, 1))\n",
      "(('C', 2, 1), 11, ('F', 1, 0))\n",
      "(('C', 2, 1), 12, ('O', 1, 1))\n",
      "(('C', 2, 1), 13, ('C', 1, 2))\n",
      "(('C', 2, 1), 14, ('F', 1, 0))\n",
      "(('C', 2, 1), 15, ('O', 2, 0))\n",
      "(('C', 2, 1), 16, ('N', 3, 0))\n",
      "(('C', 2, 1), 17, ('F', 1, 0))\n",
      "(('C', 2, 1), 18, ('O', 2, 0))\n",
      "(('C', 2, 1), 19, ('N', 2, 1))\n",
      "(('C', 2, 1), 20, ('O', 1, 1))\n",
      "(('C', 2, 1), 21, ('O', 1, 1))\n",
      "(('C', 2, 1), 22, ('C', 2, 1))\n",
      "(('C', 2, 1), 23, ('C', 3, 1))\n",
      "(('C', 2, 1), 24, ('C', 3, 1))\n",
      "(('C', 2, 1), 25, ('C', 2, 1))\n",
      "(('C', 2, 1), 26, ('C', 2, 2))\n",
      "(('C', 2, 1), 27, ('C', 2, 1))\n",
      "(('C', 2, 1), 28, ('O', 1, 1))\n",
      "(('C', 2, 1), 29, ('C', 2, 1))\n",
      "(('C', 2, 1), 30, ('S', 2, 1))\n",
      "(('C', 3, 1), 12, ('C', 2, 2))\n",
      "(('C', 3, 1), 1, ('C', 3, 1))\n",
      "(('C', 3, 1), 2, ('N', 3, 0))\n",
      "(('C', 3, 1), 3, ('N', 1, 2))\n",
      "(('C', 3, 1), 4, ('O', 1, 0))\n",
      "(('C', 3, 1), 5, ('N', 3, 0))\n",
      "(('C', 3, 1), 6, ('N', 3, 1))\n",
      "(('C', 3, 1), 7, ('N', 3, 0))\n",
      "(('C', 3, 1), 8, ('N', 3, 1))\n",
      "(('C', 3, 1), 9, ('C', 3, 1))\n",
      "(('C', 3, 1), 10, ('C', 3, 1))\n",
      "(('C', 3, 1), 11, ('S', 4, 0))\n",
      "(('C', 3, 1), 12, ('F', 1, 0))\n",
      "(('C', 3, 1), 13, ('O', 1, 1))\n",
      "(('C', 3, 1), 14, ('N', 2, 1))\n",
      "(('C', 3, 1), 15, ('O', 1, 0))\n",
      "(('C', 3, 1), 16, ('S', 2, 1))\n",
      "(('C', 3, 1), 17, ('N', 1, 2))\n",
      "(('C', 3, 1), 18, ('N', 3, 0))\n",
      "(('C', 3, 1), 19, ('S', 2, 1))\n",
      "(('C', 3, 1), 20, ('C', 3, 1))\n",
      "(('C', 3, 1), 21, ('O', 1, 0))\n",
      "(('C', 3, 1), 22, ('C', 3, 1))\n",
      "(('C', 3, 1), 23, ('O', 1, 1))\n",
      "(('C', 3, 1), 24, ('C', 3, 1))\n",
      "(('C', 3, 1), 25, ('C', 2, 2))\n",
      "(('C', 3, 1), 26, ('C', 3, 1))\n",
      "(('C', 3, 1), 27, ('O', 2, 0))\n",
      "(('C', 3, 1), 28, ('C', 2, 2))\n"
     ]
    },
    {
     "name": "stdout",
     "output_type": "stream",
     "text": [
      "(('C', 3, 1), 29, ('O', 1, 1))\n",
      "(('C', 3, 1), 30, ('O', 2, 0))\n",
      "(('C', 2, 1), 11, ('O', 2, 1))\n",
      "(('C', 2, 2), 1, ('C', 2, 2))\n",
      "(('C', 2, 0), 16, ('O', 2, 0))\n",
      "(('C', 1, 0), 14, ('Si', 4, 0))\n",
      "(('C', 3, 1), 18, ('O', 1, 0))\n",
      "(('C', 3, 1), 1, ('O', 2, 0))\n",
      "(('C', 2, 2), 3, ('O', 1, 1))\n",
      "(('C', 2, 2), 4, ('O', 2, 0))\n",
      "(('C', 2, 1), 7, ('C', 1, 2))\n",
      "(('C', 2, 1), 18, ('C', 2, 1))\n",
      "(('C', 2, 2), 5, ('S', 2, 1))\n",
      "(('C', 2, 2), 6, ('S', 2, 1))\n",
      "(('C', 2, 0), 17, ('O', 2, 0))\n",
      "(('C', 1, 0), 15, ('S', 4, 0))\n",
      "(('C', 2, 2), 7, ('Si', 4, 0))\n",
      "(('C', 3, 1), 2, ('O', 2, 0))\n",
      "(('C', 2, 1), 17, ('N', 3, 0))\n",
      "(('C', 2, 2), 8, ('S', 2, 1))\n",
      "(('C', 2, 2), 9, ('O', 2, 0))\n",
      "(('C', 2, 2), 10, ('O', 1, 1))\n",
      "(('C', 1, 0), 7, ('C', 2, 0))\n",
      "(('C', 2, 2), 11, ('N', 3, 0))\n",
      "(('C', 2, 0), 1, ('C', 3, 0))\n",
      "(('C', 1, 0), 16, ('C', 4, 0))\n",
      "(('C', 3, 1), 20, ('N', 1, 2))\n",
      "(('C', 3, 1), 3, ('O', 2, 0))\n",
      "(('C', 2, 1), 18, ('N', 3, 0))\n",
      "(('C', 2, 2), 13, ('N', 3, 0))\n",
      "(('C', 1, 0), 13, ('N', 3, 1))\n",
      "(('C', 2, 2), 14, ('O', 2, 0))\n",
      "(('C', 2, 1), 4, ('N', 1, 2))\n",
      "(('C', 2, 2), 15, ('C', 2, 2))\n",
      "(('C', 2, 1), 15, ('N', 2, 1))\n",
      "(('C', 2, 2), 16, ('N', 1, 2))\n",
      "(('C', 2, 0), 23, ('O', 2, 0))\n",
      "(('C', 1, 0), 17, ('Si', 4, 0))\n",
      "(('C', 3, 1), 21, ('N', 1, 2))\n",
      "(('C', 3, 1), 4, ('C', 2, 2))\n",
      "(('C', 2, 1), 19, ('N', 3, 0))\n",
      "(('C', 2, 1), 2, ('S', 4, 0))\n",
      "(('C', 3, 1), 25, ('O', 1, 0))\n",
      "(('C', 2, 2), 19, ('N', 3, 1))\n",
      "(('C', 2, 2), 20, ('O', 1, 1))\n",
      "(('C', 2, 2), 21, ('S', 2, 1))\n",
      "(('C', 1, 0), 18, ('C', 4, 0))\n",
      "(('O', 2, 0), 18, ('S', 2, 1))\n",
      "(('C', 3, 1), 22, ('N', 1, 2))\n",
      "(('C', 3, 1), 5, ('S', 2, 0))\n",
      "(('C', 2, 1), 20, ('N', 3, 0))\n",
      "(('C', 2, 1), 3, ('Si', 4, 0))\n",
      "(('C', 2, 2), 23, ('O', 2, 0))\n",
      "(('C', 2, 2), 24, ('C', 2, 2))\n",
      "(('C', 2, 2), 25, ('N', 3, 1))\n",
      "(('C', 2, 1), 12, ('O', 2, 1))\n",
      "(('C', 2, 2), 26, ('O', 1, 0))\n",
      "(('C', 2, 0), 21, ('O', 2, 0))\n",
      "(('C', 1, 0), 19, ('S', 4, 0))\n",
      "(('C', 3, 1), 23, ('N', 1, 2))\n",
      "(('C', 1, 2), 4, ('O', 2, 0))\n",
      "(('C', 3, 1), 6, ('C', 2, 2))\n",
      "(('C', 1, 2), 6, ('C', 2, 2))\n",
      "(('C', 1, 2), 7, ('C', 2, 2))\n",
      "(('C', 2, 1), 4, ('S', 4, 0))\n",
      "(('C', 1, 2), 9, ('S', 2, 1))\n",
      "(('C', 1, 2), 10, ('N', 2, 1))\n",
      "(('C', 1, 2), 11, ('N', 2, 1))\n",
      "(('C', 1, 2), 12, ('N', 2, 1))\n",
      "(('C', 1, 2), 13, ('N', 2, 1))\n",
      "(('C', 2, 2), 29, ('S', 2, 1))\n",
      "(('N', 1, 2), 18, ('S', 2, 1))\n",
      "(('C', 2, 2), 30, ('O', 2, 0))\n",
      "(('C', 1, 0), 1, ('O', 2, 0))\n",
      "(('C', 2, 0), 22, ('C', 2, 0))\n",
      "(('C', 1, 0), 20, ('Si', 4, 0))\n",
      "(('C', 2, 2), 1, ('Si', 4, 0))\n",
      "(('C', 2, 2), 2, ('Si', 4, 0))\n",
      "(('C', 2, 2), 3, ('O', 2, 0))\n",
      "(('C', 2, 2), 4, ('S', 2, 1))\n",
      "(('C', 2, 2), 5, ('O', 2, 0))\n",
      "(('C', 2, 2), 6, ('N', 3, 1))\n",
      "(('C', 2, 2), 7, ('C', 2, 2))\n",
      "(('C', 2, 2), 8, ('Si', 4, 0))\n",
      "(('C', 2, 2), 9, ('S', 2, 1))\n",
      "(('C', 2, 2), 10, ('S', 2, 1))\n",
      "(('C', 2, 2), 11, ('S', 2, 1))\n",
      "(('C', 2, 2), 12, ('N', 3, 0))\n",
      "(('C', 2, 2), 13, ('S', 2, 1))\n",
      "(('C', 2, 2), 14, ('S', 2, 1))\n",
      "(('C', 2, 2), 15, ('Si', 4, 0))\n",
      "(('C', 2, 2), 16, ('S', 2, 1))\n",
      "(('C', 2, 2), 17, ('O', 2, 0))\n",
      "(('C', 2, 2), 18, ('O', 2, 0))\n",
      "(('C', 2, 2), 19, ('S', 2, 1))\n",
      "(('C', 2, 2), 20, ('O', 1, 0))\n",
      "(('C', 1, 0), 8, ('C', 2, 0))\n",
      "(('C', 2, 2), 22, ('S', 2, 1))\n",
      "(('C', 2, 2), 23, ('S', 2, 1))\n",
      "(('C', 2, 2), 24, ('O', 2, 0))\n",
      "(('C', 2, 2), 25, ('S', 2, 1))\n",
      "(('C', 2, 2), 26, ('S', 2, 1))\n",
      "(('C', 2, 2), 27, ('O', 2, 0))\n",
      "(('C', 2, 2), 28, ('O', 2, 0))\n",
      "(('C', 2, 2), 29, ('C', 2, 2))\n",
      "(('C', 2, 2), 30, ('N', 1, 2))\n",
      "(('C', 3, 1), 25, ('N', 1, 2))\n",
      "(('C', 3, 1), 8, ('C', 2, 2))\n",
      "(('C', 2, 1), 23, ('N', 3, 0))\n",
      "(('C', 2, 1), 6, ('Si', 4, 0))\n",
      "(('C', 2, 1), 5, ('N', 1, 2))\n",
      "(('C', 2, 1), 16, ('N', 2, 1))\n",
      "(('C', 2, 1), 27, ('N', 3, 0))\n",
      "(('C', 2, 0), 7, ('C', 3, 0))\n",
      "(('O', 2, 0), 22, ('S', 2, 1))\n",
      "(('C', 3, 1), 26, ('N', 1, 2))\n",
      "(('C', 3, 1), 9, ('O', 2, 0))\n",
      "(('C', 2, 1), 24, ('N', 3, 0))\n",
      "(('C', 2, 1), 7, ('S', 4, 0))\n",
      "(('C', 3, 1), 26, ('O', 1, 0))\n",
      "(('C', 3, 1), 14, ('C', 2, 2))\n",
      "(('N', 1, 2), 21, ('S', 2, 1))\n",
      "(('C', 1, 0), 15, ('Si', 4, 0))\n",
      "(('C', 2, 0), 8, ('N', 3, 0))\n",
      "(('C', 3, 1), 10, ('O', 2, 0))\n",
      "(('C', 2, 1), 25, ('N', 3, 0))\n",
      "(('C', 2, 1), 8, ('Si', 4, 0))\n",
      "(('F', 1, 0), 3, ('F', 1, 0))\n",
      "(('S', 2, 0), 19, ('S', 2, 1))\n",
      "(('C', 2, 1), 13, ('O', 2, 1))\n",
      "(('C', 2, 0), 9, ('N', 3, 0))\n",
      "(('C', 1, 0), 19, ('O', 1, 0))\n",
      "(('C', 3, 1), 28, ('N', 1, 2))\n",
      "(('C', 3, 1), 11, ('C', 2, 2))\n",
      "(('C', 2, 1), 26, ('N', 3, 0))\n",
      "(('C', 2, 1), 9, ('Si', 4, 0))\n",
      "(('C', 1, 0), 7, ('C', 2, 2))\n",
      "(('C', 1, 0), 18, ('C', 3, 1))\n",
      "(('C', 2, 1), 9, ('C', 1, 2))\n",
      "(('N', 2, 1), 12, ('N', 3, 1))\n",
      "(('C', 4, 0), 12, ('O', 1, 0))\n",
      "(('C', 3, 1), 19, ('N', 3, 0))\n",
      "(('C', 1, 0), 2, ('O', 2, 0))\n",
      "(('C', 2, 0), 10, ('N', 3, 0))\n",
      "(('C', 3, 1), 29, ('N', 1, 2))\n",
      "(('C', 3, 1), 12, ('O', 2, 0))\n",
      "(('C', 2, 1), 4, ('O', 1, 0))\n",
      "(('C', 2, 1), 10, ('Si', 4, 0))\n",
      "(('S', 2, 0), 21, ('S', 2, 1))\n",
      "(('C', 2, 1), 3, ('C', 3, 1))\n",
      "(('C', 1, 0), 9, ('C', 2, 0))\n",
      "(('C', 2, 2), 12, ('O', 2, 0))\n",
      "(('C', 2, 0), 11, ('N', 3, 0))\n",
      "(('C', 3, 1), 13, ('C', 2, 2))\n",
      "(('C', 2, 1), 17, ('S', 1, 1))\n",
      "(('C', 2, 1), 11, ('S', 4, 0))\n",
      "(('C', 3, 0), 9, ('C', 3, 1))\n",
      "(('C', 2, 1), 28, ('N', 3, 0))\n",
      "(('O', 2, 0), 9, ('Si', 4, 0))\n",
      "(('C', 3, 1), 14, ('S', 2, 0))\n",
      "(('C', 2, 1), 29, ('N', 3, 0))\n",
      "(('C', 2, 1), 12, ('Si', 4, 0))\n",
      "(('C', 3, 1), 11, ('O', 2, 0))\n",
      "(('C', 3, 1), 15, ('C', 2, 2))\n",
      "(('C', 1, 0), 16, ('Si', 4, 0))\n",
      "(('C', 2, 0), 13, ('N', 3, 0))\n",
      "(('C', 3, 1), 15, ('O', 2, 0))\n",
      "(('C', 2, 1), 30, ('N', 3, 0))\n",
      "(('C', 2, 1), 13, ('Si', 4, 0))\n",
      "(('C', 1, 0), 20, ('O', 1, 0))\n",
      "(('C', 3, 1), 16, ('O', 2, 0))\n",
      "(('C', 2, 1), 14, ('S', 4, 0))\n",
      "(('C', 1, 0), 8, ('C', 2, 2))\n",
      "(('C', 2, 1), 10, ('C', 1, 2))\n",
      "(('C', 2, 1), 21, ('C', 2, 1))\n",
      "(('C', 3, 1), 23, ('N', 3, 1))\n",
      "(('C', 1, 0), 27, ('C', 1, 0))\n",
      "(('C', 3, 1), 17, ('C', 2, 2))\n",
      "(('C', 2, 1), 5, ('O', 1, 0))\n",
      "(('C', 2, 1), 15, ('S', 4, 0))\n",
      "(('C', 2, 1), 4, ('C', 3, 1))\n",
      "(('C', 1, 0), 10, ('C', 2, 0))\n",
      "(('C', 3, 1), 2, ('N', 3, 1))\n",
      "(('C', 3, 0), 1, ('S', 2, 0))\n",
      "(('C', 1, 0), 17, ('F', 1, 0))\n",
      "(('C', 3, 1), 18, ('O', 2, 0))\n",
      "(('C', 3, 1), 1, ('N', 3, 0))\n",
      "(('C', 2, 1), 16, ('Si', 4, 0))\n",
      "(('F', 1, 0), 11, ('F', 1, 0))\n",
      "(('C', 1, 0), 16, ('N', 3, 1))\n",
      "(('C', 2, 1), 7, ('N', 1, 2))\n",
      "(('C', 2, 1), 18, ('N', 2, 1))\n",
      "(('C', 1, 0), 10, ('S', 4, 0))\n",
      "(('C', 2, 0), 15, ('O', 1, 1))\n",
      "(('C', 3, 0), 2, ('S', 2, 0))\n",
      "(('N', 3, 0), 15, ('N', 2, 1))\n",
      "(('C', 3, 1), 19, ('O', 2, 0))\n",
      "(('C', 2, 1), 17, ('Si', 4, 0))\n",
      "(('C', 3, 1), 16, ('C', 2, 2))\n",
      "(('C', 2, 0), 1, ('C', 4, 0))\n",
      "(('C', 1, 0), 17, ('C', 1, 0))\n",
      "(('C', 3, 1), 20, ('C', 2, 2))\n",
      "(('C', 3, 1), 3, ('N', 3, 0))\n",
      "(('C', 2, 1), 18, ('Si', 4, 0))\n",
      "(('C', 2, 0), 5, ('C', 2, 1))\n",
      "(('C', 2, 1), 15, ('O', 2, 1))\n",
      "(('C', 2, 1), 2, ('Si', 4, 0))\n",
      "(('C', 3, 0), 4, ('O', 2, 0))\n",
      "(('C', 1, 0), 21, ('O', 1, 0))\n",
      "(('C', 3, 1), 21, ('C', 2, 2))\n",
      "(('C', 3, 1), 4, ('N', 3, 0))\n",
      "(('C', 2, 1), 19, ('Si', 4, 0))\n",
      "(('C', 1, 0), 9, ('C', 2, 2))\n",
      "(('C', 2, 1), 11, ('C', 1, 2))\n",
      "(('C', 1, 0), 4, ('O', 2, 0))\n",
      "(('C', 3, 0), 5, ('O', 2, 0))\n",
      "(('C', 3, 1), 22, ('C', 2, 2))\n",
      "(('C', 2, 1), 20, ('Si', 4, 0))\n",
      "(('C', 3, 1), 23, ('O', 2, 0))\n",
      "(('C', 2, 1), 19, ('S', 1, 1))\n",
      "(('C', 3, 1), 6, ('N', 3, 0))\n",
      "(('C', 2, 1), 21, ('Si', 4, 0))\n",
      "(('C', 3, 0), 7, ('O', 2, 0))\n",
      "(('C', 2, 1), 2, ('S', 2, 1))\n",
      "(('C', 3, 1), 24, ('C', 2, 2))\n",
      "(('C', 3, 1), 29, ('O', 1, 0))\n",
      "(('C', 3, 0), 8, ('O', 2, 0))\n",
      "(('C', 3, 1), 1, ('O', 1, 1))\n",
      "(('C', 3, 1), 25, ('O', 2, 0))\n",
      "(('C', 3, 1), 8, ('N', 3, 0))\n",
      "(('N', 3, 0), 2, ('O', 1, 1))\n",
      "(('N', 3, 0), 3, ('F', 1, 0))\n",
      "(('N', 3, 0), 4, ('S', 2, 1))\n",
      "(('N', 3, 0), 5, ('O', 1, 1))\n",
      "(('N', 3, 0), 6, ('S', 2, 1))\n",
      "(('N', 3, 0), 7, ('F', 1, 0))\n",
      "(('N', 3, 0), 8, ('S', 2, 1))\n",
      "(('N', 3, 0), 9, ('S', 2, 1))\n",
      "(('N', 3, 0), 10, ('F', 1, 0))\n",
      "(('N', 3, 0), 11, ('O', 2, 0))\n",
      "(('N', 3, 0), 12, ('S', 2, 1))\n",
      "(('N', 3, 0), 13, ('N', 1, 2))\n",
      "(('N', 3, 0), 14, ('N', 1, 2))\n",
      "(('N', 3, 0), 15, ('S', 2, 1))\n",
      "(('N', 3, 0), 16, ('S', 2, 1))\n",
      "(('N', 3, 0), 17, ('O', 1, 1))\n",
      "(('N', 3, 0), 18, ('S', 2, 1))\n",
      "(('N', 3, 0), 19, ('S', 2, 1))\n",
      "(('N', 3, 0), 20, ('N', 1, 2))\n",
      "(('N', 3, 0), 21, ('N', 3, 0))\n",
      "(('N', 3, 0), 22, ('N', 3, 0))\n",
      "(('N', 3, 0), 23, ('N', 1, 2))\n",
      "(('N', 3, 0), 24, ('S', 2, 1))\n",
      "(('C', 1, 0), 22, ('O', 1, 0))\n",
      "(('C', 2, 0), 7, ('C', 4, 0))\n",
      "(('N', 3, 0), 27, ('S', 2, 1))\n",
      "(('N', 3, 0), 28, ('N', 3, 0))\n",
      "(('C', 3, 1), 26, ('C', 2, 2))\n",
      "(('N', 3, 0), 30, ('O', 1, 1))\n",
      "(('C', 3, 1), 9, ('N', 3, 0))\n",
      "(('C', 1, 0), 10, ('C', 2, 2))\n",
      "(('C', 2, 1), 12, ('C', 1, 2))\n",
      "(('C', 3, 1), 25, ('N', 3, 1))\n",
      "(('C', 1, 0), 5, ('O', 2, 0))\n",
      "(('C', 3, 0), 10, ('O', 2, 0))\n",
      "(('C', 2, 0), 8, ('C', 4, 0))\n",
      "(('C', 3, 1), 27, ('C', 2, 2))\n",
      "(('C', 3, 1), 10, ('N', 3, 0))\n",
      "(('C', 2, 1), 6, ('C', 3, 1))\n",
      "(('C', 1, 0), 18, ('S', 2, 1))\n",
      "(('C', 3, 0), 11, ('O', 2, 0))\n",
      "(('C', 1, 0), 19, ('F', 1, 0))\n",
      "(('C', 3, 1), 28, ('O', 2, 0))\n",
      "(('C', 3, 1), 11, ('N', 3, 0))\n",
      "(('C', 2, 1), 20, ('N', 2, 1))\n",
      "(('C', 1, 0), 12, ('S', 4, 0))\n",
      "(('C', 3, 1), 29, ('C', 2, 2))\n",
      "(('C', 3, 1), 12, ('N', 3, 0))\n",
      "(('N', 2, 1), 9, ('O', 1, 1))\n",
      "(('O', 1, 0), 5, ('S', 2, 0))\n",
      "(('O', 1, 0), 7, ('O', 2, 0))\n",
      "(('C', 3, 0), 13, ('O', 2, 0))\n",
      "(('O', 1, 0), 8, ('O', 1, 1))\n",
      "(('C', 3, 1), 30, ('C', 2, 2))\n",
      "(('C', 3, 1), 13, ('N', 3, 0))\n",
      "(('N', 2, 1), 10, ('O', 1, 1))\n",
      "(('O', 1, 0), 10, ('O', 2, 0))\n",
      "(('O', 1, 0), 11, ('O', 1, 0))\n",
      "(('C', 2, 1), 4, ('Si', 4, 0))\n",
      "(('C', 1, 0), 23, ('O', 1, 0))\n",
      "(('C', 3, 1), 14, ('N', 3, 0))\n",
      "(('O', 1, 0), 15, ('O', 2, 0))\n",
      "(('O', 1, 0), 16, ('O', 2, 0))\n",
      "(('C', 2, 1), 8, ('O', 1, 0))\n",
      "(('C', 3, 1), 15, ('N', 3, 0))\n",
      "(('O', 1, 0), 20, ('O', 1, 1))\n",
      "(('C', 1, 0), 25, ('N', 1, 2))\n",
      "(('O', 1, 0), 21, ('O', 2, 0))\n",
      "(('N', 2, 1), 1, ('S', 2, 1))\n",
      "(('N', 2, 1), 2, ('N', 2, 1))\n",
      "(('N', 2, 1), 3, ('S', 2, 1))\n",
      "(('N', 2, 1), 4, ('S', 2, 1))\n",
      "(('N', 2, 1), 5, ('N', 2, 1))\n",
      "(('N', 2, 1), 6, ('O', 2, 0))\n",
      "(('N', 2, 1), 7, ('N', 2, 1))\n",
      "(('N', 2, 1), 8, ('S', 2, 1))\n",
      "(('N', 2, 1), 9, ('S', 2, 1))\n",
      "(('N', 2, 1), 10, ('S', 2, 1))\n",
      "(('N', 2, 1), 11, ('S', 2, 1))\n",
      "(('N', 2, 1), 12, ('S', 2, 1))\n",
      "(('N', 2, 1), 13, ('S', 2, 1))\n",
      "(('N', 2, 1), 14, ('S', 2, 1))\n",
      "(('N', 2, 1), 15, ('S', 2, 1))\n",
      "(('N', 2, 1), 16, ('S', 2, 1))\n",
      "(('N', 2, 1), 17, ('S', 2, 1))\n",
      "(('N', 2, 1), 18, ('S', 2, 1))\n",
      "(('N', 2, 1), 19, ('S', 2, 1))\n",
      "(('N', 2, 1), 20, ('N', 2, 1))\n",
      "(('N', 2, 1), 21, ('O', 2, 0))\n",
      "(('N', 2, 1), 22, ('N', 1, 2))\n",
      "(('O', 1, 0), 25, ('O', 1, 1))\n",
      "(('N', 3, 1), 1, ('O', 1, 0))\n",
      "(('N', 3, 1), 3, ('S', 2, 1))\n",
      "(('N', 3, 1), 4, ('S', 2, 1))\n",
      "(('N', 3, 1), 5, ('O', 2, 0))\n",
      "(('N', 3, 1), 6, ('S', 2, 1))\n",
      "(('N', 3, 1), 7, ('S', 2, 1))\n",
      "(('N', 3, 1), 8, ('S', 2, 1))\n",
      "(('N', 3, 1), 9, ('S', 2, 1))\n",
      "(('N', 3, 1), 10, ('S', 2, 1))\n",
      "(('N', 3, 1), 11, ('Si', 4, 0))\n",
      "(('N', 3, 1), 12, ('S', 2, 1))\n",
      "(('N', 3, 1), 13, ('O', 2, 0))\n",
      "(('N', 3, 1), 14, ('S', 2, 1))\n",
      "(('C', 3, 1), 17, ('N', 3, 0))\n",
      "(('N', 3, 1), 16, ('S', 2, 1))\n",
      "(('N', 3, 1), 17, ('S', 2, 1))\n",
      "(('N', 3, 1), 18, ('S', 2, 1))\n",
      "(('N', 3, 1), 19, ('S', 2, 1))\n",
      "(('N', 3, 1), 20, ('N', 1, 2))\n",
      "(('N', 3, 1), 21, ('O', 1, 0))\n",
      "(('N', 3, 1), 22, ('S', 2, 1))\n",
      "(('N', 3, 1), 23, ('N', 3, 1))\n",
      "(('N', 3, 1), 24, ('O', 1, 1))\n",
      "(('N', 3, 1), 26, ('N', 1, 2))\n",
      "(('C', 1, 0), 16, ('C', 3, 0))\n",
      "(('N', 3, 1), 29, ('N', 3, 1))\n",
      "(('N', 3, 1), 30, ('O', 1, 1))\n",
      "(('C', 4, 0), 3, ('F', 1, 0))\n",
      "(('C', 3, 0), 1, ('C', 3, 0))\n",
      "(('C', 3, 1), 3, ('O', 1, 1))\n",
      "(('C', 2, 0), 7, ('S', 2, 1))\n",
      "(('N', 2, 1), 4, ('O', 2, 0))\n",
      "(('S', 2, 0), 2, ('S', 2, 1))\n",
      "(('C', 3, 1), 1, ('Si', 4, 0))\n",
      "(('O', 2, 0), 3, ('S', 2, 1))\n",
      "(('O', 2, 0), 4, ('F', 1, 0))\n",
      "(('C', 3, 1), 12, ('S', 2, 0))\n",
      "(('O', 2, 0), 5, ('S', 2, 1))\n",
      "(('C', 2, 1), 5, ('Si', 4, 0))\n",
      "(('C', 4, 0), 4, ('F', 1, 0))\n",
      "(('O', 2, 0), 6, ('O', 1, 1))\n",
      "(('C', 3, 1), 27, ('S', 2, 1))\n",
      "(('O', 2, 0), 7, ('O', 1, 1))\n",
      "(('C', 3, 1), 2, ('S', 4, 0))\n",
      "(('O', 2, 0), 8, ('F', 1, 0))\n",
      "(('O', 2, 0), 9, ('S', 2, 1))\n",
      "(('O', 2, 0), 10, ('O', 2, 0))\n",
      "(('C', 4, 0), 5, ('N', 1, 2))\n",
      "(('O', 2, 0), 11, ('O', 1, 1))\n",
      "(('O', 2, 0), 12, ('O', 1, 1))\n",
      "(('C', 3, 1), 3, ('Si', 4, 0))\n",
      "(('O', 2, 0), 13, ('O', 2, 0))\n",
      "(('C', 1, 0), 26, ('N', 1, 2))\n",
      "(('C', 2, 1), 8, ('C', 3, 1))\n",
      "(('O', 2, 0), 14, ('S', 2, 1))\n",
      "(('C', 1, 0), 14, ('C', 2, 0))\n",
      "(('O', 2, 0), 15, ('O', 2, 0))\n",
      "(('C', 4, 0), 6, ('F', 1, 0))\n",
      "(('O', 2, 0), 16, ('S', 2, 1))\n",
      "(('C', 2, 1), 22, ('S', 1, 1))\n",
      "(('O', 2, 0), 17, ('O', 2, 0))\n",
      "(('C', 3, 1), 4, ('Si', 4, 0))\n",
      "(('C', 3, 1), 1, ('S', 2, 0))\n",
      "(('N', 2, 1), 1, ('O', 2, 1))\n",
      "(('C', 3, 1), 20, ('S', 1, 1))\n",
      "(('O', 2, 0), 19, ('S', 2, 1))\n",
      "(('O', 2, 0), 20, ('O', 2, 0))\n",
      "(('C', 4, 0), 7, ('N', 1, 2))\n",
      "(('O', 2, 0), 21, ('O', 1, 1))\n",
      "(('C', 3, 1), 22, ('N', 3, 0))\n",
      "(('C', 2, 1), 6, ('F', 1, 0))\n",
      "(('C', 3, 1), 5, ('S', 4, 0))\n",
      "(('S', 2, 0), 23, ('S', 2, 1))\n",
      "(('C', 2, 1), 5, ('N', 3, 1))\n",
      "(('O', 2, 0), 24, ('O', 2, 0))\n",
      "(('C', 1, 0), 21, ('Si', 4, 0))\n",
      "(('N', 3, 1), 9, ('O', 1, 0))\n",
      "(('C', 4, 0), 8, ('F', 1, 0))\n",
      "(('O', 2, 0), 26, ('O', 1, 1))\n",
      "(('C', 3, 1), 4, ('O', 1, 1))\n",
      "(('C', 3, 0), 11, ('S', 2, 1))\n",
      "(('C', 3, 1), 23, ('N', 3, 0))\n",
      "(('N', 1, 2), 4, ('O', 1, 0))\n",
      "(('C', 3, 1), 6, ('Si', 4, 0))\n",
      "(('N', 1, 2), 6, ('O', 2, 0))\n",
      "(('N', 1, 2), 7, ('S', 2, 1))\n",
      "(('N', 1, 2), 8, ('O', 1, 0))\n",
      "(('N', 1, 2), 9, ('O', 1, 1))\n",
      "(('N', 1, 2), 10, ('S', 2, 1))\n",
      "(('N', 1, 2), 11, ('S', 2, 1))\n",
      "(('N', 1, 2), 12, ('S', 2, 1))\n",
      "(('N', 1, 2), 13, ('N', 1, 2))\n",
      "(('N', 1, 2), 14, ('S', 2, 1))\n",
      "(('N', 1, 2), 15, ('O', 2, 0))\n",
      "(('N', 1, 2), 16, ('Si', 4, 0))\n",
      "(('N', 1, 2), 17, ('N', 1, 2))\n",
      "(('N', 1, 2), 18, ('O', 2, 0))\n",
      "(('N', 1, 2), 19, ('O', 2, 0))\n",
      "(('N', 1, 2), 20, ('S', 2, 1))\n",
      "(('N', 1, 2), 21, ('O', 1, 0))\n",
      "(('N', 1, 2), 22, ('S', 2, 1))\n",
      "(('N', 1, 2), 23, ('S', 2, 1))\n",
      "(('N', 1, 2), 24, ('S', 2, 1))\n",
      "(('N', 1, 2), 26, ('S', 2, 1))\n",
      "(('N', 1, 2), 27, ('S', 2, 1))\n",
      "(('N', 1, 2), 28, ('O', 2, 0))\n",
      "(('N', 1, 2), 30, ('S', 2, 1))\n",
      "(('C', 1, 0), 19, ('N', 3, 1))\n",
      "(('C', 3, 1), 24, ('N', 3, 0))\n",
      "(('C', 3, 1), 7, ('S', 4, 0))\n",
      "(('N', 2, 1), 4, ('O', 2, 1))\n",
      "(('C', 3, 1), 28, ('N', 3, 1))\n",
      "(('C', 1, 0), 11, ('O', 1, 0))\n",
      "(('C', 1, 0), 8, ('O', 2, 0))\n",
      "(('C', 4, 0), 10, ('N', 1, 2))\n",
      "(('C', 2, 1), 10, ('O', 1, 0))\n",
      "(('C', 3, 1), 25, ('N', 3, 0))\n",
      "(('C', 3, 1), 8, ('S', 4, 0))\n",
      "(('N', 2, 1), 22, ('O', 1, 1))\n",
      "(('C', 2, 0), 6, ('N', 2, 1))\n",
      "(('C', 1, 0), 15, ('C', 2, 0))\n",
      "(('C', 2, 1), 16, ('O', 2, 1))\n",
      "(('C', 1, 0), 21, ('S', 2, 1))\n",
      "(('C', 2, 1), 23, ('S', 1, 1))\n",
      "(('C', 3, 1), 26, ('N', 3, 0))\n",
      "(('C', 3, 1), 9, ('Si', 4, 0))\n",
      "(('C', 3, 1), 2, ('S', 2, 0))\n",
      "(('N', 2, 1), 6, ('S', 2, 1))\n",
      "(('C', 3, 0), 15, ('C', 3, 1))\n",
      "(('C', 4, 0), 12, ('N', 1, 2))\n",
      "(('C', 2, 1), 6, ('S', 2, 1))\n",
      "(('C', 3, 1), 27, ('N', 3, 0))\n",
      "(('C', 3, 1), 10, ('Si', 4, 0))\n",
      "(('C', 3, 0), 10, ('N', 2, 1))\n",
      "(('C', 4, 0), 13, ('N', 1, 2))\n",
      "(('C', 4, 0), 8, ('N', 3, 0))\n",
      "(('C', 3, 1), 5, ('O', 1, 1))\n",
      "(('C', 3, 0), 12, ('S', 2, 1))\n",
      "(('C', 3, 1), 28, ('N', 3, 0))\n",
      "(('C', 3, 1), 11, ('Si', 4, 0))\n",
      "(('C', 2, 1), 2, ('O', 1, 0))\n",
      "(('C', 2, 1), 7, ('Si', 4, 0))\n",
      "(('C', 4, 0), 14, ('O', 1, 0))\n",
      "(('C', 3, 1), 29, ('N', 3, 0))\n",
      "(('C', 3, 1), 12, ('S', 4, 0))\n",
      "(('N', 2, 1), 9, ('N', 2, 1))\n",
      "(('C', 3, 1), 25, ('S', 2, 1))\n",
      "(('C', 1, 0), 9, ('O', 2, 0))\n",
      "(('C', 4, 0), 15, ('O', 1, 0))\n",
      "(('C', 3, 1), 30, ('N', 3, 0))\n",
      "(('C', 1, 1), 13, ('C', 2, 2))\n",
      "(('C', 3, 1), 13, ('Si', 4, 0))\n",
      "(('C', 1, 0), 28, ('N', 1, 2))\n",
      "(('C', 1, 0), 5, ('C', 1, 1))\n",
      "(('C', 2, 0), 7, ('N', 2, 1))\n",
      "(('C', 1, 0), 16, ('C', 2, 0))\n",
      "(('C', 1, 0), 22, ('S', 2, 1))\n",
      "(('C', 4, 0), 16, ('N', 1, 2))\n",
      "(('O', 1, 1), 10, ('Si', 4, 0))\n",
      "(('C', 3, 1), 14, ('Si', 4, 0))\n",
      "(('C', 3, 1), 3, ('S', 2, 0))\n",
      "(('C', 4, 0), 17, ('N', 1, 2))\n",
      "(('C', 2, 2), 11, ('O', 2, 0))\n",
      "(('C', 2, 1), 8, ('F', 1, 0))\n",
      "(('C', 3, 1), 15, ('Si', 4, 0))\n",
      "(('N', 2, 1), 12, ('N', 2, 1))\n",
      "(('C', 2, 1), 7, ('N', 3, 1))\n",
      "(('C', 4, 0), 18, ('N', 1, 2))\n",
      "(('C', 4, 0), 1, ('O', 2, 0))\n",
      "(('C', 3, 1), 17, ('O', 2, 0))\n",
      "(('C', 3, 1), 16, ('S', 4, 0))\n",
      "(('N', 3, 0), 10, ('S', 2, 1))\n",
      "(('C', 4, 0), 19, ('N', 1, 2))\n",
      "(('N', 3, 0), 13, ('O', 2, 0))\n",
      "(('C', 3, 1), 17, ('S', 4, 0))\n",
      "(('C', 2, 1), 17, ('C', 1, 2))\n",
      "(('C', 4, 0), 20, ('O', 1, 0))\n",
      "(('C', 4, 0), 3, ('O', 2, 0))\n",
      "(('C', 3, 0), 1, ('C', 4, 0))\n",
      "(('C', 3, 1), 18, ('Si', 4, 0))\n",
      "(('C', 1, 0), 29, ('N', 1, 2))\n",
      "(('C', 2, 1), 11, ('C', 3, 1))\n",
      "(('C', 2, 0), 8, ('N', 2, 1))\n",
      "(('C', 1, 0), 17, ('C', 2, 0))\n",
      "(('C', 4, 0), 21, ('N', 1, 2))\n",
      "(('C', 4, 0), 4, ('C', 2, 2))\n",
      "(('C', 3, 0), 2, ('C', 4, 0))\n",
      "(('C', 2, 1), 25, ('S', 1, 1))\n",
      "(('C', 3, 1), 19, ('Si', 4, 0))\n",
      "(('C', 3, 1), 4, ('S', 2, 0))\n",
      "(('C', 4, 0), 22, ('O', 1, 0))\n",
      "(('C', 4, 0), 5, ('C', 2, 2))\n",
      "(('C', 2, 1), 8, ('S', 2, 1))\n",
      "(('C', 3, 1), 20, ('Si', 4, 0))\n",
      "(('O', 1, 0), 22, ('S', 2, 0))\n",
      "(('C', 3, 1), 23, ('C', 2, 2))\n",
      "(('C', 4, 0), 6, ('C', 2, 2))\n",
      "(('C', 3, 1), 7, ('O', 1, 1))\n",
      "(('N', 2, 1), 1, ('N', 3, 1))\n",
      "(('C', 4, 0), 7, ('O', 2, 0))\n",
      "(('N', 2, 1), 2, ('N', 3, 1))\n",
      "(('C', 2, 1), 18, ('C', 1, 2))\n",
      "(('C', 1, 0), 11, ('O', 2, 0))\n",
      "(('C', 3, 0), 6, ('Si', 4, 0))\n",
      "(('O', 1, 0), 2, ('O', 1, 1))\n",
      "(('O', 1, 0), 3, ('O', 2, 0))\n",
      "(('O', 1, 0), 5, ('S', 1, 1))\n",
      "(('O', 1, 0), 6, ('O', 2, 0))\n",
      "(('O', 1, 0), 7, ('S', 2, 1))\n",
      "(('O', 1, 0), 8, ('S', 2, 1))\n",
      "(('O', 1, 0), 9, ('S', 2, 1))\n",
      "(('O', 1, 0), 10, ('S', 2, 1))\n",
      "(('O', 1, 0), 11, ('S', 2, 1))\n",
      "(('O', 1, 0), 12, ('O', 2, 0))\n",
      "(('O', 1, 0), 13, ('O', 1, 0))\n",
      "(('O', 1, 0), 14, ('O', 1, 1))\n",
      "(('O', 1, 0), 15, ('O', 1, 1))\n",
      "(('O', 1, 0), 16, ('S', 2, 1))\n",
      "(('C', 1, 0), 18, ('C', 2, 0))\n",
      "(('O', 1, 0), 18, ('O', 2, 0))\n",
      "(('O', 1, 0), 19, ('O', 2, 0))\n",
      "(('O', 1, 0), 20, ('O', 1, 0))\n",
      "(('C', 1, 0), 24, ('S', 2, 1))\n",
      "(('O', 1, 0), 22, ('O', 1, 0))\n",
      "(('C', 1, 2), 3, ('S', 2, 1))\n",
      "(('C', 4, 0), 9, ('C', 2, 2))\n",
      "(('O', 1, 0), 25, ('O', 1, 0))\n",
      "(('C', 3, 0), 7, ('C', 4, 0))\n",
      "(('C', 2, 1), 26, ('S', 1, 1))\n",
      "(('Si', 4, 0), 5, ('S', 2, 0))\n",
      "(('O', 2, 0), 2, ('O', 1, 1))\n",
      "(('O', 2, 0), 3, ('O', 2, 0))\n",
      "(('O', 2, 0), 4, ('S', 2, 1))\n",
      "(('O', 2, 0), 5, ('O', 2, 0))\n",
      "(('O', 2, 0), 6, ('S', 2, 1))\n",
      "(('O', 2, 0), 7, ('S', 2, 1))\n",
      "(('O', 2, 0), 8, ('S', 2, 1))\n",
      "(('O', 2, 0), 9, ('O', 2, 0))\n",
      "(('O', 2, 0), 10, ('S', 2, 1))\n",
      "(('O', 2, 0), 11, ('S', 2, 1))\n",
      "(('O', 2, 0), 12, ('S', 2, 1))\n",
      "(('O', 2, 0), 13, ('S', 2, 1))\n",
      "(('O', 2, 0), 14, ('O', 1, 1))\n",
      "(('O', 2, 0), 15, ('S', 2, 1))\n",
      "(('O', 2, 0), 16, ('Si', 4, 0))\n",
      "(('O', 2, 0), 17, ('S', 2, 1))\n",
      "(('O', 2, 0), 18, ('S', 4, 0))\n",
      "(('O', 2, 0), 19, ('O', 1, 1))\n",
      "(('O', 2, 0), 20, ('S', 2, 1))\n",
      "(('O', 2, 0), 21, ('S', 2, 1))\n",
      "(('O', 2, 0), 22, ('O', 2, 0))\n",
      "(('O', 2, 0), 23, ('S', 2, 1))\n",
      "(('O', 2, 0), 24, ('S', 2, 1))\n",
      "(('O', 2, 0), 25, ('O', 2, 0))\n",
      "(('O', 2, 0), 26, ('S', 2, 1))\n",
      "(('O', 2, 0), 27, ('S', 2, 1))\n",
      "(('O', 2, 0), 28, ('S', 2, 1))\n",
      "(('O', 2, 0), 29, ('S', 2, 1))\n",
      "(('O', 2, 0), 30, ('S', 2, 1))\n",
      "(('C', 2, 1), 9, ('N', 3, 1))\n",
      "(('C', 2, 1), 3, ('S', 4, 0))\n",
      "(('C', 3, 0), 9, ('Si', 4, 0))\n",
      "(('C', 2, 0), 8, ('S', 2, 1))\n",
      "(('Si', 4, 0), 7, ('S', 2, 0))\n",
      "(('C', 1, 1), 5, ('O', 1, 1))\n",
      "(('C', 4, 0), 12, ('C', 2, 2))\n",
      "(('Si', 4, 0), 8, ('S', 2, 0))\n",
      "(('C', 1, 0), 17, ('C', 2, 2))\n",
      "(('N', 3, 1), 9, ('O', 1, 1))\n",
      "(('N', 2, 1), 7, ('N', 3, 1))\n",
      "(('O', 1, 1), 4, ('F', 1, 0))\n",
      "(('C', 4, 0), 13, ('O', 2, 0))\n",
      "(('C', 2, 1), 14, ('O', 1, 0))\n",
      "(('N', 3, 1), 10, ('O', 1, 1))\n",
      "(('C', 2, 1), 2, ('C', 2, 2))\n",
      "(('N', 2, 1), 8, ('N', 3, 1))\n",
      "(('O', 1, 1), 5, ('F', 1, 0))\n",
      "(('C', 1, 1), 18, ('O', 1, 1))\n",
      "(('C', 4, 0), 14, ('C', 2, 2))\n",
      "(('Si', 4, 0), 10, ('S', 2, 0))\n",
      "(('C', 3, 1), 6, ('S', 2, 0))\n",
      "(('N', 2, 1), 9, ('N', 3, 1))\n",
      "(('C', 2, 1), 16, ('N', 1, 2))\n",
      "(('N', 3, 0), 15, ('O', 1, 0))\n",
      "(('C', 1, 2), 8, ('S', 2, 1))\n",
      "(('C', 4, 0), 15, ('O', 2, 0))\n",
      "(('C', 2, 1), 10, ('S', 2, 1))\n",
      "(('F', 1, 0), 6, ('Si', 4, 0))\n",
      "(('N', 2, 1), 10, ('N', 3, 1))\n",
      "(('C', 2, 1), 10, ('N', 3, 1))\n",
      "(('C', 1, 2), 9, ('N', 2, 1))\n",
      "(('C', 4, 0), 16, ('C', 2, 2))\n",
      "(('C', 3, 0), 14, ('C', 4, 0))\n",
      "(('C', 3, 1), 20, ('O', 2, 0))\n",
      "(('O', 1, 1), 8, ('F', 1, 0))\n",
      "(('O', 1, 1), 1, ('S', 4, 0))\n",
      "(('O', 1, 1), 2, ('O', 1, 1))\n",
      "(('O', 1, 1), 3, ('S', 2, 1))\n",
      "(('O', 1, 1), 4, ('O', 1, 1))\n",
      "(('O', 1, 1), 5, ('O', 1, 1))\n",
      "(('O', 1, 1), 6, ('S', 2, 1))\n",
      "(('O', 1, 1), 7, ('S', 2, 1))\n",
      "(('O', 1, 1), 8, ('S', 2, 1))\n",
      "(('O', 1, 1), 9, ('S', 2, 1))\n",
      "(('O', 1, 1), 10, ('S', 2, 1))\n",
      "(('O', 1, 1), 11, ('S', 2, 1))\n",
      "(('O', 1, 1), 12, ('S', 2, 1))\n",
      "(('C', 1, 1), 16, ('S', 2, 0))\n",
      "(('O', 1, 1), 14, ('O', 1, 1))\n",
      "(('O', 1, 1), 15, ('O', 1, 1))\n",
      "(('O', 1, 1), 16, ('Si', 4, 0))\n",
      "(('O', 1, 1), 17, ('S', 2, 1))\n",
      "(('O', 1, 1), 18, ('S', 2, 1))\n",
      "(('O', 1, 1), 19, ('S', 2, 1))\n",
      "(('O', 1, 1), 20, ('S', 2, 1))\n",
      "(('O', 1, 1), 21, ('S', 2, 1))\n",
      "(('O', 1, 1), 22, ('S', 2, 1))\n",
      "(('O', 1, 1), 23, ('S', 2, 1))\n",
      "(('O', 1, 1), 24, ('S', 2, 1))\n",
      "(('O', 1, 1), 25, ('O', 1, 1))\n",
      "(('O', 1, 1), 26, ('S', 2, 1))\n",
      "(('O', 1, 1), 27, ('S', 2, 1))\n",
      "(('O', 1, 1), 28, ('O', 1, 1))\n",
      "(('O', 1, 1), 30, ('S', 2, 1))\n",
      "(('C', 3, 0), 9, ('S', 2, 1))\n",
      "(('O', 2, 1), 3, ('S', 2, 1))\n",
      "(('O', 1, 1), 5, ('O', 2, 1))\n",
      "(('C', 4, 0), 18, ('C', 2, 2))\n",
      "(('C', 3, 1), 20, ('N', 3, 1))\n",
      "(('O', 2, 1), 8, ('S', 2, 1))\n",
      "(('O', 2, 1), 10, ('S', 2, 1))\n",
      "(('C', 2, 1), 15, ('O', 1, 0))\n",
      "(('O', 2, 1), 13, ('O', 2, 1))\n",
      "(('C', 2, 1), 3, ('C', 2, 2))\n",
      "(('N', 2, 1), 13, ('N', 3, 1))\n",
      "(('N', 3, 1), 16, ('O', 1, 1))\n",
      "(('C', 2, 2), 20, ('C', 2, 2))\n",
      "(('C', 1, 0), 3, ('S', 2, 0))\n",
      "(('C', 4, 0), 20, ('C', 2, 2))\n",
      "(('C', 2, 1), 11, ('S', 2, 1))\n",
      "(('C', 2, 1), 12, ('F', 1, 0))\n",
      "(('N', 3, 1), 17, ('O', 1, 1))\n",
      "(('C', 1, 1), 12, ('C', 2, 2))\n",
      "(('C', 1, 1), 14, ('O', 1, 1))\n",
      "(('C', 4, 0), 21, ('C', 2, 2))\n",
      "(('C', 4, 0), 4, ('N', 3, 0))\n",
      "(('C', 3, 1), 21, ('O', 2, 0))\n",
      "(('C', 1, 0), 3, ('N', 2, 1))\n",
      "(('N', 3, 1), 18, ('O', 1, 1))\n",
      "(('C', 1, 1), 15, ('S', 1, 1))\n",
      "(('N', 3, 0), 17, ('O', 2, 0))\n",
      "(('C', 1, 0), 19, ('C', 2, 2))\n",
      "(('N', 3, 1), 19, ('O', 1, 1))\n",
      "(('N', 2, 1), 17, ('N', 3, 1))\n",
      "(('O', 1, 1), 14, ('F', 1, 0))\n",
      "(('C', 2, 1), 16, ('O', 1, 0))\n",
      "(('N', 3, 0), 3, ('O', 1, 1))\n",
      "(('C', 2, 1), 4, ('C', 2, 2))\n",
      "(('C', 1, 1), 17, ('O', 1, 1))\n",
      "(('C', 1, 0), 27, ('S', 2, 1))\n",
      "(('C', 4, 0), 7, ('N', 3, 0))\n",
      "(('C', 3, 1), 8, ('S', 2, 0))\n",
      "(('C', 1, 1), 18, ('S', 1, 1))\n",
      "(('O', 1, 1), 16, ('F', 1, 0))\n",
      "(('C', 2, 1), 12, ('S', 2, 1))\n",
      "(('C', 2, 1), 13, ('F', 1, 0))\n",
      "(('C', 1, 0), 2, ('O', 1, 1))\n",
      "(('C', 1, 1), 19, ('O', 1, 1))\n",
      "(('C', 2, 1), 12, ('N', 3, 1))\n",
      "(('C', 2, 1), 6, ('S', 4, 0))\n",
      "(('C', 1, 0), 1, ('S', 2, 0))\n",
      "(('N', 3, 0), 6, ('O', 1, 1))\n",
      "(('C', 2, 1), 2, ('Se', 2, 1))\n",
      "(('C', 1, 0), 3, ('O', 1, 1))\n",
      "(('C', 1, 1), 20, ('O', 1, 1))\n",
      "(('C', 1, 1), 3, ('S', 2, 1))\n",
      "(('C', 4, 0), 10, ('N', 3, 0))\n",
      "(('C', 1, 0), 20, ('C', 2, 2))\n",
      "(('C', 1, 0), 13, ('C', 2, 0))\n",
      "(('C', 2, 2), 6, ('O', 1, 1))\n",
      "(('C', 1, 0), 15, ('O', 2, 0))\n",
      "(('C', 4, 0), 11, ('N', 3, 0))\n",
      "(('C', 2, 1), 17, ('O', 1, 0))\n",
      "(('N', 3, 0), 8, ('O', 1, 1))\n",
      "(('C', 1, 0), 5, ('O', 1, 1))\n",
      "(('C', 2, 1), 5, ('C', 2, 2))\n",
      "(('C', 1, 1), 5, ('C', 2, 1))\n",
      "(('C', 3, 1), 16, ('Si', 4, 0))\n",
      "(('C', 2, 2), 7, ('O', 1, 1))\n",
      "(('C', 1, 0), 8, ('N', 1, 2))\n",
      "(('C', 1, 2), 5, ('N', 3, 1))\n",
      "(('C', 2, 1), 30, ('S', 1, 1))\n",
      "(('N', 3, 0), 9, ('S', 1, 1))\n",
      "(('C', 1, 0), 6, ('C', 1, 1))\n",
      "(('C', 3, 1), 9, ('S', 2, 0))\n",
      "(('C', 1, 1), 6, ('C', 2, 1))\n",
      "(('C', 2, 2), 8, ('O', 1, 1))\n",
      "(('C', 1, 0), 19, ('S', 1, 1))\n",
      "(('C', 4, 0), 13, ('N', 3, 0))\n",
      "(('N', 3, 0), 10, ('O', 1, 1))\n",
      "(('N', 3, 1), 10, ('O', 2, 1))\n",
      "(('C', 1, 1), 24, ('O', 1, 1))\n",
      "(('C', 2, 1), 13, ('N', 3, 1))\n",
      "(('O', 1, 1), 5, ('S', 2, 0))\n",
      "(('C', 2, 2), 9, ('O', 1, 1))\n",
      "(('C', 4, 0), 14, ('N', 3, 0))\n",
      "(('O', 1, 1), 3, ('S', 2, 0))\n",
      "(('C', 1, 0), 8, ('O', 1, 1))\n",
      "(('O', 1, 1), 4, ('S', 1, 1))\n",
      "(('O', 1, 1), 5, ('S', 1, 1))\n",
      "(('O', 1, 1), 6, ('O', 1, 1))\n",
      "(('C', 2, 1), 14, ('Si', 4, 0))\n",
      "(('O', 1, 1), 7, ('F', 1, 0))\n",
      "(('N', 3, 0), 12, ('S', 1, 1))\n",
      "(('C', 3, 1), 9, ('O', 1, 0))\n",
      "(('C', 1, 0), 9, ('O', 1, 1))\n",
      "(('O', 1, 1), 9, ('Si', 4, 0))\n",
      "(('O', 1, 1), 10, ('O', 2, 1))\n",
      "(('O', 1, 1), 11, ('Si', 4, 0))\n",
      "(('C', 1, 0), 16, ('O', 2, 0))\n",
      "(('O', 1, 1), 12, ('F', 1, 0))\n",
      "(('C', 4, 0), 16, ('N', 3, 0))\n",
      "(('C', 2, 1), 18, ('O', 1, 0))\n",
      "(('O', 1, 1), 13, ('S', 2, 1))\n",
      "(('C', 1, 0), 10, ('O', 1, 1))\n",
      "(('O', 1, 1), 14, ('S', 2, 1))\n",
      "(('C', 2, 1), 6, ('C', 2, 2))\n",
      "(('N', 3, 1), 13, ('S', 2, 1))\n",
      "(('C', 1, 1), 10, ('C', 2, 1))\n",
      "(('O', 1, 1), 16, ('S', 2, 1))\n",
      "(('N', 3, 0), 14, ('O', 1, 1))\n",
      "(('C', 1, 0), 11, ('O', 1, 1))\n",
      "(('C', 3, 1), 10, ('S', 2, 0))\n",
      "(('C', 1, 0), 6, ('C', 3, 0))\n",
      "(('C', 2, 1), 20, ('N', 1, 2))\n",
      "(('O', 1, 1), 22, ('O', 1, 1))\n",
      "(('C', 2, 1), 14, ('S', 2, 1))\n",
      "(('C', 4, 0), 1, ('C', 4, 0))\n",
      "(('N', 3, 0), 15, ('O', 1, 1))\n",
      "(('C', 2, 1), 15, ('F', 1, 0))\n",
      "(('C', 1, 0), 12, ('O', 1, 1))\n",
      "(('C', 4, 0), 16, ('S', 2, 0))\n",
      "(('C', 2, 1), 14, ('N', 3, 1))\n",
      "(('C', 1, 1), 12, ('C', 2, 1))\n",
      "(('C', 2, 2), 14, ('O', 1, 1))\n",
      "(('C', 2, 1), 8, ('S', 4, 0))\n",
      "(('C', 4, 0), 2, ('C', 4, 0))\n",
      "(('C', 3, 1), 24, ('O', 2, 0))\n",
      "(('N', 3, 0), 16, ('O', 1, 1))\n",
      "(('C', 1, 0), 13, ('O', 1, 1))\n",
      "(('N', 3, 1), 10, ('O', 2, 0))\n",
      "(('O', 1, 1), 30, ('O', 1, 1))\n",
      "(('C', 1, 0), 3, ('N', 3, 0))\n",
      "(('C', 2, 2), 15, ('O', 1, 1))\n",
      "(('C', 2, 1), 15, ('Si', 4, 0))\n",
      "(('C', 4, 0), 3, ('C', 4, 0))\n",
      "(('C', 1, 0), 14, ('O', 1, 1))\n",
      "(('O', 2, 1), 3, ('O', 2, 1))\n",
      "(('O', 2, 1), 5, ('S', 2, 1))\n",
      "(('C', 4, 0), 4, ('C', 4, 0))\n",
      "(('C', 2, 1), 19, ('O', 1, 0))\n",
      "(('N', 3, 0), 18, ('O', 1, 1))\n",
      "(('C', 1, 0), 15, ('O', 1, 1))\n",
      "(('O', 2, 1), 7, ('Si', 4, 0))\n",
      "(('C', 2, 1), 7, ('C', 2, 2))\n",
      "(('C', 2, 1), 18, ('C', 3, 1))\n",
      "(('C', 1, 1), 15, ('C', 2, 1))\n",
      "(('C', 1, 0), 13, ('C', 1, 1))\n",
      "(('C', 4, 0), 9, ('C', 2, 1))\n",
      "(('O', 2, 1), 10, ('O', 2, 1))\n",
      "(('C', 2, 1), 2, ('O', 2, 0))\n",
      "(('C', 4, 0), 5, ('C', 4, 0))\n",
      "(('C', 1, 0), 16, ('O', 1, 1))\n",
      "(('C', 3, 1), 11, ('S', 2, 0))\n",
      "(('C', 2, 1), 1, ('O', 1, 1))\n",
      "(('C', 1, 0), 7, ('C', 3, 0))\n",
      "(('C', 2, 1), 21, ('N', 1, 2))\n",
      "(('S', 2, 1), 15, ('S', 2, 1))\n",
      "(('N', 3, 0), 20, ('O', 1, 1))\n",
      "(('C', 2, 1), 16, ('F', 1, 0))\n",
      "(('N', 3, 0), 3, ('O', 2, 1))\n",
      "(('C', 1, 0), 17, ('C', 1, 1))\n",
      "(('C', 3, 1), 14, ('O', 2, 0))\n",
      "(('N', 3, 0), 7, ('S', 2, 0))\n",
      "(('C', 2, 1), 15, ('N', 3, 1))\n",
      "(('C', 1, 1), 17, ('C', 2, 1))\n",
      "(('C', 2, 2), 2, ('S', 2, 1))\n",
      "(('C', 2, 1), 9, ('S', 4, 0))\n",
      "(('C', 2, 1), 26, ('N', 3, 1))\n",
      "(('C', 1, 0), 4, ('S', 2, 0))\n",
      "(('N', 3, 0), 4, ('O', 2, 1))\n",
      "(('C', 1, 1), 18, ('C', 2, 1))\n",
      "(('C', 2, 2), 3, ('N', 2, 1))\n",
      "(('C', 4, 0), 8, ('C', 4, 0))\n",
      "(('N', 3, 0), 22, ('O', 1, 1))\n",
      "(('N', 3, 0), 5, ('S', 2, 1))\n",
      "(('C', 1, 0), 19, ('C', 1, 1))\n",
      "(('F', 1, 0), 2, ('F', 1, 0))\n",
      "(('C', 1, 0), 2, ('C', 2, 1))\n",
      "(('F', 1, 0), 4, ('S', 2, 1))\n",
      "(('F', 1, 0), 5, ('S', 2, 1))\n",
      "(('F', 1, 0), 6, ('F', 1, 0))\n",
      "(('F', 1, 0), 7, ('S', 2, 1))\n",
      "(('C', 2, 1), 4, ('S', 1, 1))\n",
      "(('F', 1, 0), 9, ('F', 1, 0))\n",
      "(('F', 1, 0), 10, ('S', 2, 1))\n",
      "(('F', 1, 0), 11, ('S', 2, 1))\n",
      "(('F', 1, 0), 12, ('S', 2, 1))\n",
      "(('C', 3, 0), 10, ('S', 2, 1))\n",
      "(('F', 1, 0), 14, ('S', 2, 1))\n",
      "(('F', 1, 0), 15, ('S', 2, 1))\n",
      "(('C', 2, 2), 4, ('N', 2, 1))\n",
      "(('F', 1, 0), 17, ('S', 2, 1))\n",
      "(('F', 1, 0), 18, ('S', 2, 1))\n",
      "(('F', 1, 0), 21, ('S', 2, 1))\n",
      "(('F', 1, 0), 25, ('F', 1, 0))\n",
      "(('C', 1, 0), 20, ('C', 1, 1))\n",
      "(('C', 1, 0), 3, ('C', 2, 1))\n",
      "(('C', 2, 1), 19, ('C', 3, 1))\n",
      "(('C', 1, 1), 20, ('C', 2, 1))\n",
      "(('C', 1, 1), 3, ('C', 3, 1))\n",
      "(('C', 1, 0), 25, ('C', 2, 0))\n",
      "(('C', 2, 2), 5, ('N', 2, 1))\n",
      "(('N', 3, 0), 7, ('S', 2, 1))\n",
      "(('C', 1, 0), 4, ('S', 2, 1))\n",
      "(('O', 1, 0), 19, ('O', 1, 0))\n",
      "(('C', 2, 1), 6, ('S', 1, 1))\n",
      "(('C', 1, 0), 8, ('C', 3, 0))\n",
      "(('C', 2, 2), 6, ('N', 2, 1))\n",
      "(('C', 3, 1), 1, ('N', 2, 1))\n",
      "(('C', 2, 1), 16, ('S', 2, 1))\n",
      "(('C', 4, 0), 11, ('Si', 4, 0))\n",
      "(('N', 3, 0), 8, ('O', 2, 1))\n",
      "(('C', 1, 0), 12, ('C', 2, 2))\n",
      "(('C', 1, 0), 5, ('S', 2, 1))\n",
      "(('N', 3, 0), 8, ('S', 2, 0))\n",
      "(('C', 2, 1), 7, ('S', 1, 1))\n",
      "(('C', 2, 2), 7, ('S', 2, 1))\n",
      "(('C', 2, 1), 10, ('S', 4, 0))\n",
      "(('C', 3, 1), 26, ('O', 2, 0))\n",
      "(('C', 1, 0), 23, ('O', 1, 1))\n",
      "(('C', 1, 0), 6, ('S', 2, 1))\n",
      "(('C', 2, 1), 8, ('O', 1, 1))\n",
      "(('N', 3, 0), 18, ('N', 1, 2))\n",
      "(('C', 2, 1), 28, ('S', 2, 0))\n",
      "(('N', 3, 0), 11, ('O', 1, 1))\n",
      "(('O', 2, 0), 12, ('O', 2, 0))\n",
      "(('N', 3, 0), 10, ('N', 2, 1))\n",
      "(('C', 1, 0), 24, ('O', 1, 1))\n",
      "(('C', 1, 0), 7, ('N', 2, 1))\n",
      "(('N', 3, 1), 10, ('N', 3, 1))\n",
      "(('C', 2, 1), 9, ('S', 1, 1))\n",
      "(('O', 1, 1), 22, ('S', 2, 0))\n",
      "(('C', 2, 2), 26, ('O', 1, 1))\n",
      "(('C', 2, 2), 9, ('N', 2, 1))\n",
      "(('C', 4, 0), 14, ('Si', 4, 0))\n",
      "(('N', 3, 0), 28, ('O', 1, 1))\n",
      "(('N', 3, 0), 11, ('N', 2, 1))\n",
      "(('C', 1, 0), 25, ('O', 1, 1))\n",
      "(('C', 1, 0), 8, ('C', 2, 1))\n",
      "(('C', 2, 1), 20, ('C', 3, 1))\n",
      "(('C', 2, 1), 10, ('S', 1, 1))\n",
      "(('C', 1, 0), 26, ('C', 2, 0))\n",
      "(('C', 2, 2), 27, ('O', 1, 1))\n",
      "(('C', 2, 2), 10, ('N', 2, 1))\n",
      "(('C', 2, 1), 4, ('O', 2, 0))\n",
      "(('N', 3, 0), 12, ('N', 2, 1))\n",
      "(('C', 1, 0), 26, ('O', 1, 1))\n",
      "(('Si', 4, 0), 11, ('Si', 4, 0))\n",
      "(('C', 1, 0), 9, ('N', 2, 1))\n",
      "(('C', 2, 1), 11, ('O', 1, 1))\n",
      "(('C', 1, 0), 9, ('C', 3, 0))\n",
      "(('C', 2, 2), 11, ('N', 2, 1))\n",
      "(('C', 3, 1), 2, ('N', 2, 1))\n",
      "(('C', 2, 1), 17, ('S', 2, 1))\n",
      "(('N', 3, 0), 13, ('S', 2, 1))\n",
      "(('Si', 4, 0), 12, ('Si', 4, 0))\n",
      "(('C', 1, 0), 10, ('N', 2, 1))\n",
      "(('C', 2, 1), 17, ('N', 3, 1))\n",
      "(('C', 2, 2), 12, ('N', 2, 1))\n",
      "(('C', 3, 1), 16, ('O', 1, 1))\n",
      "(('C', 1, 0), 6, ('S', 2, 0))\n",
      "(('N', 3, 0), 14, ('S', 2, 1))\n",
      "(('C', 1, 0), 28, ('O', 1, 1))\n",
      "(('C', 1, 0), 11, ('C', 2, 1))\n",
      "(('C', 2, 1), 13, ('O', 1, 1))\n",
      "(('C', 2, 2), 30, ('O', 1, 1))\n",
      "(('C', 2, 2), 13, ('N', 2, 1))\n",
      "(('N', 3, 0), 12, ('O', 1, 1))\n",
      "(('C', 1, 0), 25, ('C', 2, 2))\n",
      "(('C', 1, 0), 29, ('S', 1, 1))\n",
      "(('C', 1, 0), 12, ('C', 2, 1))\n",
      "(('C', 2, 1), 14, ('O', 1, 1))\n",
      "(('C', 2, 2), 14, ('N', 2, 1))\n",
      "(('C', 1, 0), 13, ('S', 2, 1))\n",
      "(('C', 2, 1), 10, ('C', 2, 2))\n",
      "(('C', 2, 1), 21, ('C', 3, 1))\n",
      "(('O', 1, 0), 11, ('O', 2, 0))\n",
      "(('C', 2, 1), 15, ('S', 1, 1))\n",
      "(('C', 2, 0), 7, ('N', 1, 2))\n",
      "(('C', 1, 1), 13, ('C', 3, 1))\n",
      "(('C', 2, 2), 15, ('S', 2, 1))\n",
      "(('C', 2, 1), 5, ('O', 2, 0))\n",
      "(('N', 3, 0), 17, ('S', 2, 1))\n",
      "(('C', 1, 0), 14, ('C', 2, 1))\n",
      "(('N', 3, 1), 17, ('N', 3, 1))\n",
      "(('C', 2, 1), 16, ('S', 1, 1))\n",
      "(('C', 1, 0), 10, ('C', 3, 0))\n",
      "(('C', 3, 1), 3, ('N', 2, 1))\n",
      "(('C', 2, 1), 19, ('F', 1, 0))\n",
      "(('C', 1, 0), 15, ('C', 2, 1))\n",
      "(('C', 2, 1), 17, ('O', 1, 1))\n",
      "(('C', 2, 2), 17, ('S', 2, 1))\n",
      "(('C', 2, 1), 11, ('S', 1, 1))\n",
      "(('C', 2, 1), 12, ('S', 4, 0))\n",
      "(('C', 1, 0), 7, ('S', 2, 0))\n",
      "(('C', 1, 0), 20, ('N', 3, 1))\n",
      "(('O', 1, 0), 14, ('O', 2, 0))\n",
      "(('C', 2, 1), 18, ('O', 1, 1))\n",
      "(('C', 2, 1), 1, ('Se', 2, 1))\n",
      "(('C', 1, 1), 16, ('N', 3, 1))\n",
      "(('C', 3, 0), 14, ('C', 3, 1))\n",
      "(('C', 2, 1), 30, ('C', 2, 2))\n",
      "(('C', 4, 0), 23, ('C', 4, 0))\n",
      "(('N', 3, 0), 13, ('O', 1, 1))\n",
      "(('O', 2, 0), 14, ('O', 2, 0))\n",
      "(('N', 3, 0), 20, ('S', 2, 1))\n",
      "(('C', 2, 2), 17, ('N', 3, 0))\n",
      "(('C', 1, 2), 5, ('C', 2, 2))\n",
      "(('C', 2, 0), 2, ('O', 1, 1))\n",
      "(('C', 1, 0), 17, ('C', 2, 1))\n",
      "(('C', 2, 1), 19, ('O', 1, 1))\n",
      "(('C', 2, 1), 2, ('N', 2, 1))\n",
      "(('C', 1, 1), 17, ('N', 3, 1))\n",
      "(('C', 1, 0), 21, ('O', 2, 0))\n",
      "(('C', 2, 1), 23, ('O', 1, 0))\n",
      "(('N', 3, 0), 4, ('N', 3, 1))\n",
      "(('C', 2, 0), 3, ('S', 1, 1))\n",
      "(('C', 1, 0), 18, ('C', 2, 1))\n",
      "(('C', 2, 1), 20, ('S', 1, 1))\n",
      "(('C', 2, 1), 3, ('S', 2, 1))\n",
      "(('C', 1, 1), 18, ('C', 3, 1))\n",
      "(('C', 2, 2), 6, ('N', 1, 2))\n",
      "(('C', 2, 2), 20, ('S', 2, 1))\n",
      "(('N', 3, 0), 22, ('S', 2, 1))\n",
      "(('N', 3, 0), 5, ('N', 3, 1))\n",
      "(('C', 2, 0), 4, ('O', 1, 1))\n",
      "(('C', 1, 0), 19, ('C', 2, 1))\n",
      "(('C', 1, 0), 2, ('C', 3, 1))\n",
      "(('C', 1, 0), 11, ('C', 3, 0))\n",
      "(('C', 2, 1), 4, ('S', 2, 1))\n",
      "(('C', 2, 2), 21, ('N', 2, 1))\n",
      "(('C', 3, 1), 4, ('N', 2, 1))\n",
      "(('C', 2, 2), 4, ('N', 3, 1))\n",
      "(('C', 2, 1), 19, ('S', 2, 1))\n",
      "(('N', 3, 0), 6, ('N', 3, 1))\n",
      "(('C', 1, 0), 20, ('S', 2, 1))\n",
      "(('C', 1, 0), 3, ('C', 3, 1))\n",
      "(('C', 2, 1), 22, ('O', 1, 1))\n",
      "(('C', 2, 1), 5, ('S', 2, 1))\n",
      "(('N', 3, 0), 2, ('S', 1, 1))\n",
      "(('C', 2, 2), 5, ('N', 3, 1))\n",
      "(('C', 2, 1), 13, ('S', 4, 0))\n",
      "(('N', 3, 0), 3, ('S', 2, 1))\n",
      "(('C', 3, 1), 29, ('O', 2, 0))\n",
      "(('N', 3, 0), 4, ('O', 1, 1))\n",
      "(('C', 2, 0), 6, ('O', 1, 1))\n",
      "(('C', 1, 0), 21, ('N', 2, 1))\n",
      "(('N', 3, 0), 5, ('N', 3, 0))\n",
      "(('C', 2, 1), 23, ('O', 1, 1))\n",
      "(('C', 2, 1), 6, ('N', 2, 1))\n",
      "(('N', 3, 0), 6, ('O', 2, 1))\n",
      "(('N', 3, 0), 7, ('N', 2, 1))\n",
      "(('C', 3, 1), 1, ('O', 2, 1))\n",
      "(('N', 3, 0), 8, ('O', 1, 0))\n",
      "(('N', 3, 0), 9, ('N', 2, 1))\n",
      "(('N', 3, 0), 8, ('N', 3, 1))\n",
      "(('C', 2, 0), 7, ('O', 1, 1))\n",
      "(('C', 1, 0), 22, ('C', 2, 1))\n",
      "(('N', 3, 0), 10, ('S', 2, 0))\n",
      "(('O', 2, 0), 5, ('F', 1, 0))\n",
      "(('C', 2, 1), 24, ('O', 1, 1))\n",
      "(('C', 2, 1), 7, ('S', 2, 1))\n",
      "(('N', 3, 0), 11, ('S', 2, 1))\n",
      "(('C', 4, 0), 16, ('O', 1, 0))\n",
      "(('N', 3, 0), 12, ('F', 1, 0))\n",
      "(('C', 2, 2), 7, ('N', 3, 1))\n",
      "(('N', 3, 0), 13, ('O', 1, 0))\n",
      "(('N', 3, 0), 14, ('O', 1, 0))\n",
      "(('C', 2, 0), 8, ('O', 1, 1))\n",
      "(('C', 1, 0), 23, ('S', 2, 1))\n",
      "(('C', 1, 0), 6, ('N', 3, 1))\n",
      "(('O', 2, 0), 6, ('F', 1, 0))\n",
      "(('C', 2, 1), 25, ('O', 1, 1))\n",
      "(('C', 2, 1), 8, ('C', 2, 1))\n",
      "(('N', 3, 0), 16, ('N', 1, 2))\n",
      "(('N', 3, 0), 17, ('N', 1, 2))\n",
      "(('C', 2, 2), 8, ('N', 3, 1))\n",
      "(('N', 3, 0), 18, ('O', 1, 0))\n",
      "(('N', 3, 0), 19, ('O', 1, 1))\n",
      "(('N', 3, 0), 10, ('N', 3, 1))\n",
      "(('C', 1, 0), 24, ('C', 2, 1))\n",
      "(('C', 1, 0), 7, ('C', 3, 1))\n",
      "(('O', 2, 0), 7, ('F', 1, 0))\n",
      "(('O', 1, 0), 22, ('O', 2, 0))\n",
      "(('C', 2, 1), 26, ('O', 1, 1))\n",
      "(('C', 1, 0), 12, ('C', 3, 0))\n",
      "(('C', 2, 1), 9, ('N', 2, 1))\n",
      "(('N', 3, 0), 21, ('S', 2, 1))\n",
      "(('C', 3, 1), 5, ('N', 2, 1))\n",
      "(('C', 3, 1), 16, ('N', 3, 0))\n",
      "(('C', 2, 1), 20, ('S', 2, 1))\n",
      "(('N', 3, 0), 23, ('S', 2, 1))\n",
      "(('N', 3, 0), 11, ('N', 3, 1))\n",
      "(('C', 1, 0), 8, ('C', 3, 1))\n",
      "(('C', 2, 1), 27, ('O', 1, 1))\n",
      "(('C', 2, 1), 10, ('N', 2, 1))\n",
      "(('N', 3, 0), 27, ('N', 3, 0))\n",
      "(('C', 4, 0), 11, ('N', 2, 1))\n",
      "(('N', 1, 2), 7, ('O', 1, 0))\n",
      "(('C', 2, 1), 27, ('N', 3, 1))\n",
      "(('C', 1, 0), 9, ('S', 2, 0))\n",
      "(('N', 3, 0), 12, ('N', 3, 1))\n",
      "(('C', 1, 0), 26, ('C', 2, 1))\n",
      "(('C', 1, 0), 9, ('C', 3, 1))\n",
      "(('O', 2, 0), 9, ('F', 1, 0))\n",
      "(('C', 2, 1), 11, ('C', 2, 1))\n",
      "(('O', 1, 1), 7, ('Si', 4, 0))\n",
      "(('C', 3, 1), 2, ('O', 2, 1))\n",
      "(('N', 1, 2), 8, ('N', 1, 2))\n",
      "(('C', 2, 0), 8, ('O', 1, 0))\n",
      "(('C', 1, 0), 28, ('C', 2, 2))\n",
      "(('N', 3, 0), 13, ('N', 3, 1))\n",
      "(('C', 2, 0), 12, ('O', 1, 1))\n",
      "(('C', 1, 0), 27, ('C', 2, 1))\n",
      "(('C', 1, 0), 10, ('N', 3, 1))\n",
      "(('C', 2, 1), 29, ('S', 1, 1))\n",
      "(('C', 2, 1), 12, ('N', 2, 1))\n",
      "(('C', 1, 0), 14, ('O', 1, 0))\n",
      "(('O', 1, 1), 8, ('Si', 4, 0))\n",
      "(('C', 4, 0), 8, ('O', 2, 1))\n",
      "(('N', 1, 2), 9, ('O', 1, 0))\n",
      "(('C', 2, 1), 25, ('O', 1, 0))\n",
      "(('C', 2, 0), 13, ('O', 1, 1))\n",
      "(('C', 1, 0), 28, ('S', 2, 1))\n",
      "(('C', 1, 0), 11, ('C', 3, 1))\n",
      "(('C', 2, 1), 30, ('O', 1, 1))\n",
      "(('C', 2, 1), 13, ('S', 2, 1))\n",
      "(('C', 2, 2), 13, ('N', 3, 1))\n",
      "(('C', 2, 0), 14, ('O', 1, 1))\n",
      "(('C', 1, 0), 29, ('S', 2, 1))\n",
      "(('C', 1, 0), 12, ('C', 3, 1))\n",
      "(('O', 2, 0), 12, ('F', 1, 0))\n",
      "(('C', 1, 0), 5, ('S', 2, 0))\n",
      "(('C', 2, 0), 4, ('N', 3, 1))\n",
      "(('C', 2, 1), 14, ('C', 2, 1))\n",
      "(('C', 3, 1), 6, ('N', 2, 1))\n",
      "(('N', 1, 2), 11, ('N', 1, 2))\n",
      "(('C', 2, 1), 22, ('F', 1, 0))\n",
      "(('C', 2, 0), 15, ('C', 1, 1))\n",
      "(('C', 1, 0), 30, ('S', 2, 1))\n",
      "(('C', 1, 0), 13, ('C', 3, 1))\n",
      "(('N', 3, 0), 13, ('S', 2, 0))\n",
      "(('C', 2, 1), 15, ('S', 2, 1))\n",
      "(('C', 2, 2), 15, ('N', 3, 1))\n",
      "(('C', 2, 0), 16, ('O', 1, 1))\n",
      "(('C', 1, 0), 23, ('C', 2, 2))\n",
      "(('C', 1, 0), 14, ('N', 3, 1))\n",
      "(('C', 3, 1), 1, ('S', 1, 1))\n",
      "(('C', 2, 1), 16, ('C', 2, 1))\n",
      "(('C', 4, 0), 2, ('F', 1, 0))\n",
      "(('C', 2, 2), 16, ('N', 3, 1))\n",
      "(('C', 3, 1), 3, ('O', 2, 1))\n",
      "(('C', 2, 0), 9, ('O', 1, 0))\n",
      "(('C', 1, 0), 24, ('C', 2, 2))\n",
      "(('C', 2, 0), 17, ('O', 1, 1))\n",
      "(('C', 1, 0), 15, ('N', 3, 1))\n",
      "(('C', 3, 1), 2, ('O', 1, 1))\n",
      "(('C', 2, 1), 17, ('N', 2, 1))\n",
      "(('C', 2, 0), 18, ('O', 1, 1))\n",
      "(('C', 2, 1), 14, ('C', 2, 2))\n",
      "(('C', 1, 0), 16, ('C', 3, 1))\n",
      "(('O', 2, 0), 16, ('F', 1, 0))\n",
      "(('C', 2, 0), 14, ('C', 4, 0))\n",
      "(('C', 3, 1), 3, ('S', 1, 1))\n",
      "(('C', 2, 1), 18, ('S', 2, 1))\n",
      "(('C', 2, 1), 1, ('C', 3, 1))\n",
      "(('C', 4, 0), 5, ('C', 1, 2))\n",
      "(('C', 2, 1), 9, ('O', 2, 0))\n",
      "(('N', 1, 2), 15, ('O', 1, 0))\n",
      "(('O', 1, 0), 5, ('O', 2, 1))\n",
      "(('C', 3, 1), 18, ('S', 2, 0))\n",
      "(('C', 2, 0), 2, ('C', 2, 1))\n",
      "(('C', 1, 0), 17, ('N', 3, 1))\n",
      "(('C', 3, 1), 4, ('S', 1, 1))\n",
      "(('C', 2, 1), 19, ('C', 2, 1))\n",
      "(('C', 2, 1), 2, ('N', 3, 1))\n",
      "(('N', 1, 2), 16, ('O', 1, 0))\n",
      "(('C', 2, 0), 3, ('C', 2, 1))\n",
      "(('C', 1, 0), 18, ('N', 3, 1))\n",
      "(('C', 2, 1), 22, ('N', 3, 1))\n",
      "(('C', 3, 1), 5, ('S', 1, 1))\n",
      "(('C', 2, 1), 20, ('C', 2, 1))\n",
      "(('C', 2, 1), 3, ('N', 3, 1))\n",
      "(('C', 2, 1), 16, ('S', 4, 0))\n",
      "(('C', 1, 0), 11, ('S', 2, 0))\n",
      "(('C', 2, 0), 4, ('S', 2, 1))\n",
      "(('C', 1, 0), 19, ('C', 3, 1))\n",
      "(('C', 3, 1), 6, ('O', 1, 1))\n",
      "(('C', 2, 1), 21, ('S', 2, 1))\n",
      "(('C', 2, 1), 4, ('N', 3, 1))\n",
      "(('C', 3, 0), 5, ('C', 3, 0))\n",
      "(('C', 3, 1), 4, ('O', 2, 1))\n",
      "(('N', 1, 2), 18, ('O', 1, 0))\n",
      "(('C', 2, 0), 5, ('S', 2, 1))\n",
      "(('C', 1, 0), 20, ('C', 3, 1))\n",
      "(('C', 3, 1), 7, ('S', 1, 1))\n",
      "(('C', 2, 1), 22, ('S', 2, 1))\n",
      "(('C', 2, 1), 5, ('C', 3, 1))\n",
      "(('C', 2, 1), 27, ('O', 1, 0))\n",
      "(('C', 2, 0), 6, ('S', 2, 1))\n",
      "(('C', 1, 0), 21, ('C', 3, 1))\n",
      "(('O', 2, 0), 4, ('O', 2, 0))\n",
      "(('C', 3, 1), 8, ('O', 1, 1))\n",
      "(('C', 2, 1), 23, ('S', 2, 1))\n",
      "(('C', 2, 1), 6, ('N', 3, 1))\n",
      "(('C', 3, 1), 8, ('S', 1, 1))\n",
      "(('C', 3, 1), 19, ('S', 2, 0))\n",
      "(('C', 2, 0), 7, ('C', 2, 1))\n",
      "(('C', 1, 0), 22, ('C', 3, 1))\n",
      "(('C', 3, 1), 9, ('O', 1, 1))\n",
      "(('C', 2, 1), 24, ('C', 2, 1))\n",
      "(('C', 2, 1), 7, ('C', 3, 1))\n",
      "(('Si', 4, 0), 3, ('S', 2, 1))\n",
      "(('Si', 4, 0), 5, ('S', 2, 1))\n",
      "(('Si', 4, 0), 6, ('S', 2, 1))\n",
      "(('Si', 4, 0), 7, ('S', 2, 1))\n",
      "(('Si', 4, 0), 8, ('S', 2, 1))\n",
      "(('Si', 4, 0), 9, ('Si', 4, 0))\n",
      "(('Si', 4, 0), 10, ('S', 2, 1))\n",
      "(('Si', 4, 0), 11, ('S', 2, 1))\n",
      "(('Si', 4, 0), 12, ('S', 2, 1))\n",
      "(('Si', 4, 0), 13, ('S', 2, 1))\n",
      "(('Si', 4, 0), 14, ('S', 2, 1))\n",
      "(('Si', 4, 0), 16, ('S', 2, 1))\n",
      "(('Si', 4, 0), 17, ('S', 2, 1))\n",
      "(('Si', 4, 0), 18, ('S', 2, 1))\n",
      "(('Si', 4, 0), 20, ('S', 2, 1))\n",
      "(('N', 3, 1), 8, ('O', 1, 0))\n",
      "(('C', 1, 0), 23, ('C', 3, 1))\n",
      "(('C', 3, 1), 10, ('O', 1, 1))\n",
      "(('C', 2, 1), 25, ('S', 2, 1))\n",
      "(('C', 2, 1), 8, ('N', 3, 1))\n",
      "(('S', 2, 0), 2, ('S', 2, 0))\n",
      "(('C', 2, 1), 12, ('S', 1, 1))\n",
      "(('C', 2, 1), 17, ('S', 4, 0))\n",
      "(('N', 1, 2), 22, ('N', 1, 2))\n",
      "(('C', 1, 0), 21, ('N', 3, 1))\n",
      "(('C', 2, 0), 9, ('S', 2, 1))\n",
      "(('C', 1, 0), 24, ('C', 3, 1))\n",
      "(('O', 2, 0), 7, ('O', 2, 0))\n",
      "(('C', 3, 1), 11, ('O', 1, 1))\n",
      "(('C', 2, 1), 26, ('S', 2, 1))\n",
      "(('C', 2, 1), 9, ('C', 3, 1))\n",
      "(('S', 2, 0), 3, ('S', 2, 0))\n",
      "(('C', 3, 0), 6, ('C', 3, 0))\n",
      "(('C', 3, 1), 5, ('O', 2, 1))\n",
      "(('N', 1, 2), 23, ('N', 1, 2))\n",
      "(('C', 2, 0), 10, ('N', 2, 1))\n",
      "(('C', 1, 0), 25, ('C', 3, 1))\n",
      "(('O', 2, 0), 8, ('O', 2, 0))\n",
      "(('C', 3, 1), 12, ('O', 1, 1))\n",
      "(('C', 2, 1), 27, ('S', 2, 1))\n",
      "(('C', 2, 1), 10, ('C', 3, 1))\n",
      "(('C', 2, 1), 28, ('O', 1, 0))\n",
      "(('C', 2, 0), 11, ('N', 2, 1))\n",
      "(('C', 1, 0), 26, ('C', 3, 1))\n",
      "(('C', 3, 1), 13, ('S', 1, 1))\n",
      "(('C', 2, 1), 28, ('C', 2, 1))\n",
      "(('C', 2, 1), 11, ('N', 3, 1))\n",
      "(('C', 2, 1), 11, ('O', 2, 0))\n",
      "(('N', 1, 2), 8, ('O', 2, 0))\n",
      "(('C', 3, 1), 22, ('O', 1, 0))\n",
      "(('C', 3, 1), 20, ('S', 2, 0))\n",
      "(('C', 2, 0), 12, ('C', 2, 1))\n",
      "(('C', 1, 0), 27, ('C', 3, 1))\n",
      "(('C', 3, 1), 14, ('O', 1, 1))\n",
      "(('C', 2, 1), 29, ('S', 2, 1))\n",
      "(('C', 2, 1), 12, ('C', 3, 1))\n",
      "(('C', 3, 1), 10, ('C', 2, 2))\n",
      "(('C', 3, 1), 9, ('N', 2, 1))\n",
      "(('C', 3, 1), 20, ('N', 3, 0))\n",
      "(('C', 2, 1), 24, ('S', 2, 1))\n",
      "(('C', 2, 0), 13, ('S', 2, 1))\n",
      "(('O', 2, 0), 11, ('O', 2, 0))\n",
      "(('C', 3, 1), 15, ('O', 1, 1))\n",
      "(('C', 2, 1), 30, ('C', 2, 1))\n",
      "(('C', 2, 1), 13, ('C', 3, 1))\n",
      "(('C', 3, 1), 13, ('S', 2, 0))\n",
      "(('C', 4, 0), 15, ('N', 2, 1))\n",
      "(('N', 1, 2), 27, ('O', 1, 0))\n",
      "(('C', 1, 0), 13, ('S', 2, 0))\n",
      "(('C', 1, 0), 29, ('C', 3, 1))\n",
      "(('O', 2, 0), 12, ('S', 2, 0))\n",
      "(('C', 1, 0), 2, ('N', 2, 1))\n",
      "(('C', 1, 0), 13, ('N', 3, 0))\n",
      "(('C', 2, 1), 14, ('C', 3, 1))\n",
      "(('C', 3, 0), 7, ('C', 3, 0))\n",
      "(('C', 2, 2), 21, ('O', 2, 0))\n",
      "(('C', 3, 1), 6, ('O', 2, 1))\n",
      "(('N', 1, 2), 28, ('N', 1, 2))\n",
      "(('N', 1, 2), 11, ('O', 2, 0))\n",
      "(('C', 2, 0), 12, ('O', 1, 0))\n",
      "(('C', 1, 0), 11, ('Si', 4, 0))\n",
      "(('C', 3, 1), 17, ('O', 1, 1))\n",
      "(('C', 2, 1), 15, ('C', 3, 1))\n",
      "(('C', 3, 1), 2, ('C', 1, 2))\n",
      "(('N', 3, 1), 5, ('N', 3, 1))\n",
      "(('C', 3, 1), 5, ('O', 2, 0))\n",
      "(('O', 2, 0), 14, ('S', 2, 0))\n",
      "(('C', 3, 1), 18, ('O', 1, 1))\n",
      "(('C', 2, 0), 14, ('N', 1, 2))\n",
      "(('C', 3, 1), 1, ('S', 2, 1))\n",
      "(('C', 2, 1), 16, ('N', 3, 1))\n",
      "(('C', 2, 1), 12, ('O', 2, 0))\n",
      "(('C', 3, 1), 10, ('S', 1, 1))\n",
      "(('C', 3, 1), 21, ('S', 2, 0))\n",
      "(('C', 4, 0), 11, ('O', 2, 0))\n",
      "(('C', 1, 0), 6, ('C', 2, 1))\n",
      "(('C', 3, 1), 19, ('O', 1, 1))\n",
      "(('C', 3, 1), 2, ('S', 2, 1))\n",
      "(('C', 2, 1), 17, ('C', 3, 1))\n",
      "(('C', 3, 1), 10, ('N', 2, 1))\n",
      "(('C', 3, 1), 21, ('N', 3, 0))\n",
      "(('C', 2, 2), 12, ('S', 2, 1))\n",
      "(('C', 2, 0), 18, ('S', 2, 1))\n",
      "(('C', 2, 0), 1, ('C', 3, 1))\n",
      "(('O', 2, 0), 16, ('O', 2, 0))\n",
      "(('C', 3, 1), 20, ('O', 1, 1))\n",
      "(('C', 3, 1), 3, ('S', 2, 1))\n",
      "(('C', 2, 1), 18, ('N', 3, 1))\n",
      "(('N', 3, 0), 17, ('N', 3, 0))\n",
      "(('C', 1, 0), 3, ('S', 1, 1))\n",
      "(('C', 2, 0), 2, ('C', 3, 1))\n",
      "(('C', 3, 1), 21, ('O', 1, 1))\n",
      "(('C', 3, 1), 4, ('S', 2, 1))\n",
      "(('C', 2, 1), 19, ('N', 3, 1))\n",
      "(('C', 2, 1), 9, ('O', 2, 1))\n",
      "(('C', 3, 1), 7, ('O', 2, 1))\n",
      "(('C', 2, 0), 13, ('O', 1, 0))\n",
      "(('C', 2, 0), 3, ('C', 3, 1))\n",
      "(('C', 3, 1), 22, ('O', 1, 1))\n",
      "(('C', 3, 1), 5, ('S', 2, 1))\n",
      "(('C', 2, 1), 20, ('N', 3, 1))\n",
      "(('C', 3, 1), 3, ('C', 1, 2))\n",
      "(('C', 1, 0), 17, ('O', 1, 1))\n",
      "(('S', 2, 0), 14, ('S', 2, 0))\n",
      "(('N', 1, 2), 17, ('O', 2, 0))\n",
      "(('C', 2, 0), 4, ('C', 3, 1))\n",
      "(('C', 3, 1), 23, ('S', 1, 1))\n",
      "(('C', 3, 1), 6, ('S', 2, 1))\n",
      "(('C', 2, 1), 21, ('N', 3, 1))\n",
      "(('C', 2, 0), 3, ('C', 2, 0))\n",
      "(('C', 3, 0), 5, ('N', 3, 0))\n",
      "(('C', 2, 1), 13, ('O', 2, 0))\n",
      "(('C', 3, 1), 11, ('S', 1, 1))\n",
      "(('C', 3, 1), 22, ('S', 2, 0))\n",
      "(('C', 1, 0), 7, ('C', 2, 1))\n",
      "(('C', 3, 1), 24, ('O', 1, 1))\n",
      "(('C', 3, 1), 7, ('N', 2, 1))\n",
      "(('C', 2, 1), 22, ('C', 3, 1))\n",
      "(('S', 2, 0), 16, ('S', 2, 0))\n",
      "(('C', 1, 0), 14, ('C', 2, 2))\n",
      "(('C', 2, 0), 23, ('S', 2, 1))\n",
      "(('C', 1, 0), 1, ('C', 4, 0))\n",
      "(('C', 2, 0), 6, ('C', 3, 1))\n",
      "(('O', 2, 0), 21, ('O', 2, 0))\n",
      "(('C', 3, 1), 8, ('N', 2, 1))\n",
      "(('C', 2, 1), 23, ('N', 3, 1))\n",
      "(('C', 4, 0), 17, ('N', 2, 1))\n",
      "(('C', 1, 0), 15, ('S', 2, 0))\n",
      "(('C', 2, 0), 24, ('S', 2, 1))\n",
      "(('C', 1, 0), 4, ('N', 2, 1))\n",
      "(('C', 3, 1), 9, ('S', 2, 1))\n",
      "(('C', 3, 1), 8, ('O', 2, 1))\n",
      "(('N', 1, 2), 21, ('O', 2, 0))\n",
      "(('O', 2, 0), 23, ('O', 2, 0))\n",
      "(('C', 3, 1), 27, ('O', 1, 1))\n",
      "(('C', 3, 1), 10, ('S', 2, 1))\n",
      "(('C', 2, 1), 25, ('C', 3, 1))\n",
      "(('C', 3, 1), 4, ('C', 1, 2))\n",
      "(('N', 1, 2), 22, ('O', 2, 0))\n",
      "(('C', 2, 0), 9, ('C', 3, 1))\n",
      "(('C', 2, 0), 15, ('C', 4, 0))\n",
      "(('C', 3, 1), 28, ('O', 1, 1))\n",
      "(('C', 3, 1), 11, ('N', 2, 1))\n",
      "(('C', 2, 1), 26, ('C', 3, 1))\n",
      "(('S', 2, 0), 20, ('S', 2, 0))\n",
      "(('C', 2, 1), 14, ('O', 2, 0))\n",
      "(('N', 1, 2), 23, ('O', 2, 0))\n",
      "(('C', 3, 1), 12, ('S', 1, 1))\n",
      "(('C', 4, 0), 5, ('O', 1, 0))\n",
      "(('C', 2, 0), 10, ('C', 3, 1))\n",
      "(('C', 3, 1), 29, ('S', 1, 1))\n",
      "(('C', 3, 1), 12, ('N', 2, 1))\n",
      "(('C', 2, 1), 27, ('C', 3, 1))\n",
      "(('S', 2, 0), 21, ('S', 2, 0))\n",
      "(('C', 1, 0), 5, ('C', 2, 0))\n",
      "(('C', 2, 0), 11, ('C', 3, 1))\n",
      "(('O', 2, 0), 26, ('O', 2, 0))\n",
      "(('C', 3, 1), 30, ('O', 1, 1))\n",
      "(('C', 3, 1), 13, ('S', 2, 1))\n",
      "(('C', 2, 1), 28, ('C', 3, 1))\n",
      "(('N', 3, 0), 8, ('N', 2, 1))\n",
      "(('C', 3, 1), 6, ('C', 1, 2))\n",
      "(('C', 1, 0), 5, ('N', 2, 1))\n",
      "(('C', 3, 1), 14, ('S', 2, 1))\n",
      "(('C', 2, 1), 29, ('C', 3, 1))\n",
      "(('C', 3, 1), 9, ('O', 2, 1))\n",
      "(('C', 2, 0), 13, ('N', 3, 1))\n",
      "(('O', 2, 0), 28, ('O', 2, 0))\n",
      "(('C', 3, 1), 15, ('S', 2, 1))\n",
      "(('C', 2, 1), 30, ('C', 3, 1))\n",
      "(('C', 3, 1), 5, ('C', 1, 2))\n",
      "(('C', 1, 0), 19, ('O', 1, 1))\n",
      "(('N', 3, 0), 5, ('O', 2, 1))\n",
      "(('C', 2, 0), 14, ('N', 3, 1))\n",
      "(('C', 1, 0), 12, ('F', 1, 0))\n",
      "(('C', 2, 2), 7, ('N', 2, 1))\n",
      "(('C', 2, 0), 5, ('C', 2, 0))\n",
      "(('C', 3, 1), 24, ('S', 2, 0))\n",
      "(('C', 2, 0), 15, ('C', 3, 1))\n",
      "(('C', 1, 0), 9, ('C', 2, 1))\n",
      "(('C', 3, 1), 17, ('S', 2, 1))\n",
      "(('C', 3, 1), 2, ('N', 1, 2))\n",
      "(('C', 3, 1), 13, ('N', 2, 1))\n",
      "(('C', 2, 2), 21, ('O', 1, 1))\n",
      "(('C', 2, 1), 28, ('S', 2, 1))\n",
      "(('C', 2, 2), 8, ('N', 3, 0))\n",
      "(('N', 2, 1), 1, ('N', 2, 1))\n",
      "(('C', 2, 0), 16, ('N', 3, 1))\n",
      "(('N', 2, 1), 2, ('S', 2, 1))\n",
      "(('C', 3, 1), 1, ('N', 3, 1))\n",
      "(('C', 2, 2), 4, ('O', 2, 1))\n",
      "(('N', 2, 1), 3, ('N', 2, 1))\n",
      "(('C', 2, 1), 13, ('S', 1, 1))\n",
      "(('N', 2, 1), 4, ('N', 2, 1))\n",
      "(('C', 1, 0), 17, ('S', 2, 0))\n",
      "(('N', 2, 1), 5, ('S', 2, 1))\n",
      "(('C', 1, 0), 22, ('N', 3, 1))\n",
      "(('N', 2, 1), 6, ('N', 2, 1))\n",
      "(('C', 2, 0), 17, ('C', 3, 1))\n",
      "(('C', 1, 0), 6, ('N', 2, 1))\n",
      "(('N', 2, 1), 7, ('S', 2, 1))\n",
      "(('C', 3, 1), 2, ('C', 3, 1))\n",
      "(('N', 2, 1), 8, ('O', 2, 0))\n",
      "(('C', 3, 1), 10, ('O', 2, 1))\n",
      "(('N', 2, 1), 9, ('O', 2, 0))\n",
      "(('N', 2, 1), 10, ('N', 2, 1))\n",
      "(('N', 2, 1), 11, ('N', 2, 1))\n",
      "(('C', 2, 0), 18, ('C', 3, 1))\n",
      "(('C', 3, 1), 20, ('N', 2, 1))\n",
      "(('C', 3, 1), 3, ('C', 3, 1))\n",
      "(('C', 1, 0), 20, ('O', 1, 1))\n",
      "(('N', 2, 1), 13, ('N', 2, 1))\n",
      "(('N', 2, 1), 14, ('O', 2, 0))\n",
      "(('N', 2, 1), 15, ('O', 2, 0))\n",
      "(('C', 3, 1), 1, ('O', 1, 0))\n",
      "(('C', 2, 1), 21, ('C', 2, 2))\n",
      "(('N', 2, 1), 16, ('N', 3, 1))\n",
      "(('C', 3, 1), 21, ('S', 2, 1))\n",
      "(('C', 3, 1), 4, ('C', 3, 1))\n",
      "(('C', 2, 2), 8, ('N', 2, 1))\n",
      "(('N', 2, 1), 18, ('N', 2, 1))\n",
      "(('C', 2, 1), 16, ('O', 2, 0))\n",
      "(('N', 2, 1), 19, ('N', 2, 1))\n",
      "(('N', 2, 1), 20, ('S', 2, 1))\n",
      "(('C', 3, 1), 14, ('S', 1, 1))\n",
      "(('C', 3, 1), 25, ('S', 2, 0))\n",
      "(('C', 4, 0), 7, ('O', 1, 0))\n",
      "(('N', 2, 1), 21, ('O', 1, 1))\n",
      "(('C', 2, 2), 6, ('O', 2, 0))\n",
      "(('C', 2, 0), 12, ('N', 3, 1))\n",
      "(('C', 3, 1), 22, ('S', 2, 1))\n",
      "(('C', 3, 1), 5, ('C', 3, 1))\n",
      "(('N', 3, 1), 14, ('O', 1, 0))\n",
      "(('C', 3, 0), 6, ('S', 2, 1))\n",
      "(('C', 3, 1), 23, ('S', 2, 1))\n",
      "(('C', 3, 1), 6, ('C', 3, 1))\n",
      "(('C', 2, 0), 12, ('S', 2, 1))\n",
      "(('C', 3, 0), 7, ('S', 2, 1))\n",
      "(('C', 3, 1), 24, ('S', 2, 1))\n",
      "(('C', 3, 1), 7, ('N', 3, 1))\n",
      "(('C', 3, 0), 1, ('C', 2, 1))\n",
      "(('N', 3, 1), 1, ('O', 1, 1))\n",
      "(('N', 2, 1), 4, ('F', 1, 0))\n",
      "(('C', 3, 1), 11, ('O', 2, 1))\n",
      "(('C', 2, 1), 3, ('S', 2, 0))\n",
      "(('C', 3, 0), 8, ('S', 2, 1))\n",
      "(('C', 2, 0), 23, ('C', 3, 1))\n",
      "(('N', 3, 1), 5, ('S', 2, 1))\n",
      "(('C', 3, 1), 7, ('C', 1, 2))\n",
      "(('N', 3, 1), 6, ('N', 3, 1))\n",
      "(('N', 2, 1), 5, ('F', 1, 0))\n",
      "(('N', 3, 1), 7, ('N', 1, 2))\n",
      "(('N', 3, 1), 8, ('O', 1, 1))\n",
      "(('C', 2, 1), 22, ('C', 2, 2))\n",
      "(('C', 3, 0), 9, ('N', 2, 1))\n",
      "(('C', 2, 0), 24, ('C', 3, 1))\n",
      "(('C', 3, 1), 26, ('S', 2, 1))\n",
      "(('O', 2, 0), 5, ('Si', 4, 0))\n",
      "(('N', 3, 1), 11, ('S', 2, 1))\n",
      "(('N', 3, 1), 12, ('O', 2, 0))\n",
      "(('N', 3, 1), 13, ('O', 1, 1))\n",
      "(('C', 3, 1), 26, ('S', 2, 0))\n",
      "(('N', 3, 1), 14, ('O', 1, 1))\n",
      "(('N', 3, 1), 15, ('S', 2, 1))\n",
      "(('F', 1, 0), 3, ('S', 2, 1))\n",
      "(('C', 1, 0), 4, ('C', 4, 0))\n",
      "(('N', 3, 1), 17, ('N', 1, 2))\n",
      "(('N', 3, 1), 18, ('O', 2, 0))\n",
      "(('C', 3, 0), 11, ('C', 2, 1))\n",
      "(('C', 3, 1), 28, ('S', 2, 1))\n",
      "(('C', 3, 1), 11, ('N', 3, 1))\n",
      "(('N', 3, 1), 21, ('O', 2, 0))\n",
      "(('C', 1, 0), 8, ('S', 1, 1))\n",
      "(('C', 1, 0), 1, ('N', 3, 1))\n",
      "(('C', 1, 0), 2, ('C', 1, 0))\n",
      "(('N', 3, 1), 24, ('O', 1, 0))\n",
      "(('C', 4, 0), 5, ('F', 1, 0))\n",
      "(('C', 1, 0), 3, ('S', 2, 1))\n",
      "(('C', 3, 1), 29, ('S', 2, 1))\n",
      "(('O', 2, 0), 8, ('Si', 4, 0))\n",
      "(('C', 1, 0), 4, ('C', 2, 1))\n",
      "(('C', 3, 0), 2, ('C', 2, 1))\n",
      "(('N', 2, 1), 9, ('O', 1, 0))\n",
      "(('C', 1, 0), 5, ('N', 3, 0))\n",
      "(('C', 1, 0), 6, ('O', 2, 0))\n",
      "(('C', 1, 0), 7, ('S', 2, 1))\n",
      "(('C', 1, 0), 8, ('N', 2, 1))\n",
      "(('C', 3, 1), 30, ('S', 2, 1))\n",
      "(('O', 2, 0), 9, ('S', 4, 0))\n",
      "(('C', 3, 1), 13, ('N', 3, 1))\n",
      "(('C', 2, 1), 4, ('N', 3, 0))\n",
      "(('F', 1, 0), 6, ('S', 2, 1))\n",
      "(('N', 2, 1), 10, ('O', 1, 0))\n",
      "(('C', 1, 0), 10, ('C', 2, 1))\n",
      "(('C', 3, 1), 9, ('F', 1, 0))\n",
      "(('C', 1, 0), 11, ('S', 2, 1))\n",
      "(('C', 2, 2), 21, ('S', 2, 0))\n",
      "(('C', 1, 0), 12, ('Si', 4, 0))\n",
      "(('C', 3, 0), 14, ('S', 2, 1))\n",
      "(('C', 1, 0), 13, ('O', 2, 0))\n",
      "(('O', 2, 0), 10, ('Si', 4, 0))\n",
      "(('C', 1, 0), 14, ('S', 2, 1))\n",
      "(('N', 2, 1), 11, ('F', 1, 0))\n",
      "(('C', 1, 0), 15, ('C', 1, 0))\n",
      "(('N', 3, 0), 2, ('O', 2, 0))\n",
      "(('C', 1, 0), 16, ('S', 2, 1))\n",
      "(('C', 1, 0), 17, ('S', 2, 1))\n",
      "(('C', 3, 1), 27, ('S', 2, 0))\n",
      "(('C', 1, 0), 18, ('O', 2, 0))\n",
      "(('C', 1, 0), 19, ('S', 2, 1))\n",
      "(('F', 1, 0), 8, ('S', 2, 1))\n",
      "(('N', 2, 1), 12, ('F', 1, 0))\n",
      "(('C', 1, 0), 20, ('C', 1, 0))\n",
      "(('C', 3, 1), 20, ('F', 1, 0))\n",
      "(('C', 1, 0), 21, ('O', 1, 1))\n",
      "(('C', 1, 0), 22, ('O', 2, 0))\n",
      "(('C', 1, 0), 23, ('C', 1, 0))\n",
      "(('C', 3, 1), 16, ('N', 3, 1))\n",
      "(('C', 1, 0), 25, ('C', 2, 1))\n",
      "(('N', 3, 0), 23, ('N', 3, 0))\n",
      "(('C', 1, 0), 26, ('C', 2, 2))\n",
      "(('C', 1, 0), 27, ('O', 1, 1))\n",
      "(('C', 1, 0), 28, ('C', 3, 1))\n",
      "(('C', 3, 1), 17, ('C', 3, 1))\n",
      "(('C', 3, 0), 3, ('C', 2, 1))\n",
      "(('C', 1, 0), 30, ('C', 2, 1))\n",
      "(('C', 2, 0), 1, ('O', 2, 0))\n",
      "(('C', 3, 1), 18, ('C', 3, 1))\n",
      "(('C', 2, 1), 5, ('N', 3, 0))\n",
      "(('C', 2, 0), 3, ('O', 1, 1))\n",
      "(('C', 2, 0), 2, ('O', 2, 0))\n",
      "(('C', 2, 0), 4, ('N', 1, 2))\n",
      "(('C', 2, 0), 5, ('C', 2, 2))\n",
      "(('C', 2, 1), 24, ('C', 2, 2))\n",
      "(('C', 2, 0), 6, ('N', 1, 2))\n",
      "(('C', 1, 0), 6, ('O', 2, 1))\n",
      "(('C', 3, 1), 19, ('C', 3, 1))\n",
      "(('C', 2, 2), 22, ('N', 3, 0))\n",
      "(('C', 2, 0), 9, ('C', 2, 0))\n",
      "(('C', 2, 0), 8, ('C', 3, 1))\n",
      "(('C', 2, 0), 9, ('C', 2, 1))\n",
      "(('C', 2, 0), 10, ('C', 2, 1))\n",
      "(('C', 4, 0), 5, ('O', 1, 1))\n",
      "(('C', 1, 0), 13, ('C', 2, 1))\n",
      "(('C', 2, 0), 15, ('N', 3, 1))\n",
      "(('C', 2, 0), 12, ('C', 3, 1))\n",
      "(('C', 3, 1), 17, ('N', 2, 1))\n",
      "(('C', 1, 0), 18, ('N', 1, 2))\n",
      "(('C', 2, 0), 13, ('C', 3, 1))\n",
      "(('C', 2, 0), 14, ('C', 3, 1))\n",
      "(('C', 2, 0), 15, ('N', 3, 0))\n",
      "(('C', 1, 0), 7, ('C', 4, 0))\n",
      "(('C', 2, 0), 16, ('C', 2, 1))\n",
      "(('C', 2, 0), 17, ('S', 2, 1))\n",
      "(('C', 2, 0), 18, ('C', 2, 1))\n",
      "(('N', 3, 0), 13, ('N', 2, 1))\n",
      "(('C', 2, 0), 19, ('C', 3, 1))\n",
      "(('C', 2, 0), 20, ('C', 3, 1))\n",
      "(('C', 4, 0), 7, ('O', 1, 1))\n",
      "(('C', 4, 0), 7, ('F', 1, 0))\n",
      "(('C', 2, 0), 21, ('C', 3, 1))\n",
      "(('C', 3, 1), 22, ('N', 3, 1))\n",
      "(('C', 3, 0), 4, ('C', 2, 1))\n",
      "(('C', 2, 0), 23, ('C', 2, 1))\n",
      "(('N', 2, 1), 2, ('S', 2, 0))\n",
      "(('C', 2, 0), 24, ('C', 2, 1))\n",
      "(('C', 2, 1), 6, ('S', 2, 0))\n",
      "(('C', 2, 0), 25, ('C', 2, 1))\n",
      "(('C', 4, 0), 8, ('O', 1, 1))\n",
      "(('O', 2, 0), 19, ('Si', 4, 0))\n",
      "(('C', 3, 1), 10, ('C', 1, 2))\n",
      "(('C', 2, 0), 3, ('O', 2, 0))\n",
      "(('C', 1, 0), 18, ('O', 1, 0))\n",
      "(('C', 3, 0), 6, ('C', 4, 0))\n",
      "(('C', 3, 1), 5, ('O', 1, 0))\n",
      "(('N', 2, 1), 10, ('Si', 4, 0))\n",
      "(('C', 1, 0), 7, ('O', 2, 1))\n",
      "(('C', 3, 1), 24, ('N', 3, 1))\n",
      "(('N', 2, 1), 21, ('N', 1, 2))\n",
      "(('C', 3, 0), 1, ('N', 2, 1))\n",
      "(('C', 2, 1), 9, ('O', 1, 1))\n",
      "(('C', 3, 0), 2, ('C', 3, 1))\n",
      "(('C', 3, 1), 18, ('S', 1, 1))\n",
      "(('C', 3, 1), 29, ('S', 2, 0))\n",
      "(('C', 4, 0), 10, ('O', 1, 1))\n",
      "(('C', 3, 0), 4, ('C', 3, 1))\n",
      "(('C', 3, 1), 25, ('C', 3, 1))\n",
      "(('C', 3, 1), 7, ('N', 1, 2))\n",
      "(('C', 3, 1), 18, ('N', 2, 1))\n",
      "(('C', 3, 0), 6, ('C', 2, 1))\n",
      "(('N', 2, 1), 5, ('O', 2, 0))\n",
      "(('C', 3, 0), 7, ('C', 2, 1))\n",
      "(('C', 3, 0), 8, ('C', 3, 1))\n",
      "(('C', 3, 1), 2, ('F', 1, 0))\n",
      "(('C', 1, 0), 8, ('C', 4, 0))\n",
      "(('C', 3, 0), 9, ('C', 2, 1))\n",
      "(('C', 2, 1), 3, ('N', 1, 2))\n",
      "(('C', 2, 2), 9, ('O', 2, 1))\n",
      "(('C', 2, 1), 14, ('S', 1, 1))\n",
      "(('C', 2, 1), 14, ('N', 2, 1))\n",
      "(('C', 1, 0), 22, ('S', 2, 0))\n",
      "(('C', 4, 0), 7, ('S', 2, 1))\n",
      "(('C', 3, 0), 13, ('C', 3, 1))\n",
      "(('C', 1, 0), 23, ('N', 3, 1))\n",
      "(('C', 4, 0), 12, ('O', 1, 1))\n",
      "(('C', 3, 0), 10, ('C', 3, 1))\n",
      "(('C', 1, 0), 11, ('N', 2, 1))\n",
      "(('C', 3, 1), 27, ('C', 3, 1))\n",
      "(('C', 3, 0), 5, ('C', 2, 1))\n",
      "(('C', 3, 0), 16, ('C', 3, 1))\n",
      "(('N', 2, 1), 7, ('O', 2, 0))\n",
      "(('C', 1, 0), 4, ('O', 2, 1))\n",
      "(('C', 2, 1), 7, ('S', 2, 0))\n",
      "(('C', 4, 0), 13, ('O', 1, 1))\n",
      "(('C', 3, 0), 11, ('C', 3, 1))\n",
      "(('C', 2, 0), 22, ('O', 2, 0))\n",
      "(('C', 3, 1), 11, ('C', 1, 2))\n",
      "(('C', 2, 0), 4, ('O', 2, 0))\n",
      "(('C', 4, 0), 8, ('Si', 4, 0))\n",
      "(('C', 3, 1), 6, ('O', 1, 0))\n",
      "(('C', 4, 0), 14, ('O', 1, 1))\n",
      "(('C', 3, 0), 12, ('C', 3, 1))\n",
      "(('C', 1, 0), 8, ('O', 2, 1))\n",
      "(('C', 3, 1), 29, ('C', 3, 1))\n",
      "(('C', 3, 0), 2, ('N', 2, 1))\n",
      "(('C', 2, 0), 11, ('C', 2, 0))\n",
      "(('C', 2, 1), 21, ('O', 2, 0))\n",
      "(('C', 3, 1), 30, ('S', 2, 0))\n",
      "(('C', 4, 0), 15, ('O', 1, 1))\n",
      "(('C', 1, 0), 4, ('C', 1, 2))\n",
      "(('C', 2, 0), 17, ('N', 3, 1))\n",
      "(('C', 3, 1), 30, ('C', 3, 1))\n",
      "(('C', 3, 1), 19, ('N', 2, 1))\n",
      "(('C', 3, 1), 23, ('C', 3, 1))\n",
      "(('N', 2, 1), 10, ('O', 2, 0))\n",
      "(('C', 4, 0), 1, ('F', 1, 0))\n",
      "(('C', 4, 0), 16, ('O', 1, 1))\n",
      "(('C', 1, 0), 9, ('C', 4, 0))\n",
      "(('O', 2, 0), 16, ('S', 2, 0))\n",
      "(('C', 4, 0), 2, ('C', 2, 1))\n",
      "(('C', 4, 0), 3, ('C', 2, 1))\n",
      "(('C', 3, 1), 15, ('S', 2, 0))\n",
      "(('C', 4, 0), 14, ('N', 1, 2))\n",
      "(('C', 4, 0), 4, ('C', 2, 1))\n",
      "(('N', 2, 1), 11, ('O', 2, 0))\n",
      "(('C', 4, 0), 5, ('C', 3, 1))\n",
      "(('C', 4, 0), 6, ('C', 2, 1))\n",
      "(('C', 4, 0), 17, ('O', 1, 1))\n",
      "(('C', 4, 0), 7, ('C', 2, 1))\n",
      "(('C', 1, 0), 12, ('N', 2, 1))\n",
      "(('C', 1, 0), 23, ('N', 3, 0))\n",
      "(('C', 4, 0), 8, ('N', 2, 1))\n",
      "(('C', 4, 0), 8, ('N', 3, 1))\n",
      "(('C', 4, 0), 9, ('N', 3, 0))\n",
      "(('N', 2, 1), 12, ('O', 2, 0))\n",
      "(('C', 4, 0), 10, ('N', 2, 1))\n",
      "(('C', 1, 0), 13, ('Si', 4, 0))\n",
      "(('C', 4, 0), 11, ('C', 3, 1))\n",
      "(('C', 4, 0), 18, ('O', 1, 1))\n",
      "(('C', 4, 0), 12, ('N', 2, 1))\n",
      "(('C', 4, 0), 13, ('N', 2, 1))\n",
      "(('C', 4, 0), 14, ('C', 2, 1))\n",
      "(('N', 2, 1), 13, ('O', 2, 0))\n",
      "(('C', 4, 0), 22, ('N', 1, 2))\n",
      "(('C', 2, 0), 5, ('O', 2, 0))\n",
      "(('C', 4, 0), 15, ('C', 3, 1))\n",
      "(('C', 3, 1), 7, ('O', 1, 0))\n",
      "(('C', 4, 0), 2, ('S', 2, 1))\n",
      "(('C', 3, 1), 7, ('O', 2, 0))\n",
      "(('C', 1, 0), 9, ('O', 2, 1))\n",
      "(('C', 2, 2), 3, ('N', 1, 2))\n",
      "(('C', 4, 0), 18, ('C', 2, 1))\n",
      "(('C', 2, 0), 12, ('C', 2, 0))\n",
      "(('C', 4, 0), 19, ('C', 4, 0))\n",
      "(('C', 2, 1), 22, ('O', 2, 0))\n",
      "(('C', 4, 0), 20, ('N', 1, 2))\n",
      "(('C', 4, 0), 21, ('S', 2, 1))\n",
      "(('C', 4, 0), 13, ('O', 1, 0))\n",
      "(('C', 1, 0), 5, ('C', 1, 2))\n",
      "(('C', 3, 1), 26, ('S', 1, 1))\n",
      "(('C', 4, 0), 22, ('C', 3, 1))\n",
      "(('N', 3, 0), 20, ('O', 1, 0))\n",
      "(('C', 4, 0), 23, ('C', 2, 1))\n",
      "(('C', 4, 0), 24, ('F', 1, 0))\n",
      "(('C', 1, 0), 14, ('S', 4, 0))\n",
      "(('N', 1, 2), 4, ('S', 2, 1))\n",
      "(('C', 4, 0), 21, ('O', 1, 1))\n",
      "(('C', 1, 0), 10, ('C', 4, 0))\n",
      "(('C', 4, 0), 4, ('S', 2, 1))\n",
      "(('C', 2, 1), 1, ('C', 2, 1))\n",
      "(('C', 3, 1), 3, ('N', 3, 1))\n",
      "(('C', 3, 0), 3, ('S', 2, 1))\n",
      "(('C', 4, 0), 15, ('N', 1, 2))\n",
      "(('C', 1, 0), 7, ('C', 1, 0))\n",
      "(('N', 2, 1), 16, ('O', 2, 0))\n",
      "(('C', 1, 0), 13, ('S', 1, 1))\n",
      "(('C', 1, 0), 24, ('S', 2, 0))\n",
      "(('C', 4, 0), 9, ('S', 2, 1))\n",
      "(('C', 4, 0), 22, ('O', 1, 1))\n",
      "(('C', 4, 0), 5, ('C', 2, 1))\n",
      "(('C', 1, 0), 13, ('N', 2, 1))\n",
      "(('N', 2, 1), 17, ('O', 2, 0))\n",
      "(('C', 2, 1), 9, ('S', 2, 0))\n",
      "(('C', 4, 0), 6, ('N', 2, 1))\n",
      "(('C', 3, 1), 13, ('C', 1, 2))\n",
      "(('Si', 4, 0), 2, ('S', 2, 1))\n",
      "(('C', 1, 0), 17, ('O', 1, 0))\n",
      "(('N', 2, 1), 18, ('O', 2, 0))\n",
      "(('C', 2, 0), 6, ('O', 2, 0))\n",
      "(('C', 3, 1), 10, ('F', 1, 0))\n",
      "(('C', 3, 1), 8, ('O', 1, 0))\n",
      "(('C', 1, 0), 5, ('C', 2, 2))\n",
      "(('C', 4, 0), 7, ('N', 2, 1))\n",
      "(('C', 2, 0), 13, ('C', 2, 0))\n",
      "(('N', 2, 1), 19, ('O', 2, 0))\n",
      "(('C', 2, 1), 23, ('O', 2, 0))\n",
      "(('C', 3, 1), 21, ('S', 1, 1))\n",
      "(('C', 1, 0), 6, ('C', 1, 2))\n",
      "(('C', 4, 0), 8, ('C', 2, 1))\n",
      "(('C', 1, 0), 8, ('S', 2, 0))\n",
      "(('C', 3, 1), 10, ('N', 1, 2))\n",
      "(('C', 3, 1), 21, ('N', 2, 1))\n",
      "(('N', 3, 1), 5, ('F', 1, 0))\n",
      "(('N', 2, 1), 20, ('O', 2, 0))\n",
      "(('C', 3, 1), 5, ('F', 1, 0))\n",
      "(('C', 1, 0), 11, ('C', 4, 0))\n",
      "(('C', 4, 0), 9, ('N', 2, 1))\n",
      "(('C', 3, 1), 4, ('N', 3, 1))\n",
      "(('C', 3, 1), 20, ('S', 2, 1))\n",
      "(('S', 2, 0), 2, ('S', 1, 1))\n",
      "(('S', 2, 0), 3, ('S', 2, 1))\n",
      "(('S', 2, 0), 4, ('S', 2, 1))\n",
      "(('S', 2, 0), 5, ('S', 2, 1))\n",
      "(('S', 2, 0), 6, ('S', 2, 1))\n",
      "(('S', 2, 0), 7, ('S', 2, 1))\n",
      "(('S', 2, 0), 8, ('S', 2, 1))\n",
      "(('S', 2, 0), 9, ('S', 2, 1))\n",
      "(('S', 2, 0), 10, ('S', 2, 1))\n",
      "(('S', 2, 0), 11, ('S', 2, 1))\n",
      "(('S', 2, 0), 12, ('S', 2, 1))\n",
      "(('S', 2, 0), 13, ('S', 2, 1))\n",
      "(('S', 2, 0), 14, ('S', 2, 1))\n",
      "(('S', 2, 0), 15, ('S', 2, 1))\n",
      "(('S', 2, 0), 16, ('S', 2, 1))\n",
      "(('S', 2, 0), 17, ('S', 2, 1))\n",
      "(('S', 2, 0), 18, ('S', 2, 1))\n",
      "(('S', 2, 0), 19, ('S', 2, 0))\n",
      "(('S', 2, 0), 20, ('S', 2, 1))\n",
      "(('C', 1, 0), 19, ('N', 3, 0))\n",
      "(('C', 4, 0), 10, ('S', 2, 1))\n",
      "(('S', 2, 0), 23, ('S', 2, 0))\n",
      "(('C', 1, 0), 14, ('N', 2, 1))\n",
      "(('S', 2, 0), 26, ('S', 2, 1))\n",
      "(('S', 2, 0), 30, ('S', 2, 0))\n",
      "(('N', 2, 1), 22, ('O', 2, 0))\n",
      "(('C', 2, 1), 10, ('S', 2, 0))\n",
      "(('C', 4, 0), 11, ('C', 2, 1))\n",
      "(('C', 1, 1), 20, ('N', 1, 2))\n",
      "(('C', 3, 1), 14, ('C', 1, 2))\n",
      "(('N', 3, 1), 8, ('N', 1, 2))\n",
      "(('S', 4, 0), 2, ('S', 2, 1))\n",
      "(('S', 4, 0), 3, ('S', 2, 1))\n",
      "(('S', 4, 0), 5, ('S', 2, 1))\n",
      "(('S', 4, 0), 6, ('S', 2, 1))\n",
      "(('S', 4, 0), 8, ('S', 2, 1))\n",
      "(('S', 4, 0), 9, ('S', 2, 1))\n",
      "(('S', 4, 0), 10, ('S', 2, 1))\n",
      "(('S', 4, 0), 11, ('S', 2, 1))\n",
      "(('S', 4, 0), 12, ('S', 2, 1))\n",
      "(('S', 4, 0), 13, ('S', 2, 1))\n",
      "(('C', 2, 1), 29, ('C', 2, 2))\n",
      "(('C', 3, 1), 12, ('O', 2, 1))\n",
      "(('C', 4, 0), 12, ('S', 2, 1))\n",
      "(('C', 1, 0), 11, ('O', 2, 1))\n",
      "(('N', 3, 1), 9, ('N', 1, 2))\n",
      "(('C', 4, 0), 13, ('S', 2, 1))\n",
      "(('Si', 4, 0), 9, ('S', 2, 1))\n",
      "(('N', 3, 1), 10, ('O', 1, 0))\n",
      "(('C', 3, 1), 14, ('S', 4, 0))\n",
      "(('C', 3, 1), 6, ('F', 1, 0))\n",
      "(('C', 1, 0), 12, ('C', 4, 0))\n",
      "(('C', 4, 0), 14, ('N', 2, 1))\n",
      "(('C', 2, 1), 3, ('C', 2, 1))\n",
      "(('C', 3, 1), 5, ('N', 3, 1))\n",
      "(('N', 1, 2), 4, ('O', 2, 0))\n",
      "(('N', 1, 2), 5, ('S', 2, 1))\n",
      "(('C', 1, 0), 16, ('O', 1, 0))\n",
      "(('C', 4, 0), 11, ('S', 2, 1))\n"
     ]
    },
    {
     "name": "stdout",
     "output_type": "stream",
     "text": [
      "(('N', 1, 2), 7, ('O', 2, 0))\n",
      "(('C', 3, 1), 8, ('C', 1, 2))\n",
      "(('C', 1, 0), 15, ('N', 2, 1))\n",
      "(('N', 1, 2), 8, ('S', 2, 1))\n",
      "(('N', 1, 2), 9, ('N', 1, 2))\n",
      "(('N', 1, 2), 10, ('O', 2, 0))\n",
      "(('N', 1, 2), 11, ('O', 1, 1))\n",
      "(('C', 2, 1), 11, ('S', 2, 0))\n",
      "(('C', 1, 2), 9, ('C', 2, 2))\n",
      "(('C', 2, 0), 13, ('C', 2, 2))\n",
      "(('N', 1, 2), 12, ('O', 2, 0))\n",
      "(('C', 4, 0), 16, ('N', 2, 1))\n",
      "(('C', 3, 1), 15, ('C', 1, 2))\n",
      "(('C', 1, 0), 29, ('O', 1, 1))\n",
      "(('C', 2, 0), 9, ('N', 2, 1))\n",
      "(('C', 2, 0), 8, ('O', 2, 0))\n",
      "(('N', 1, 2), 15, ('O', 1, 1))\n",
      "(('O', 1, 1), 8, ('O', 1, 1))\n",
      "(('N', 1, 2), 16, ('O', 2, 0))\n",
      "(('S', 1, 1), 6, ('S', 2, 1))\n",
      "(('N', 1, 2), 17, ('S', 2, 1))\n",
      "(('C', 4, 0), 17, ('C', 2, 1))\n",
      "(('S', 1, 1), 9, ('S', 2, 1))\n",
      "(('S', 1, 1), 12, ('S', 2, 1))\n",
      "(('C', 1, 0), 12, ('O', 2, 1))\n",
      "(('C', 1, 0), 14, ('F', 1, 0))\n",
      "(('S', 1, 1), 15, ('S', 2, 1))\n",
      "(('S', 1, 1), 19, ('S', 2, 1))\n",
      "(('N', 3, 1), 14, ('N', 1, 2))\n",
      "(('S', 1, 1), 22, ('S', 2, 1))\n",
      "(('S', 1, 1), 25, ('S', 2, 1))\n",
      "(('S', 1, 1), 28, ('S', 2, 1))\n",
      "(('N', 1, 2), 21, ('O', 1, 1))\n",
      "(('S', 2, 1), 3, ('S', 2, 1))\n",
      "(('S', 2, 1), 4, ('S', 2, 1))\n",
      "(('S', 2, 1), 5, ('S', 2, 1))\n",
      "(('S', 2, 1), 6, ('S', 2, 1))\n",
      "(('S', 2, 1), 7, ('S', 2, 1))\n",
      "(('S', 2, 1), 8, ('S', 2, 1))\n",
      "(('S', 2, 1), 9, ('S', 2, 1))\n",
      "(('S', 2, 1), 10, ('S', 2, 1))\n",
      "(('S', 2, 1), 11, ('S', 2, 1))\n",
      "(('S', 2, 1), 12, ('S', 2, 1))\n",
      "(('S', 2, 1), 13, ('S', 2, 1))\n",
      "(('S', 2, 1), 14, ('S', 2, 1))\n",
      "(('C', 3, 1), 12, ('N', 1, 2))\n",
      "(('S', 2, 1), 16, ('S', 2, 1))\n",
      "(('S', 2, 1), 17, ('S', 2, 1))\n",
      "(('S', 2, 1), 18, ('S', 2, 1))\n",
      "(('S', 2, 1), 19, ('S', 2, 1))\n",
      "(('S', 2, 1), 20, ('S', 2, 1))\n",
      "(('S', 2, 1), 21, ('S', 2, 1))\n",
      "(('S', 2, 1), 22, ('S', 2, 1))\n",
      "(('S', 2, 1), 23, ('S', 2, 1))\n",
      "(('S', 2, 1), 24, ('S', 2, 1))\n",
      "(('S', 2, 1), 25, ('S', 2, 1))\n",
      "(('S', 2, 1), 26, ('S', 2, 1))\n",
      "(('S', 2, 1), 28, ('S', 2, 1))\n",
      "(('C', 3, 1), 3, ('O', 1, 0))\n",
      "(('C', 3, 1), 7, ('F', 1, 0))\n",
      "(('C', 1, 0), 13, ('C', 4, 0))\n",
      "(('C', 4, 0), 19, ('C', 2, 1))\n",
      "(('C', 4, 0), 2, ('C', 3, 1))\n",
      "(('N', 1, 2), 28, ('O', 1, 1))\n",
      "(('C', 2, 1), 4, ('C', 2, 1))\n",
      "(('N', 3, 1), 16, ('N', 1, 2))\n",
      "(('C', 1, 1), 13, ('N', 1, 2))\n",
      "(('C', 1, 0), 27, ('S', 2, 0))\n",
      "(('C', 1, 0), 24, ('N', 3, 1))\n",
      "(('C', 4, 0), 20, ('C', 2, 1))\n",
      "(('C', 1, 0), 5, ('N', 1, 2))\n",
      "(('C', 4, 0), 3, ('C', 3, 1))\n",
      "(('C', 1, 0), 16, ('N', 2, 1))\n",
      "(('C', 3, 0), 10, ('C', 2, 1))\n",
      "(('N', 3, 1), 17, ('O', 1, 0))\n",
      "(('C', 3, 1), 7, ('Si', 4, 0))\n",
      "(('C', 1, 1), 14, ('N', 1, 2))\n",
      "(('C', 2, 1), 12, ('S', 2, 0))\n",
      "(('C', 2, 1), 15, ('N', 1, 2))\n",
      "(('N', 3, 1), 18, ('O', 1, 0))\n",
      "(('C', 3, 1), 13, ('C', 3, 1))\n",
      "(('C', 3, 1), 11, ('O', 1, 0))\n",
      "(('C', 2, 2), 7, ('N', 1, 2))\n",
      "(('N', 3, 1), 19, ('O', 1, 0))\n",
      "(('N', 1, 2), 22, ('S', 2, 0))\n",
      "(('C', 2, 2), 1, ('N', 1, 2))\n",
      "(('C', 3, 1), 24, ('S', 1, 1))\n",
      "(('C', 4, 0), 17, ('O', 1, 0))\n",
      "(('C', 1, 0), 20, ('C', 2, 1))\n",
      "(('C', 4, 0), 6, ('C', 3, 1))\n",
      "(('N', 3, 0), 3, ('O', 1, 0))\n",
      "(('C', 3, 1), 13, ('N', 1, 2))\n",
      "(('C', 1, 1), 17, ('O', 1, 0))\n",
      "(('C', 3, 1), 7, ('S', 2, 1))\n",
      "(('C', 3, 1), 8, ('F', 1, 0))\n",
      "(('C', 1, 0), 14, ('C', 4, 0))\n",
      "(('C', 2, 1), 5, ('C', 2, 1))\n",
      "(('C', 3, 1), 16, ('S', 2, 0))\n",
      "(('C', 1, 0), 11, ('C', 1, 0))\n",
      "(('C', 1, 1), 18, ('O', 1, 0))\n",
      "(('C', 2, 2), 3, ('O', 1, 0))\n",
      "(('C', 2, 1), 10, ('F', 1, 0))\n",
      "(('C', 1, 0), 6, ('N', 1, 2))\n",
      "(('C', 4, 0), 8, ('C', 3, 1))\n",
      "(('C', 1, 0), 17, ('N', 2, 1))\n",
      "(('C', 1, 0), 28, ('N', 3, 0))\n",
      "(('C', 3, 1), 8, ('Si', 4, 0))\n",
      "(('C', 2, 1), 9, ('S', 2, 1))\n",
      "(('C', 2, 1), 13, ('S', 2, 0))\n",
      "(('C', 1, 0), 23, ('C', 2, 1))\n",
      "(('C', 3, 1), 16, ('S', 1, 1))\n",
      "(('N', 3, 0), 6, ('O', 1, 0))\n",
      "(('C', 2, 1), 13, ('N', 3, 0))\n",
      "(('C', 1, 0), 3, ('C', 1, 0))\n",
      "(('C', 2, 0), 10, ('O', 2, 0))\n",
      "(('C', 1, 1), 20, ('O', 1, 0))\n",
      "(('C', 3, 1), 12, ('O', 1, 0))\n",
      "(('C', 3, 1), 8, ('O', 2, 0))\n",
      "(('C', 4, 0), 10, ('C', 3, 1))\n",
      "(('C', 2, 2), 8, ('N', 1, 2))\n",
      "(('C', 1, 0), 1, ('Si', 4, 0))\n",
      "(('C', 1, 0), 4, ('F', 1, 0))\n",
      "(('C', 2, 1), 16, ('O', 1, 1))\n",
      "(('C', 2, 1), 27, ('O', 2, 0))\n",
      "(('N', 2, 1), 5, ('Si', 4, 0))\n",
      "(('C', 1, 1), 4, ('O', 2, 0))\n",
      "(('O', 1, 1), 19, ('O', 1, 1))\n",
      "(('C', 2, 2), 6, ('O', 1, 0))\n",
      "(('C', 4, 0), 18, ('O', 1, 0))\n",
      "(('C', 3, 1), 27, ('S', 1, 1))\n",
      "(('C', 1, 0), 21, ('C', 2, 1))\n",
      "(('N', 3, 0), 8, ('N', 1, 2))\n",
      "(('C', 3, 1), 14, ('N', 1, 2))\n",
      "(('C', 1, 0), 5, ('C', 1, 0))\n",
      "(('N', 2, 1), 6, ('Si', 4, 0))\n",
      "(('C', 1, 1), 5, ('O', 2, 0))\n",
      "(('C', 3, 1), 8, ('S', 2, 1))\n",
      "(('C', 2, 2), 7, ('O', 1, 0))\n",
      "(('C', 1, 0), 4, ('C', 3, 1))\n",
      "(('C', 1, 0), 15, ('C', 4, 0))\n",
      "(('C', 4, 0), 12, ('C', 3, 1))\n",
      "(('C', 2, 1), 6, ('C', 2, 1))\n",
      "(('C', 3, 0), 4, ('S', 2, 1))\n",
      "(('C', 1, 0), 6, ('C', 1, 0))\n",
      "(('N', 3, 0), 10, ('N', 1, 2))\n",
      "(('N', 3, 1), 9, ('O', 2, 0))\n",
      "(('N', 2, 1), 7, ('Si', 4, 0))\n",
      "(('O', 1, 1), 4, ('S', 2, 1))\n",
      "(('C', 4, 0), 14, ('S', 2, 1))\n",
      "(('C', 4, 0), 13, ('C', 3, 1))\n",
      "(('C', 1, 0), 18, ('N', 2, 1))\n",
      "(('C', 1, 0), 29, ('N', 3, 0))\n",
      "(('N', 3, 0), 10, ('O', 1, 0))\n",
      "(('C', 1, 0), 7, ('N', 1, 2))\n",
      "(('O', 1, 0), 5, ('O', 1, 1))\n",
      "(('C', 1, 1), 24, ('O', 1, 0))\n",
      "(('N', 2, 1), 8, ('Si', 4, 0))\n",
      "(('O', 1, 1), 5, ('S', 2, 1))\n",
      "(('C', 4, 0), 14, ('N', 3, 1))\n",
      "(('N', 3, 0), 11, ('N', 1, 2))\n",
      "(('C', 2, 1), 3, ('N', 2, 1))\n",
      "(('C', 2, 1), 14, ('N', 3, 0))\n",
      "(('C', 1, 0), 8, ('C', 1, 0))\n",
      "(('C', 1, 1), 4, ('C', 2, 1))\n",
      "(('N', 3, 1), 11, ('O', 2, 0))\n",
      "(('C', 2, 0), 11, ('O', 2, 0))\n",
      "(('C', 3, 1), 11, ('F', 1, 0))\n",
      "(('C', 1, 1), 5, ('N', 3, 1))\n",
      "(('C', 2, 2), 10, ('N', 1, 2))\n",
      "(('C', 1, 1), 6, ('C', 3, 1))\n",
      "(('C', 1, 0), 6, ('C', 2, 2))\n",
      "(('C', 1, 1), 7, ('C', 2, 1))\n",
      "(('C', 3, 1), 1, ('C', 2, 2))\n",
      "(('C', 3, 1), 12, ('C', 3, 1))\n",
      "(('C', 1, 1), 8, ('C', 3, 1))\n",
      "(('C', 2, 2), 20, ('N', 2, 1))\n",
      "(('C', 1, 0), 9, ('C', 1, 0))\n",
      "(('C', 1, 1), 9, ('C', 3, 1))\n",
      "(('C', 4, 0), 14, ('O', 2, 0))\n",
      "(('C', 2, 2), 3, ('S', 2, 1))\n",
      "(('C', 1, 1), 10, ('C', 3, 1))\n",
      "(('C', 1, 1), 11, ('C', 2, 1))\n",
      "(('C', 1, 1), 12, ('C', 3, 1))\n",
      "(('C', 4, 0), 16, ('C', 3, 1))\n",
      "(('C', 1, 1), 13, ('C', 2, 1))\n",
      "(('C', 3, 1), 15, ('N', 1, 2))\n",
      "(('C', 1, 0), 10, ('C', 1, 0))\n",
      "(('C', 1, 1), 14, ('C', 3, 1))\n",
      "(('C', 3, 0), 3, ('C', 3, 0))\n",
      "(('C', 1, 0), 6, ('O', 1, 0))\n",
      "(('N', 2, 1), 11, ('Si', 4, 0))\n",
      "(('C', 1, 1), 15, ('C', 3, 1))\n",
      "(('O', 1, 1), 8, ('O', 2, 1))\n",
      "(('C', 2, 2), 12, ('N', 1, 2))\n",
      "(('C', 1, 1), 16, ('C', 2, 1))\n",
      "(('C', 1, 0), 5, ('C', 3, 1))\n",
      "(('C', 1, 1), 17, ('N', 3, 0))\n",
      "(('C', 4, 0), 17, ('C', 3, 1))\n",
      "(('C', 2, 1), 7, ('C', 2, 1))\n",
      "(('C', 1, 1), 18, ('S', 4, 0))\n",
      "(('C', 3, 1), 21, ('N', 3, 1))\n",
      "(('C', 1, 0), 11, ('F', 1, 0))\n",
      "(('C', 1, 1), 19, ('C', 3, 1))\n",
      "(('N', 3, 1), 14, ('O', 2, 0))\n",
      "(('O', 1, 1), 20, ('O', 1, 1))\n",
      "(('N', 2, 1), 12, ('Si', 4, 0))\n",
      "(('C', 3, 1), 3, ('S', 4, 0))\n",
      "(('C', 4, 0), 15, ('S', 2, 1))\n",
      "(('C', 1, 1), 21, ('C', 2, 1))\n",
      "(('C', 1, 0), 20, ('S', 2, 0))\n",
      "(('C', 1, 1), 22, ('C', 3, 1))\n",
      "(('C', 4, 0), 18, ('C', 3, 1))\n",
      "(('C', 1, 0), 19, ('N', 2, 1))\n",
      "(('N', 3, 0), 15, ('N', 1, 2))\n",
      "(('C', 1, 0), 12, ('C', 1, 0))\n",
      "(('C', 1, 1), 24, ('C', 2, 1))\n",
      "(('N', 3, 1), 15, ('O', 2, 0))\n",
      "(('N', 2, 1), 13, ('Si', 4, 0))\n",
      "(('C', 1, 0), 3, ('F', 1, 0))\n",
      "(('C', 2, 2), 8, ('O', 1, 0))\n",
      "(('C', 2, 1), 15, ('S', 2, 0))\n",
      "(('C', 4, 0), 19, ('C', 3, 1))\n",
      "(('N', 3, 0), 16, ('O', 1, 0))\n",
      "(('C', 2, 1), 4, ('N', 2, 1))\n",
      "(('C', 2, 1), 15, ('N', 3, 0))\n",
      "(('C', 1, 0), 13, ('C', 1, 0))\n",
      "(('C', 1, 0), 9, ('N', 1, 2))\n",
      "(('N', 3, 1), 16, ('O', 2, 0))\n",
      "(('C', 2, 0), 12, ('O', 2, 0))\n",
      "(('N', 2, 1), 14, ('Si', 4, 0))\n",
      "(('C', 1, 1), 13, ('S', 2, 0))\n",
      "(('C', 2, 2), 15, ('O', 1, 0))\n",
      "(('C', 3, 1), 14, ('O', 1, 0))\n",
      "(('C', 3, 1), 4, ('S', 4, 0))\n",
      "(('C', 4, 0), 20, ('C', 3, 1))\n",
      "(('C', 3, 1), 2, ('C', 2, 2))\n",
      "(('C', 2, 1), 3, ('O', 1, 0))\n",
      "(('C', 2, 1), 1, ('N', 2, 1))\n",
      "(('C', 1, 0), 14, ('C', 1, 0))\n",
      "(('C', 2, 1), 2, ('C', 3, 1))\n",
      "(('C', 2, 1), 3, ('F', 1, 0))\n",
      "(('C', 2, 1), 4, ('F', 1, 0))\n",
      "(('C', 2, 1), 5, ('O', 1, 1))\n",
      "(('C', 4, 0), 21, ('C', 3, 1))\n",
      "(('C', 2, 1), 6, ('O', 1, 1))\n",
      "(('C', 2, 0), 2, ('C', 3, 0))\n",
      "(('C', 3, 1), 16, ('N', 1, 2))\n",
      "(('C', 2, 1), 1, ('O', 2, 1))\n",
      "(('C', 1, 0), 15, ('N', 1, 2))\n",
      "(('C', 2, 1), 7, ('O', 1, 0))\n",
      "(('C', 1, 0), 7, ('O', 1, 0))\n",
      "(('C', 2, 1), 8, ('O', 2, 0))\n",
      "(('C', 2, 2), 17, ('O', 1, 0))\n",
      "(('C', 2, 1), 9, ('N', 1, 2))\n",
      "(('C', 1, 0), 6, ('C', 3, 1))\n",
      "(('C', 1, 0), 17, ('C', 4, 0))\n",
      "(('C', 2, 1), 10, ('C', 2, 1))\n",
      "(('C', 2, 1), 11, ('N', 1, 2))\n",
      "(('N', 3, 0), 2, ('S', 2, 0))\n",
      "(('C', 1, 0), 16, ('C', 1, 0))\n",
      "(('N', 3, 0), 12, ('N', 1, 2))\n",
      "(('C', 2, 1), 12, ('N', 1, 2))\n",
      "(('C', 2, 1), 13, ('N', 1, 2))\n",
      "(('C', 4, 0), 16, ('S', 2, 1))\n",
      "(('C', 2, 1), 14, ('C', 1, 2))\n",
      "(('C', 3, 1), 9, ('C', 1, 2))\n",
      "(('C', 2, 1), 15, ('O', 1, 1))\n",
      "(('C', 1, 0), 20, ('N', 2, 1))\n",
      "(('C', 2, 1), 16, ('C', 3, 1))\n",
      "(('N', 3, 0), 3, ('S', 2, 0))\n",
      "(('C', 1, 0), 17, ('N', 1, 2))\n",
      "(('C', 2, 1), 17, ('O', 2, 0))\n",
      "(('N', 3, 1), 20, ('O', 2, 0))\n",
      "(('C', 2, 1), 2, ('F', 1, 0))\n",
      "(('C', 2, 1), 18, ('F', 1, 0))\n",
      "(('O', 1, 1), 15, ('S', 2, 1))\n",
      "(('C', 2, 1), 16, ('S', 2, 0))\n",
      "(('C', 2, 1), 19, ('O', 2, 0))\n",
      "(('C', 2, 2), 2, ('C', 2, 2))\n",
      "(('C', 2, 1), 20, ('O', 2, 0))\n",
      "(('C', 2, 1), 21, ('O', 1, 0))\n"
     ]
    }
   ],
   "source": [
    "for pos in apPositions:\n",
    "    print Pairs.ExplainPairScore(pos)"
   ]
  },
  {
   "cell_type": "markdown",
   "metadata": {},
   "source": [
    "### <font color =\"purple\"> Learning from the fingerprints </font>"
   ]
  },
  {
   "cell_type": "code",
   "execution_count": 22,
   "metadata": {
    "collapsed": true
   },
   "outputs": [],
   "source": [
    "ap = loadNumpy('AtomPairCount')\n",
    "topo = loadNumpy('TopologicalCount')\n",
    "morgan = loadNumpy('MorganCount')"
   ]
  },
  {
   "cell_type": "code",
   "execution_count": 52,
   "metadata": {
    "collapsed": true
   },
   "outputs": [],
   "source": [
    "atom = ap\n",
    "maccs = loadNumpy('maccsCount')"
   ]
  },
  {
   "cell_type": "code",
   "execution_count": 21,
   "metadata": {
    "collapsed": true
   },
   "outputs": [],
   "source": [
    "HOMO = loadNumpy('HOMO')"
   ]
  },
  {
   "cell_type": "code",
   "execution_count": 51,
   "metadata": {
    "collapsed": true
   },
   "outputs": [],
   "source": [
    "LUMO = loadNumpy('LUMO')\n",
    "GAP = loadNumpy('GAP')"
   ]
  },
  {
   "cell_type": "code",
   "execution_count": 53,
   "metadata": {
    "collapsed": true
   },
   "outputs": [],
   "source": [
    "reg_train = RandomForestRegressor(bootstrap=True, criterion='mse', max_depth=None,\n",
    "           max_features='auto', max_leaf_nodes=None, min_samples_leaf=1,\n",
    "           min_samples_split=10, min_weight_fraction_leaf=0.0,\n",
    "           n_estimators=10, n_jobs=1, oob_score=False, random_state=0,\n",
    "           verbose=0, warm_start=False)"
   ]
  },
  {
   "cell_type": "code",
   "execution_count": 54,
   "metadata": {},
   "outputs": [
    {
     "data": {
      "text/plain": [
       "<matplotlib.axes._subplots.AxesSubplot at 0x10f9f55d0>"
      ]
     },
     "execution_count": 54,
     "metadata": {},
     "output_type": "execute_result"
    },
    {
     "data": {
      "image/png": "[encoded data removed]",
      "text/plain": [
       "<matplotlib.figure.Figure at 0x10f406050>"
      ]
     },
     "metadata": {},
     "output_type": "display_data"
    }
   ],
   "source": [
    "sns.distplot(HOMO)"
   ]
  },
  {
   "cell_type": "code",
   "execution_count": 58,
   "metadata": {
    "collapsed": true
   },
   "outputs": [],
   "source": [
    "NUM = int(0.9*344)\n",
    "atomShuffle,morganShuffle, maccsShuffle,topoShuffle,HOMOShuffle = shuffle(atom,morgan,maccs,topo,HOMO)\n",
    "HOMOTrain, HOMOTest = HOMOShuffle[:NUM],HOMOShuffle[NUM:]\n",
    "\n",
    "atomTrain, atomTest = atomShuffle[:NUM],atomShuffle[NUM:] \n",
    "topoTrain, topoTest = topoShuffle[:NUM],topoShuffle[NUM:]\n",
    "morganTrain, morganTest = morganShuffle[:NUM], morganShuffle[NUM:]\n",
    "maccsTrain, maccsTest = maccsShuffle[:NUM], maccsShuffle[NUM:]"
   ]
  },
  {
   "cell_type": "markdown",
   "metadata": {},
   "source": [
    "90 - 10 Split"
   ]
  },
  {
   "cell_type": "code",
   "execution_count": 59,
   "metadata": {},
   "outputs": [
    {
     "data": {
      "text/plain": [
       "<matplotlib.axes._subplots.AxesSubplot at 0x113c08950>"
      ]
     },
     "execution_count": 59,
     "metadata": {},
     "output_type": "execute_result"
    },
    {
     "data": {
      "image/png": "[encoded data removed]",
      "text/plain": [
       "<matplotlib.figure.Figure at 0x113b50ad0>"
      ]
     },
     "metadata": {},
     "output_type": "display_data"
    }
   ],
   "source": [
    "sns.distplot(HOMOTrain)"
   ]
  },
  {
   "cell_type": "code",
   "execution_count": 63,
   "metadata": {},
   "outputs": [
    {
     "name": "stdout",
     "output_type": "stream",
     "text": [
      "HOMO90 saved successfully in .\n",
      "HOMO10 saved successfully in .\n",
      "atom90 saved successfully in .\n",
      "atom10 saved successfully in .\n",
      "topo90 saved successfully in .\n",
      "topo10 saved successfully in .\n",
      "morgan90 saved successfully in .\n",
      "morgan10 saved successfully in .\n",
      "maccs90 saved successfully in .\n",
      "maccs10 saved successfully in .\n"
     ]
    }
   ],
   "source": [
    "saveNumpy(HOMOTrain,'HOMO90')\n",
    "saveNumpy(HOMOTest,'HOMO10')\n",
    "saveNumpy(atomTrain, 'atom90')\n",
    "saveNumpy(atomTest, 'atom10')\n",
    "saveNumpy(topoTrain, 'topo90')\n",
    "saveNumpy(topoTest , 'topo10')\n",
    "saveNumpy(morganTrain, 'morgan90')\n",
    "saveNumpy(morganTest , 'morgan10')\n",
    "saveNumpy(maccsTrain, 'maccs90')\n",
    "saveNumpy(maccsTest, 'maccs10')"
   ]
  },
  {
   "cell_type": "markdown",
   "metadata": {},
   "source": [
    "#### <font color=\"green\"> AtomPair</font>"
   ]
  },
  {
   "cell_type": "code",
   "execution_count": 156,
   "metadata": {
    "collapsed": true
   },
   "outputs": [],
   "source": [
    "atom = ap"
   ]
  },
  {
   "cell_type": "code",
   "execution_count": 21,
   "metadata": {},
   "outputs": [
    {
     "data": {
      "text/plain": [
       "(0.61885527710633159,\n",
       " 4.4816289520489457e-05,\n",
       " 0.0045733406743184166,\n",
       " 2.3700281862623669)"
      ]
     },
     "execution_count": 21,
     "metadata": {},
     "output_type": "execute_result"
    }
   ],
   "source": [
    "getScore(ap,HOMO)"
   ]
  },
  {
   "cell_type": "code",
   "execution_count": 23,
   "metadata": {},
   "outputs": [
    {
     "data": {
      "text/plain": [
       "(0.65960364818516026,\n",
       " 4.0024957813486932e-05,\n",
       " 0.0043181484847992337,\n",
       " 2.2448398840295138)"
      ]
     },
     "execution_count": 23,
     "metadata": {},
     "output_type": "execute_result"
    }
   ],
   "source": [
    "getScore(ap,HOMO,forest,20)"
   ]
  },
  {
   "cell_type": "code",
   "execution_count": 24,
   "metadata": {},
   "outputs": [
    {
     "data": {
      "text/plain": [
       "(0.66878476166844947,\n",
       " 3.894541134393671e-05,\n",
       " 0.0043290136908467449,\n",
       " 2.2530012227038898)"
      ]
     },
     "execution_count": 24,
     "metadata": {},
     "output_type": "execute_result"
    }
   ],
   "source": [
    "getScore(ap,HOMO,forest,43)"
   ]
  },
  {
   "cell_type": "code",
   "execution_count": 28,
   "metadata": {},
   "outputs": [
    {
     "data": {
      "text/plain": [
       "(0.6627786403214162,\n",
       " 8.6329199031540862e-05,\n",
       " 0.0057393319535251203,\n",
       " 7.2931147140901746)"
      ]
     },
     "execution_count": 28,
     "metadata": {},
     "output_type": "execute_result"
    }
   ],
   "source": [
    "getScore(ap,LUMO,forest,43)"
   ]
  },
  {
   "cell_type": "code",
   "execution_count": 29,
   "metadata": {},
   "outputs": [
    {
     "data": {
      "text/plain": [
       "(0.74536308269477525,\n",
       " 8.7888789101656572e-05,\n",
       " 0.0064523138038589728,\n",
       " 7.0928889131433897)"
      ]
     },
     "execution_count": 29,
     "metadata": {},
     "output_type": "execute_result"
    }
   ],
   "source": [
    "getScore(ap,GAP,forest,43)"
   ]
  },
  {
   "cell_type": "markdown",
   "metadata": {},
   "source": [
    "#### Dimensionality Reduction is performing worse"
   ]
  },
  {
   "cell_type": "code",
   "execution_count": 267,
   "metadata": {},
   "outputs": [
    {
     "data": {
      "text/plain": [
       "(0.60203513920388207,\n",
       " 4.6794058396017181e-05,\n",
       " 0.0045386439970930273,\n",
       " 2.364131504084483)"
      ]
     },
     "execution_count": 267,
     "metadata": {},
     "output_type": "execute_result"
    }
   ],
   "source": [
    "getScore(runReduction(atom,'PCA'),HOMO,extraTrees)"
   ]
  },
  {
   "cell_type": "code",
   "execution_count": 270,
   "metadata": {},
   "outputs": [
    {
     "data": {
      "text/plain": [
       "(0.6387887512943855,\n",
       " 4.247244400275879e-05,\n",
       " 0.0043537072755167987,\n",
       " 2.2587835833805814)"
      ]
     },
     "execution_count": 270,
     "metadata": {},
     "output_type": "execute_result"
    }
   ],
   "source": [
    "getScore(runReduction(atom,'SVD'),HOMO,extraTrees)"
   ]
  },
  {
   "cell_type": "code",
   "execution_count": 272,
   "metadata": {},
   "outputs": [
    {
     "data": {
      "text/plain": [
       "(0.61666069841412774,\n",
       " 4.5074335528049547e-05,\n",
       " 0.0046216868766149896,\n",
       " 2.4077040092189694)"
      ]
     },
     "execution_count": 272,
     "metadata": {},
     "output_type": "execute_result"
    }
   ],
   "source": [
    "getScore(runReduction(atom,'KCA'),HOMO,extraTrees)"
   ]
  },
  {
   "cell_type": "code",
   "execution_count": 271,
   "metadata": {},
   "outputs": [
    {
     "data": {
      "text/plain": [
       "(0.48368468547769738,\n",
       " 6.0710106239486074e-05,\n",
       " 0.0048718363808139559,\n",
       " 2.5093680671869341)"
      ]
     },
     "execution_count": 271,
     "metadata": {},
     "output_type": "execute_result"
    }
   ],
   "source": [
    "getScore(runReduction(atom,'SVD',10),HOMO,extraTrees)"
   ]
  },
  {
   "cell_type": "markdown",
   "metadata": {},
   "source": [
    "#### <font color=\"red\"> CV on the training subset 80-20 Split</font>"
   ]
  },
  {
   "cell_type": "code",
   "execution_count": 253,
   "metadata": {},
   "outputs": [
    {
     "data": {
      "text/plain": [
       "(0.66799481178217912,\n",
       " 3.7641765931528455e-05,\n",
       " 0.0040036778048274987,\n",
       " 2.0787689452216758)"
      ]
     },
     "execution_count": 253,
     "metadata": {},
     "output_type": "execute_result"
    }
   ],
   "source": [
    "getScore(atomTrain,HOMOTrain,extraTrees)"
   ]
  },
  {
   "cell_type": "code",
   "execution_count": 254,
   "metadata": {},
   "outputs": [
    {
     "data": {
      "text/plain": [
       "(0.64508548051872183,\n",
       " 4.0239158128005636e-05,\n",
       " 0.0040612433431457436,\n",
       " 2.1033246328078592)"
      ]
     },
     "execution_count": 254,
     "metadata": {},
     "output_type": "execute_result"
    }
   ],
   "source": [
    "getScore(atomTrain,HOMOTrain,extraTrees,20)"
   ]
  },
  {
   "cell_type": "code",
   "execution_count": 252,
   "metadata": {},
   "outputs": [
    {
     "data": {
      "text/plain": [
       "(0.64514580943842081,\n",
       " 4.0232318213586222e-05,\n",
       " 0.0043604034646095536,\n",
       " 2.2705055933413378)"
      ]
     },
     "execution_count": 252,
     "metadata": {},
     "output_type": "execute_result"
    }
   ],
   "source": [
    "getScore(atomTrain,HOMOTrain)"
   ]
  },
  {
   "cell_type": "markdown",
   "metadata": {},
   "source": [
    "#### <font color=\"red\"> CV on the training subset 90 - 10 Split</font>"
   ]
  },
  {
   "cell_type": "code",
   "execution_count": 262,
   "metadata": {},
   "outputs": [
    {
     "data": {
      "text/plain": [
       "(0.66320234153604329,\n",
       " 4.1849668721165687e-05,\n",
       " 0.0044595142344292715,\n",
       " 2.3074097324014322)"
      ]
     },
     "execution_count": 262,
     "metadata": {},
     "output_type": "execute_result"
    }
   ],
   "source": [
    "getScore(atomTrain,HOMOTrain)"
   ]
  },
  {
   "cell_type": "code",
   "execution_count": 263,
   "metadata": {},
   "outputs": [
    {
     "data": {
      "text/plain": [
       "(0.72297740305883718,\n",
       " 3.4422163037411273e-05,\n",
       " 0.0038498160080306879,\n",
       " 1.9979967995684567)"
      ]
     },
     "execution_count": 263,
     "metadata": {},
     "output_type": "execute_result"
    }
   ],
   "source": [
    "getScore(atomTrain,HOMOTrain,extraTrees,20)"
   ]
  },
  {
   "cell_type": "markdown",
   "metadata": {},
   "source": [
    "##### <font color=\"red\">The difference between the two results show that there is potential for improvement in the values by performing grid search</font>"
   ]
  },
  {
   "cell_type": "markdown",
   "metadata": {},
   "source": [
    "##### The difference is lesser for topo and maccs and almost negligible for morgan. So the difference is pronounced in atom "
   ]
  },
  {
   "cell_type": "code",
   "execution_count": 26,
   "metadata": {},
   "outputs": [
    {
     "data": {
      "text/plain": [
       "(0.62200349705484637,\n",
       " 4.4446111138861495e-05,\n",
       " 0.0046008736037390276,\n",
       " 2.3878776391434626)"
      ]
     },
     "execution_count": 26,
     "metadata": {},
     "output_type": "execute_result"
    }
   ],
   "source": [
    "getScore(ap,HOMO,reg_train)"
   ]
  },
  {
   "cell_type": "code",
   "execution_count": 62,
   "metadata": {},
   "outputs": [
    {
     "name": "stdout",
     "output_type": "stream",
     "text": [
      "atompairBasicCount saved successfully in .\n"
     ]
    },
    {
     "data": {
      "text/plain": [
       "(0.66427969747886284,\n",
       " 3.9475132074414275e-05,\n",
       " 0.0042827867240500406,\n",
       " 2.2230818819908169)"
      ]
     },
     "execution_count": 62,
     "metadata": {},
     "output_type": "execute_result"
    }
   ],
   "source": [
    "getScoreWithFeatures(ap,HOMO,'atompair')"
   ]
  },
  {
   "cell_type": "code",
   "execution_count": 97,
   "metadata": {},
   "outputs": [
    {
     "name": "stdout",
     "output_type": "stream",
     "text": [
      "atompair2BasicCount saved successfully in .\n"
     ]
    },
    {
     "data": {
      "text/plain": [
       "(0.7285229819160588,\n",
       " 3.1921188750141224e-05,\n",
       " 0.0038586550730414647,\n",
       " 2.0141086335496325)"
      ]
     },
     "execution_count": 97,
     "metadata": {},
     "output_type": "execute_result"
    }
   ],
   "source": [
    "getScoreWithFeatures(ap,HOMO,'atompair2',extraTrees)"
   ]
  },
  {
   "cell_type": "code",
   "execution_count": 26,
   "metadata": {},
   "outputs": [
    {
     "name": "stdout",
     "output_type": "stream",
     "text": [
      "\n",
      "0: RING (165)\n",
      "\n",
      "\n",
      "1: CTN (41) (it means C triple bond Nitrogen)\n",
      "\n",
      "\n",
      "2: N=O \n",
      "\n",
      "\n",
      "3: C=C (99)\n",
      "\n",
      "\n",
      "4: AROMATIC RING > 1 (125)\n",
      "\n",
      "\n",
      "5: HOMO value\n"
     ]
    }
   ],
   "source": [
    "print\n",
    "print \"0: RING (165)\"\n",
    "print\n",
    "print\n",
    "print \"1: CTN (41) (it means C triple bond Nitrogen)\"\n",
    "print\n",
    "print\n",
    "print \"2: N=O \"\n",
    "print\n",
    "print\n",
    "print \"3: C=C (99)\"\n",
    "print\n",
    "print\n",
    "print \"4: AROMATIC RING > 1 (125)\"\n",
    "print\n",
    "print\n",
    "print \"5: HOMO value\""
   ]
  },
  {
   "cell_type": "markdown",
   "metadata": {},
   "source": [
    "#### Top 10\n"
   ]
  },
  {
   "cell_type": "code",
   "execution_count": 14,
   "metadata": {
    "collapsed": true
   },
   "outputs": [],
   "source": [
    "indices = loadNumpy('atompairTraining80-20Count')[:10]"
   ]
  },
  {
   "cell_type": "code",
   "execution_count": 17,
   "metadata": {
    "collapsed": true
   },
   "outputs": [],
   "source": [
    "actualAtomIndices = []\n",
    "for index in indices:\n",
    "    actualAtomIndices += [apPositions[index]]"
   ]
  },
  {
   "cell_type": "code",
   "execution_count": 24,
   "metadata": {},
   "outputs": [
    {
     "name": "stdout",
     "output_type": "stream",
     "text": [
      "0 : (('C', 2, 1), 5, ('N', 1, 2))\n",
      "\n",
      "\n",
      "1 : (('C', 2, 2), 6, ('N', 3, 1))\n",
      "\n",
      "\n",
      "2 : (('N', 3, 1), 7, ('N', 1, 2))\n",
      "\n",
      "\n",
      "3 : (('C', 3, 1), 8, ('N', 1, 2))\n",
      "\n",
      "\n",
      "4 : (('C', 3, 1), 11, ('N', 1, 2))\n",
      "\n",
      "\n",
      "5 : HOMO\n"
     ]
    }
   ],
   "source": [
    "for i in range(len(actualAtomIndices))[:5]:\n",
    "    print i,':',Pairs.ExplainPairScore(actualAtomIndices[i])\n",
    "    print \n",
    "    print\n",
    "print 5,': HOMO'"
   ]
  },
  {
   "cell_type": "code",
   "execution_count": 140,
   "metadata": {},
   "outputs": [
    {
     "data": {
      "image/png": "[encoded data removed]",
      "text/plain": [
       "<matplotlib.figure.Figure at 0x11abeee10>"
      ]
     },
     "metadata": {},
     "output_type": "display_data"
    }
   ],
   "source": [
    "correlation, mask = correlationMask(ap,HOMO,indices)\n",
    "correlationPlot(correlation,mask)"
   ]
  },
  {
   "cell_type": "markdown",
   "metadata": {},
   "source": [
    "#### Top 5"
   ]
  },
  {
   "cell_type": "code",
   "execution_count": 21,
   "metadata": {},
   "outputs": [
    {
     "data": {
      "image/png": "[encoded data removed]",
      "text/plain": [
       "<matplotlib.figure.Figure at 0x10f6f1b90>"
      ]
     },
     "metadata": {},
     "output_type": "display_data"
    }
   ],
   "source": [
    "indices = loadNumpy('atompair2BasicCount')[:5]\n",
    "correlation, mask = correlationMask(ap,HOMO,indices)\n",
    "correlationPlot(correlation,mask)"
   ]
  },
  {
   "cell_type": "code",
   "execution_count": 23,
   "metadata": {
    "collapsed": true
   },
   "outputs": [],
   "source": [
    "positions = loadNumpy('atompair')"
   ]
  },
  {
   "cell_type": "code",
   "execution_count": 64,
   "metadata": {
    "collapsed": true
   },
   "outputs": [],
   "source": [
    "extraTrees = ExtraTreesRegressor(bootstrap=False, criterion='mse', max_depth=None,\n",
    "          max_features='auto', max_leaf_nodes=None,\n",
    "          min_impurity_split=1e-07, min_samples_leaf=1,\n",
    "          min_samples_split=2, min_weight_fraction_leaf=0.0,\n",
    "          n_estimators=10, n_jobs=-1, oob_score=False, random_state=None,\n",
    "          verbose=0, warm_start=False)"
   ]
  },
  {
   "cell_type": "markdown",
   "metadata": {},
   "source": [
    "#### <font color=\"red\"> 5 Fold </font>"
   ]
  },
  {
   "cell_type": "code",
   "execution_count": 72,
   "metadata": {},
   "outputs": [
    {
     "name": "stdout",
     "output_type": "stream",
     "text": [
      "atompair5FoldBasicCount saved successfully in .\n"
     ]
    },
    {
     "data": {
      "text/plain": [
       "(0.70990860909700038,\n",
       " 3.4109929853960684e-05,\n",
       " 0.0041105726685354369,\n",
       " 2.1487199756376123)"
      ]
     },
     "execution_count": 72,
     "metadata": {},
     "output_type": "execute_result"
    }
   ],
   "source": [
    "getScoreWithFeatures(atom,HOMO,'atompair5Fold',extraTrees,5)"
   ]
  },
  {
   "cell_type": "code",
   "execution_count": 74,
   "metadata": {},
   "outputs": [
    {
     "data": {
      "text/plain": [
       "array([ 743,  509, 2038, 2634,  443])"
      ]
     },
     "execution_count": 74,
     "metadata": {},
     "output_type": "execute_result"
    }
   ],
   "source": [
    "indices"
   ]
  },
  {
   "cell_type": "markdown",
   "metadata": {},
   "source": [
    "### <font color=\"blue\"> Topological </font>"
   ]
  },
  {
   "cell_type": "code",
   "execution_count": 103,
   "metadata": {},
   "outputs": [
    {
     "data": {
      "text/plain": [
       "(0.67397575264717502,\n",
       " 3.8335037014641025e-05,\n",
       " 0.0041618638066371425,\n",
       " 2.1575833311458634)"
      ]
     },
     "execution_count": 103,
     "metadata": {},
     "output_type": "execute_result"
    }
   ],
   "source": [
    "getScore(topo,HOMO)"
   ]
  },
  {
   "cell_type": "code",
   "execution_count": 110,
   "metadata": {},
   "outputs": [
    {
     "data": {
      "text/plain": [
       "(0.66186986789500579,\n",
       " 3.9758488012036185e-05,\n",
       " 0.004179213452194205,\n",
       " 2.1679134765516674)"
      ]
     },
     "execution_count": 110,
     "metadata": {},
     "output_type": "execute_result"
    }
   ],
   "source": [
    "getScore(topo,HOMO,43)"
   ]
  },
  {
   "cell_type": "code",
   "execution_count": 117,
   "metadata": {},
   "outputs": [
    {
     "data": {
      "text/plain": [
       "(0.6429972863576765,\n",
       " 4.1977590172902134e-05,\n",
       " 0.0044503311576448218,\n",
       " 2.3106003168192233)"
      ]
     },
     "execution_count": 117,
     "metadata": {},
     "output_type": "execute_result"
    }
   ],
   "source": [
    "getScore(topo,HOMO,reg_train)"
   ]
  },
  {
   "cell_type": "markdown",
   "metadata": {},
   "source": [
    "#### Dimensionality Reduction "
   ]
  },
  {
   "cell_type": "code",
   "execution_count": 273,
   "metadata": {},
   "outputs": [
    {
     "data": {
      "text/plain": [
       "(0.55214316558649912,\n",
       " 5.2660525908435155e-05,\n",
       " 0.0047647160965762284,\n",
       " 2.4758058424793767)"
      ]
     },
     "execution_count": 273,
     "metadata": {},
     "output_type": "execute_result"
    }
   ],
   "source": [
    "getScore(runReduction(topo,'PCA'),HOMO,extraTrees)"
   ]
  },
  {
   "cell_type": "code",
   "execution_count": 274,
   "metadata": {},
   "outputs": [
    {
     "data": {
      "text/plain": [
       "(0.59300184506505449,\n",
       " 4.7856223765580437e-05,\n",
       " 0.0046080615261627923,\n",
       " 2.4034370039783095)"
      ]
     },
     "execution_count": 274,
     "metadata": {},
     "output_type": "execute_result"
    }
   ],
   "source": [
    "getScore(runReduction(topo,'SVD'),HOMO,extraTrees)"
   ]
  },
  {
   "cell_type": "code",
   "execution_count": 61,
   "metadata": {},
   "outputs": [
    {
     "name": "stdout",
     "output_type": "stream",
     "text": [
      "topologicalBasicCount saved successfully in .\n"
     ]
    },
    {
     "data": {
      "text/plain": [
       "(0.64053650824844433,\n",
       " 4.2266936810976407e-05,\n",
       " 0.0043907956682013097,\n",
       " 2.2860678285269462)"
      ]
     },
     "execution_count": 61,
     "metadata": {},
     "output_type": "execute_result"
    }
   ],
   "source": [
    "getScoreWithFeatures(topo,HOMO,'topological')"
   ]
  },
  {
   "cell_type": "code",
   "execution_count": 93,
   "metadata": {
    "collapsed": true
   },
   "outputs": [],
   "source": [
    "extraTrees = ExtraTreesRegressor(bootstrap=False, criterion='mse', max_depth=None,\n",
    "          max_features='auto', max_leaf_nodes=None,\n",
    "          min_impurity_split=1e-07, min_samples_leaf=1,\n",
    "          min_samples_split=2, min_weight_fraction_leaf=0.0,\n",
    "          n_estimators=30, n_jobs=-1, oob_score=False, random_state=None,\n",
    "          verbose=0, warm_start=False)"
   ]
  },
  {
   "cell_type": "code",
   "execution_count": 94,
   "metadata": {},
   "outputs": [
    {
     "name": "stdout",
     "output_type": "stream",
     "text": [
      "topological2BasicCount saved successfully in .\n"
     ]
    },
    {
     "data": {
      "text/plain": [
       "(0.70162375076625194,\n",
       " 3.5084091602202045e-05,\n",
       " 0.0038879565221253279,\n",
       " 2.0242180559385603)"
      ]
     },
     "execution_count": 94,
     "metadata": {},
     "output_type": "execute_result"
    }
   ],
   "source": [
    "getScoreWithFeatures(topo,HOMO,'topological2',extraTrees)"
   ]
  },
  {
   "cell_type": "code",
   "execution_count": 80,
   "metadata": {
    "collapsed": true
   },
   "outputs": [],
   "source": [
    "indices = loadNumpy('topological2BasicCount')[:10]"
   ]
  },
  {
   "cell_type": "code",
   "execution_count": 81,
   "metadata": {},
   "outputs": [
    {
     "data": {
      "text/plain": [
       "array([145, 294, 141, 201, 244, 129,  29,  74,  77, 224])"
      ]
     },
     "execution_count": 81,
     "metadata": {},
     "output_type": "execute_result"
    }
   ],
   "source": [
    "indices"
   ]
  },
  {
   "cell_type": "code",
   "execution_count": 102,
   "metadata": {},
   "outputs": [
    {
     "data": {
      "image/png": "[encoded data removed]",
      "text/plain": [
       "<matplotlib.figure.Figure at 0x120217490>"
      ]
     },
     "metadata": {},
     "output_type": "display_data"
    }
   ],
   "source": [
    "correlation, mask = correlationMask(topo,HOMO,indices)\n",
    "correlationPlot(correlation,mask)"
   ]
  },
  {
   "cell_type": "code",
   "execution_count": 182,
   "metadata": {},
   "outputs": [
    {
     "data": {
      "image/png": "[encoded data removed]",
      "text/plain": [
       "<matplotlib.figure.Figure at 0x120ec3dd0>"
      ]
     },
     "metadata": {},
     "output_type": "display_data"
    }
   ],
   "source": [
    "indices = loadNumpy('topological2BasicCount')[:5]\n",
    "correlation, mask = correlationMask(topo,HOMO,indices)\n",
    "correlationPlot(correlation,mask)"
   ]
  },
  {
   "cell_type": "code",
   "execution_count": 69,
   "metadata": {},
   "outputs": [
    {
     "name": "stdout",
     "output_type": "stream",
     "text": [
      "topo5FoldBasicCount saved successfully in .\n"
     ]
    },
    {
     "data": {
      "text/plain": [
       "(0.63590814142211904,\n",
       " 4.2811155883775933e-05,\n",
       " 0.0042780281173864882,\n",
       " 2.2222269427960013)"
      ]
     },
     "execution_count": 69,
     "metadata": {},
     "output_type": "execute_result"
    }
   ],
   "source": [
    "getScoreWithFeatures(topo,HOMO,'topo5Fold',extraTrees,5)"
   ]
  },
  {
   "cell_type": "markdown",
   "metadata": {},
   "source": [
    "### <font color=\"orange\"> Morgan/Circular  </font>"
   ]
  },
  {
   "cell_type": "code",
   "execution_count": 104,
   "metadata": {},
   "outputs": [
    {
     "data": {
      "text/plain": [
       "(0.68379583541370992,\n",
       " 3.7180358369115145e-05,\n",
       " 0.0040960098942352859,\n",
       " 2.1250737560356154)"
      ]
     },
     "execution_count": 104,
     "metadata": {},
     "output_type": "execute_result"
    }
   ],
   "source": [
    "getScore(morgan,HOMO)"
   ]
  },
  {
   "cell_type": "code",
   "execution_count": 108,
   "metadata": {},
   "outputs": [
    {
     "data": {
      "text/plain": [
       "(0.70585939640553885,\n",
       " 3.4586050018849364e-05,\n",
       " 0.0038949337090058724,\n",
       " 2.0245016278265577)"
      ]
     },
     "execution_count": 108,
     "metadata": {},
     "output_type": "execute_result"
    }
   ],
   "source": [
    "getScore(morgan,HOMO,43)"
   ]
  },
  {
   "cell_type": "code",
   "execution_count": 116,
   "metadata": {},
   "outputs": [
    {
     "data": {
      "text/plain": [
       "(0.68364130507858589,\n",
       " 3.7198528570150694e-05,\n",
       " 0.00413928658862572,\n",
       " 2.1440560954592249)"
      ]
     },
     "execution_count": 116,
     "metadata": {},
     "output_type": "execute_result"
    }
   ],
   "source": [
    "getScore(morgan,HOMO,reg_train)"
   ]
  },
  {
   "cell_type": "code",
   "execution_count": 279,
   "metadata": {},
   "outputs": [
    {
     "data": {
      "text/plain": [
       "(0.75957391829337262,\n",
       " 2.8270114313105875e-05,\n",
       " 0.0037299743424310979,\n",
       " 1.9406884505953501)"
      ]
     },
     "execution_count": 279,
     "metadata": {},
     "output_type": "execute_result"
    }
   ],
   "source": [
    "getScore(morgan,HOMO,extraTrees)"
   ]
  },
  {
   "cell_type": "markdown",
   "metadata": {},
   "source": [
    "#### Dimensionality Reduction "
   ]
  },
  {
   "cell_type": "code",
   "execution_count": 277,
   "metadata": {},
   "outputs": [
    {
     "data": {
      "text/plain": [
       "(0.72658326095563652,\n",
       " 3.2149267721014181e-05,\n",
       " 0.0039869734851421222,\n",
       " 2.0980879226802487)"
      ]
     },
     "execution_count": 277,
     "metadata": {},
     "output_type": "execute_result"
    }
   ],
   "source": [
    "getScore(runReduction(morgan,'PCA'),HOMO,extraTrees)"
   ]
  },
  {
   "cell_type": "code",
   "execution_count": 278,
   "metadata": {},
   "outputs": [
    {
     "data": {
      "text/plain": [
       "(0.72843451996630271,\n",
       " 3.1931590406293553e-05,\n",
       " 0.003979542760012918,\n",
       " 2.0858601292974313)"
      ]
     },
     "execution_count": 278,
     "metadata": {},
     "output_type": "execute_result"
    }
   ],
   "source": [
    "getScore(runReduction(morgan,'SVD'),HOMO,extraTrees)"
   ]
  },
  {
   "cell_type": "markdown",
   "metadata": {},
   "source": [
    "##### <font color =\"purple\">90-10 split</font>"
   ]
  },
  {
   "cell_type": "code",
   "execution_count": 255,
   "metadata": {},
   "outputs": [
    {
     "data": {
      "text/plain": [
       "(0.63419018121052773,\n",
       " 4.1474434927487203e-05,\n",
       " 0.0040090348947570964,\n",
       " 2.0626516767597112)"
      ]
     },
     "execution_count": 255,
     "metadata": {},
     "output_type": "execute_result"
    }
   ],
   "source": [
    "getScore(morganTrain,HOMOTrain,extraTrees,20)"
   ]
  },
  {
   "cell_type": "code",
   "execution_count": 256,
   "metadata": {},
   "outputs": [
    {
     "data": {
      "text/plain": [
       "(0.65831342181373276,\n",
       " 3.8739413281680752e-05,\n",
       " 0.0040435177167388201,\n",
       " 2.0864465219355153)"
      ]
     },
     "execution_count": 256,
     "metadata": {},
     "output_type": "execute_result"
    }
   ],
   "source": [
    "getScore(morganTrain,HOMOTrain,extraTrees)"
   ]
  },
  {
   "cell_type": "code",
   "execution_count": 60,
   "metadata": {},
   "outputs": [
    {
     "name": "stdout",
     "output_type": "stream",
     "text": [
      "morganBasicCount saved successfully in .\n"
     ]
    },
    {
     "data": {
      "text/plain": [
       "(0.66600895849857,\n",
       " 3.9271799697338925e-05,\n",
       " 0.004221715049242989,\n",
       " 2.1880167970106497)"
      ]
     },
     "execution_count": 60,
     "metadata": {},
     "output_type": "execute_result"
    }
   ],
   "source": [
    "getScoreWithFeatures(morgan,HOMO,'morgan')"
   ]
  },
  {
   "cell_type": "code",
   "execution_count": 95,
   "metadata": {},
   "outputs": [
    {
     "name": "stdout",
     "output_type": "stream",
     "text": [
      "morgan2BasicCount saved successfully in .\n"
     ]
    },
    {
     "data": {
      "text/plain": [
       "(0.76606825645741994,\n",
       " 2.7506488000260123e-05,\n",
       " 0.0037298170918696962,\n",
       " 1.9435600377543043)"
      ]
     },
     "execution_count": 95,
     "metadata": {},
     "output_type": "execute_result"
    }
   ],
   "source": [
    "getScoreWithFeatures(morgan,HOMO,'morgan2',extraTrees)"
   ]
  },
  {
   "cell_type": "code",
   "execution_count": 101,
   "metadata": {
    "scrolled": true
   },
   "outputs": [
    {
     "data": {
      "image/png": "[encoded data removed]",
      "text/plain": [
       "<matplotlib.figure.Figure at 0x120205510>"
      ]
     },
     "metadata": {},
     "output_type": "display_data"
    }
   ],
   "source": [
    "indices = loadNumpy('morgan2BasicCount')[:10]\n",
    "correlation, mask = correlationMask(morgan,HOMO,indices)\n",
    "correlationPlot(correlation,mask)"
   ]
  },
  {
   "cell_type": "code",
   "execution_count": 181,
   "metadata": {
    "scrolled": true
   },
   "outputs": [
    {
     "data": {
      "image/png": "[encoded data removed]",
      "text/plain": [
       "<matplotlib.figure.Figure at 0x11c458810>"
      ]
     },
     "metadata": {},
     "output_type": "display_data"
    }
   ],
   "source": [
    "indices = loadNumpy('morgan2BasicCount')[:5]\n",
    "correlation, mask = correlationMask(morgan,HOMO,indices)\n",
    "correlationPlot(correlation,mask)"
   ]
  },
  {
   "cell_type": "code",
   "execution_count": 70,
   "metadata": {},
   "outputs": [
    {
     "name": "stdout",
     "output_type": "stream",
     "text": [
      "morgan5FoldBasicCount saved successfully in .\n"
     ]
    },
    {
     "data": {
      "text/plain": [
       "(0.72973603940432352,\n",
       " 3.1778553335471626e-05,\n",
       " 0.0038063593054401997,\n",
       " 1.9796813878435233)"
      ]
     },
     "execution_count": 70,
     "metadata": {},
     "output_type": "execute_result"
    }
   ],
   "source": [
    "getScoreWithFeatures(morgan,HOMO,'morgan5Fold',extraTrees,5)"
   ]
  },
  {
   "cell_type": "markdown",
   "metadata": {},
   "source": [
    "### <font color=\"magenta\"> MACCS </font>"
   ]
  },
  {
   "cell_type": "code",
   "execution_count": 18,
   "metadata": {
    "collapsed": true
   },
   "outputs": [],
   "source": [
    "maccs = loadNumpy('maccsCount')"
   ]
  },
  {
   "cell_type": "code",
   "execution_count": 19,
   "metadata": {
    "collapsed": true
   },
   "outputs": [],
   "source": [
    "maccsBin = loadNumpy('maccsBinary')"
   ]
  },
  {
   "cell_type": "code",
   "execution_count": 23,
   "metadata": {},
   "outputs": [
    {
     "data": {
      "text/plain": [
       "(0.66871042281781445,\n",
       " 3.8954152358182914e-05,\n",
       " 0.0043403064456441487,\n",
       " 2.2660545360904183)"
      ]
     },
     "execution_count": 23,
     "metadata": {},
     "output_type": "execute_result"
    }
   ],
   "source": [
    "getScore(maccs,HOMO)"
   ]
  },
  {
   "cell_type": "code",
   "execution_count": 142,
   "metadata": {},
   "outputs": [
    {
     "data": {
      "text/plain": [
       "0.67989881685757925"
      ]
     },
     "execution_count": 142,
     "metadata": {},
     "output_type": "execute_result"
    }
   ],
   "source": [
    "crossVal_r2(maccs,HOMO)"
   ]
  },
  {
   "cell_type": "code",
   "execution_count": 24,
   "metadata": {},
   "outputs": [
    {
     "data": {
      "text/plain": [
       "166"
      ]
     },
     "execution_count": 24,
     "metadata": {},
     "output_type": "execute_result"
    }
   ],
   "source": [
    "len(maccs[-1])"
   ]
  },
  {
   "cell_type": "markdown",
   "metadata": {},
   "source": [
    "#### <font color=\"maroon\"> There is a pronounced difference between binary and count fingerprints for MACCS </font>"
   ]
  },
  {
   "cell_type": "code",
   "execution_count": 120,
   "metadata": {},
   "outputs": [
    {
     "data": {
      "text/plain": [
       "(0.44640020439167993,\n",
       " 6.5094142010167173e-05,\n",
       " 0.0057724328724406788,\n",
       " 3.0094539129337332)"
      ]
     },
     "execution_count": 120,
     "metadata": {},
     "output_type": "execute_result"
    }
   ],
   "source": [
    "getScore(maccsBin,HOMO)"
   ]
  },
  {
   "cell_type": "markdown",
   "metadata": {},
   "source": [
    "#### Dimensionality Reduction "
   ]
  },
  {
   "cell_type": "code",
   "execution_count": 275,
   "metadata": {},
   "outputs": [
    {
     "data": {
      "text/plain": [
       "(0.70029125310802987,\n",
       " 3.5240771197246337e-05,\n",
       " 0.0043391937952196374,\n",
       " 2.2698884553914889)"
      ]
     },
     "execution_count": 275,
     "metadata": {},
     "output_type": "execute_result"
    }
   ],
   "source": [
    "getScore(runReduction(maccs,'PCA'),HOMO,extraTrees)"
   ]
  },
  {
   "cell_type": "code",
   "execution_count": 276,
   "metadata": {},
   "outputs": [
    {
     "data": {
      "text/plain": [
       "(0.70463993896388577,\n",
       " 3.472943796174969e-05,\n",
       " 0.0042648194589793289,\n",
       " 2.2367918469976713)"
      ]
     },
     "execution_count": 276,
     "metadata": {},
     "output_type": "execute_result"
    }
   ],
   "source": [
    "getScore(runReduction(maccs,'SVD'),HOMO,extraTrees)"
   ]
  },
  {
   "cell_type": "code",
   "execution_count": 118,
   "metadata": {},
   "outputs": [
    {
     "data": {
      "text/plain": [
       "(0.65610012372366167,\n",
       " 4.0436914105093381e-05,\n",
       " 0.0043405595887880712,\n",
       " 2.2563171892190992)"
      ]
     },
     "execution_count": 118,
     "metadata": {},
     "output_type": "execute_result"
    }
   ],
   "source": [
    "getScore(maccs,HOMO,reg_train)"
   ]
  },
  {
   "cell_type": "code",
   "execution_count": 146,
   "metadata": {},
   "outputs": [
    {
     "name": "stdout",
     "output_type": "stream",
     "text": [
      "MACCSBasicCount saved successfully in .\n"
     ]
    },
    {
     "data": {
      "text/plain": [
       "(0.70164064801343007,\n",
       " 3.5082104766556291e-05,\n",
       " 0.0042260705092452798,\n",
       " 2.2061674434734466)"
      ]
     },
     "execution_count": 146,
     "metadata": {},
     "output_type": "execute_result"
    }
   ],
   "source": [
    "getScoreWithFeatures(maccs,HOMO,'MACCS')"
   ]
  },
  {
   "cell_type": "code",
   "execution_count": 96,
   "metadata": {},
   "outputs": [
    {
     "name": "stdout",
     "output_type": "stream",
     "text": [
      "MACCS2BasicCount saved successfully in .\n"
     ]
    },
    {
     "data": {
      "text/plain": [
       "(0.75153111658676885,\n",
       " 2.9215814222322778e-05,\n",
       " 0.0038222948708010345,\n",
       " 1.9967115016165988)"
      ]
     },
     "execution_count": 96,
     "metadata": {},
     "output_type": "execute_result"
    }
   ],
   "source": [
    "getScoreWithFeatures(maccs,HOMO,'MACCS2',extraTrees)"
   ]
  },
  {
   "cell_type": "markdown",
   "metadata": {},
   "source": [
    "##### <font color =\"orange\">80-20 split</font>"
   ]
  },
  {
   "cell_type": "code",
   "execution_count": 257,
   "metadata": {},
   "outputs": [
    {
     "data": {
      "text/plain": [
       "(0.68006932601549186,\n",
       " 3.6272793232797387e-05,\n",
       " 0.0042000455535353542,\n",
       " 2.1975701969077996)"
      ]
     },
     "execution_count": 257,
     "metadata": {},
     "output_type": "execute_result"
    }
   ],
   "source": [
    "getScore(maccsTrain,HOMOTrain,extraTrees)"
   ]
  },
  {
   "cell_type": "code",
   "execution_count": 258,
   "metadata": {},
   "outputs": [
    {
     "data": {
      "text/plain": [
       "(0.63821393852094066,\n",
       " 4.1018233228782213e-05,\n",
       " 0.004336226128209165,\n",
       " 2.2517579153660812)"
      ]
     },
     "execution_count": 258,
     "metadata": {},
     "output_type": "execute_result"
    }
   ],
   "source": [
    "getScore(maccsTrain,HOMOTrain)"
   ]
  },
  {
   "cell_type": "markdown",
   "metadata": {},
   "source": [
    "##### <font color =\"purple\">90-10 split</font>"
   ]
  },
  {
   "cell_type": "code",
   "execution_count": 264,
   "metadata": {},
   "outputs": [
    {
     "data": {
      "text/plain": [
       "(0.76864173012109793,\n",
       " 2.8748023351742736e-05,\n",
       " 0.0038686555409154009,\n",
       " 2.0201844767866945)"
      ]
     },
     "execution_count": 264,
     "metadata": {},
     "output_type": "execute_result"
    }
   ],
   "source": [
    "getScore(maccsTrain,HOMOTrain,extraTrees)"
   ]
  },
  {
   "cell_type": "code",
   "execution_count": 265,
   "metadata": {},
   "outputs": [
    {
     "data": {
      "text/plain": [
       "(0.61976666361124577,\n",
       " 4.7246881813805286e-05,\n",
       " 0.0045600166013930327,\n",
       " 2.3748267244528258)"
      ]
     },
     "execution_count": 265,
     "metadata": {},
     "output_type": "execute_result"
    }
   ],
   "source": [
    "getScore(maccsTrain,HOMOTrain)"
   ]
  },
  {
   "cell_type": "markdown",
   "metadata": {},
   "source": [
    "#### Correlation Analysis"
   ]
  },
  {
   "cell_type": "code",
   "execution_count": 25,
   "metadata": {
    "collapsed": true
   },
   "outputs": [],
   "source": [
    "indices = loadNumpy('MACCS2BasicCount')[:10]"
   ]
  },
  {
   "cell_type": "code",
   "execution_count": 29,
   "metadata": {},
   "outputs": [
    {
     "data": {
      "text/plain": [
       "array([164,  40,  75, 124,  61])"
      ]
     },
     "execution_count": 29,
     "metadata": {},
     "output_type": "execute_result"
    }
   ],
   "source": [
    "indices[:5]"
   ]
  },
  {
   "cell_type": "markdown",
   "metadata": {},
   "source": [
    "### Adjustment because indices in MACCS signature is from 1-166 and not 0-165\n",
    "http://www.mayachemtools.org/docs/modules/html/MACCSKeys.html"
   ]
  },
  {
   "cell_type": "code",
   "execution_count": 28,
   "metadata": {},
   "outputs": [
    {
     "data": {
      "text/plain": [
       "array([165,  41,  76, 125,  62,  99,  63,  56,  80,  71])"
      ]
     },
     "execution_count": 28,
     "metadata": {},
     "output_type": "execute_result"
    }
   ],
   "source": [
    "adjusted = []\n",
    "for index in indices:\n",
    "    adjusted += [index+1]\n",
    "array(adjusted)"
   ]
  },
  {
   "cell_type": "code",
   "execution_count": 112,
   "metadata": {
    "scrolled": true
   },
   "outputs": [
    {
     "data": {
      "image/png": "[encoded data removed]",
      "text/plain": [
       "<matplotlib.figure.Figure at 0x11abfa4d0>"
      ]
     },
     "metadata": {},
     "output_type": "display_data"
    }
   ],
   "source": [
    "correlation, mask = correlationMask(maccs,HOMO,indices)\n",
    "correlationPlot(correlation,mask)"
   ]
  },
  {
   "cell_type": "code",
   "execution_count": 180,
   "metadata": {
    "scrolled": true
   },
   "outputs": [
    {
     "data": {
      "image/png": "[encoded data removed]",
      "text/plain": [
       "<matplotlib.figure.Figure at 0x11fb62890>"
      ]
     },
     "metadata": {},
     "output_type": "display_data"
    }
   ],
   "source": [
    "indices = loadNumpy('MACCS2BasicCount')[:5]\n",
    "correlation, mask = correlationMask(maccs,HOMO,indices)\n",
    "correlationPlot(correlation,mask)"
   ]
  },
  {
   "cell_type": "code",
   "execution_count": 71,
   "metadata": {},
   "outputs": [
    {
     "name": "stdout",
     "output_type": "stream",
     "text": [
      "maccs5FoldBasicCount saved successfully in .\n"
     ]
    },
    {
     "data": {
      "text/plain": [
       "(0.73281762683420593,\n",
       " 3.1416209831429872e-05,\n",
       " 0.0039108841424418611,\n",
       " 2.0470288961227019)"
      ]
     },
     "execution_count": 71,
     "metadata": {},
     "output_type": "execute_result"
    }
   ],
   "source": [
    "getScoreWithFeatures(maccs,HOMO,'maccs5Fold',extraTrees,5)"
   ]
  },
  {
   "cell_type": "code",
   "execution_count": 53,
   "metadata": {
    "collapsed": true
   },
   "outputs": [],
   "source": [
    "HOMO_scaled = scale(HOMO)\n",
    "maccs_scaled = scale(maccs)"
   ]
  },
  {
   "cell_type": "markdown",
   "metadata": {},
   "source": [
    "#### <font color=\"red\"> The mse, mae and mape are going crazy up on scaling </font>"
   ]
  },
  {
   "cell_type": "code",
   "execution_count": 52,
   "metadata": {},
   "outputs": [
    {
     "data": {
      "text/plain": [
       "(0.68452876917690553,\n",
       " 0.31547123082309453,\n",
       " 0.39012496074819053,\n",
       " 1658.6155402381819)"
      ]
     },
     "execution_count": 52,
     "metadata": {},
     "output_type": "execute_result"
    }
   ],
   "source": [
    "getScore(maccs,HOMO_scaled)"
   ]
  },
  {
   "cell_type": "code",
   "execution_count": 54,
   "metadata": {},
   "outputs": [
    {
     "data": {
      "text/plain": [
       "(0.69171383323092206,\n",
       " 0.30828616676907789,\n",
       " 0.39113074103013884,\n",
       " 2185.5466811957908)"
      ]
     },
     "execution_count": 54,
     "metadata": {},
     "output_type": "execute_result"
    }
   ],
   "source": [
    "getScore(maccs_scaled,HOMO_scaled)"
   ]
  },
  {
   "cell_type": "markdown",
   "metadata": {},
   "source": [
    "### <font color=\"crimson\"> Standardized Fingerprints and Labels </font>"
   ]
  },
  {
   "cell_type": "code",
   "execution_count": 187,
   "metadata": {
    "collapsed": true
   },
   "outputs": [],
   "source": [
    "maccs_standard = StandardScaler().fit_transform(maccs)"
   ]
  },
  {
   "cell_type": "code",
   "execution_count": 193,
   "metadata": {
    "collapsed": true
   },
   "outputs": [],
   "source": [
    "maccs_normal = normalize(maccs)"
   ]
  },
  {
   "cell_type": "code",
   "execution_count": 191,
   "metadata": {
    "collapsed": true
   },
   "outputs": [],
   "source": [
    "HOMO_standard = StandardScaler().fit_transform(HOMO)"
   ]
  },
  {
   "cell_type": "code",
   "execution_count": 190,
   "metadata": {},
   "outputs": [
    {
     "data": {
      "text/plain": [
       "(0.75647841129734528,\n",
       " 2.8634094526955938e-05,\n",
       " 0.0037722842781007754,\n",
       " 1.9751874970732786)"
      ]
     },
     "execution_count": 190,
     "metadata": {},
     "output_type": "execute_result"
    }
   ],
   "source": [
    "getScore(maccs_standard,HOMO,extraTrees)"
   ]
  },
  {
   "cell_type": "code",
   "execution_count": 192,
   "metadata": {},
   "outputs": [
    {
     "data": {
      "text/plain": [
       "(0.75298573360567544,\n",
       " 0.24701426639432456,\n",
       " 0.35081353697278417,\n",
       " 2171.7255121307508)"
      ]
     },
     "execution_count": 192,
     "metadata": {},
     "output_type": "execute_result"
    }
   ],
   "source": [
    "getScore(maccs_standard,HOMO_standard,extraTrees)"
   ]
  },
  {
   "cell_type": "code",
   "execution_count": 195,
   "metadata": {},
   "outputs": [
    {
     "data": {
      "text/plain": [
       "(0.77193572128213495,\n",
       " 0.22806427871786511,\n",
       " 0.34059589630893333,\n",
       " 1686.8145512914293)"
      ]
     },
     "execution_count": 195,
     "metadata": {},
     "output_type": "execute_result"
    }
   ],
   "source": [
    "getScore(normalize(maccs),HOMO_standard,extraTrees)"
   ]
  },
  {
   "cell_type": "markdown",
   "metadata": {},
   "source": [
    "#### Morgan"
   ]
  },
  {
   "cell_type": "code",
   "execution_count": 197,
   "metadata": {},
   "outputs": [
    {
     "data": {
      "text/plain": [
       "(0.77578847051979805,\n",
       " 0.22421152948020195,\n",
       " 0.33591794943993186,\n",
       " 1426.8836890445089)"
      ]
     },
     "execution_count": 197,
     "metadata": {},
     "output_type": "execute_result"
    }
   ],
   "source": [
    "getScore(StandardScaler().fit_transform(morgan),HOMO_standard,extraTrees)"
   ]
  },
  {
   "cell_type": "code",
   "execution_count": 198,
   "metadata": {},
   "outputs": [
    {
     "data": {
      "text/plain": [
       "(0.74971798997237937,\n",
       " 2.9429007800528116e-05,\n",
       " 0.0036724416742801779,\n",
       " 1.9057964040058131)"
      ]
     },
     "execution_count": 198,
     "metadata": {},
     "output_type": "execute_result"
    }
   ],
   "source": [
    "getScore(StandardScaler().fit_transform(morgan),HOMO,extraTrees)"
   ]
  },
  {
   "cell_type": "markdown",
   "metadata": {},
   "source": [
    "#### Topological"
   ]
  },
  {
   "cell_type": "code",
   "execution_count": 200,
   "metadata": {},
   "outputs": [
    {
     "data": {
      "text/plain": [
       "(0.69449684971415437,\n",
       " 0.30550315028584563,\n",
       " 0.36253401273197366,\n",
       " 2135.4801599478569)"
      ]
     },
     "execution_count": 200,
     "metadata": {},
     "output_type": "execute_result"
    }
   ],
   "source": [
    "getScore(StandardScaler().fit_transform(topo),HOMO_standard,extraTrees)"
   ]
  },
  {
   "cell_type": "markdown",
   "metadata": {},
   "source": [
    "#### AtomPair"
   ]
  },
  {
   "cell_type": "code",
   "execution_count": 201,
   "metadata": {},
   "outputs": [
    {
     "data": {
      "text/plain": [
       "(0.7364697674445051,\n",
       " 0.26353023255549485,\n",
       " 0.34989659631556941,\n",
       " 2494.5624624493353)"
      ]
     },
     "execution_count": 201,
     "metadata": {},
     "output_type": "execute_result"
    }
   ],
   "source": [
    "getScore(StandardScaler().fit_transform(atom),HOMO_standard,extraTrees)"
   ]
  },
  {
   "cell_type": "markdown",
   "metadata": {},
   "source": [
    "### <font color=\"purple\"> Mixed Fingerprint</font>"
   ]
  },
  {
   "cell_type": "code",
   "execution_count": 171,
   "metadata": {},
   "outputs": [
    {
     "name": "stdout",
     "output_type": "stream",
     "text": [
      "maccsMorganCount saved successfully in .\n"
     ]
    }
   ],
   "source": [
    "maccsAtom = hstack((maccs,atom))"
   ]
  },
  {
   "cell_type": "code",
   "execution_count": 179,
   "metadata": {},
   "outputs": [
    {
     "name": "stdout",
     "output_type": "stream",
     "text": [
      "maccsAtomCount saved successfully in .\n"
     ]
    }
   ],
   "source": [
    "saveNumpy(maccsAtom,'maccsAtomCount')"
   ]
  },
  {
   "cell_type": "code",
   "execution_count": 160,
   "metadata": {},
   "outputs": [
    {
     "data": {
      "text/plain": [
       "(0.750111115460385,\n",
       " 2.9382782772001973e-05,\n",
       " 0.0036849562791466711,\n",
       " 1.9235225094122455)"
      ]
     },
     "execution_count": 160,
     "metadata": {},
     "output_type": "execute_result"
    }
   ],
   "source": [
    "getScore(maccsAtom,HOMO,extraTrees)"
   ]
  },
  {
   "cell_type": "code",
   "execution_count": 163,
   "metadata": {
    "collapsed": true
   },
   "outputs": [],
   "source": [
    "maccsMorgan = hstack((maccs,morgan))"
   ]
  },
  {
   "cell_type": "code",
   "execution_count": 164,
   "metadata": {},
   "outputs": [
    {
     "data": {
      "text/plain": [
       "(0.78378048069578132,\n",
       " 2.542382458702512e-05,\n",
       " 0.0034920834555724743,\n",
       " 1.8190513968513713)"
      ]
     },
     "execution_count": 164,
     "metadata": {},
     "output_type": "execute_result"
    }
   ],
   "source": [
    "getScore(maccsMorgan,HOMO,extraTrees)"
   ]
  },
  {
   "cell_type": "code",
   "execution_count": null,
   "metadata": {
    "collapsed": true
   },
   "outputs": [],
   "source": [
    "getScore(StandardScaler().fit_transform(maccsMorgan),HOMO,extraTrees)"
   ]
  },
  {
   "cell_type": "code",
   "execution_count": 174,
   "metadata": {},
   "outputs": [
    {
     "data": {
      "text/plain": [
       "(0.7836999168780594,\n",
       " 2.5433297554019112e-05,\n",
       " 0.0035041655156423045,\n",
       " 1.8225009841053277)"
      ]
     },
     "execution_count": 174,
     "metadata": {},
     "output_type": "execute_result"
    }
   ],
   "source": [
    "getScore(maccsMorgan,HOMO,extraTrees,43)"
   ]
  },
  {
   "cell_type": "code",
   "execution_count": 165,
   "metadata": {
    "collapsed": true
   },
   "outputs": [],
   "source": [
    "maccsTopo = hstack((maccs,topo))"
   ]
  },
  {
   "cell_type": "code",
   "execution_count": 175,
   "metadata": {},
   "outputs": [
    {
     "name": "stdout",
     "output_type": "stream",
     "text": [
      "maccsTopoCount saved successfully in .\n"
     ]
    }
   ],
   "source": [
    "saveNumpy(maccsTopo,'maccsTopoCount')"
   ]
  },
  {
   "cell_type": "code",
   "execution_count": 166,
   "metadata": {},
   "outputs": [
    {
     "data": {
      "text/plain": [
       "(0.76246288738697243,\n",
       " 2.7930419526486374e-05,\n",
       " 0.0036583938385935776,\n",
       " 1.9044858104639695)"
      ]
     },
     "execution_count": 166,
     "metadata": {},
     "output_type": "execute_result"
    }
   ],
   "source": [
    "getScore(maccsTopo,HOMO,extraTrees)"
   ]
  },
  {
   "cell_type": "code",
   "execution_count": 173,
   "metadata": {},
   "outputs": [
    {
     "data": {
      "text/plain": [
       "(0.75644067218329547,\n",
       " 2.8638532020012811e-05,\n",
       " 0.0035790888028331518,\n",
       " 1.859281778782063)"
      ]
     },
     "execution_count": 173,
     "metadata": {},
     "output_type": "execute_result"
    }
   ],
   "source": [
    "getScore(maccsTopo,HOMO,extraTrees,43)"
   ]
  },
  {
   "cell_type": "code",
   "execution_count": 161,
   "metadata": {
    "collapsed": true
   },
   "outputs": [],
   "source": [
    "atomTopo = hstack((atom,topo))"
   ]
  },
  {
   "cell_type": "code",
   "execution_count": 178,
   "metadata": {},
   "outputs": [
    {
     "name": "stdout",
     "output_type": "stream",
     "text": [
      "atomTopoCount saved successfully in .\n"
     ]
    }
   ],
   "source": [
    "saveNumpy(atomTopo,'atomTopoCount')"
   ]
  },
  {
   "cell_type": "code",
   "execution_count": 162,
   "metadata": {},
   "outputs": [
    {
     "data": {
      "text/plain": [
       "(0.72816510243160404,\n",
       " 3.1963269434000615e-05,\n",
       " 0.0038757041760874296,\n",
       " 2.0202683637950116)"
      ]
     },
     "execution_count": 162,
     "metadata": {},
     "output_type": "execute_result"
    }
   ],
   "source": [
    "getScore(atomTopo,HOMO,extraTrees)"
   ]
  },
  {
   "cell_type": "code",
   "execution_count": 167,
   "metadata": {
    "collapsed": true
   },
   "outputs": [],
   "source": [
    "atomMorgan = hstack((atom,morgan))"
   ]
  },
  {
   "cell_type": "code",
   "execution_count": 168,
   "metadata": {},
   "outputs": [
    {
     "data": {
      "text/plain": [
       "(0.74040584835972834,\n",
       " 3.052396100203103e-05,\n",
       " 0.0037833977927006785,\n",
       " 1.9729374351440441)"
      ]
     },
     "execution_count": 168,
     "metadata": {},
     "output_type": "execute_result"
    }
   ],
   "source": [
    "getScore(atomMorgan,HOMO,extraTrees)"
   ]
  },
  {
   "cell_type": "code",
   "execution_count": 177,
   "metadata": {},
   "outputs": [
    {
     "name": "stdout",
     "output_type": "stream",
     "text": [
      "atomMorganCount saved successfully in .\n"
     ]
    }
   ],
   "source": [
    "saveNumpy(atomMorgan,'atomMorganCount')"
   ]
  },
  {
   "cell_type": "code",
   "execution_count": 169,
   "metadata": {
    "collapsed": true
   },
   "outputs": [],
   "source": [
    "morganTopo = hstack((morgan,topo))"
   ]
  },
  {
   "cell_type": "code",
   "execution_count": 170,
   "metadata": {},
   "outputs": [
    {
     "data": {
      "text/plain": [
       "(0.75115841849151455,\n",
       " 2.925963732871092e-05,\n",
       " 0.0036788653507982719,\n",
       " 1.9141793867580681)"
      ]
     },
     "execution_count": 170,
     "metadata": {},
     "output_type": "execute_result"
    }
   ],
   "source": [
    "getScore(morganTopo,HOMO,extraTrees)"
   ]
  },
  {
   "cell_type": "code",
   "execution_count": 176,
   "metadata": {},
   "outputs": [
    {
     "name": "stdout",
     "output_type": "stream",
     "text": [
      "morganTopoCount saved successfully in .\n"
     ]
    }
   ],
   "source": [
    "saveNumpy(morganTopo,'morganTopoCount')"
   ]
  },
  {
   "cell_type": "markdown",
   "metadata": {},
   "source": [
    "### <font color=\"magenta\"> Feature Reduction </font>"
   ]
  },
  {
   "cell_type": "code",
   "execution_count": 119,
   "metadata": {
    "collapsed": true
   },
   "outputs": [],
   "source": [
    "def reduceFeatures(X,y,estimator=forest):\n",
    "    if len(X[-1])<400:\n",
    "        NUM = 15\n",
    "    elif len(X[-1])<2000:\n",
    "        NUM = 100\n",
    "    else:\n",
    "        NUM = 200\n",
    "    \n",
    "    for iter in range(10):\n",
    "        model = estimator.fit(X,y)\n",
    "        features = model.feature_importances_\n",
    "        indices = numpy.argsort(features)[::-1]\n",
    "        top = indices[:-NUM]\n",
    "        modX = []\n",
    "        for i in range(len(X)):\n",
    "            vector = []\n",
    "            count = 0\n",
    "            for j in range(len(X[0])):\n",
    "                if j in top:\n",
    "                    vector += [X[i][count]]\n",
    "                    count += 1\n",
    "            modX += [vector]\n",
    "        print crossVal_r2(modX,y), len(X[0])\n",
    "        X = modX\n",
    "        "
   ]
  },
  {
   "cell_type": "markdown",
   "metadata": {},
   "source": [
    "### <font color=\"pink\"> Feature Exploration </font>"
   ]
  },
  {
   "cell_type": "code",
   "execution_count": 153,
   "metadata": {
    "collapsed": true
   },
   "outputs": [],
   "source": [
    "def topFeatures(X,y,num, estimator=extraTrees):\n",
    "    model = estimator.fit(X,y)\n",
    "    features = model.feature_importances_\n",
    "    indices = numpy.argsort(features)[::-1]\n",
    "    for i in range(num):\n",
    "        print 'index:',indices[i],'contribution:',features[indices[i]]\n",
    "    #return indices[:20]"
   ]
  },
  {
   "cell_type": "markdown",
   "metadata": {},
   "source": [
    "#### Atom Pair"
   ]
  },
  {
   "cell_type": "code",
   "execution_count": 136,
   "metadata": {},
   "outputs": [
    {
     "name": "stdout",
     "output_type": "stream",
     "text": [
      "index: 743 contribution: 0.141922830222\n",
      "index: 509 contribution: 0.0734816837276\n",
      "index: 2038 contribution: 0.0360934231556\n",
      "index: 2016 contribution: 0.0318903713163\n",
      "index: 2634 contribution: 0.0271364139833\n"
     ]
    }
   ],
   "source": [
    "topFeatures(ap,HOMO)"
   ]
  },
  {
   "cell_type": "markdown",
   "metadata": {},
   "source": [
    "#### Topological"
   ]
  },
  {
   "cell_type": "code",
   "execution_count": 137,
   "metadata": {},
   "outputs": [
    {
     "name": "stdout",
     "output_type": "stream",
     "text": [
      "index: 145 contribution: 0.114844082684\n",
      "index: 294 contribution: 0.0737731757258\n",
      "index: 201 contribution: 0.066088153016\n",
      "index: 29 contribution: 0.05569340408\n",
      "index: 129 contribution: 0.0548669723948\n"
     ]
    }
   ],
   "source": [
    "topFeatures(topo,HOMO)"
   ]
  },
  {
   "cell_type": "markdown",
   "metadata": {},
   "source": [
    "#### Morgan"
   ]
  },
  {
   "cell_type": "code",
   "execution_count": 138,
   "metadata": {},
   "outputs": [
    {
     "name": "stdout",
     "output_type": "stream",
     "text": [
      "index: 804 contribution: 0.207600703207\n",
      "index: 459 contribution: 0.0689902107464\n",
      "index: 806 contribution: 0.0594806577955\n",
      "index: 1100 contribution: 0.0416100249089\n",
      "index: 665 contribution: 0.0263743526675\n"
     ]
    }
   ],
   "source": [
    "top5(morgan,HOMO)"
   ]
  },
  {
   "cell_type": "markdown",
   "metadata": {},
   "source": [
    "#### MACCS"
   ]
  },
  {
   "cell_type": "code",
   "execution_count": 286,
   "metadata": {},
   "outputs": [
    {
     "name": "stdout",
     "output_type": "stream",
     "text": [
      "index: 164 contribution: 0.196566770506\n",
      "index: 40 contribution: 0.146287435342\n",
      "index: 75 contribution: 0.0832006540462\n",
      "index: 98 contribution: 0.0684039383011\n",
      "index: 62 contribution: 0.0391084923579\n"
     ]
    }
   ],
   "source": [
    "topFeatures(maccs,HOMO,5)"
   ]
  },
  {
   "cell_type": "code",
   "execution_count": 287,
   "metadata": {},
   "outputs": [
    {
     "name": "stdout",
     "output_type": "stream",
     "text": [
      "index: 40 contribution: 0.133321077249\n",
      "index: 164 contribution: 0.133125228264\n",
      "index: 75 contribution: 0.0871969943572\n",
      "index: 124 contribution: 0.0856958683121\n",
      "index: 98 contribution: 0.0566407480769\n",
      "index: 62 contribution: 0.0381394970715\n",
      "index: 61 contribution: 0.0331720040972\n",
      "index: 79 contribution: 0.0293470979571\n",
      "index: 70 contribution: 0.0260050012253\n",
      "index: 69 contribution: 0.0210977444497\n"
     ]
    }
   ],
   "source": [
    "topFeatures(maccs,HOMO,10)"
   ]
  },
  {
   "cell_type": "code",
   "execution_count": 288,
   "metadata": {
    "collapsed": true
   },
   "outputs": [],
   "source": [
    "maccsShort10 = []\n",
    "indices = [164,40,75,124,98,62,61,79,70,69]\n",
    "for i in range(344):\n",
    "    short = []\n",
    "    for index in indices:\n",
    "        short += [maccs[i][index]]\n",
    "    maccsShort10 += [short]"
   ]
  },
  {
   "cell_type": "markdown",
   "metadata": {},
   "source": [
    "### Regression on the top 5 and 10 features "
   ]
  },
  {
   "cell_type": "code",
   "execution_count": 284,
   "metadata": {},
   "outputs": [
    {
     "data": {
      "text/plain": [
       "(0.68565326534701398,\n",
       " 3.6961955456376412e-05,\n",
       " 0.0042806485775424572,\n",
       " 2.2481480068527984)"
      ]
     },
     "execution_count": 284,
     "metadata": {},
     "output_type": "execute_result"
    }
   ],
   "source": [
    "getScore(maccsShort,HOMO,extraTrees)"
   ]
  },
  {
   "cell_type": "code",
   "execution_count": 290,
   "metadata": {},
   "outputs": [
    {
     "data": {
      "text/plain": [
       "(0.68418444380924637,\n",
       " 3.7134664475645406e-05,\n",
       " 0.0043681156910555536,\n",
       " 2.2875556568219735)"
      ]
     },
     "execution_count": 290,
     "metadata": {},
     "output_type": "execute_result"
    }
   ],
   "source": [
    "getScore(maccsShort,HOMO)"
   ]
  },
  {
   "cell_type": "code",
   "execution_count": 289,
   "metadata": {},
   "outputs": [
    {
     "data": {
      "text/plain": [
       "(0.69403701613830893,\n",
       " 3.5976165597139329e-05,\n",
       " 0.0042093514747139262,\n",
       " 2.2046720801117665)"
      ]
     },
     "execution_count": 289,
     "metadata": {},
     "output_type": "execute_result"
    }
   ],
   "source": [
    "getScore(maccsShort10,HOMO,extraTrees)"
   ]
  },
  {
   "cell_type": "code",
   "execution_count": 291,
   "metadata": {},
   "outputs": [
    {
     "data": {
      "text/plain": [
       "(0.67795273119509702,\n",
       " 3.7867410385398226e-05,\n",
       " 0.004399532992590752,\n",
       " 2.2987972668919396)"
      ]
     },
     "execution_count": 291,
     "metadata": {},
     "output_type": "execute_result"
    }
   ],
   "source": [
    "getScore(maccsShort10,HOMO)"
   ]
  },
  {
   "cell_type": "markdown",
   "metadata": {},
   "source": [
    "### <font color=\"green\"> Staged Reduction </font>"
   ]
  },
  {
   "cell_type": "markdown",
   "metadata": {},
   "source": [
    "#### AtomPair"
   ]
  },
  {
   "cell_type": "code",
   "execution_count": 82,
   "metadata": {},
   "outputs": [
    {
     "name": "stdout",
     "output_type": "stream",
     "text": [
      "(0.65756372655116624, 4.0264818719481146e-05, 0.0044813358759280136, 2.3279328709775964)\n",
      "(0.66786203709517311, 3.9053908429531042e-05, 0.0045150618889540691, 2.3528394059944104)\n",
      "(0.63408812055360708, 4.3025160111769196e-05, 0.0044603111477377524, 2.310782597876567)\n",
      "(0.66516812711788953, 3.9370667503531809e-05, 0.0044471112781299784, 2.3178467152152895)\n",
      "(0.66854558562973598, 3.8973534473954021e-05, 0.0043903894231934427, 2.2852360401679022)\n",
      "(0.64183453972769189, 4.2114309866179655e-05, 0.0044427031228413067, 2.3067048491501185)\n",
      "(0.59362409485702572, 4.7783057524108361e-05, 0.0047367521316643646, 2.4594397317320538)\n",
      "(0.61645203876453036, 4.5098870437510191e-05, 0.004591158423749216, 2.3826877774572677)\n",
      "(0.63562158693496462, 4.2844849932488476e-05, 0.0046112398830667079, 2.3895410197505895)\n",
      "(0.56448942503350419, 5.1208810838969476e-05, 0.0048176115183919772, 2.4956184878419094)\n"
     ]
    }
   ],
   "source": [
    "reduceFeatures(ap,HOMO)"
   ]
  },
  {
   "cell_type": "code",
   "execution_count": 117,
   "metadata": {},
   "outputs": [
    {
     "name": "stdout",
     "output_type": "stream",
     "text": [
      "0.651771576182 2676\n",
      "0.64738600736 2476\n",
      "0.631147823452 2276\n",
      "0.675257957618 2076\n",
      "0.653063394008 1876\n",
      "0.623874489771 1676\n",
      "0.636166488106 1476\n",
      "0.630440967239 1276\n",
      "0.600226412143 1076\n",
      "0.59255504393 876\n"
     ]
    }
   ],
   "source": [
    "reduceFeatures(ap,HOMO,extraTrees)"
   ]
  },
  {
   "cell_type": "markdown",
   "metadata": {},
   "source": [
    "#### Topological"
   ]
  },
  {
   "cell_type": "code",
   "execution_count": 122,
   "metadata": {},
   "outputs": [
    {
     "name": "stdout",
     "output_type": "stream",
     "text": [
      "0.631437379973 318\n",
      "0.647325056388 303\n",
      "0.686185635952 288\n",
      "0.662832223623 273\n",
      "0.643257335301 258\n",
      "0.630239246013 243\n",
      "0.613448181485 228\n",
      "0.559864185728 213\n",
      "0.57995143059 198\n",
      "0.593062687717 183\n"
     ]
    }
   ],
   "source": [
    "reduceFeatures(topo,HOMO)"
   ]
  },
  {
   "cell_type": "code",
   "execution_count": 123,
   "metadata": {},
   "outputs": [
    {
     "name": "stdout",
     "output_type": "stream",
     "text": [
      "0.658879938303 318\n",
      "0.670449375403 303\n",
      "0.654356077966 288\n",
      "0.637198555008 273\n",
      "0.629564937202 258\n",
      "0.649370328892 243\n",
      "0.67424156887 228\n",
      "0.588727979708 213\n",
      "0.564330460823 198\n",
      "0.536367199247 183\n"
     ]
    }
   ],
   "source": [
    "reduceFeatures(topo,HOMO,extraTrees)"
   ]
  },
  {
   "cell_type": "markdown",
   "metadata": {},
   "source": [
    "#### Morgan"
   ]
  },
  {
   "cell_type": "code",
   "execution_count": 86,
   "metadata": {},
   "outputs": [
    {
     "name": "stdout",
     "output_type": "stream",
     "text": [
      "0.697554498156 1193\n",
      "0.733469954257 1093\n",
      "0.708201002805 993\n",
      "0.604796391953 893\n",
      "0.661298819406 793\n",
      "0.589284977369 693\n",
      "0.62595138685 593\n",
      "0.583576492105 493\n",
      "0.625546756698 393\n",
      "0.326855281257 293\n"
     ]
    }
   ],
   "source": [
    "reduceFeatures(morgan,HOMO)"
   ]
  },
  {
   "cell_type": "code",
   "execution_count": 115,
   "metadata": {},
   "outputs": [
    {
     "name": "stdout",
     "output_type": "stream",
     "text": [
      "0.706892306243 1193\n",
      "0.686575080668 1093\n",
      "0.693695471242 993\n",
      "0.664590589966 893\n",
      "0.653948463023 793\n",
      "0.626362781738 693\n",
      "0.616934078438 593\n",
      "0.63023447345 493\n",
      "0.593012449717 393\n",
      "0.340541929268 293\n"
     ]
    }
   ],
   "source": [
    "reduceFeatures(morgan,HOMO,extraTrees)"
   ]
  },
  {
   "cell_type": "markdown",
   "metadata": {},
   "source": [
    "#### MACCS"
   ]
  },
  {
   "cell_type": "code",
   "execution_count": 121,
   "metadata": {},
   "outputs": [
    {
     "name": "stdout",
     "output_type": "stream",
     "text": [
      "0.676130421137 166\n",
      "0.689310579486 151\n",
      "0.733717161328 136\n",
      "0.737140333976 121\n",
      "0.689810435111 106\n",
      "0.727393980219 91\n",
      "0.621205642819 76\n",
      "0.578783894545 61\n",
      "0.153076085882 46\n",
      "-0.00775586830302 31\n"
     ]
    }
   ],
   "source": [
    "reduceFeatures(maccs,HOMO)"
   ]
  },
  {
   "cell_type": "code",
   "execution_count": 120,
   "metadata": {},
   "outputs": [
    {
     "name": "stdout",
     "output_type": "stream",
     "text": [
      "0.739021409017 166\n",
      "0.739154031213 151\n",
      "0.705239817623 136\n",
      "0.725535852344 121\n",
      "0.729010825549 106\n",
      "0.699741951568 91\n",
      "0.61190847668 76\n",
      "0.512748037505 61\n",
      "0.162652672112 46\n",
      "-0.00831933051448 31\n"
     ]
    }
   ],
   "source": [
    "reduceFeatures(maccs,HOMO,extraTrees)"
   ]
  },
  {
   "cell_type": "markdown",
   "metadata": {},
   "source": [
    "### Combined Fingerprints "
   ]
  },
  {
   "cell_type": "code",
   "execution_count": 172,
   "metadata": {},
   "outputs": [
    {
     "name": "stdout",
     "output_type": "stream",
     "text": [
      "0.712122741277 1359\n",
      "0.708251829316 1259\n",
      "0.678845370245 1159\n",
      "0.678688239577 1059\n",
      "0.682663578121 959\n",
      "0.69520338565 859\n",
      "0.703878962358 759\n",
      "0.675981558494 659\n",
      "0.662351419544 559\n",
      "0.670375888581 459\n"
     ]
    }
   ],
   "source": [
    "reduceFeatures(maccsMorgan,HOMO,extraTrees)"
   ]
  },
  {
   "cell_type": "markdown",
   "metadata": {},
   "source": [
    "### <font color=\"red\">Leave One Out</font>"
   ]
  },
  {
   "cell_type": "code",
   "execution_count": 91,
   "metadata": {
    "collapsed": true
   },
   "outputs": [],
   "source": [
    "def leaveOneOut(X_full,y_full,estimator=forest):\n",
    "\ty_predict = []\n",
    "\tloo = cross_validation.LeaveOneOut(len(X_full))\n",
    "\tfor train_index, test_index in loo:\n",
    "\t \tX_train, X_test = X_full[train_index], X_full[test_index]\n",
    "\t \ty_train, y_test = y_full[train_index], y_full[test_index]\n",
    "\t \ty_predict += [estimator.fit(X_train, y_train).predict(X_test)]\n",
    "        return r2_score(y_full, y_predict)\n",
    "\t"
   ]
  },
  {
   "cell_type": "code",
   "execution_count": 92,
   "metadata": {},
   "outputs": [
    {
     "data": {
      "text/plain": [
       "0.71709460044278872"
      ]
     },
     "execution_count": 92,
     "metadata": {},
     "output_type": "execute_result"
    }
   ],
   "source": [
    "leaveOneOut(morgan,HOMO)"
   ]
  },
  {
   "cell_type": "markdown",
   "metadata": {},
   "source": [
    "### Saving arrays in .mat format to be used in MATLAB and R"
   ]
  },
  {
   "cell_type": "code",
   "execution_count": 36,
   "metadata": {
    "collapsed": true
   },
   "outputs": [],
   "source": [
    "savemat('atompairCount.mat',{'data':ap})"
   ]
  },
  {
   "cell_type": "code",
   "execution_count": 40,
   "metadata": {
    "collapsed": true
   },
   "outputs": [],
   "source": [
    "savemat('topologicalCount.mat',{'data':topo})\n",
    "savemat('maccsCount.mat',{'data':maccs})\n",
    "savemat('morganCount.mat',{'data':morgan})"
   ]
  },
  {
   "cell_type": "code",
   "execution_count": 41,
   "metadata": {
    "collapsed": true
   },
   "outputs": [],
   "source": [
    "savemat('HOMO.mat',{'data':HOMO})"
   ]
  },
  {
   "cell_type": "markdown",
   "metadata": {},
   "source": [
    "### <font color=\"orange\"> Extracting Experimental Information </font>"
   ]
  },
  {
   "cell_type": "code",
   "execution_count": 159,
   "metadata": {
    "collapsed": true
   },
   "outputs": [],
   "source": [
    "lines = open('HOPV_15.data').readlines()\n",
    "NAN = 'nan,nan,nan,nan,nan,nan,nan'"
   ]
  },
  {
   "cell_type": "code",
   "execution_count": 163,
   "metadata": {
    "collapsed": true
   },
   "outputs": [],
   "source": [
    "experimentLineNums = []\n",
    "for i in range(len(lines)):\n",
    "    if 'molecule' in lines[i] or 'polymer' in lines[i]:\n",
    "        experimentLineNums +=[i]"
   ]
  },
  {
   "cell_type": "code",
   "execution_count": 113,
   "metadata": {
    "collapsed": true
   },
   "outputs": [],
   "source": [
    "def kekule(compound):\n",
    "    return Chem.MolToSmiles(Chem.MolFromSmiles(compound),kekuleSmiles=True)"
   ]
  },
  {
   "cell_type": "code",
   "execution_count": 164,
   "metadata": {
    "collapsed": true
   },
   "outputs": [],
   "source": [
    "compoundSMILES = []\n",
    "for i in experimentLineNums:\n",
    "    compoundSMILES += [lines[i+1].split('\\n')[0]]"
   ]
  },
  {
   "cell_type": "code",
   "execution_count": 76,
   "metadata": {
    "collapsed": true
   },
   "outputs": [],
   "source": [
    "for compound in compoundSMILES:\n",
    "    Chem.MolFromSmiles(compound)"
   ]
  },
  {
   "cell_type": "code",
   "execution_count": 214,
   "metadata": {
    "collapsed": true
   },
   "outputs": [],
   "source": [
    "extractedLineNumMax = []\n",
    "for i in range(len(lines)):\n",
    "    if 'Conformer 1\\n' in lines[i]:\n",
    "        extractedLineNumMax +=[i-1]"
   ]
  },
  {
   "cell_type": "code",
   "execution_count": 217,
   "metadata": {
    "collapsed": true
   },
   "outputs": [],
   "source": [
    "DFT = 'QChem B3LYP/def2-SVP DFT,-0.187,-0.099,0.088,1.56454461973,0.4885289015,49.2884633879'"
   ]
  },
  {
   "cell_type": "code",
   "execution_count": 220,
   "metadata": {},
   "outputs": [
    {
     "data": {
      "text/plain": [
       "'1.56454461973'"
      ]
     },
     "execution_count": 220,
     "metadata": {},
     "output_type": "execute_result"
    }
   ],
   "source": [
    "DFT.split(',',5)[4]"
   ]
  },
  {
   "cell_type": "code",
   "execution_count": 77,
   "metadata": {
    "collapsed": true
   },
   "outputs": [],
   "source": [
    "data = pd.read_csv('allFunctionals.csv','|')\n",
    "SMILES = []\n",
    "for SMILE in data['Unnamed: 1'][1:]:\n",
    "    SMILES += [SMILE]"
   ]
  },
  {
   "cell_type": "code",
   "execution_count": 127,
   "metadata": {
    "collapsed": true
   },
   "outputs": [],
   "source": [
    "standardSMILES = []\n",
    "for SMILE in data['Unnamed: 2'][1:]:\n",
    "    standardSMILES += [SMILE]"
   ]
  },
  {
   "cell_type": "code",
   "execution_count": 221,
   "metadata": {
    "collapsed": true
   },
   "outputs": [],
   "source": [
    "compoundType, experimentHOMO,experimentPCE = [],[],[]\n",
    "for lit in data['Unnamed: 4'][1:]:\n",
    "    compoundType += [lit.split(',',3)[2]]\n",
    "    experimentHOMO += [float(lit.split(',',6)[5])/27.211]\n",
    "    experimentPCE += [float(lit.split(',',10)[9])]"
   ]
  },
  {
   "cell_type": "code",
   "execution_count": 222,
   "metadata": {
    "collapsed": true
   },
   "outputs": [],
   "source": [
    "indices = []\n",
    "for i in range(len(experimentPCE)):\n",
    "    if isnan(experimentPCE[i]):\n",
    "        indices+=[i]"
   ]
  },
  {
   "cell_type": "code",
   "execution_count": 224,
   "metadata": {},
   "outputs": [
    {
     "data": {
      "text/plain": [
       "7"
      ]
     },
     "execution_count": 224,
     "metadata": {},
     "output_type": "execute_result"
    }
   ],
   "source": [
    "len(indices)"
   ]
  },
  {
   "cell_type": "code",
   "execution_count": 213,
   "metadata": {},
   "outputs": [
    {
     "data": {
      "text/plain": [
       "'1.51'"
      ]
     },
     "execution_count": 213,
     "metadata": {},
     "output_type": "execute_result"
    }
   ],
   "source": [
    "literature[3].split(',',10)[9]"
   ]
  },
  {
   "cell_type": "code",
   "execution_count": 191,
   "metadata": {},
   "outputs": [
    {
     "data": {
      "text/plain": [
       "nan"
      ]
     },
     "execution_count": 191,
     "metadata": {},
     "output_type": "execute_result"
    }
   ],
   "source": [
    "nan"
   ]
  },
  {
   "cell_type": "code",
   "execution_count": 173,
   "metadata": {},
   "outputs": [
    {
     "data": {
      "text/plain": [
       "'-5.04'"
      ]
     },
     "execution_count": 173,
     "metadata": {},
     "output_type": "execute_result"
    }
   ],
   "source": [
    "literature[0].split(',',6)[5]"
   ]
  },
  {
   "cell_type": "code",
   "execution_count": 194,
   "metadata": {
    "collapsed": true
   },
   "outputs": [],
   "source": [
    "from collections import Counter\n",
    "indices = []\n",
    "for i in range(len(compoundType)):\n",
    "    if 'nan' in compoundType[i]:\n",
    "        indices += [i]"
   ]
  },
  {
   "cell_type": "code",
   "execution_count": 153,
   "metadata": {},
   "outputs": [
    {
     "data": {
      "text/plain": [
       "[17, 79, 268]"
      ]
     },
     "execution_count": 153,
     "metadata": {},
     "output_type": "execute_result"
    }
   ],
   "source": [
    "indices"
   ]
  },
  {
   "cell_type": "code",
   "execution_count": 165,
   "metadata": {
    "collapsed": true
   },
   "outputs": [],
   "source": [
    "kekuleSMILES, kekuleCompounds = [],[]\n",
    "for SMILE in SMILES:\n",
    "    kekuleSMILES += [kekule(SMILE)]\n",
    "for compoundSMILE in compoundSMILES:\n",
    "    kekuleCompounds += [kekule(compoundSMILE)]"
   ]
  },
  {
   "cell_type": "code",
   "execution_count": 128,
   "metadata": {
    "collapsed": true
   },
   "outputs": [],
   "source": [
    "kekuleStandard = []\n",
    "for SMILE in standardSMILES:\n",
    "    kekuleStandard += [kekule(SMILE)]"
   ]
  },
  {
   "cell_type": "code",
   "execution_count": 166,
   "metadata": {
    "collapsed": true
   },
   "outputs": [],
   "source": [
    "count = 0\n",
    "for i in range(len(SMILES)):\n",
    "    for j in range(len(compoundSMILES)):\n",
    "        if kekuleStandard[i] == kekuleCompounds[j]:\n",
    "            count +=1\n",
    "            "
   ]
  },
  {
   "cell_type": "code",
   "execution_count": 209,
   "metadata": {
    "collapsed": true
   },
   "outputs": [],
   "source": [
    "expHOMO = []\n",
    "for lit in literature:\n",
    "    expHOMO += [float(lit.split(',',6)[5])/27.211]"
   ]
  },
  {
   "cell_type": "code",
   "execution_count": 210,
   "metadata": {
    "collapsed": true
   },
   "outputs": [],
   "source": [
    "indices = []\n",
    "for i in range(len(expHOMO)):\n",
    "    if isnan(expHOMO[i]):\n",
    "        indices+=[i]"
   ]
  },
  {
   "cell_type": "code",
   "execution_count": 211,
   "metadata": {},
   "outputs": [
    {
     "data": {
      "text/plain": [
       "101"
      ]
     },
     "execution_count": 211,
     "metadata": {},
     "output_type": "execute_result"
    }
   ],
   "source": [
    "len(indices)"
   ]
  },
  {
   "cell_type": "code",
   "execution_count": 90,
   "metadata": {},
   "outputs": [
    {
     "data": {
      "text/plain": [
       "('COCc1cc2csc(-c3cc4c(s3)c(OC)c3ccsc3c4OC)c2s1',\n",
       " 'COCc1cc2csc(c3cc4c(s3)c(OC)c3ccsc3c4OC)c2s1')"
      ]
     },
     "execution_count": 90,
     "metadata": {},
     "output_type": "execute_result"
    }
   ],
   "source": [
    "compoundSMILES[28], SMILES[29]"
   ]
  },
  {
   "cell_type": "code",
   "execution_count": 95,
   "metadata": {
    "collapsed": true
   },
   "outputs": [],
   "source": [
    "if Chem.MolFromSmiles(compoundSMILES[28]) == Chem.MolFromSmiles(SMILES[29]):\n",
    "    print \"True\""
   ]
  },
  {
   "cell_type": "code",
   "execution_count": 99,
   "metadata": {
    "collapsed": true
   },
   "outputs": [],
   "source": [
    "a = Chem.MolToSmiles(Chem.MolFromSmiles(compoundSMILES[28]),kekuleSmiles=True)"
   ]
  },
  {
   "cell_type": "code",
   "execution_count": 100,
   "metadata": {
    "collapsed": true
   },
   "outputs": [],
   "source": [
    "b = Chem.MolToSmiles(Chem.MolFromSmiles(SMILES[29]),kekuleSmiles=True)"
   ]
  },
  {
   "cell_type": "code",
   "execution_count": 106,
   "metadata": {},
   "outputs": [
    {
     "data": {
      "text/plain": [
       "'COCC1:C:C2:C:S:C(C3:C:C4:C(OC):C5:S:C:C:C:5:C(OC):C:4:S:3):C:2:S:1'"
      ]
     },
     "execution_count": 106,
     "metadata": {},
     "output_type": "execute_result"
    }
   ],
   "source": [
    "Chem.MolToSmiles(Chem.MolFromSmiles(SMILES[29]),kekuleSmiles=True)"
   ]
  },
  {
   "cell_type": "code",
   "execution_count": 111,
   "metadata": {
    "collapsed": true
   },
   "outputs": [],
   "source": [
    "c = SMILES[29]"
   ]
  },
  {
   "cell_type": "code",
   "execution_count": 157,
   "metadata": {},
   "outputs": [
    {
     "data": {
      "text/plain": [
       "350"
      ]
     },
     "execution_count": 157,
     "metadata": {},
     "output_type": "execute_result"
    }
   ],
   "source": [
    "len(experimentLineNums)"
   ]
  }
 ],
 "metadata": {
  "kernelspec": {
   "display_name": "Python 2",
   "language": "python",
   "name": "python2"
  },
  "language_info": {
   "codemirror_mode": {
    "name": "ipython",
    "version": 2
   },
   "file_extension": ".py",
   "mimetype": "text/x-python",
   "name": "python",
   "nbconvert_exporter": "python",
   "pygments_lexer": "ipython2",
   "version": "2.7.15"
  }
 },
 "nbformat": 4,
 "nbformat_minor": 2
}
