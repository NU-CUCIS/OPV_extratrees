{
 "cells": [
  {
   "cell_type": "code",
   "execution_count": null,
   "metadata": {},
   "outputs": [],
   "source": [
    "%matplotlib inline\n",
    "\n",
    "def warn(*args, **kwargs):\n",
    "    pass\n",
    "import warnings\n",
    "warnings.warn = warn\n",
    "warnings.filterwarnings(\"ignore\")"
   ]
  },
  {
   "cell_type": "code",
   "execution_count": null,
   "metadata": {},
   "outputs": [],
   "source": [
    "from ml_util import *\n",
    "from rdkit_util import *"
   ]
  },
  {
   "cell_type": "code",
   "execution_count": 4,
   "metadata": {},
   "outputs": [],
   "source": [
    "import pandas as pd"
   ]
  },
  {
   "cell_type": "code",
   "execution_count": 5,
   "metadata": {},
   "outputs": [],
   "source": [
    "data = pd.read_csv('allFunctionals.csv','|')"
   ]
  },
  {
   "cell_type": "code",
   "execution_count": 6,
   "metadata": {},
   "outputs": [
    {
     "data": {
      "text/html": [
       "<div>\n",
       "<style scoped>\n",
       "    .dataframe tbody tr th:only-of-type {\n",
       "        vertical-align: middle;\n",
       "    }\n",
       "\n",
       "    .dataframe tbody tr th {\n",
       "        vertical-align: top;\n",
       "    }\n",
       "\n",
       "    .dataframe thead th {\n",
       "        text-align: right;\n",
       "    }\n",
       "</style>\n",
       "<table border=\"1\" class=\"dataframe\">\n",
       "  <thead>\n",
       "    <tr style=\"text-align: right;\">\n",
       "      <th></th>\n",
       "      <th>Unnamed: 0</th>\n",
       "      <th>Unnamed: 1</th>\n",
       "      <th>Unnamed: 2</th>\n",
       "      <th>Unnamed: 3</th>\n",
       "      <th>Unnamed: 4</th>\n",
       "      <th>Unnamed: 5</th>\n",
       "      <th>Unnamed: 6</th>\n",
       "      <th>B3LYP</th>\n",
       "      <th>B3LYP.1</th>\n",
       "      <th>B3LYP.2</th>\n",
       "      <th>PBE</th>\n",
       "      <th>PBE.1</th>\n",
       "      <th>PBE.2</th>\n",
       "      <th>PB86</th>\n",
       "      <th>PB87</th>\n",
       "      <th>PB88</th>\n",
       "      <th>M06</th>\n",
       "      <th>M07</th>\n",
       "      <th>M08</th>\n",
       "    </tr>\n",
       "  </thead>\n",
       "  <tbody>\n",
       "    <tr>\n",
       "      <th>0</th>\n",
       "      <td>FileNumber</td>\n",
       "      <td>StandardSMILES</td>\n",
       "      <td>SMILES</td>\n",
       "      <td>InChI</td>\n",
       "      <td>literature</td>\n",
       "      <td>shortSMILES</td>\n",
       "      <td>NumberOfConformers</td>\n",
       "      <td>HOMOav</td>\n",
       "      <td>LUMOav</td>\n",
       "      <td>GAPav</td>\n",
       "      <td>HOMOav</td>\n",
       "      <td>LUMOav</td>\n",
       "      <td>GAPav</td>\n",
       "      <td>HOMOav</td>\n",
       "      <td>LUMOav</td>\n",
       "      <td>GAPav</td>\n",
       "      <td>HOMOav</td>\n",
       "      <td>LUMOav</td>\n",
       "      <td>GAPav</td>\n",
       "    </tr>\n",
       "    <tr>\n",
       "      <th>1</th>\n",
       "      <td>1</td>\n",
       "      <td>Cc1ccc(c2c3cc(c4ccc(c5sc(c6cccs6)c6cc(S(=O)(=O...</td>\n",
       "      <td>Cc1ccc(-c2c3cc(-c4ccc(-c5sc(-c6cccs6)c6cc(S(C)...</td>\n",
       "      <td>InChI=1S/C35H22O2S9/c1-17-6-8-23(40-17)29-19-1...</td>\n",
       "      <td>10.1021/ar5000743,BOUZSMSNJFUUCG-UHFFFAOYSA-N,...</td>\n",
       "      <td>Cc1ccc(-c2c3cc(-c4ccc(-c5sc(-c6cccs6)c6cc(S(C)...</td>\n",
       "      <td>18</td>\n",
       "      <td>-0.186833</td>\n",
       "      <td>-0.0987778</td>\n",
       "      <td>0.0880556</td>\n",
       "      <td>-0.196389</td>\n",
       "      <td>-0.0985</td>\n",
       "      <td>0.0978889</td>\n",
       "      <td>-0.170778</td>\n",
       "      <td>-0.118333</td>\n",
       "      <td>0.0524444</td>\n",
       "      <td>-0.227389</td>\n",
       "      <td>-0.0765</td>\n",
       "      <td>0.150889</td>\n",
       "    </tr>\n",
       "    <tr>\n",
       "      <th>2</th>\n",
       "      <td>2</td>\n",
       "      <td>CN1c2ccccc2C(=C2c3ccc(c4cccs4)cc3N(C)C2=O)C1=O</td>\n",
       "      <td>CN1c2ccccc2C(=C2c3ccc(-c4cccs4)cc3N(C)C2=O)C1=O</td>\n",
       "      <td>InChI=1S/C22H16N2O2S/c1-23-16-7-4-3-6-14(16)19...</td>\n",
       "      <td>10.1039/C3PY01598J,PAPOKCOIPOLVSC-BNEIJSFPSA-N...</td>\n",
       "      <td>CN1c2ccccc2C(=C2c3ccc(-c4cccs4)cc3N(C)C2=O)C1=O</td>\n",
       "      <td>8</td>\n",
       "      <td>-0.20325</td>\n",
       "      <td>-0.11325</td>\n",
       "      <td>0.09</td>\n",
       "      <td>-0.212375</td>\n",
       "      <td>-0.11225</td>\n",
       "      <td>0.100125</td>\n",
       "      <td>-0.183625</td>\n",
       "      <td>-0.13425</td>\n",
       "      <td>0.049375</td>\n",
       "      <td>-0.2455</td>\n",
       "      <td>-0.08925</td>\n",
       "      <td>0.15625</td>\n",
       "    </tr>\n",
       "    <tr>\n",
       "      <th>3</th>\n",
       "      <td>3</td>\n",
       "      <td>Cc1cc(c2cc3c4nsnc4c(c4cc(C)c(c5cccs5)s4)cc3c3n...</td>\n",
       "      <td>Cc1cc(-c2cc3c4nsnc4c(-c4cc(C)c(-c5cccs5)s4)cc3...</td>\n",
       "      <td>InChI=1S/C28H16N4S6/c1-13-9-21(35-27(13)19-5-3...</td>\n",
       "      <td>10.1021/ja210687r,IKPPCQWOLGDYAQ-UHFFFAOYSA-N,...</td>\n",
       "      <td>Cc1cc(-c2cc3c4nsnc4c(-c4cc(C)c(-c5cccs5)s4)cc3...</td>\n",
       "      <td>18</td>\n",
       "      <td>-0.188611</td>\n",
       "      <td>-0.114778</td>\n",
       "      <td>0.0738333</td>\n",
       "      <td>-0.197611</td>\n",
       "      <td>-0.115</td>\n",
       "      <td>0.0826111</td>\n",
       "      <td>-0.173278</td>\n",
       "      <td>-0.132889</td>\n",
       "      <td>0.0403889</td>\n",
       "      <td>-0.228333</td>\n",
       "      <td>-0.0939444</td>\n",
       "      <td>0.134389</td>\n",
       "    </tr>\n",
       "    <tr>\n",
       "      <th>4</th>\n",
       "      <td>4</td>\n",
       "      <td>Cn1c2ccccc2c2ccc(c3ccc(c4ccc(C5=C(c6ccccc6)C(=...</td>\n",
       "      <td>Cn1c2ccccc2c2ccc(-c3ccc(-c4ccc(C5=C(c6ccccc6)C...</td>\n",
       "      <td>InChI=1S/C47H35NS4Si/c1-48-35-18-11-10-17-33(3...</td>\n",
       "      <td>10.1021/ar900061z,LZAUYQACJPMHMN-UHFFFAOYSA-N,...</td>\n",
       "      <td>Cn1c2ccccc2c2ccc(-c3ccc(-c4ccc(C5=C(c6ccccc6)C...</td>\n",
       "      <td>15</td>\n",
       "      <td>-0.173267</td>\n",
       "      <td>-0.0910667</td>\n",
       "      <td>0.0822</td>\n",
       "      <td>-0.1822</td>\n",
       "      <td>-0.0902667</td>\n",
       "      <td>0.0919333</td>\n",
       "      <td>-0.158733</td>\n",
       "      <td>-0.111533</td>\n",
       "      <td>0.0472</td>\n",
       "      <td>-0.2134</td>\n",
       "      <td>-0.0679333</td>\n",
       "      <td>0.145467</td>\n",
       "    </tr>\n",
       "  </tbody>\n",
       "</table>\n",
       "</div>"
      ],
      "text/plain": [
       "   Unnamed: 0                                         Unnamed: 1  \\\n",
       "0  FileNumber                                     StandardSMILES   \n",
       "1           1  Cc1ccc(c2c3cc(c4ccc(c5sc(c6cccs6)c6cc(S(=O)(=O...   \n",
       "2           2     CN1c2ccccc2C(=C2c3ccc(c4cccs4)cc3N(C)C2=O)C1=O   \n",
       "3           3  Cc1cc(c2cc3c4nsnc4c(c4cc(C)c(c5cccs5)s4)cc3c3n...   \n",
       "4           4  Cn1c2ccccc2c2ccc(c3ccc(c4ccc(C5=C(c6ccccc6)C(=...   \n",
       "\n",
       "                                          Unnamed: 2  \\\n",
       "0                                             SMILES   \n",
       "1  Cc1ccc(-c2c3cc(-c4ccc(-c5sc(-c6cccs6)c6cc(S(C)...   \n",
       "2    CN1c2ccccc2C(=C2c3ccc(-c4cccs4)cc3N(C)C2=O)C1=O   \n",
       "3  Cc1cc(-c2cc3c4nsnc4c(-c4cc(C)c(-c5cccs5)s4)cc3...   \n",
       "4  Cn1c2ccccc2c2ccc(-c3ccc(-c4ccc(C5=C(c6ccccc6)C...   \n",
       "\n",
       "                                          Unnamed: 3  \\\n",
       "0                                              InChI   \n",
       "1  InChI=1S/C35H22O2S9/c1-17-6-8-23(40-17)29-19-1...   \n",
       "2  InChI=1S/C22H16N2O2S/c1-23-16-7-4-3-6-14(16)19...   \n",
       "3  InChI=1S/C28H16N4S6/c1-13-9-21(35-27(13)19-5-3...   \n",
       "4  InChI=1S/C47H35NS4Si/c1-48-35-18-11-10-17-33(3...   \n",
       "\n",
       "                                          Unnamed: 4  \\\n",
       "0                                         literature   \n",
       "1  10.1021/ar5000743,BOUZSMSNJFUUCG-UHFFFAOYSA-N,...   \n",
       "2  10.1039/C3PY01598J,PAPOKCOIPOLVSC-BNEIJSFPSA-N...   \n",
       "3  10.1021/ja210687r,IKPPCQWOLGDYAQ-UHFFFAOYSA-N,...   \n",
       "4  10.1021/ar900061z,LZAUYQACJPMHMN-UHFFFAOYSA-N,...   \n",
       "\n",
       "                                          Unnamed: 5          Unnamed: 6  \\\n",
       "0                                        shortSMILES  NumberOfConformers   \n",
       "1  Cc1ccc(-c2c3cc(-c4ccc(-c5sc(-c6cccs6)c6cc(S(C)...                  18   \n",
       "2    CN1c2ccccc2C(=C2c3ccc(-c4cccs4)cc3N(C)C2=O)C1=O                   8   \n",
       "3  Cc1cc(-c2cc3c4nsnc4c(-c4cc(C)c(-c5cccs5)s4)cc3...                  18   \n",
       "4  Cn1c2ccccc2c2ccc(-c3ccc(-c4ccc(C5=C(c6ccccc6)C...                  15   \n",
       "\n",
       "       B3LYP     B3LYP.1    B3LYP.2        PBE       PBE.1      PBE.2  \\\n",
       "0     HOMOav      LUMOav      GAPav     HOMOav      LUMOav      GAPav   \n",
       "1  -0.186833  -0.0987778  0.0880556  -0.196389     -0.0985  0.0978889   \n",
       "2   -0.20325    -0.11325       0.09  -0.212375    -0.11225   0.100125   \n",
       "3  -0.188611   -0.114778  0.0738333  -0.197611      -0.115  0.0826111   \n",
       "4  -0.173267  -0.0910667     0.0822    -0.1822  -0.0902667  0.0919333   \n",
       "\n",
       "        PB86       PB87       PB88        M06         M07       M08  \n",
       "0     HOMOav     LUMOav      GAPav     HOMOav      LUMOav     GAPav  \n",
       "1  -0.170778  -0.118333  0.0524444  -0.227389     -0.0765  0.150889  \n",
       "2  -0.183625   -0.13425   0.049375    -0.2455    -0.08925   0.15625  \n",
       "3  -0.173278  -0.132889  0.0403889  -0.228333  -0.0939444  0.134389  \n",
       "4  -0.158733  -0.111533     0.0472    -0.2134  -0.0679333  0.145467  "
      ]
     },
     "execution_count": 6,
     "metadata": {},
     "output_type": "execute_result"
    }
   ],
   "source": [
    "data.head()"
   ]
  },
  {
   "cell_type": "code",
   "execution_count": 19,
   "metadata": {},
   "outputs": [],
   "source": [
    "compoundType, SMILES, experimentHOMO,experimentPCE = [],[],[],[]\n",
    "all_SMILES = data['Unnamed: 1'][1:].tolist()\n",
    "i = 0\n",
    "for lit in data['Unnamed: 4'][1:]:\n",
    "    compoundType += [lit.split(',',3)[2]]\n",
    "    homo = float(lit.split(',',6)[5])/27.211\n",
    "    if not np.isnan(homo):\n",
    "        SMILES += [all_SMILES[i]]\n",
    "        experimentHOMO += [homo]\n",
    "        experimentPCE += [float(lit.split(',',10)[9])]\n",
    "    i += 1"
   ]
  },
  {
   "cell_type": "code",
   "execution_count": 20,
   "metadata": {},
   "outputs": [
    {
     "data": {
      "text/plain": [
       "(243, 243, 243)"
      ]
     },
     "execution_count": 20,
     "metadata": {},
     "output_type": "execute_result"
    }
   ],
   "source": [
    "len(experimentHOMO), len(experimentPCE), len(SMILES)"
   ]
  },
  {
   "cell_type": "code",
   "execution_count": 21,
   "metadata": {},
   "outputs": [
    {
     "name": "stdout",
     "output_type": "stream",
     "text": [
      "experiment_OPV_HOMO saved successfully in data\n",
      "experiment_OPV_PCE saved successfully in data\n"
     ]
    }
   ],
   "source": [
    "saveData(SMILES, 'experiment_OPV_SMILES')\n",
    "saveNumpy(experimentHOMO, 'experiment_OPV_HOMO')\n",
    "saveNumpy(experimentPCE, 'experiment_OPV_PCE')"
   ]
  },
  {
   "cell_type": "code",
   "execution_count": 22,
   "metadata": {},
   "outputs": [],
   "source": [
    "exp_mols = []\n",
    "for SMILE in SMILES:\n",
    "    exp_mols += [MolFromSmiles(SMILE)]"
   ]
  },
  {
   "cell_type": "code",
   "execution_count": 24,
   "metadata": {},
   "outputs": [
    {
     "name": "stdout",
     "output_type": "stream",
     "text": [
      "experiment_OPV_mols saved successfully in data\n"
     ]
    }
   ],
   "source": [
    "saveNumpy(exp_mols, 'experiment_OPV_mols')"
   ]
  },
  {
   "cell_type": "code",
   "execution_count": 31,
   "metadata": {},
   "outputs": [
    {
     "data": {
      "text/plain": [
       "Text(0,0.5,'PCE')"
      ]
     },
     "execution_count": 31,
     "metadata": {},
     "output_type": "execute_result"
    },
    {
     "data": {
      "image/png": "[encoded data removed]",
      "text/plain": [
       "<Figure size 432x288 with 1 Axes>"
      ]
     },
     "metadata": {},
     "output_type": "display_data"
    }
   ],
   "source": [
    "sns.scatterplot(experimentHOMO, experimentPCE)\n",
    "plt.xlabel(\"HOMO\")\n",
    "plt.ylabel(\"PCE\")"
   ]
  },
  {
   "cell_type": "code",
   "execution_count": 34,
   "metadata": {},
   "outputs": [
    {
     "name": "stdout",
     "output_type": "stream",
     "text": [
      "Generating 1 % took 1.2490711212158203 seconds\n"
     ]
    }
   ],
   "source": [
    "import time\n",
    "experimental_maccs = []\n",
    "start = time.time()\n",
    "for i in range(len(exp_mols)):\n",
    "\n",
    "    experimental_maccs += [np.array(getMACCS(exp_mols[i]))]\n",
    "\n",
    "stop = time.time()\n",
    "print(\"Generating 1 % took \"+str(stop-start)+\" seconds\")"
   ]
  },
  {
   "cell_type": "code",
   "execution_count": 35,
   "metadata": {},
   "outputs": [
    {
     "data": {
      "text/plain": [
       "243"
      ]
     },
     "execution_count": 35,
     "metadata": {},
     "output_type": "execute_result"
    }
   ],
   "source": [
    "len(experimental_maccs)"
   ]
  },
  {
   "cell_type": "code",
   "execution_count": 36,
   "metadata": {},
   "outputs": [
    {
     "name": "stdout",
     "output_type": "stream",
     "text": [
      "experiment_OPV_maccs saved successfully in data\n"
     ]
    }
   ],
   "source": [
    "saveNumpy(experimental_maccs,\"experiment_OPV_maccs\")"
   ]
  },
  {
   "cell_type": "code",
   "execution_count": null,
   "metadata": {},
   "outputs": [],
   "source": [
    "def extractMonomerHOMO_PCE(functional):\n",
    "    data = open('HOPV_15.data').readlines()\n",
    "    \n",
    "    data_csv = pd.read_csv('allFunctionals.csv','|')\n",
    "    datFileID = []\n",
    "    for item in data_csv['Unnamed: 0'][1:]:\n",
    "        datFileID += [int(item)]\n",
    "    all_SMILES, SMILES = [], []\n",
    "    lineNums = []\n",
    "    for i in range(len(data)):\n",
    "        if 'InChI' in data[i]:\n",
    "            lineNums += [i-5]\n",
    "            smiles_line_numer = i - 1\n",
    "            \n",
    "            all_SMILES += [data[i-1].rstrip()]\n",
    "            \n",
    "    endLineNums = []\n",
    "    for lineNum in lineNums[1:]:\n",
    "        endLineNums += [lineNum]\n",
    "\n",
    "    endLineNums += [len(data)-1]\n",
    "\n",
    "    count = 0\n",
    "    DFT = []\n",
    "    molecule = []\n",
    "    for i in range(len(data)):\n",
    "        if i == endLineNums[count]+1 or i ==len(data)-1:\n",
    "            DFT += [molecule]\n",
    "            count += 1\n",
    "            molecule = []\n",
    "        if functional in data[i]:#B3LYP/PBE/BP86/M06\n",
    "            molecule += [float(data[i].split('DFT,')[1].split(',')[0])]\n",
    "    \n",
    "    count =0\n",
    "    conformer_energy = []\n",
    "    for i in range(350):\n",
    "        if i == datFileID[count]-1:\n",
    "            SMILES += [all_SMILES[i]]\n",
    "            conformer_energy += [DFT[i]]\n",
    "            count +=1\n",
    "            \n",
    "    return SMILES, conformer_energy\n"
   ]
  }
 ],
 "metadata": {
  "kernelspec": {
   "display_name": "chem_py35",
   "language": "python",
   "name": "python35"
  },
  "language_info": {
   "codemirror_mode": {
    "name": "ipython",
    "version": 3
   },
   "file_extension": ".py",
   "mimetype": "text/x-python",
   "name": "python",
   "nbconvert_exporter": "python",
   "pygments_lexer": "ipython3",
   "version": "3.5.5"
  }
 },
 "nbformat": 4,
 "nbformat_minor": 2
}
