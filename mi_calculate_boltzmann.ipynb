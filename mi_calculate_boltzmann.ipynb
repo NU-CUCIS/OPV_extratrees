{
 "cells": [
  {
   "cell_type": "code",
   "execution_count": 1,
   "metadata": {},
   "outputs": [],
   "source": [
    "import pandas as pd\n",
    "import numpy as np\n",
    "import math"
   ]
  },
  {
   "cell_type": "code",
   "execution_count": 2,
   "metadata": {},
   "outputs": [],
   "source": [
    "HEAD, TAIL = 5, -5"
   ]
  },
  {
   "cell_type": "markdown",
   "metadata": {},
   "source": [
    "### Actual Dataset "
   ]
  },
  {
   "cell_type": "code",
   "execution_count": 3,
   "metadata": {},
   "outputs": [],
   "source": [
    "lines = open(\"HOPV_15.data\").readlines()"
   ]
  },
  {
   "cell_type": "code",
   "execution_count": 4,
   "metadata": {},
   "outputs": [],
   "source": [
    "def extractMonomerHOMO(functional):\n",
    "    data = open('HOPV_15.data').readlines()\n",
    "    \n",
    "    data_csv = pd.read_csv('allFunctionals.csv','|')\n",
    "    datFileID = []\n",
    "    for item in data_csv['Unnamed: 0'][1:]:\n",
    "        datFileID += [int(item)]\n",
    "    all_SMILES, SMILES = [], []\n",
    "    lineNums = []\n",
    "    for i in range(len(data)):\n",
    "        if 'InChI' in data[i]:\n",
    "            lineNums += [i-5]\n",
    "            smiles_line_numer = i - 1\n",
    "            \n",
    "            all_SMILES += [data[i-1].rstrip()]\n",
    "            \n",
    "    endLineNums = []\n",
    "    for lineNum in lineNums[1:]:\n",
    "        endLineNums += [lineNum]\n",
    "\n",
    "    endLineNums += [len(data)-1]\n",
    "\n",
    "    count = 0\n",
    "    DFT = []\n",
    "    molecule = []\n",
    "    for i in range(len(data)):\n",
    "        if i == endLineNums[count]+1 or i ==len(data)-1:\n",
    "            DFT += [molecule]\n",
    "            count += 1\n",
    "            molecule = []\n",
    "        if functional in data[i]:#B3LYP/PBE/BP86/M06\n",
    "            molecule += [float(data[i].split('DFT,')[1].split(',')[0])]\n",
    "    \n",
    "    count =0\n",
    "    conformer_energy = []\n",
    "    for i in range(350):\n",
    "        if i == datFileID[count]-1:\n",
    "            SMILES += [all_SMILES[i]]\n",
    "            conformer_energy += [DFT[i]]\n",
    "            count +=1\n",
    "            \n",
    "    return SMILES, conformer_energy"
   ]
  },
  {
   "cell_type": "code",
   "execution_count": 5,
   "metadata": {},
   "outputs": [],
   "source": [
    "def extractMonomerPCE(functional):\n",
    "    data = open('HOPV_15.data').readlines()\n",
    "    \n",
    "    data_csv = pd.read_csv('allFunctionals.csv','|')\n",
    "    datFileID = []\n",
    "    for item in data_csv['Unnamed: 0'][1:]:\n",
    "        datFileID += [int(item)]\n",
    "    all_SMILES, SMILES = [], []\n",
    "    lineNums = []\n",
    "    for i in range(len(data)):\n",
    "        if 'InChI' in data[i]:\n",
    "            lineNums += [i-5]\n",
    "            smiles_line_numer = i - 1\n",
    "            \n",
    "            all_SMILES += [data[i-1].rstrip()]\n",
    "            \n",
    "    endLineNums = []\n",
    "    for lineNum in lineNums[1:]:\n",
    "        endLineNums += [lineNum]\n",
    "\n",
    "    endLineNums += [len(data)-1]\n",
    "\n",
    "    count = 0\n",
    "    DFT = []\n",
    "    molecule = []\n",
    "    for i in range(len(data)):\n",
    "        if i == endLineNums[count]+1 or i ==len(data)-1:\n",
    "            DFT += [molecule]\n",
    "            count += 1\n",
    "            molecule = []\n",
    "        if functional in data[i]:#B3LYP/PBE/BP86/M06\n",
    "            molecule += [float(data[i].split('DFT,')[1].split(',')[0])]\n",
    "    \n",
    "    count =0\n",
    "    conformer_energy = []\n",
    "    for i in range(350):\n",
    "        if i == datFileID[count]-1:\n",
    "            SMILES += [all_SMILES[i]]\n",
    "            conformer_energy += [DFT[i]]\n",
    "            count +=1\n",
    "            \n",
    "    return SMILES, conformer_energy"
   ]
  },
  {
   "cell_type": "code",
   "execution_count": 6,
   "metadata": {},
   "outputs": [],
   "source": [
    "data_csv = pd.read_csv('allFunctionals.csv','|')\n",
    "datFileID = []\n",
    "for item in data_csv['Unnamed: 0'][1:]:\n",
    "    datFileID += [int(item)]\n"
   ]
  },
  {
   "cell_type": "code",
   "execution_count": 7,
   "metadata": {},
   "outputs": [],
   "source": [
    "def loadNumpy(name,path='data'):\n",
    "    if \".npy\" in name:\n",
    "        fullPath = path+'/'+name\n",
    "    else:\n",
    "        fullPath = path+'/'+name+'.npy'\n",
    "    return np.load(fullPath)\n",
    "\n",
    "\n",
    "def saveNumpy(obj, name, path='data'):\n",
    "    if \".npy\" not in name:\n",
    "        fullPath = path+'/'+name\n",
    "        np.save(fullPath, obj)\n",
    "        print name,'saved successfully in',path\n",
    "    else:\n",
    "        fullPath = path+'/'+name.split(\".npy\")[0]\n",
    "        np.save(fullPath, obj)\n",
    "        print name,'saved successfully in',path"
   ]
  },
  {
   "cell_type": "code",
   "execution_count": 8,
   "metadata": {},
   "outputs": [],
   "source": [
    "HOMO = loadNumpy(\"HOMO\")"
   ]
  },
  {
   "cell_type": "code",
   "execution_count": 9,
   "metadata": {},
   "outputs": [
    {
     "data": {
      "text/plain": [
       "array([-0.186833, -0.20325 , -0.188611, -0.173267, -0.186   ])"
      ]
     },
     "execution_count": 9,
     "metadata": {},
     "output_type": "execute_result"
    }
   ],
   "source": [
    "HOMO[:5]"
   ]
  },
  {
   "cell_type": "code",
   "execution_count": 10,
   "metadata": {},
   "outputs": [],
   "source": [
    "SMILES_opv, conformer_energy = extractMonomerHOMO('M06')"
   ]
  },
  {
   "cell_type": "code",
   "execution_count": 11,
   "metadata": {},
   "outputs": [
    {
     "data": {
      "text/plain": [
       "['Cc1ccc(-c2c3cc(-c4ccc(-c5sc(-c6cccs6)c6cc(S(C)(=O)=O)sc65)s4)sc3c(-c3ccc(C)s3)c3ccsc32)s1',\n",
       " 'CN1c2ccccc2C(=C2c3ccc(-c4cccs4)cc3N(C)C2=O)C1=O',\n",
       " 'Cc1cc(-c2cc3c4nsnc4c(-c4cc(C)c(-c5cccs5)s4)cc3c3nsnc32)sc1-c1cccs1',\n",
       " 'Cn1c2ccccc2c2ccc(-c3ccc(-c4ccc(C5=C(c6ccccc6)C(c6ccccc6)=C(c6ccc(-c7cccs7)s6)[Si]5(C)C)s4)s3)cc21',\n",
       " 'Cc1cc(-c2c3cc(-c4cccs4)sc3c(-c3cc(C)c(C)s3)c3cc(-c4ccc(-c5ccc6c(c5F)N(C)C(=O)C6=C5c6cccc(F)c6N(C)C5=O)s4)sc32)sc1C']"
      ]
     },
     "execution_count": 11,
     "metadata": {},
     "output_type": "execute_result"
    }
   ],
   "source": [
    "SMILES_opv[:HEAD]"
   ]
  },
  {
   "cell_type": "code",
   "execution_count": 12,
   "metadata": {},
   "outputs": [
    {
     "data": {
      "text/plain": [
       "344"
      ]
     },
     "execution_count": 12,
     "metadata": {},
     "output_type": "execute_result"
    }
   ],
   "source": [
    "len(datFileID)"
   ]
  },
  {
   "cell_type": "markdown",
   "metadata": {},
   "source": [
    "### Averaged Values "
   ]
  },
  {
   "cell_type": "code",
   "execution_count": 13,
   "metadata": {},
   "outputs": [],
   "source": [
    "df = pd.read_csv(\"allFunctionals.csv\", delimiter='|',header=1)"
   ]
  },
  {
   "cell_type": "code",
   "execution_count": 14,
   "metadata": {},
   "outputs": [
    {
     "data": {
      "text/html": [
       "<div>\n",
       "<style scoped>\n",
       "    .dataframe tbody tr th:only-of-type {\n",
       "        vertical-align: middle;\n",
       "    }\n",
       "\n",
       "    .dataframe tbody tr th {\n",
       "        vertical-align: top;\n",
       "    }\n",
       "\n",
       "    .dataframe thead th {\n",
       "        text-align: right;\n",
       "    }\n",
       "</style>\n",
       "<table border=\"1\" class=\"dataframe\">\n",
       "  <thead>\n",
       "    <tr style=\"text-align: right;\">\n",
       "      <th></th>\n",
       "      <th>FileNumber</th>\n",
       "      <th>StandardSMILES</th>\n",
       "      <th>SMILES</th>\n",
       "      <th>InChI</th>\n",
       "      <th>literature</th>\n",
       "      <th>shortSMILES</th>\n",
       "      <th>NumberOfConformers</th>\n",
       "      <th>HOMOav</th>\n",
       "      <th>LUMOav</th>\n",
       "      <th>GAPav</th>\n",
       "      <th>HOMOav.1</th>\n",
       "      <th>LUMOav.1</th>\n",
       "      <th>GAPav.1</th>\n",
       "      <th>HOMOav.2</th>\n",
       "      <th>LUMOav.2</th>\n",
       "      <th>GAPav.2</th>\n",
       "      <th>HOMOav.3</th>\n",
       "      <th>LUMOav.3</th>\n",
       "      <th>GAPav.3</th>\n",
       "    </tr>\n",
       "  </thead>\n",
       "  <tbody>\n",
       "    <tr>\n",
       "      <th>0</th>\n",
       "      <td>1</td>\n",
       "      <td>Cc1ccc(c2c3cc(c4ccc(c5sc(c6cccs6)c6cc(S(=O)(=O...</td>\n",
       "      <td>Cc1ccc(-c2c3cc(-c4ccc(-c5sc(-c6cccs6)c6cc(S(C)...</td>\n",
       "      <td>InChI=1S/C35H22O2S9/c1-17-6-8-23(40-17)29-19-1...</td>\n",
       "      <td>10.1021/ar5000743,BOUZSMSNJFUUCG-UHFFFAOYSA-N,...</td>\n",
       "      <td>Cc1ccc(-c2c3cc(-c4ccc(-c5sc(-c6cccs6)c6cc(S(C)...</td>\n",
       "      <td>18</td>\n",
       "      <td>-0.186833</td>\n",
       "      <td>-0.098778</td>\n",
       "      <td>0.088056</td>\n",
       "      <td>-0.196389</td>\n",
       "      <td>-0.098500</td>\n",
       "      <td>0.097889</td>\n",
       "      <td>-0.170778</td>\n",
       "      <td>-0.118333</td>\n",
       "      <td>0.052444</td>\n",
       "      <td>-0.227389</td>\n",
       "      <td>-0.076500</td>\n",
       "      <td>0.150889</td>\n",
       "    </tr>\n",
       "    <tr>\n",
       "      <th>1</th>\n",
       "      <td>2</td>\n",
       "      <td>CN1c2ccccc2C(=C2c3ccc(c4cccs4)cc3N(C)C2=O)C1=O</td>\n",
       "      <td>CN1c2ccccc2C(=C2c3ccc(-c4cccs4)cc3N(C)C2=O)C1=O</td>\n",
       "      <td>InChI=1S/C22H16N2O2S/c1-23-16-7-4-3-6-14(16)19...</td>\n",
       "      <td>10.1039/C3PY01598J,PAPOKCOIPOLVSC-BNEIJSFPSA-N...</td>\n",
       "      <td>CN1c2ccccc2C(=C2c3ccc(-c4cccs4)cc3N(C)C2=O)C1=O</td>\n",
       "      <td>8</td>\n",
       "      <td>-0.203250</td>\n",
       "      <td>-0.113250</td>\n",
       "      <td>0.090000</td>\n",
       "      <td>-0.212375</td>\n",
       "      <td>-0.112250</td>\n",
       "      <td>0.100125</td>\n",
       "      <td>-0.183625</td>\n",
       "      <td>-0.134250</td>\n",
       "      <td>0.049375</td>\n",
       "      <td>-0.245500</td>\n",
       "      <td>-0.089250</td>\n",
       "      <td>0.156250</td>\n",
       "    </tr>\n",
       "    <tr>\n",
       "      <th>2</th>\n",
       "      <td>3</td>\n",
       "      <td>Cc1cc(c2cc3c4nsnc4c(c4cc(C)c(c5cccs5)s4)cc3c3n...</td>\n",
       "      <td>Cc1cc(-c2cc3c4nsnc4c(-c4cc(C)c(-c5cccs5)s4)cc3...</td>\n",
       "      <td>InChI=1S/C28H16N4S6/c1-13-9-21(35-27(13)19-5-3...</td>\n",
       "      <td>10.1021/ja210687r,IKPPCQWOLGDYAQ-UHFFFAOYSA-N,...</td>\n",
       "      <td>Cc1cc(-c2cc3c4nsnc4c(-c4cc(C)c(-c5cccs5)s4)cc3...</td>\n",
       "      <td>18</td>\n",
       "      <td>-0.188611</td>\n",
       "      <td>-0.114778</td>\n",
       "      <td>0.073833</td>\n",
       "      <td>-0.197611</td>\n",
       "      <td>-0.115000</td>\n",
       "      <td>0.082611</td>\n",
       "      <td>-0.173278</td>\n",
       "      <td>-0.132889</td>\n",
       "      <td>0.040389</td>\n",
       "      <td>-0.228333</td>\n",
       "      <td>-0.093944</td>\n",
       "      <td>0.134389</td>\n",
       "    </tr>\n",
       "    <tr>\n",
       "      <th>3</th>\n",
       "      <td>4</td>\n",
       "      <td>Cn1c2ccccc2c2ccc(c3ccc(c4ccc(C5=C(c6ccccc6)C(=...</td>\n",
       "      <td>Cn1c2ccccc2c2ccc(-c3ccc(-c4ccc(C5=C(c6ccccc6)C...</td>\n",
       "      <td>InChI=1S/C47H35NS4Si/c1-48-35-18-11-10-17-33(3...</td>\n",
       "      <td>10.1021/ar900061z,LZAUYQACJPMHMN-UHFFFAOYSA-N,...</td>\n",
       "      <td>Cn1c2ccccc2c2ccc(-c3ccc(-c4ccc(C5=C(c6ccccc6)C...</td>\n",
       "      <td>15</td>\n",
       "      <td>-0.173267</td>\n",
       "      <td>-0.091067</td>\n",
       "      <td>0.082200</td>\n",
       "      <td>-0.182200</td>\n",
       "      <td>-0.090267</td>\n",
       "      <td>0.091933</td>\n",
       "      <td>-0.158733</td>\n",
       "      <td>-0.111533</td>\n",
       "      <td>0.047200</td>\n",
       "      <td>-0.213400</td>\n",
       "      <td>-0.067933</td>\n",
       "      <td>0.145467</td>\n",
       "    </tr>\n",
       "    <tr>\n",
       "      <th>4</th>\n",
       "      <td>5</td>\n",
       "      <td>Cc1cc(c2c3cc(c4cccs4)sc3c(c3cc(C)c(C)s3)c3cc(c...</td>\n",
       "      <td>Cc1cc(-c2c3cc(-c4cccs4)sc3c(-c3cc(C)c(C)s3)c3c...</td>\n",
       "      <td>InChI=1S/C48H32F2N2O2S6/c1-21-17-36(56-23(21)3...</td>\n",
       "      <td>10.1039/C3PY01598J,RJIQMHRLDYGXFS-HYXXFLLTSA-N...</td>\n",
       "      <td>Cc1cc(-c2c3cc(-c4cccs4)sc3c(-c3cc(C)c(C)s3)c3c...</td>\n",
       "      <td>16</td>\n",
       "      <td>-0.186000</td>\n",
       "      <td>-0.119438</td>\n",
       "      <td>0.066562</td>\n",
       "      <td>-0.195062</td>\n",
       "      <td>-0.119188</td>\n",
       "      <td>0.075875</td>\n",
       "      <td>-0.170437</td>\n",
       "      <td>-0.136875</td>\n",
       "      <td>0.033563</td>\n",
       "      <td>-0.225750</td>\n",
       "      <td>-0.098312</td>\n",
       "      <td>0.127438</td>\n",
       "    </tr>\n",
       "  </tbody>\n",
       "</table>\n",
       "</div>"
      ],
      "text/plain": [
       "   FileNumber                                     StandardSMILES  \\\n",
       "0           1  Cc1ccc(c2c3cc(c4ccc(c5sc(c6cccs6)c6cc(S(=O)(=O...   \n",
       "1           2     CN1c2ccccc2C(=C2c3ccc(c4cccs4)cc3N(C)C2=O)C1=O   \n",
       "2           3  Cc1cc(c2cc3c4nsnc4c(c4cc(C)c(c5cccs5)s4)cc3c3n...   \n",
       "3           4  Cn1c2ccccc2c2ccc(c3ccc(c4ccc(C5=C(c6ccccc6)C(=...   \n",
       "4           5  Cc1cc(c2c3cc(c4cccs4)sc3c(c3cc(C)c(C)s3)c3cc(c...   \n",
       "\n",
       "                                              SMILES  \\\n",
       "0  Cc1ccc(-c2c3cc(-c4ccc(-c5sc(-c6cccs6)c6cc(S(C)...   \n",
       "1    CN1c2ccccc2C(=C2c3ccc(-c4cccs4)cc3N(C)C2=O)C1=O   \n",
       "2  Cc1cc(-c2cc3c4nsnc4c(-c4cc(C)c(-c5cccs5)s4)cc3...   \n",
       "3  Cn1c2ccccc2c2ccc(-c3ccc(-c4ccc(C5=C(c6ccccc6)C...   \n",
       "4  Cc1cc(-c2c3cc(-c4cccs4)sc3c(-c3cc(C)c(C)s3)c3c...   \n",
       "\n",
       "                                               InChI  \\\n",
       "0  InChI=1S/C35H22O2S9/c1-17-6-8-23(40-17)29-19-1...   \n",
       "1  InChI=1S/C22H16N2O2S/c1-23-16-7-4-3-6-14(16)19...   \n",
       "2  InChI=1S/C28H16N4S6/c1-13-9-21(35-27(13)19-5-3...   \n",
       "3  InChI=1S/C47H35NS4Si/c1-48-35-18-11-10-17-33(3...   \n",
       "4  InChI=1S/C48H32F2N2O2S6/c1-21-17-36(56-23(21)3...   \n",
       "\n",
       "                                          literature  \\\n",
       "0  10.1021/ar5000743,BOUZSMSNJFUUCG-UHFFFAOYSA-N,...   \n",
       "1  10.1039/C3PY01598J,PAPOKCOIPOLVSC-BNEIJSFPSA-N...   \n",
       "2  10.1021/ja210687r,IKPPCQWOLGDYAQ-UHFFFAOYSA-N,...   \n",
       "3  10.1021/ar900061z,LZAUYQACJPMHMN-UHFFFAOYSA-N,...   \n",
       "4  10.1039/C3PY01598J,RJIQMHRLDYGXFS-HYXXFLLTSA-N...   \n",
       "\n",
       "                                         shortSMILES  NumberOfConformers  \\\n",
       "0  Cc1ccc(-c2c3cc(-c4ccc(-c5sc(-c6cccs6)c6cc(S(C)...                  18   \n",
       "1    CN1c2ccccc2C(=C2c3ccc(-c4cccs4)cc3N(C)C2=O)C1=O                   8   \n",
       "2  Cc1cc(-c2cc3c4nsnc4c(-c4cc(C)c(-c5cccs5)s4)cc3...                  18   \n",
       "3  Cn1c2ccccc2c2ccc(-c3ccc(-c4ccc(C5=C(c6ccccc6)C...                  15   \n",
       "4  Cc1cc(-c2c3cc(-c4cccs4)sc3c(-c3cc(C)c(C)s3)c3c...                  16   \n",
       "\n",
       "     HOMOav    LUMOav     GAPav  HOMOav.1  LUMOav.1   GAPav.1  HOMOav.2  \\\n",
       "0 -0.186833 -0.098778  0.088056 -0.196389 -0.098500  0.097889 -0.170778   \n",
       "1 -0.203250 -0.113250  0.090000 -0.212375 -0.112250  0.100125 -0.183625   \n",
       "2 -0.188611 -0.114778  0.073833 -0.197611 -0.115000  0.082611 -0.173278   \n",
       "3 -0.173267 -0.091067  0.082200 -0.182200 -0.090267  0.091933 -0.158733   \n",
       "4 -0.186000 -0.119438  0.066562 -0.195062 -0.119188  0.075875 -0.170437   \n",
       "\n",
       "   LUMOav.2   GAPav.2  HOMOav.3  LUMOav.3   GAPav.3  \n",
       "0 -0.118333  0.052444 -0.227389 -0.076500  0.150889  \n",
       "1 -0.134250  0.049375 -0.245500 -0.089250  0.156250  \n",
       "2 -0.132889  0.040389 -0.228333 -0.093944  0.134389  \n",
       "3 -0.111533  0.047200 -0.213400 -0.067933  0.145467  \n",
       "4 -0.136875  0.033563 -0.225750 -0.098312  0.127438  "
      ]
     },
     "execution_count": 14,
     "metadata": {},
     "output_type": "execute_result"
    }
   ],
   "source": [
    "df.head()"
   ]
  },
  {
   "cell_type": "code",
   "execution_count": 15,
   "metadata": {},
   "outputs": [],
   "source": [
    "SMILES = list(df['SMILES'])"
   ]
  },
  {
   "cell_type": "code",
   "execution_count": 16,
   "metadata": {},
   "outputs": [
    {
     "data": {
      "text/plain": [
       "['Cc1ccc(-c2c3cc(-c4ccc(-c5sc(-c6cccs6)c6cc(S(C)(=O)=O)sc65)s4)sc3c(-c3ccc(C)s3)c3ccsc32)s1',\n",
       " 'CN1c2ccccc2C(=C2c3ccc(-c4cccs4)cc3N(C)C2=O)C1=O',\n",
       " 'Cc1cc(-c2cc3c4nsnc4c(-c4cc(C)c(-c5cccs5)s4)cc3c3nsnc32)sc1-c1cccs1',\n",
       " 'Cn1c2ccccc2c2ccc(-c3ccc(-c4ccc(C5=C(c6ccccc6)C(c6ccccc6)=C(c6ccc(-c7cccs7)s6)[Si]5(C)C)s4)s3)cc21',\n",
       " 'Cc1cc(-c2c3cc(-c4cccs4)sc3c(-c3cc(C)c(C)s3)c3cc(-c4ccc(-c5ccc6c(c5F)N(C)C(=O)C6=C5c6cccc(F)c6N(C)C5=O)s4)sc32)sc1C']"
      ]
     },
     "execution_count": 16,
     "metadata": {},
     "output_type": "execute_result"
    }
   ],
   "source": [
    "SMILES[:HEAD]"
   ]
  },
  {
   "cell_type": "code",
   "execution_count": 17,
   "metadata": {},
   "outputs": [],
   "source": [
    "from ml_util import saveData\n",
    "saveData(SMILES,'SMILES')"
   ]
  },
  {
   "cell_type": "code",
   "execution_count": 18,
   "metadata": {},
   "outputs": [
    {
     "data": {
      "text/html": [
       "<div>\n",
       "<style scoped>\n",
       "    .dataframe tbody tr th:only-of-type {\n",
       "        vertical-align: middle;\n",
       "    }\n",
       "\n",
       "    .dataframe tbody tr th {\n",
       "        vertical-align: top;\n",
       "    }\n",
       "\n",
       "    .dataframe thead th {\n",
       "        text-align: right;\n",
       "    }\n",
       "</style>\n",
       "<table border=\"1\" class=\"dataframe\">\n",
       "  <thead>\n",
       "    <tr style=\"text-align: right;\">\n",
       "      <th></th>\n",
       "      <th>1</th>\n",
       "      <th>Cc1ccc(c2c3cc(c4ccc(c5sc(c6cccs6)c6cc(S(=O)(=O)C)sc56)s4)sc3c(c3ccc(C)s3)c3ccsc23)s1</th>\n",
       "      <th>Cc1ccc(-c2c3cc(-c4ccc(-c5sc(-c6cccs6)c6cc(S(C)(=O)=O)sc65)s4)sc3c(-c3ccc(C)s3)c3ccsc32)s1</th>\n",
       "      <th>InChI=1S/C35H22O2S9/c1-17-6-8-23(40-17)29-19-12-14-39-32(19)30(24-9-7-18(2)41-24)20-15-27(43-33(20)29)22-10-11-26(42-22)35-34-21(16-28(44-34)46(3,36)37)31(45-35)25-5-4-13-38-25/h4-16H,1-3H3</th>\n",
       "      <th>10.1021/ar5000743,BOUZSMSNJFUUCG-UHFFFAOYSA-N,polymer,bulk,PC71BM,-5.04,-3.57,1.47,1.59,7.81,0.69,17.07,66.3</th>\n",
       "      <th>Cc1ccc(-c2c3cc(-c4ccc(-c5sc(-c6cccs6)c6cc(S(C)(=O)=O)sc65)s4)sc3c(-c3ccc(C)s3)c3ccsc32)s1</th>\n",
       "      <th>18</th>\n",
       "      <th>-0.186833</th>\n",
       "      <th>-0.0987778</th>\n",
       "      <th>0.0880556</th>\n",
       "      <th>-0.196389</th>\n",
       "      <th>-0.0985</th>\n",
       "      <th>0.09788889999999999</th>\n",
       "      <th>-0.17077799999999999</th>\n",
       "      <th>-0.118333</th>\n",
       "      <th>0.052444399999999995</th>\n",
       "      <th>-0.22738899999999998</th>\n",
       "      <th>-0.0765</th>\n",
       "      <th>0.15088900000000002</th>\n",
       "    </tr>\n",
       "  </thead>\n",
       "  <tbody>\n",
       "    <tr>\n",
       "      <th>1</th>\n",
       "      <td>2</td>\n",
       "      <td>CN1c2ccccc2C(=C2c3ccc(c4cccs4)cc3N(C)C2=O)C1=O</td>\n",
       "      <td>CN1c2ccccc2C(=C2c3ccc(-c4cccs4)cc3N(C)C2=O)C1=O</td>\n",
       "      <td>InChI=1S/C22H16N2O2S/c1-23-16-7-4-3-6-14(16)19...</td>\n",
       "      <td>10.1039/C3PY01598J,PAPOKCOIPOLVSC-BNEIJSFPSA-N...</td>\n",
       "      <td>CN1c2ccccc2C(=C2c3ccc(-c4cccs4)cc3N(C)C2=O)C1=O</td>\n",
       "      <td>8</td>\n",
       "      <td>-0.203250</td>\n",
       "      <td>-0.113250</td>\n",
       "      <td>0.090000</td>\n",
       "      <td>-0.212375</td>\n",
       "      <td>-0.112250</td>\n",
       "      <td>0.100125</td>\n",
       "      <td>-0.183625</td>\n",
       "      <td>-0.134250</td>\n",
       "      <td>0.049375</td>\n",
       "      <td>-0.245500</td>\n",
       "      <td>-0.089250</td>\n",
       "      <td>0.156250</td>\n",
       "    </tr>\n",
       "    <tr>\n",
       "      <th>2</th>\n",
       "      <td>3</td>\n",
       "      <td>Cc1cc(c2cc3c4nsnc4c(c4cc(C)c(c5cccs5)s4)cc3c3n...</td>\n",
       "      <td>Cc1cc(-c2cc3c4nsnc4c(-c4cc(C)c(-c5cccs5)s4)cc3...</td>\n",
       "      <td>InChI=1S/C28H16N4S6/c1-13-9-21(35-27(13)19-5-3...</td>\n",
       "      <td>10.1021/ja210687r,IKPPCQWOLGDYAQ-UHFFFAOYSA-N,...</td>\n",
       "      <td>Cc1cc(-c2cc3c4nsnc4c(-c4cc(C)c(-c5cccs5)s4)cc3...</td>\n",
       "      <td>18</td>\n",
       "      <td>-0.188611</td>\n",
       "      <td>-0.114778</td>\n",
       "      <td>0.073833</td>\n",
       "      <td>-0.197611</td>\n",
       "      <td>-0.115000</td>\n",
       "      <td>0.082611</td>\n",
       "      <td>-0.173278</td>\n",
       "      <td>-0.132889</td>\n",
       "      <td>0.040389</td>\n",
       "      <td>-0.228333</td>\n",
       "      <td>-0.093944</td>\n",
       "      <td>0.134389</td>\n",
       "    </tr>\n",
       "    <tr>\n",
       "      <th>3</th>\n",
       "      <td>4</td>\n",
       "      <td>Cn1c2ccccc2c2ccc(c3ccc(c4ccc(C5=C(c6ccccc6)C(=...</td>\n",
       "      <td>Cn1c2ccccc2c2ccc(-c3ccc(-c4ccc(C5=C(c6ccccc6)C...</td>\n",
       "      <td>InChI=1S/C47H35NS4Si/c1-48-35-18-11-10-17-33(3...</td>\n",
       "      <td>10.1021/ar900061z,LZAUYQACJPMHMN-UHFFFAOYSA-N,...</td>\n",
       "      <td>Cn1c2ccccc2c2ccc(-c3ccc(-c4ccc(C5=C(c6ccccc6)C...</td>\n",
       "      <td>15</td>\n",
       "      <td>-0.173267</td>\n",
       "      <td>-0.091067</td>\n",
       "      <td>0.082200</td>\n",
       "      <td>-0.182200</td>\n",
       "      <td>-0.090267</td>\n",
       "      <td>0.091933</td>\n",
       "      <td>-0.158733</td>\n",
       "      <td>-0.111533</td>\n",
       "      <td>0.047200</td>\n",
       "      <td>-0.213400</td>\n",
       "      <td>-0.067933</td>\n",
       "      <td>0.145467</td>\n",
       "    </tr>\n",
       "    <tr>\n",
       "      <th>4</th>\n",
       "      <td>5</td>\n",
       "      <td>Cc1cc(c2c3cc(c4cccs4)sc3c(c3cc(C)c(C)s3)c3cc(c...</td>\n",
       "      <td>Cc1cc(-c2c3cc(-c4cccs4)sc3c(-c3cc(C)c(C)s3)c3c...</td>\n",
       "      <td>InChI=1S/C48H32F2N2O2S6/c1-21-17-36(56-23(21)3...</td>\n",
       "      <td>10.1039/C3PY01598J,RJIQMHRLDYGXFS-HYXXFLLTSA-N...</td>\n",
       "      <td>Cc1cc(-c2c3cc(-c4cccs4)sc3c(-c3cc(C)c(C)s3)c3c...</td>\n",
       "      <td>16</td>\n",
       "      <td>-0.186000</td>\n",
       "      <td>-0.119438</td>\n",
       "      <td>0.066562</td>\n",
       "      <td>-0.195062</td>\n",
       "      <td>-0.119188</td>\n",
       "      <td>0.075875</td>\n",
       "      <td>-0.170437</td>\n",
       "      <td>-0.136875</td>\n",
       "      <td>0.033563</td>\n",
       "      <td>-0.225750</td>\n",
       "      <td>-0.098312</td>\n",
       "      <td>0.127438</td>\n",
       "    </tr>\n",
       "    <tr>\n",
       "      <th>5</th>\n",
       "      <td>6</td>\n",
       "      <td>C#Cc1cc(OC)c(C#Cc2scc3nc(c4ccccc4)c(c4ccccc4)n...</td>\n",
       "      <td>C#Cc1cc(OC)c(C#Cc2scc3nc(-c4ccccc4)c(-c4ccccc4...</td>\n",
       "      <td>InChI=1S/C30H20N2O2S/c1-4-20-17-26(34-3)23(18-...</td>\n",
       "      <td>10.1021/ar900061z,YBMOZFSQSYNMDD-UHFFFAOYSA-N,...</td>\n",
       "      <td>C#Cc1cc(OC)c(C#Cc2scc3nc(-c4ccccc4)c(-c4ccccc4...</td>\n",
       "      <td>12</td>\n",
       "      <td>-0.194000</td>\n",
       "      <td>-0.100000</td>\n",
       "      <td>0.094000</td>\n",
       "      <td>-0.203000</td>\n",
       "      <td>-0.099000</td>\n",
       "      <td>0.104000</td>\n",
       "      <td>-0.175333</td>\n",
       "      <td>-0.121583</td>\n",
       "      <td>0.053750</td>\n",
       "      <td>-0.236167</td>\n",
       "      <td>-0.075000</td>\n",
       "      <td>0.161167</td>\n",
       "    </tr>\n",
       "  </tbody>\n",
       "</table>\n",
       "</div>"
      ],
      "text/plain": [
       "0  1  \\\n",
       "1  2   \n",
       "2  3   \n",
       "3  4   \n",
       "4  5   \n",
       "5  6   \n",
       "\n",
       "0 Cc1ccc(c2c3cc(c4ccc(c5sc(c6cccs6)c6cc(S(=O)(=O)C)sc56)s4)sc3c(c3ccc(C)s3)c3ccsc23)s1  \\\n",
       "1     CN1c2ccccc2C(=C2c3ccc(c4cccs4)cc3N(C)C2=O)C1=O                                     \n",
       "2  Cc1cc(c2cc3c4nsnc4c(c4cc(C)c(c5cccs5)s4)cc3c3n...                                     \n",
       "3  Cn1c2ccccc2c2ccc(c3ccc(c4ccc(C5=C(c6ccccc6)C(=...                                     \n",
       "4  Cc1cc(c2c3cc(c4cccs4)sc3c(c3cc(C)c(C)s3)c3cc(c...                                     \n",
       "5  C#Cc1cc(OC)c(C#Cc2scc3nc(c4ccccc4)c(c4ccccc4)n...                                     \n",
       "\n",
       "0 Cc1ccc(-c2c3cc(-c4ccc(-c5sc(-c6cccs6)c6cc(S(C)(=O)=O)sc65)s4)sc3c(-c3ccc(C)s3)c3ccsc32)s1  \\\n",
       "1    CN1c2ccccc2C(=C2c3ccc(-c4cccs4)cc3N(C)C2=O)C1=O                                          \n",
       "2  Cc1cc(-c2cc3c4nsnc4c(-c4cc(C)c(-c5cccs5)s4)cc3...                                          \n",
       "3  Cn1c2ccccc2c2ccc(-c3ccc(-c4ccc(C5=C(c6ccccc6)C...                                          \n",
       "4  Cc1cc(-c2c3cc(-c4cccs4)sc3c(-c3cc(C)c(C)s3)c3c...                                          \n",
       "5  C#Cc1cc(OC)c(C#Cc2scc3nc(-c4ccccc4)c(-c4ccccc4...                                          \n",
       "\n",
       "0 InChI=1S/C35H22O2S9/c1-17-6-8-23(40-17)29-19-12-14-39-32(19)30(24-9-7-18(2)41-24)20-15-27(43-33(20)29)22-10-11-26(42-22)35-34-21(16-28(44-34)46(3,36)37)31(45-35)25-5-4-13-38-25/h4-16H,1-3H3  \\\n",
       "1  InChI=1S/C22H16N2O2S/c1-23-16-7-4-3-6-14(16)19...                                                                                                                                              \n",
       "2  InChI=1S/C28H16N4S6/c1-13-9-21(35-27(13)19-5-3...                                                                                                                                              \n",
       "3  InChI=1S/C47H35NS4Si/c1-48-35-18-11-10-17-33(3...                                                                                                                                              \n",
       "4  InChI=1S/C48H32F2N2O2S6/c1-21-17-36(56-23(21)3...                                                                                                                                              \n",
       "5  InChI=1S/C30H20N2O2S/c1-4-20-17-26(34-3)23(18-...                                                                                                                                              \n",
       "\n",
       "0 10.1021/ar5000743,BOUZSMSNJFUUCG-UHFFFAOYSA-N,polymer,bulk,PC71BM,-5.04,-3.57,1.47,1.59,7.81,0.69,17.07,66.3  \\\n",
       "1  10.1039/C3PY01598J,PAPOKCOIPOLVSC-BNEIJSFPSA-N...                                                             \n",
       "2  10.1021/ja210687r,IKPPCQWOLGDYAQ-UHFFFAOYSA-N,...                                                             \n",
       "3  10.1021/ar900061z,LZAUYQACJPMHMN-UHFFFAOYSA-N,...                                                             \n",
       "4  10.1039/C3PY01598J,RJIQMHRLDYGXFS-HYXXFLLTSA-N...                                                             \n",
       "5  10.1021/ar900061z,YBMOZFSQSYNMDD-UHFFFAOYSA-N,...                                                             \n",
       "\n",
       "0 Cc1ccc(-c2c3cc(-c4ccc(-c5sc(-c6cccs6)c6cc(S(C)(=O)=O)sc65)s4)sc3c(-c3ccc(C)s3)c3ccsc32)s1  \\\n",
       "1    CN1c2ccccc2C(=C2c3ccc(-c4cccs4)cc3N(C)C2=O)C1=O                                          \n",
       "2  Cc1cc(-c2cc3c4nsnc4c(-c4cc(C)c(-c5cccs5)s4)cc3...                                          \n",
       "3  Cn1c2ccccc2c2ccc(-c3ccc(-c4ccc(C5=C(c6ccccc6)C...                                          \n",
       "4  Cc1cc(-c2c3cc(-c4cccs4)sc3c(-c3cc(C)c(C)s3)c3c...                                          \n",
       "5  C#Cc1cc(OC)c(C#Cc2scc3nc(-c4ccccc4)c(-c4ccccc4...                                          \n",
       "\n",
       "0  18  -0.186833  -0.0987778  0.0880556  -0.196389   -0.0985  \\\n",
       "1   8  -0.203250   -0.113250   0.090000  -0.212375 -0.112250   \n",
       "2  18  -0.188611   -0.114778   0.073833  -0.197611 -0.115000   \n",
       "3  15  -0.173267   -0.091067   0.082200  -0.182200 -0.090267   \n",
       "4  16  -0.186000   -0.119438   0.066562  -0.195062 -0.119188   \n",
       "5  12  -0.194000   -0.100000   0.094000  -0.203000 -0.099000   \n",
       "\n",
       "0  0.09788889999999999  -0.17077799999999999  -0.118333  0.052444399999999995  \\\n",
       "1             0.100125             -0.183625  -0.134250              0.049375   \n",
       "2             0.082611             -0.173278  -0.132889              0.040389   \n",
       "3             0.091933             -0.158733  -0.111533              0.047200   \n",
       "4             0.075875             -0.170437  -0.136875              0.033563   \n",
       "5             0.104000             -0.175333  -0.121583              0.053750   \n",
       "\n",
       "0  -0.22738899999999998   -0.0765  0.15088900000000002  \n",
       "1             -0.245500 -0.089250             0.156250  \n",
       "2             -0.228333 -0.093944             0.134389  \n",
       "3             -0.213400 -0.067933             0.145467  \n",
       "4             -0.225750 -0.098312             0.127438  \n",
       "5             -0.236167 -0.075000             0.161167  "
      ]
     },
     "execution_count": 18,
     "metadata": {},
     "output_type": "execute_result"
    }
   ],
   "source": [
    "df.columns = df.iloc[0]\n",
    "df = df[1:]\n",
    "df.head()"
   ]
  },
  {
   "cell_type": "markdown",
   "metadata": {},
   "source": [
    "### Calculate Boltmann Average \n",
    "< E > = { E1 * exp(-E1/kT) + E2 * exp(-E2/kT) + ... } / S <br>\n",
    "where <br>\n",
    "S = exp(-E1/kT) + exp(-E2/kT) + ... \n",
    "\n",
    "\n",
    "https://uk.answers.yahoo.com/question/index?qid=20110425024725AA46CX3&guccounter=1\n",
    "#### kT is thermal voltage"
   ]
  },
  {
   "cell_type": "code",
   "execution_count": 19,
   "metadata": {},
   "outputs": [],
   "source": [
    "kT = 25.7*10**(-3) #kT is 25.7 at room temperature "
   ]
  },
  {
   "cell_type": "code",
   "execution_count": 20,
   "metadata": {},
   "outputs": [
    {
     "data": {
      "text/plain": [
       "array([2, 4, 6])"
      ]
     },
     "execution_count": 20,
     "metadata": {},
     "output_type": "execute_result"
    }
   ],
   "source": [
    "a = np.array([1,2,3])\n",
    "(a*2)"
   ]
  },
  {
   "cell_type": "code",
   "execution_count": 21,
   "metadata": {},
   "outputs": [],
   "source": [
    "def calculate_boltzmann_average(functional):\n",
    "    SMILES, conformer_energy = extractMonomerHOMO(functional)\n",
    "    boltzmann_average = []\n",
    "    \n",
    "    for i in range(len(SMILES)): \n",
    "        sum_entropy, sum_product = 0, 0\n",
    "        donor_energy = conformer_energy[i]\n",
    "        \n",
    "        for conformer_HOMO in donor_energy: \n",
    "            conformer_entropy = math.exp((-1)*conformer_HOMO/kT)\n",
    "            boltzmann_product = conformer_HOMO*conformer_entropy \n",
    "            \n",
    "            sum_product += boltzmann_product\n",
    "            sum_entropy += conformer_entropy \n",
    "            \n",
    "        boltzmann_average += [float(sum_product)/sum_entropy]\n",
    "        \n",
    "    return boltzmann_average\n",
    "\n",
    "def calculate_arithmetic_average(functional):\n",
    "    SMILES, conformer_energy = extractMonomerHOMO(functional)\n",
    "    arithmetic_average = []\n",
    "    \n",
    "    for i in range(len(SMILES)): \n",
    "        sum_HOMO = 0 \n",
    "        donor_energy = conformer_energy[i]\n",
    "        \n",
    "        for conformer_HOMO in donor_energy: \n",
    "            sum_HOMO += conformer_HOMO\n",
    "            \n",
    "        arithmetic_average += [float(sum_HOMO)/len(donor_energy)]\n",
    "        \n",
    "    return arithmetic_average"
   ]
  },
  {
   "cell_type": "code",
   "execution_count": 22,
   "metadata": {},
   "outputs": [],
   "source": [
    "boltzmann_homo_b3lyp = calculate_boltzmann_average(\"B3LYP\")\n",
    "boltzmann_homo_m06 = calculate_boltzmann_average(\"M06\")\n",
    "boltzmann_homo_pbe = calculate_boltzmann_average(\"PBE\")\n",
    "boltzmann_homo_bp86 = calculate_boltzmann_average(\"BP86\")"
   ]
  },
  {
   "cell_type": "code",
   "execution_count": 23,
   "metadata": {},
   "outputs": [],
   "source": [
    "arithmetic_average = calculate_arithmetic_average(\"B3LYP\")"
   ]
  },
  {
   "cell_type": "code",
   "execution_count": 24,
   "metadata": {},
   "outputs": [
    {
     "data": {
      "text/plain": [
       "[-0.1868333333333333,\n",
       " -0.20325000000000004,\n",
       " -0.18861111111111115,\n",
       " -0.17326666666666668,\n",
       " -0.18599999999999997]"
      ]
     },
     "execution_count": 24,
     "metadata": {},
     "output_type": "execute_result"
    }
   ],
   "source": [
    "arithmetic_average[:5]"
   ]
  },
  {
   "cell_type": "code",
   "execution_count": 25,
   "metadata": {},
   "outputs": [
    {
     "name": "stdout",
     "output_type": "stream",
     "text": [
      "boltzmann_homo_b3lyp saved successfully in data\n",
      "boltzmann_homo_pbe saved successfully in data\n",
      "boltzmann_homo_bp86 saved successfully in data\n",
      "boltzmann_homo_m06 saved successfully in data\n"
     ]
    }
   ],
   "source": [
    "saveNumpy(boltzmann_homo_b3lyp, \"boltzmann_homo_b3lyp\")\n",
    "saveNumpy(boltzmann_homo_pbe, \"boltzmann_homo_pbe\")\n",
    "saveNumpy(boltzmann_homo_bp86, \"boltzmann_homo_bp86\")\n",
    "saveNumpy(boltzmann_homo_m06, \"boltzmann_homo_m06\")"
   ]
  },
  {
   "cell_type": "code",
   "execution_count": 26,
   "metadata": {},
   "outputs": [],
   "source": [
    "homo_pbe = loadNumpy(\"boltzmann_homo_pbe\")\n",
    "homo_b3lyp= loadNumpy(\"boltzmann_homo_b3lyp\")\n",
    "homo_bp86= loadNumpy(\"boltzmann_homo_bp86\")\n",
    "homo_m06= loadNumpy(\"boltzmann_homo_m06\")"
   ]
  },
  {
   "cell_type": "code",
   "execution_count": 27,
   "metadata": {},
   "outputs": [
    {
     "data": {
      "text/plain": [
       "array([-0.1964981 , -0.21127037, -0.19900134, -0.1838859 , -0.19464273])"
      ]
     },
     "execution_count": 27,
     "metadata": {},
     "output_type": "execute_result"
    }
   ],
   "source": [
    "homo_pbe[:HEAD]"
   ]
  },
  {
   "cell_type": "code",
   "execution_count": 28,
   "metadata": {},
   "outputs": [],
   "source": [
    "from rdkit_util import *\n",
    "from ml_util import *\n",
    "\n",
    "\n",
    "mols_opv = []\n",
    "for SMILE in SMILES_opv:\n",
    "    mols_opv += [MolFromSmiles(SMILE)]"
   ]
  },
  {
   "cell_type": "code",
   "execution_count": 29,
   "metadata": {},
   "outputs": [],
   "source": [
    "atom_fp_opv, keys = generateUnFoldedFingerprint(mols_opv,\"atom\")"
   ]
  },
  {
   "cell_type": "code",
   "execution_count": 30,
   "metadata": {},
   "outputs": [
    {
     "name": "stdout",
     "output_type": "stream",
     "text": [
      "XGBRegressor(base_score=0.5, booster='gbtree', colsample_bylevel=1,\n",
      "       colsample_bytree=1, gamma=0, importance_type='gain',\n",
      "       learning_rate=0.1, max_delta_step=0, max_depth=2,\n",
      "       min_child_weight=1, missing=None, n_estimators=100, n_jobs=-1,\n",
      "       nthread=None, objective='reg:linear', random_state=0, reg_alpha=0,\n",
      "       reg_lambda=1, scale_pos_weight=1, seed=None, silent=True,\n",
      "       subsample=1)\n",
      "('r2:', 0.7017809757728941, 'mape:', 2.2365265508252126)\n",
      "XGBRegressor(base_score=0.5, booster='gbtree', colsample_bylevel=1,\n",
      "       colsample_bytree=1, gamma=0, importance_type='gain',\n",
      "       learning_rate=0.1, max_delta_step=0, max_depth=2,\n",
      "       min_child_weight=1, missing=None, n_estimators=200, n_jobs=-1,\n",
      "       nthread=None, objective='reg:linear', random_state=0, reg_alpha=0,\n",
      "       reg_lambda=1, scale_pos_weight=1, seed=None, silent=True,\n",
      "       subsample=1)\n",
      "('r2:', 0.7282876524470903, 'mape:', 2.057824579802813)\n",
      "XGBRegressor(base_score=0.5, booster='gbtree', colsample_bylevel=1,\n",
      "       colsample_bytree=1, gamma=0, importance_type='gain',\n",
      "       learning_rate=0.1, max_delta_step=0, max_depth=3,\n",
      "       min_child_weight=1, missing=None, n_estimators=200, n_jobs=-1,\n",
      "       nthread=None, objective='reg:linear', random_state=0, reg_alpha=0,\n",
      "       reg_lambda=1, scale_pos_weight=1, seed=None, silent=True,\n",
      "       subsample=1)\n",
      "('r2:', 0.7321804391909448, 'mape:', 2.0415147100415125)\n"
     ]
    },
    {
     "data": {
      "text/plain": [
       "XGBRegressor(base_score=0.5, booster='gbtree', colsample_bylevel=1,\n",
       "       colsample_bytree=1, gamma=0, importance_type='gain',\n",
       "       learning_rate=0.05, max_delta_step=0, max_depth=5,\n",
       "       min_child_weight=1, missing=None, n_estimators=200, n_jobs=-1,\n",
       "       nthread=None, objective='reg:linear', random_state=0, reg_alpha=0,\n",
       "       reg_lambda=1, scale_pos_weight=1, seed=None, silent=True,\n",
       "       subsample=1)"
      ]
     },
     "execution_count": 30,
     "metadata": {},
     "output_type": "execute_result"
    }
   ],
   "source": [
    "runGrid(\"xgBoost\",atom_fp_opv, homo_b3lyp, cv=5,maximum=0.6)"
   ]
  },
  {
   "cell_type": "code",
   "execution_count": 33,
   "metadata": {},
   "outputs": [
    {
     "name": "stdout",
     "output_type": "stream",
     "text": [
      "XGBRegressor(base_score=0.5, booster='gbtree', colsample_bylevel=1,\n",
      "       colsample_bytree=1, gamma=0, importance_type='gain',\n",
      "       learning_rate=0.1, max_delta_step=0, max_depth=2,\n",
      "       min_child_weight=1, missing=None, n_estimators=100, n_jobs=-1,\n",
      "       nthread=None, objective='reg:linear', random_state=0, reg_alpha=0,\n",
      "       reg_lambda=1, scale_pos_weight=1, seed=None, silent=True,\n",
      "       subsample=1)\n",
      "('r2:', 0.5725960545478783, 'mape:', 2.2817734417415796)\n",
      "XGBRegressor(base_score=0.5, booster='gbtree', colsample_bylevel=1,\n",
      "       colsample_bytree=1, gamma=0, importance_type='gain',\n",
      "       learning_rate=0.1, max_delta_step=0, max_depth=2,\n",
      "       min_child_weight=1, missing=None, n_estimators=200, n_jobs=-1,\n",
      "       nthread=None, objective='reg:linear', random_state=0, reg_alpha=0,\n",
      "       reg_lambda=1, scale_pos_weight=1, seed=None, silent=True,\n",
      "       subsample=1)\n",
      "('r2:', 0.5981980036228973, 'mape:', 2.220361282063137)\n"
     ]
    },
    {
     "data": {
      "text/plain": [
       "XGBRegressor(base_score=0.5, booster='gbtree', colsample_bylevel=1,\n",
       "       colsample_bytree=1, gamma=0, importance_type='gain',\n",
       "       learning_rate=0.05, max_delta_step=0, max_depth=5,\n",
       "       min_child_weight=1, missing=None, n_estimators=200, n_jobs=-1,\n",
       "       nthread=None, objective='reg:linear', random_state=0, reg_alpha=0,\n",
       "       reg_lambda=1, scale_pos_weight=1, seed=None, silent=True,\n",
       "       subsample=1)"
      ]
     },
     "execution_count": 33,
     "metadata": {},
     "output_type": "execute_result"
    }
   ],
   "source": [
    "runGrid(\"xgBoost\",atom_fp_opv, homo_pbe, cv=5, maximum=0.5)"
   ]
  },
  {
   "cell_type": "code",
   "execution_count": null,
   "metadata": {},
   "outputs": [],
   "source": [
    "runGrid(\"extraTrees\",atom_fp_opv, homo_b3lyp, cv=5,maximum=0.6)"
   ]
  },
  {
   "cell_type": "code",
   "execution_count": null,
   "metadata": {},
   "outputs": [],
   "source": [
    "runGrid(\"extraTrees\",atom_fp_opv, homo_m06, cv=5,maximum=0.6)"
   ]
  },
  {
   "cell_type": "code",
   "execution_count": null,
   "metadata": {},
   "outputs": [],
   "source": [
    "runGrid(\"extraTrees\",atom_fp_opv, homo_bp86, cv=5,maximum=0.6)"
   ]
  },
  {
   "cell_type": "code",
   "execution_count": null,
   "metadata": {},
   "outputs": [],
   "source": [
    "atom_fp_opv, homo_pbe, homo_bp86, homo_m06, homo_b3lyp =\\\n",
    "            shuffle(atom_fp_opv,homo_pbe, homo_bp86, homo_m06, homo_b3lyp, random_state=1024)"
   ]
  },
  {
   "cell_type": "code",
   "execution_count": 34,
   "metadata": {},
   "outputs": [
    {
     "name": "stdout",
     "output_type": "stream",
     "text": [
      "ExtraTreesRegressor(bootstrap=False, criterion='mse', max_depth=None,\n",
      "          max_features=0.25, max_leaf_nodes=None,\n",
      "          min_impurity_decrease=0.0, min_impurity_split=None,\n",
      "          min_samples_leaf=1, min_samples_split=2,\n",
      "          min_weight_fraction_leaf=0.0, n_estimators=20, n_jobs=-1,\n",
      "          oob_score=False, random_state=None, verbose=0, warm_start=False)\n",
      "('r2:', 0.607269378453053, 'mape:', 2.0969254084099997)\n",
      "ExtraTreesRegressor(bootstrap=False, criterion='mse', max_depth=None,\n",
      "          max_features=0.25, max_leaf_nodes=None,\n",
      "          min_impurity_decrease=0.0, min_impurity_split=None,\n",
      "          min_samples_leaf=1, min_samples_split=2,\n",
      "          min_weight_fraction_leaf=0.0, n_estimators=30, n_jobs=-1,\n",
      "          oob_score=False, random_state=None, verbose=0, warm_start=False)\n",
      "('r2:', 0.6296270453485042, 'mape:', 2.0702128367200876)\n"
     ]
    },
    {
     "data": {
      "text/plain": [
       "ExtraTreesRegressor(bootstrap=False, criterion='mse', max_depth=25,\n",
       "          max_features=0.33, max_leaf_nodes=None,\n",
       "          min_impurity_decrease=0.0, min_impurity_split=None,\n",
       "          min_samples_leaf=1, min_samples_split=2,\n",
       "          min_weight_fraction_leaf=0.0, n_estimators=100, n_jobs=-1,\n",
       "          oob_score=False, random_state=None, verbose=0, warm_start=False)"
      ]
     },
     "execution_count": 34,
     "metadata": {},
     "output_type": "execute_result"
    }
   ],
   "source": [
    "runGrid(\"extraTrees\",atom_fp_opv, homo_pbe, cv=5, maximum=0.6)"
   ]
  },
  {
   "cell_type": "markdown",
   "metadata": {},
   "source": [
    "1. What if max_features are increased to 0.5 ?\n",
    "2. More estimators are good in general \n"
   ]
  },
  {
   "cell_type": "code",
   "execution_count": null,
   "metadata": {},
   "outputs": [],
   "source": [
    "runGrid(\"randomForest\",atom_fp_opv, homo_pbe, cv=5,maximum=0.6)"
   ]
  },
  {
   "cell_type": "code",
   "execution_count": null,
   "metadata": {},
   "outputs": [],
   "source": [
    "runGrid(\"randomForest\",atom_fp_opv, homo_bp86, cv=5,maximum=0.6)"
   ]
  },
  {
   "cell_type": "code",
   "execution_count": null,
   "metadata": {},
   "outputs": [],
   "source": [
    "runGrid(\"randomForest\",atom_fp_opv, homo_m06, cv=5,maximum=0.6)"
   ]
  },
  {
   "cell_type": "code",
   "execution_count": null,
   "metadata": {},
   "outputs": [],
   "source": [
    "runGrid(\"randomForest\",atom_fp_opv, homo_b3lyp, cv=5,maximum=0.6)"
   ]
  },
  {
   "cell_type": "markdown",
   "metadata": {},
   "source": [
    "### Mine new CEP Data "
   ]
  },
  {
   "cell_type": "code",
   "execution_count": null,
   "metadata": {
    "scrolled": true
   },
   "outputs": [],
   "source": [
    "import pandas as pd\n",
    "df = pd.read_csv('/Users/arindam/CEP/moldata.csv')"
   ]
  },
  {
   "cell_type": "code",
   "execution_count": null,
   "metadata": {},
   "outputs": [],
   "source": [
    "df.head()"
   ]
  },
  {
   "cell_type": "code",
   "execution_count": null,
   "metadata": {},
   "outputs": [],
   "source": [
    "import numpy as np\n",
    "pce = np.array(list(df['pce']))"
   ]
  },
  {
   "cell_type": "code",
   "execution_count": null,
   "metadata": {},
   "outputs": [],
   "source": [
    "len(pce)"
   ]
  },
  {
   "cell_type": "code",
   "execution_count": null,
   "metadata": {},
   "outputs": [],
   "source": [
    "from ml_util import saveNumpy\n",
    "saveNumpy(pce,\"pce_cep_all\")"
   ]
  },
  {
   "cell_type": "code",
   "execution_count": null,
   "metadata": {},
   "outputs": [],
   "source": [
    "SMILES_all = list(df_cep_new['SMILES_str'])"
   ]
  },
  {
   "cell_type": "code",
   "execution_count": null,
   "metadata": {},
   "outputs": [],
   "source": [
    "mols_all = []\n",
    "for SMILE in SMILES_all:\n",
    "    mols_all += [MolFromSmiles(SMILE)]"
   ]
  }
 ],
 "metadata": {
  "kernelspec": {
   "display_name": "Python 2",
   "language": "python",
   "name": "python2"
  },
  "language_info": {
   "codemirror_mode": {
    "name": "ipython",
    "version": 2
   },
   "file_extension": ".py",
   "mimetype": "text/x-python",
   "name": "python",
   "nbconvert_exporter": "python",
   "pygments_lexer": "ipython2",
   "version": "2.7.15"
  }
 },
 "nbformat": 4,
 "nbformat_minor": 2
}
