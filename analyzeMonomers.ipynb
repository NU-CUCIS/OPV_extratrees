{
 "cells": [
  {
   "cell_type": "code",
   "execution_count": 1,
   "metadata": {
    "collapsed": true
   },
   "outputs": [],
   "source": [
    "%matplotlib inline"
   ]
  },
  {
   "cell_type": "code",
   "execution_count": 2,
   "metadata": {
    "collapsed": true
   },
   "outputs": [],
   "source": [
    "def warn(*args, **kwargs):\n",
    "    pass\n",
    "import warnings,seaborn\n",
    "warnings.warn = warn\n",
    "warnings.filterwarnings(\"ignore\")\n",
    "from seaborn import distplot\n"
   ]
  },
  {
   "cell_type": "code",
   "execution_count": 33,
   "metadata": {
    "collapsed": true
   },
   "outputs": [],
   "source": [
    "from numpy import load,save, where,sort,array,append, hstack,mean,array_equal,argsort,std as std_deviation\n",
    "from operator import itemgetter as item\n",
    "import pandas as pd\n",
    "import numpy\n",
    "import pickle\n",
    "import os.path\n",
    "from operator import itemgetter\n",
    "from utility import *\n",
    "import seaborn as sns\n",
    "from seaborn import distplot\n",
    "from random import randint\n",
    "from sklearn.utils import shuffle\n",
    "from math import sqrt,log10,floor\n",
    "from rdkit import Chem\n",
    "from rdkit.Chem.Draw import IPythonConsole\n",
    "from rdkit.Chem.rdchem import ResonanceMolSupplier as resonanceMol\n",
    "from rdkit import DataStructs\n",
    "from rdkit.Chem.Fingerprints import FingerprintMols\n",
    "from scipy.stats import ttest_ind as TTest"
   ]
  },
  {
   "cell_type": "code",
   "execution_count": 4,
   "metadata": {
    "collapsed": true
   },
   "outputs": [],
   "source": [
    "def return_true(self, other):\n",
    "    return True\n",
    "Chem.Mol.__eq__ = return_true"
   ]
  },
  {
   "cell_type": "code",
   "execution_count": 5,
   "metadata": {
    "collapsed": true
   },
   "outputs": [],
   "source": [
    "data = pd.read_csv('allFunctionals.csv','|')\n",
    "molsCsv = []\n",
    "for SMILE in data['Unnamed: 1'][1:]:\n",
    "    molsCsv += [Chem.MolFromSmiles(SMILE)]\n",
    "HOMOCsv = []\n",
    "for item in data['B3LYP'][1:]:\n",
    "    HOMOCsv += [float(item)]\n",
    "datFileID = []\n",
    "for item in data['Unnamed: 0'][1:]:\n",
    "    datFileID += [int(item)]"
   ]
  },
  {
   "cell_type": "code",
   "execution_count": 6,
   "metadata": {
    "collapsed": true
   },
   "outputs": [],
   "source": [
    "def loadNumpy(name,path='.'):\n",
    "    if \".npy\" in name:\n",
    "        fullPath = path+'/'+name\n",
    "    else:\n",
    "        fullPath = path+'/'+name+'.npy'\n",
    "    return load(fullPath)\n",
    "\n",
    "def saveNumpy(obj, name, path='.'):\n",
    "    if \".npy\" not in name:\n",
    "        fullPath = path+'/'+name\n",
    "        save(fullPath, obj)\n",
    "        print name,'saved successfully in',path\n",
    "    else:\n",
    "        fullPath = path+'/'+name.split(\".npy\")[0]\n",
    "        save(fullPath, obj)\n",
    "        print name,'saved successfully in',path\n",
    "        "
   ]
  },
  {
   "cell_type": "code",
   "execution_count": 7,
   "metadata": {
    "collapsed": true
   },
   "outputs": [],
   "source": [
    "def crossVal_Diff_Arrange(Type,mols,estimator):\n",
    "    y = HOMO\n",
    "    if Type=='maccs':\n",
    "        X = maccs\n",
    "    elif Type == 'atompair':\n",
    "        X = atom\n",
    "    \n",
    "    for i in range(2):\n",
    "        X,y,mols = shuffle(X,y,mols)\n",
    "    \n",
    "    predicted, predictedRepeat = [],[]\n",
    "    for i in range(3):\n",
    "        predictedRepeat += [cross_val_predict(estimator, X, y, cv=5)]\n",
    "\n",
    "    for i in range(len(X)):\n",
    "        predicted += [(predictedRepeat[0][i]+predictedRepeat[1][i]+predictedRepeat[2][i])/3]\n",
    "\n",
    "    All = []\n",
    "    for i in range(len(X)):\n",
    "        All += [[abs(y[i]-predicted[i])]+[predicted[i]]+[y[i]]+X[i].tolist()]\n",
    "        \n",
    "    AllSorted,molsSorted = [list(x) for x in zip(*sorted(zip(All, mols), key=itemgetter(0)))]\n",
    "    diff, actualY, predictedY, actualX = [],[],[],[]\n",
    "    for i in range(len(X)):\n",
    "        diff += [AllSorted[i][0]]\n",
    "        predictedY += [AllSorted[i][1]]\n",
    "        actualY += [AllSorted[i][2]]\n",
    "        actualX += [AllSorted[i][3:]]\n",
    "        \n",
    "#     testMol = molsSorted[0]\n",
    "#     molsAdjusted = []\n",
    "#     predictedAdjusted,actualAdjusted = [],[]\n",
    "#     actualXAdjusted = []\n",
    "#     diffAdjusted = []\n",
    "    \n",
    "#     for mol in molsSorted:\n",
    "#         index = returnLocationInCsv(mol)\n",
    "#         molsAdjusted += [molsSorted[index]]\n",
    "#         diffAdjusted += [diff[index]]\n",
    "#         actualAdjusted += [actualY[index]]\n",
    "#         predictedAdjusted += [predictedY[index]]\n",
    "#         actualXAdjusted += [actualX[index]]\n",
    "        \n",
    "        \n",
    "#     return diffAdjusted, predictedAdjusted, actualAdjusted, actualXAdjusted, molsAdjusted\n",
    "    return diff, predictedY, actualY, actualX, molsSorted"
   ]
  },
  {
   "cell_type": "code",
   "execution_count": 9,
   "metadata": {
    "collapsed": true
   },
   "outputs": [],
   "source": [
    "def trainTest_Diff(Type,mols,estimator):\n",
    "    y = HOMOTrain80\n",
    "    if Type=='maccs':\n",
    "        X = maccsTrain80\n",
    "    elif Type == 'atompair':\n",
    "        X = atomTrain80\n",
    "    \n",
    "    for i in range(2):\n",
    "        X,y,mols = shuffle(X,y,mols)\n",
    "    \n",
    "    predicted, predictedRepeat = [],[]\n",
    "    for i in range(3):\n",
    "        predictedRepeat += [cross_val_predict(estimator, X, y, cv=5)]\n",
    "\n",
    "    for i in range(len(X)):\n",
    "        predicted += [(predictedRepeat[0][i]+predictedRepeat[1][i]+predictedRepeat[2][i])/3]\n",
    "\n",
    "    All = []\n",
    "    for i in range(len(X)):\n",
    "        All += [[abs(y[i]-predicted[i])]+[predicted[i]]+[y[i]]+X[i].tolist()]\n",
    "        \n",
    "    AllSorted,molsSorted = [list(x) for x in zip(*sorted(zip(All, mols), key=item(0)))]\n",
    "    diff, actualY, predictedY, actualX = [],[],[],[]\n",
    "    for i in range(len(X)):\n",
    "        diff += [AllSorted[i][0]]\n",
    "        predictedY += [AllSorted[i][1]]\n",
    "        actualY += [AllSorted[i][2]]\n",
    "        actualX += [AllSorted[i][3:]]\n",
    "        \n",
    "        \n",
    "    return diff, predictedY, actualY, actualX, molsSorted"
   ]
  },
  {
   "cell_type": "code",
   "execution_count": 10,
   "metadata": {
    "collapsed": true
   },
   "outputs": [],
   "source": [
    "def extractMonomerHOMO():\n",
    "    data = open('HOPV_15.data').readlines()\n",
    "    lineNums = []\n",
    "    for i in range(len(data)):\n",
    "        if 'InChI' in data[i]:\n",
    "            lineNums += [i-5]\n",
    "    endLineNums = []\n",
    "    for lineNum in lineNums[1:]:\n",
    "        endLineNums += [lineNum]\n",
    "\n",
    "    endLineNums += [len(data)-1]\n",
    "\n",
    "    count = 0\n",
    "    DFT = []\n",
    "    molecule = []\n",
    "    for i in range(len(data)):\n",
    "        if i == endLineNums[count]+1 or i ==len(data)-1:\n",
    "            DFT += [molecule]\n",
    "            count += 1\n",
    "            molecule = []\n",
    "        if 'B3LYP' in data[i]:\n",
    "            molecule += [float(data[i].split('DFT,')[1].split(',')[0])]\n",
    "    \n",
    "    count =0\n",
    "    adjustedMonomer = []\n",
    "    for i in range(350):\n",
    "        if i == datFileID[count]-1:\n",
    "            adjustedMonomer += [DFT[i]]\n",
    "            count +=1\n",
    "            \n",
    "        \n",
    "    return adjustedMonomer\n",
    "\n",
    "def returnLocationInCsv(testMol):\n",
    "    testFP = FingerprintMols.FingerprintMol(testMol)\n",
    "    for i in range(len(molsCsv)):\n",
    "        mol = molsCsv[i]\n",
    "        fp = FingerprintMols.FingerprintMol(mol)\n",
    "        if DataStructs.FingerprintSimilarity(fp, testFP) == 1:\n",
    "            return i"
   ]
  },
  {
   "cell_type": "code",
   "execution_count": 11,
   "metadata": {
    "collapsed": true
   },
   "outputs": [],
   "source": [
    "HOMO = loadNumpy('HOMO')\n",
    "atom = loadNumpy('AtomPairCount')\n",
    "topo = loadNumpy('TopologicalCount')\n",
    "morgan = loadNumpy('MorganCount')\n",
    "maccs = loadNumpy('maccsCount')\n",
    "mols = loadNumpy('mols')"
   ]
  },
  {
   "cell_type": "markdown",
   "metadata": {},
   "source": [
    "#### sorting by argsort"
   ]
  },
  {
   "cell_type": "code",
   "execution_count": 39,
   "metadata": {
    "collapsed": true
   },
   "outputs": [],
   "source": [
    "sortedIndices = argsort(HOMO)\n",
    "\n",
    "HOMOSorted = []\n",
    "atomSorted = []\n",
    "topoSorted = []\n",
    "morganSorted = []\n",
    "maccsSorted = []\n",
    "molsSorted = []\n",
    "\n",
    "for i in sortedIndices:\n",
    "    HOMOSorted += [HOMO[i]]\n",
    "    atomSorted += [atom[i]]\n",
    "    topoSorted += [topo[i]]\n",
    "    morganSorted += [morgan[i]]\n",
    "    maccsSorted += [maccs[i]]\n",
    "    molsSorted += [mols[i]]"
   ]
  },
  {
   "cell_type": "code",
   "execution_count": 40,
   "metadata": {},
   "outputs": [
    {
     "name": "stdout",
     "output_type": "stream",
     "text": [
      "HOMOSorted saved successfully in .\n",
      "atomSorted saved successfully in .\n",
      "topoSorted saved successfully in .\n",
      "morganSorted saved successfully in .\n",
      "maccsSorted saved successfully in .\n",
      "molsSorted saved successfully in .\n"
     ]
    }
   ],
   "source": [
    "saveNumpy(HOMOSorted,'HOMOSorted')\n",
    "saveNumpy(atomSorted,'atomSorted')\n",
    "saveNumpy(topoSorted,'topoSorted')\n",
    "saveNumpy(morganSorted,'morganSorted')\n",
    "saveNumpy(maccsSorted,'maccsSorted')\n",
    "saveNumpy(molsSorted,'molsSorted')"
   ]
  },
  {
   "cell_type": "code",
   "execution_count": 12,
   "metadata": {
    "collapsed": true
   },
   "outputs": [],
   "source": [
    "trainIndices, testIndices = loadNumpy('trainIndices'), loadNumpy('testIndices')"
   ]
  },
  {
   "cell_type": "code",
   "execution_count": 10,
   "metadata": {
    "collapsed": true
   },
   "outputs": [],
   "source": [
    "HOMOTrain80 = loadNumpy('trainHOMO80')\n",
    "atomTrain80= loadNumpy('trainAtom80')\n",
    "topoTrain80= loadNumpy('trainTopo80')\n",
    "morganTrain80= loadNumpy('trainMorgan80')\n",
    "maccsTrain80= loadNumpy('trainMaccs80')\n",
    "molsTrain80= loadNumpy('trainMols80')"
   ]
  },
  {
   "cell_type": "code",
   "execution_count": 13,
   "metadata": {
    "collapsed": true
   },
   "outputs": [],
   "source": [
    "atom80 = ExtraTreesRegressor(bootstrap=False, criterion='mse', max_depth=None,\n",
    "          max_features=0.33, max_leaf_nodes=None, min_impurity_split=1e-07,\n",
    "          min_samples_leaf=1, min_samples_split=2,\n",
    "          min_weight_fraction_leaf=0.0, n_estimators=200, n_jobs=-1,\n",
    "          oob_score=False, random_state=None, verbose=0, warm_start=False)\n",
    "\n",
    "maccs80 = ExtraTreesRegressor(bootstrap=False, criterion='mse', max_depth=25,\n",
    "          max_features=0.33, max_leaf_nodes=None, min_impurity_split=1e-07,\n",
    "          min_samples_leaf=1, min_samples_split=2,\n",
    "          min_weight_fraction_leaf=0.0, n_estimators=30, n_jobs=-1,\n",
    "          oob_score=False, random_state=None, verbose=0, warm_start=False)"
   ]
  },
  {
   "cell_type": "markdown",
   "metadata": {},
   "source": [
    "### Best and Worst Molecules"
   ]
  },
  {
   "cell_type": "code",
   "execution_count": 11,
   "metadata": {
    "collapsed": true
   },
   "outputs": [],
   "source": [
    "worstMols,bestMols = molsSorted[:5], molsSorted[-5:]\n",
    "worstAtom, bestAtom = atomSorted[:5], atomSorted[-5:]\n",
    "worstMaccs, bestMaccs = maccsSorted[:5], maccsSorted[-5:]\n",
    "worstMorgan, bestMorgan = morganSorted[:5], morganSorted[-5:]\n",
    "worstTopo, bestTopo = topoSorted[:5], topoSorted[-5:]"
   ]
  },
  {
   "cell_type": "markdown",
   "metadata": {},
   "source": [
    "### There is not much difference in the level of conjugation (number of conjugated bonds)"
   ]
  },
  {
   "cell_type": "markdown",
   "metadata": {},
   "source": [
    "#### Best"
   ]
  },
  {
   "cell_type": "code",
   "execution_count": 21,
   "metadata": {},
   "outputs": [
    {
     "name": "stdout",
     "output_type": "stream",
     "text": [
      "1 -0.174133\n",
      "1 -0.174056\n",
      "1 -0.174\n",
      "1 -0.173929\n",
      "1 -0.173889\n",
      "1 -0.173267\n",
      "1 -0.171118\n",
      "1 -0.17075\n",
      "4 -0.167\n",
      "1 -0.164667\n"
     ]
    }
   ],
   "source": [
    "for i in range(-10,0):\n",
    "    mol = molsSorted[i]\n",
    "    print resonanceMol(mol).GetNumConjGrps(), HOMOSorted[i]"
   ]
  },
  {
   "cell_type": "markdown",
   "metadata": {},
   "source": [
    "#### Worst"
   ]
  },
  {
   "cell_type": "code",
   "execution_count": 22,
   "metadata": {},
   "outputs": [
    {
     "name": "stdout",
     "output_type": "stream",
     "text": [
      "1 -0.24375\n",
      "1 -0.239\n",
      "1 -0.238\n",
      "1 -0.237211\n",
      "1 -0.234125\n",
      "1 -0.232\n",
      "2 -0.230429\n",
      "1 -0.23\n",
      "1 -0.22825\n",
      "1 -0.222\n"
     ]
    }
   ],
   "source": [
    "for i in range(0,10):\n",
    "    mol = molsSorted[i]\n",
    "    print resonanceMol(mol).GetNumConjGrps(), HOMOSorted[i]"
   ]
  },
  {
   "cell_type": "markdown",
   "metadata": {},
   "source": [
    "## Conjugation for the best and worst predicted (again no difference based on conjugation)"
   ]
  },
  {
   "cell_type": "code",
   "execution_count": 14,
   "metadata": {
    "collapsed": true
   },
   "outputs": [],
   "source": [
    "diff_atom, predictedHOMO_atom, actualHOMO_atom, actual_atom,mols_atom = crossVal_Diff_Arrange('atompair',mols,atom80)"
   ]
  },
  {
   "cell_type": "code",
   "execution_count": 15,
   "metadata": {
    "collapsed": true
   },
   "outputs": [],
   "source": [
    "diff_maccs, predictedHOMO_maccs, actualHOMO_maccs, actual_maccs,mols_maccs = crossVal_Diff_Arrange('maccs',mols, maccs80)"
   ]
  },
  {
   "cell_type": "code",
   "execution_count": 16,
   "metadata": {
    "collapsed": true
   },
   "outputs": [],
   "source": [
    "NUM = 20\n",
    "worstPredictAtom, bestPredictAtom = actual_atom[-NUM:], actual_atom[:NUM]\n",
    "worstPredictMaccs, bestPredictMaccs = actual_maccs[-NUM:], actual_maccs[:NUM]\n",
    "\n",
    "worstMols_Atom, bestMols_Atom = mols_atom[-NUM:], mols_atom[:NUM]\n",
    "worstMols_Maccs, bestMols_Maccs = mols_maccs[-NUM:], mols_maccs[:NUM]"
   ]
  },
  {
   "cell_type": "markdown",
   "metadata": {},
   "source": [
    "### Best Predicted"
   ]
  },
  {
   "cell_type": "code",
   "execution_count": 70,
   "metadata": {},
   "outputs": [
    {
     "name": "stdout",
     "output_type": "stream",
     "text": [
      "1 -0.184462 -0.184475733472\n",
      "2 -0.187889 -0.187921427048\n",
      "1 -0.192 -0.191939656694\n",
      "1 -0.199063 -0.198991715556\n",
      "1 -0.186 -0.186075663972\n",
      "2 -0.189071 -0.188987045375\n",
      "1 -0.2 -0.200088690889\n",
      "1 -0.188462 -0.188552785433\n",
      "1 -0.192421 -0.192520972167\n",
      "1 -0.184389 -0.184275054139\n"
     ]
    }
   ],
   "source": [
    "for i in range(0,10):\n",
    "    mol = mols_atom[i]\n",
    "    print resonanceMol(mol).GetNumConjGrps(), actualHOMO_atom[i], predictedHOMO_atom[i]"
   ]
  },
  {
   "cell_type": "markdown",
   "metadata": {},
   "source": [
    "### Worst Predicted"
   ]
  },
  {
   "cell_type": "code",
   "execution_count": 18,
   "metadata": {},
   "outputs": [
    {
     "name": "stdout",
     "output_type": "stream",
     "text": [
      "1 -0.237211 -0.199166737778\n",
      "1 -0.234125 -0.198197342556\n",
      "2 -0.230429 -0.203220642694\n",
      "4 -0.167 -0.18965383571\n",
      "1 -0.212077 -0.1911161545\n",
      "1 -0.201 -0.220816817778\n",
      "1 -0.24375 -0.224078131667\n",
      "1 -0.239 -0.219399233333\n",
      "1 -0.222 -0.203169153889\n",
      "1 -0.22825 -0.209478674028\n"
     ]
    }
   ],
   "source": [
    "for i in range(-1,-11,-1):\n",
    "    mol = mols_atom[i]\n",
    "    print resonanceMol(mol).GetNumConjGrps(), actualHOMO_atom[i], predictedHOMO_atom[i]"
   ]
  },
  {
   "cell_type": "markdown",
   "metadata": {},
   "source": [
    "### Find the distribution for the ones which are predicted well or not "
   ]
  },
  {
   "cell_type": "code",
   "execution_count": 19,
   "metadata": {
    "collapsed": true
   },
   "outputs": [],
   "source": [
    "monomerHOMO = extractMonomerHOMO()"
   ]
  },
  {
   "cell_type": "markdown",
   "metadata": {},
   "source": [
    "#### Worst Predicted Distribution"
   ]
  },
  {
   "cell_type": "code",
   "execution_count": 38,
   "metadata": {
    "collapsed": true
   },
   "outputs": [],
   "source": [
    "worstOrgIndicesAtom = []\n",
    "for i in range(-1,-21,-1):\n",
    "    worstOrgIndicesAtom += [returnLocationInCsv(mols_atom[i])]"
   ]
  },
  {
   "cell_type": "code",
   "execution_count": 39,
   "metadata": {
    "collapsed": true
   },
   "outputs": [],
   "source": [
    "bestOrgIndicesAtom = []\n",
    "for i in range(20):\n",
    "    bestOrgIndicesAtom += [returnLocationInCsv(mols_atom[i])]"
   ]
  },
  {
   "cell_type": "code",
   "execution_count": 40,
   "metadata": {
    "collapsed": true
   },
   "outputs": [],
   "source": [
    "worstOrgIndicesMaccs = []\n",
    "for i in range(-1,-21,-1):\n",
    "    worstOrgIndicesMaccs += [returnLocationInCsv(mols_maccs[i])]"
   ]
  },
  {
   "cell_type": "code",
   "execution_count": 41,
   "metadata": {
    "collapsed": true
   },
   "outputs": [],
   "source": [
    "bestOrgIndicesMaccs = []\n",
    "for i in range(20):\n",
    "    bestOrgIndicesMaccs += [returnLocationInCsv(mols_maccs[i])]"
   ]
  },
  {
   "cell_type": "code",
   "execution_count": 24,
   "metadata": {},
   "outputs": [
    {
     "name": "stdout",
     "output_type": "stream",
     "text": [
      "worstOrgIndicesAtom saved successfully in .\n",
      "worstOrgIndicesMaccs saved successfully in .\n",
      "bestOrgIndicesAtom saved successfully in .\n",
      "bestOrgIndicesMaccs saved successfully in .\n"
     ]
    }
   ],
   "source": [
    "saveNumpy(worstOrgIndicesAtom,'worstOrgIndicesAtom')\n",
    "saveNumpy(worstOrgIndicesMaccs,'worstOrgIndicesMaccs')\n",
    "saveNumpy(bestOrgIndicesAtom,'bestOrgIndicesAtom')\n",
    "saveNumpy(bestOrgIndicesMaccs,'bestOrgIndicesMaccs')"
   ]
  },
  {
   "cell_type": "code",
   "execution_count": 111,
   "metadata": {},
   "outputs": [
    {
     "name": "stdout",
     "output_type": "stream",
     "text": [
      "13 -0.184461538462 0.000498518515262\n",
      "9 -0.187888888889 0.000314269680527\n",
      "18 -0.192 2.77555756156e-17\n",
      "16 -0.1990625 0.000242061459138\n",
      "16 -0.186 0.000612372435696\n",
      "14 -0.189071428571 0.000257539376819\n",
      "2 -0.2 0.001\n",
      "13 -0.188461538462 0.00230769230769\n",
      "19 -0.192421052632 0.00311728271473\n",
      "18 -0.184388888889 0.000825892708184\n"
     ]
    }
   ],
   "source": [
    "for i in bestOrgIndicesAtom:\n",
    "    print len(monomerHOMO[i]),mean(monomerHOMO[i]),std(monomerHOMO[i])"
   ]
  },
  {
   "cell_type": "code",
   "execution_count": 112,
   "metadata": {},
   "outputs": [
    {
     "name": "stdout",
     "output_type": "stream",
     "text": [
      "17 -0.167 0.0\n",
      "4 -0.22825 0.000829156197589\n",
      "1 -0.232 0.0\n",
      "4 -0.201 0.001\n",
      "4 -0.24375 0.00178535710714\n",
      "13 -0.212076923077 0.0015423028966\n",
      "16 -0.222 0.0\n",
      "3 -0.178 2.77555756156e-17\n",
      "8 -0.196625 0.000484122918276\n",
      "18 -0.198888888889 0.000458122847291\n"
     ]
    }
   ],
   "source": [
    "for i in worstOrgIndicesAtom:\n",
    "    print len(monomerHOMO[i]),mean(monomerHOMO[i]),std(monomerHOMO[i])"
   ]
  },
  {
   "cell_type": "code",
   "execution_count": 140,
   "metadata": {},
   "outputs": [
    {
     "data": {
      "image/png": "[encoded data removed]",
      "text/plain": [
       "<rdkit.Chem.rdchem.Mol at 0x117733210>"
      ]
     },
     "execution_count": 140,
     "metadata": {},
     "output_type": "execute_result"
    }
   ],
   "source": [
    "molsCsv[280]"
   ]
  },
  {
   "cell_type": "code",
   "execution_count": 113,
   "metadata": {},
   "outputs": [
    {
     "data": {
      "image/png": "[encoded data removed]",
      "text/plain": [
       "<rdkit.Chem.rdchem.Mol at 0x11865f7c0>"
      ]
     },
     "execution_count": 113,
     "metadata": {},
     "output_type": "execute_result"
    }
   ],
   "source": [
    "molsCsv[281]"
   ]
  },
  {
   "cell_type": "code",
   "execution_count": 146,
   "metadata": {
    "collapsed": true
   },
   "outputs": [],
   "source": [
    "Max = 0\n",
    "for HOMO in HOMOCsv:\n",
    "    if len(str(HOMO))-3>Max:\n",
    "        Max = len(str(HOMO))-3"
   ]
  },
  {
   "cell_type": "code",
   "execution_count": 155,
   "metadata": {
    "collapsed": true
   },
   "outputs": [],
   "source": [
    "count = 0\n",
    "for HOMO in HOMOCsv:\n",
    "    for homo in avgHOMO:\n",
    "        if homo == HOMO:\n",
    "            count += 1"
   ]
  },
  {
   "cell_type": "code",
   "execution_count": 98,
   "metadata": {},
   "outputs": [
    {
     "data": {
      "text/plain": [
       "{-10: 241,\n",
       " -9: 222,\n",
       " -8: 20,\n",
       " -7: 143,\n",
       " -6: 189,\n",
       " -5: 213,\n",
       " -4: 89,\n",
       " -3: 218,\n",
       " -2: 53,\n",
       " -1: 122}"
      ]
     },
     "execution_count": 98,
     "metadata": {},
     "output_type": "execute_result"
    }
   ],
   "source": [
    "worstOrgIndicesAtom"
   ]
  },
  {
   "cell_type": "code",
   "execution_count": 100,
   "metadata": {},
   "outputs": [
    {
     "name": "stdout",
     "output_type": "stream",
     "text": [
      "18\n",
      "8\n",
      "18\n",
      "15\n",
      "16\n",
      "12\n",
      "10\n",
      "15\n",
      "11\n",
      "9\n",
      "15\n",
      "12\n",
      "1\n",
      "15\n",
      "18\n",
      "18\n",
      "19\n",
      "6\n",
      "13\n",
      "20\n"
     ]
    }
   ],
   "source": [
    "for i in range(20):\n",
    "    print len(monomerHOMO[i])"
   ]
  },
  {
   "cell_type": "code",
   "execution_count": 177,
   "metadata": {
    "collapsed": true
   },
   "outputs": [],
   "source": [
    "avgHOMO = []\n",
    "for i in range(len(monomerHOMO)):\n",
    "    avg = mean(monomerHOMO[i])\n",
    "    avgHOMO += [float(\"{:.6f}\".format(avg))]"
   ]
  },
  {
   "cell_type": "markdown",
   "metadata": {},
   "source": [
    "### <font color=\"blue\"> Evaluate if the standard deviation of both are statistically significant </font>"
   ]
  },
  {
   "cell_type": "code",
   "execution_count": 34,
   "metadata": {},
   "outputs": [
    {
     "data": {
      "text/plain": [
       "0.00088167099872911848"
      ]
     },
     "execution_count": 34,
     "metadata": {},
     "output_type": "execute_result"
    }
   ],
   "source": [
    "std_deviation(monomerHOMO[bestOrgIndicesAtom[0]])"
   ]
  },
  {
   "cell_type": "markdown",
   "metadata": {},
   "source": [
    "#### <font color=\"red\"> T Test on standard deviation for monomers for best and worst predicted (Atom Pair) </font>"
   ]
  },
  {
   "cell_type": "code",
   "execution_count": 44,
   "metadata": {
    "collapsed": true
   },
   "outputs": [],
   "source": [
    "bestStd,worstStd = [],[]\n",
    "bestMean, worstMean = [],[]\n",
    "numBest, numWorst = [],[]\n",
    "for i in range(20):\n",
    "    bestStd += [std_deviation(monomerHOMO[bestOrgIndicesAtom[i]])]\n",
    "    bestMean += [mean(monomerHOMO[bestOrgIndicesAtom[i]])]\n",
    "    numBest += [len(monomerHOMO[bestOrgIndicesAtom[i]])]\n",
    "    \n",
    "    worstStd += [std_deviation(monomerHOMO[worstOrgIndicesAtom[i]])]\n",
    "    worstMean += [mean(monomerHOMO[worstOrgIndicesAtom[i]])]\n",
    "    numWorst += [len(monomerHOMO[worstOrgIndicesAtom[i]])]"
   ]
  },
  {
   "cell_type": "code",
   "execution_count": 43,
   "metadata": {},
   "outputs": [
    {
     "data": {
      "text/plain": [
       "Ttest_indResult(statistic=1.4703504705411439, pvalue=0.14969914654521016)"
      ]
     },
     "execution_count": 43,
     "metadata": {},
     "output_type": "execute_result"
    }
   ],
   "source": [
    "TTest(bestStd,worstStd)"
   ]
  },
  {
   "cell_type": "code",
   "execution_count": 45,
   "metadata": {},
   "outputs": [
    {
     "data": {
      "text/plain": [
       "Ttest_indResult(statistic=3.3527849947586734, pvalue=0.0018211963319228425)"
      ]
     },
     "execution_count": 45,
     "metadata": {},
     "output_type": "execute_result"
    }
   ],
   "source": [
    "TTest(bestMean,worstMean)"
   ]
  },
  {
   "cell_type": "code",
   "execution_count": 46,
   "metadata": {},
   "outputs": [
    {
     "data": {
      "text/plain": [
       "Ttest_indResult(statistic=3.8601371526163999, pvalue=0.00042663720581077462)"
      ]
     },
     "execution_count": 46,
     "metadata": {},
     "output_type": "execute_result"
    }
   ],
   "source": [
    "TTest(numBest,numWorst)"
   ]
  },
  {
   "cell_type": "markdown",
   "metadata": {},
   "source": [
    "#### <font color=\"green\"> T Test on standard deviation for monomers for best and worst predicted (Maccs) </font>"
   ]
  },
  {
   "cell_type": "code",
   "execution_count": 48,
   "metadata": {
    "collapsed": true
   },
   "outputs": [],
   "source": [
    "bestStd,worstStd = [],[]\n",
    "bestMean, worstMean = [],[]\n",
    "numBest, numWorst = [],[]\n",
    "for i in range(20):\n",
    "    bestStd += [std_deviation(monomerHOMO[bestOrgIndicesMaccs[i]])]\n",
    "    bestMean += [mean(monomerHOMO[bestOrgIndicesMaccs[i]])]\n",
    "    numBest += [len(monomerHOMO[bestOrgIndicesMaccs[i]])]\n",
    "    \n",
    "    worstStd += [std_deviation(monomerHOMO[worstOrgIndicesMaccs[i]])]\n",
    "    worstMean += [mean(monomerHOMO[worstOrgIndicesMaccs[i]])]\n",
    "    numWorst += [len(monomerHOMO[worstOrgIndicesMaccs[i]])]"
   ]
  },
  {
   "cell_type": "code",
   "execution_count": 49,
   "metadata": {},
   "outputs": [
    {
     "data": {
      "text/plain": [
       "Ttest_indResult(statistic=-1.7156346853481124, pvalue=0.094373139898495884)"
      ]
     },
     "execution_count": 49,
     "metadata": {},
     "output_type": "execute_result"
    }
   ],
   "source": [
    "TTest(bestStd,worstStd)"
   ]
  },
  {
   "cell_type": "code",
   "execution_count": 50,
   "metadata": {},
   "outputs": [
    {
     "data": {
      "text/plain": [
       "Ttest_indResult(statistic=3.5199980314714909, pvalue=0.0011386786215529909)"
      ]
     },
     "execution_count": 50,
     "metadata": {},
     "output_type": "execute_result"
    }
   ],
   "source": [
    "TTest(bestMean,worstMean)"
   ]
  },
  {
   "cell_type": "code",
   "execution_count": 51,
   "metadata": {},
   "outputs": [
    {
     "data": {
      "text/plain": [
       "Ttest_indResult(statistic=2.4704671124630062, pvalue=0.018095206117606469)"
      ]
     },
     "execution_count": 51,
     "metadata": {},
     "output_type": "execute_result"
    }
   ],
   "source": [
    "TTest(numBest,numWorst)"
   ]
  },
  {
   "cell_type": "markdown",
   "metadata": {},
   "source": [
    "### <font color=\"purple\"> Investigating individual monomer distributions </font>"
   ]
  },
  {
   "cell_type": "code",
   "execution_count": 94,
   "metadata": {},
   "outputs": [
    {
     "data": {
      "text/plain": [
       "<matplotlib.axes._subplots.AxesSubplot at 0x11bc7f610>"
      ]
     },
     "execution_count": 94,
     "metadata": {},
     "output_type": "execute_result"
    },
    {
     "data": {
      "image/png": "[encoded data removed]",
      "text/plain": [
       "<matplotlib.figure.Figure at 0x11af3dcd0>"
      ]
     },
     "metadata": {},
     "output_type": "display_data"
    }
   ],
   "source": [
    "distplot(monomerHOMO[bestOrgIndicesAtom[0]])"
   ]
  },
  {
   "cell_type": "code",
   "execution_count": 93,
   "metadata": {},
   "outputs": [
    {
     "data": {
      "text/plain": [
       "<matplotlib.axes._subplots.AxesSubplot at 0x118a2fad0>"
      ]
     },
     "execution_count": 93,
     "metadata": {},
     "output_type": "execute_result"
    },
    {
     "data": {
      "image/png": "[encoded data removed]",
      "text/plain": [
       "<matplotlib.figure.Figure at 0x118ab00d0>"
      ]
     },
     "metadata": {},
     "output_type": "display_data"
    }
   ],
   "source": [
    "distplot(monomerHOMO[bestOrgIndicesAtom[1]])"
   ]
  },
  {
   "cell_type": "code",
   "execution_count": 95,
   "metadata": {},
   "outputs": [
    {
     "data": {
      "text/plain": [
       "<matplotlib.axes._subplots.AxesSubplot at 0x11aaabbd0>"
      ]
     },
     "execution_count": 95,
     "metadata": {},
     "output_type": "execute_result"
    },
    {
     "data": {
      "image/png": "[encoded data removed]",
      "text/plain": [
       "<matplotlib.figure.Figure at 0x11aabf210>"
      ]
     },
     "metadata": {},
     "output_type": "display_data"
    }
   ],
   "source": [
    "distplot(monomerHOMO[bestOrgIndicesAtom[2]])"
   ]
  },
  {
   "cell_type": "code",
   "execution_count": 96,
   "metadata": {},
   "outputs": [
    {
     "data": {
      "text/plain": [
       "<matplotlib.axes._subplots.AxesSubplot at 0x11bb6f7d0>"
      ]
     },
     "execution_count": 96,
     "metadata": {},
     "output_type": "execute_result"
    },
    {
     "data": {
      "image/png": "[encoded data removed]",
      "text/plain": [
       "<matplotlib.figure.Figure at 0x11bb7a950>"
      ]
     },
     "metadata": {},
     "output_type": "display_data"
    }
   ],
   "source": [
    "distplot(monomerHOMO[bestOrgIndicesAtom[3]])"
   ]
  },
  {
   "cell_type": "code",
   "execution_count": 83,
   "metadata": {},
   "outputs": [
    {
     "data": {
      "text/plain": [
       "<matplotlib.axes._subplots.AxesSubplot at 0x118a487d0>"
      ]
     },
     "execution_count": 83,
     "metadata": {},
     "output_type": "execute_result"
    },
    {
     "data": {
      "image/png": "[encoded data removed]",
      "text/plain": [
       "<matplotlib.figure.Figure at 0x11bc816d0>"
      ]
     },
     "metadata": {},
     "output_type": "display_data"
    }
   ],
   "source": [
    "distplot(monomerHOMO[worstOrgIndicesAtom[-2]])"
   ]
  },
  {
   "cell_type": "code",
   "execution_count": 78,
   "metadata": {},
   "outputs": [
    {
     "data": {
      "text/plain": [
       "<matplotlib.axes._subplots.AxesSubplot at 0x11bc477d0>"
      ]
     },
     "execution_count": 78,
     "metadata": {},
     "output_type": "execute_result"
    },
    {
     "data": {
      "image/png": "[encoded data removed]",
      "text/plain": [
       "<matplotlib.figure.Figure at 0x11bc47dd0>"
      ]
     },
     "metadata": {},
     "output_type": "display_data"
    }
   ],
   "source": [
    "distplot(monomerHOMO[worstOrgIndicesAtom[-1]])"
   ]
  },
  {
   "cell_type": "code",
   "execution_count": 86,
   "metadata": {},
   "outputs": [
    {
     "data": {
      "text/plain": [
       "<matplotlib.axes._subplots.AxesSubplot at 0x11bc47750>"
      ]
     },
     "execution_count": 86,
     "metadata": {},
     "output_type": "execute_result"
    },
    {
     "data": {
      "image/png": "[encoded data removed]",
      "text/plain": [
       "<matplotlib.figure.Figure at 0x11af3d810>"
      ]
     },
     "metadata": {},
     "output_type": "display_data"
    }
   ],
   "source": [
    "distplot(monomerHOMO[worstOrgIndicesAtom[-5]])"
   ]
  },
  {
   "cell_type": "code",
   "execution_count": 74,
   "metadata": {},
   "outputs": [
    {
     "data": {
      "text/plain": [
       "<matplotlib.axes._subplots.AxesSubplot at 0x116e3f810>"
      ]
     },
     "execution_count": 74,
     "metadata": {},
     "output_type": "execute_result"
    },
    {
     "data": {
      "image/png": "[encoded data removed]",
      "text/plain": [
       "<matplotlib.figure.Figure at 0x111992410>"
      ]
     },
     "metadata": {},
     "output_type": "display_data"
    }
   ],
   "source": [
    "distplot(monomerHOMO[worstOrgIndices[2]])"
   ]
  },
  {
   "cell_type": "code",
   "execution_count": 75,
   "metadata": {
    "collapsed": true
   },
   "outputs": [],
   "source": [
    "bestOrgIndices = []\n",
    "for i in range(10):\n",
    "    bestOrgIndices += [returnLocationInCsv(mols_atom[i])]"
   ]
  }
 ],
 "metadata": {
  "kernelspec": {
   "display_name": "Python 2",
   "language": "python",
   "name": "python2"
  },
  "language_info": {
   "codemirror_mode": {
    "name": "ipython",
    "version": 2
   },
   "file_extension": ".py",
   "mimetype": "text/x-python",
   "name": "python",
   "nbconvert_exporter": "python",
   "pygments_lexer": "ipython2",
   "version": "2.7.15"
  }
 },
 "nbformat": 4,
 "nbformat_minor": 2
}
