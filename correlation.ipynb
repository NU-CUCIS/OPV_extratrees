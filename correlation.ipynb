{
 "cells": [
  {
   "cell_type": "code",
   "execution_count": 1,
   "metadata": {
    "collapsed": true
   },
   "outputs": [],
   "source": [
    "%matplotlib inline\n",
    "\n",
    "def warn(*args, **kwargs):\n",
    "    pass\n",
    "import warnings\n",
    "warnings.warn = warn\n",
    "warnings.filterwarnings(\"ignore\")"
   ]
  },
  {
   "cell_type": "code",
   "execution_count": 24,
   "metadata": {
    "collapsed": true
   },
   "outputs": [],
   "source": [
    "from IPython.display import Image\n",
    "\n",
    "import pandas as pd\n",
    "from pandas import DataFrame\n",
    "from math import isnan\n",
    "import numpy,pickle\n",
    "from numpy import load, save,append, array,percentile,hstack,mean,abs,equal\n",
    "from sklearn.model_selection import cross_val_predict, ParameterGrid\n",
    "from sklearn.preprocessing import StandardScaler, normalize, scale\n",
    "from sklearn.utils import shuffle\n",
    "from sklearn.decomposition import TruncatedSVD as SVD\n",
    "from sklearn.decomposition import PCA, NMF\n",
    "from sklearn.decomposition import RandomizedPCA as RCA\n",
    "from sklearn.decomposition import KernelPCA as KCA\n",
    "\n",
    "\n",
    "import matplotlib.pyplot as plt\n",
    "import seaborn as sns\n",
    "from scipy.spatial.distance import dice,hamming,jaccard,kulsinski,matching,yule,rogerstanimoto\n",
    "from scipy import stats\n",
    "from scipy.stats import pointbiserialr as pointbiserial\n",
    "from scipy.io import savemat"
   ]
  },
  {
   "cell_type": "code",
   "execution_count": 3,
   "metadata": {
    "collapsed": true
   },
   "outputs": [],
   "source": [
    "from rdkit import Chem, DataStructs\n",
    "from rdkit.Chem import AllChem,MACCSkeys,AtomPairs\n",
    "from rdkit.Chem.Fingerprints import FingerprintMols\n",
    "from rdkit.Chem.AtomPairs import Pairs,Torsions\n",
    "from rdkit.Chem.AtomPairs.Torsions import GetTopologicalTorsionFingerprintAsIntVect as TopologicalTorsionFingerPrint\n",
    "from rdkit.Chem.Draw import IPythonConsole, SimilarityMaps\n",
    "from rdkit.Chem.AtomPairs.Pairs import ExplainPairScore as ExplainAtomPairScore"
   ]
  },
  {
   "cell_type": "code",
   "execution_count": 5,
   "metadata": {
    "collapsed": true
   },
   "outputs": [],
   "source": [
    "def correlationMask(X,Y,topIndices):\n",
    "    length = len(X)\n",
    "    d = []\n",
    "    for i in range(length):\n",
    "        d+= [append(X[i][topIndices],Y[i]).tolist()]\n",
    "    df = pd.DataFrame(d)\n",
    "    correlation = df.corr()\n",
    "\n",
    "    # Generate a mask for the upper triangle\n",
    "    mask = numpy.zeros_like(correlation, dtype=numpy.bool)\n",
    "    mask[numpy.triu_indices_from(mask)] = True\n",
    "    \n",
    "    return correlation, mask\n",
    "\n",
    "def correlationPlot(correlation,mask):\n",
    "    # Set up the matplotlib figure\n",
    "    f, ax = plt.subplots(figsize=(8, 6))\n",
    "\n",
    "    # Generate a custom diverging colormap\n",
    "    cmap = sns.diverging_palette(220, 10, as_cmap=True)\n",
    "\n",
    "    # Draw the heatmap with the mask and correct aspect ratio\n",
    "    sns.heatmap(correlation, mask=mask, cmap=cmap, vmax=.3, center=0,\n",
    "                square=True, linewidths=.5, cbar_kws={\"shrink\": .5})"
   ]
  },
  {
   "cell_type": "code",
   "execution_count": 4,
   "metadata": {
    "collapsed": true
   },
   "outputs": [],
   "source": [
    "def loadNumpy(name,path='.'):\n",
    "    if \".npy\" in name:\n",
    "        fullPath = path+'/'+name\n",
    "    else:\n",
    "        fullPath = path+'/'+name+'.npy'\n",
    "    return load(fullPath)\n",
    "\n",
    "\n",
    "def saveNumpy(obj, name, path='.'):\n",
    "    if \".npy\" not in name:\n",
    "        fullPath = path+'/'+name\n",
    "        save(fullPath, obj)\n",
    "        print name,'saved successfully in',path\n",
    "    else:\n",
    "        fullPath = path+'/'+name.split(\".npy\")[0]\n",
    "        save(fullPath, obj)\n",
    "        print name,'saved successfully in',path\n",
    "        \n",
    "def loadData(name,path='.'):\n",
    "    '''\n",
    "    This loads a pickle file and returns the content which is a DICTIONARY object in our case.\n",
    "    '''\n",
    "    if \".pkl\" in name:\n",
    "            name = name.split(\".pkl\")[0]\n",
    "    if \"/\" in name:\n",
    "            name = name.split(\"/\",1)[1]\n",
    "\n",
    "    with open(path+\"/\"+name + '.pkl', 'rb') as f:\n",
    "          return pickle.load(f)\n",
    "        \n",
    "def saveData(obj, name,path='.'):\n",
    "    '''\n",
    "    This saves a object into a pickle file. In our case, it is generally a DICTIONARY object.\n",
    "    '''\n",
    "\n",
    "    with open(path+\"/\"+name + '.pkl', 'wb') as f:\n",
    "            pickle.dump(obj, f)"
   ]
  },
  {
   "cell_type": "code",
   "execution_count": 13,
   "metadata": {
    "collapsed": true
   },
   "outputs": [],
   "source": [
    "atomIndices = loadNumpy('atompairTraining80-20Count')\n",
    "maccsIndices = loadNumpy('atompairTraining80-20Count')\n",
    "\n",
    "apCount = loadData('AtomPairFoldedCount')\n",
    "apPositions = loadData('AtomPairPositions')"
   ]
  },
  {
   "cell_type": "code",
   "execution_count": 9,
   "metadata": {
    "collapsed": true
   },
   "outputs": [],
   "source": [
    "ap = loadNumpy('AtomPairCount')\n",
    "HOMO = loadNumpy('HOMO')"
   ]
  },
  {
   "cell_type": "code",
   "execution_count": 16,
   "metadata": {},
   "outputs": [
    {
     "name": "stdout",
     "output_type": "stream",
     "text": [
      "0 : (('C', 2, 1), 5, ('N', 1, 2))\n",
      "1 : (('C', 2, 2), 6, ('N', 3, 1))\n",
      "2 : (('N', 3, 1), 7, ('N', 1, 2))\n",
      "3 : (('C', 3, 1), 8, ('N', 1, 2))\n",
      "4 : (('C', 3, 1), 11, ('N', 1, 2))\n",
      "5 : (('C', 3, 1), 3, ('C', 3, 1))\n",
      "6 : (('C', 3, 1), 5, ('C', 3, 1))\n",
      "7 : (('C', 3, 1), 4, ('N', 1, 2))\n",
      "8 : (('C', 3, 1), 8, ('C', 3, 1))\n",
      "9 : (('C', 3, 1), 1, ('N', 3, 1))\n",
      "10 : (('C', 2, 1), 3, ('N', 1, 2))\n",
      "11 : (('C', 2, 1), 6, ('N', 1, 2))\n",
      "12 : (('C', 3, 1), 7, ('N', 1, 2))\n",
      "13 : (('C', 2, 2), 1, ('N', 1, 2))\n",
      "14 : (('C', 2, 1), 5, ('C', 3, 1))\n",
      "15 : (('C', 3, 1), 2, ('N', 1, 2))\n",
      "16 : (('C', 3, 1), 2, ('C', 3, 1))\n",
      "17 : (('C', 2, 1), 4, ('C', 2, 2))\n",
      "18 : (('C', 3, 1), 9, ('C', 3, 1))\n",
      "19 : (('C', 3, 1), 6, ('N', 1, 2))\n",
      "21 : HOMO\n"
     ]
    }
   ],
   "source": [
    "actualAtomIndices = []\n",
    "for index in atomIndices[:20]:\n",
    "    actualAtomIndices += [apPositions[index]]\n",
    "\n",
    "for i in range(len(actualAtomIndices))[:20]:\n",
    "    print i,':',Pairs.ExplainPairScore(actualAtomIndices[i])\n",
    "\n",
    "print 21,': HOMO'"
   ]
  },
  {
   "cell_type": "markdown",
   "metadata": {},
   "source": [
    "What are these ? These are top features that determine the prediction of Atom Pairs. \n",
    "\n",
    "1. We can observe that most important features were (C,N) interactions especially that are further away from each other. "
   ]
  },
  {
   "cell_type": "code",
   "execution_count": 11,
   "metadata": {},
   "outputs": [
    {
     "data": {
      "image/png": "[encoded data removed]",
      "text/plain": [
       "<matplotlib.figure.Figure at 0x112f58e90>"
      ]
     },
     "metadata": {},
     "output_type": "display_data"
    }
   ],
   "source": [
    "correlation, mask = correlationMask(ap,HOMO,atomIndices)\n",
    "correlationPlot(correlation,mask)"
   ]
  },
  {
   "cell_type": "code",
   "execution_count": 14,
   "metadata": {},
   "outputs": [
    {
     "data": {
      "image/png": "[encoded data removed]",
      "text/plain": [
       "<matplotlib.figure.Figure at 0x11cf6c750>"
      ]
     },
     "metadata": {},
     "output_type": "display_data"
    }
   ],
   "source": [
    "correlation, mask = correlationMask(ap,HOMO,atomIndices[:20])\n",
    "correlationPlot(correlation,mask)"
   ]
  },
  {
   "cell_type": "code",
   "execution_count": 17,
   "metadata": {
    "collapsed": true
   },
   "outputs": [],
   "source": [
    "HOMOSorted= loadNumpy('HOMOSorted')\n",
    "atomSorted= loadNumpy('atomSorted')\n",
    "topoSorted= loadNumpy('topoSorted')\n",
    "morganSorted= loadNumpy('morganSorted')\n",
    "maccsSorted= loadNumpy('maccsSorted')\n",
    "molsSorted= loadNumpy('molsSorted')"
   ]
  },
  {
   "cell_type": "markdown",
   "metadata": {},
   "source": [
    "### Find common elements between best and worst HOMO"
   ]
  },
  {
   "cell_type": "code",
   "execution_count": 76,
   "metadata": {
    "collapsed": true
   },
   "outputs": [],
   "source": [
    "equality = []\n",
    "for i in range(17):\n",
    "    equality += [equal(atomSorted[-(2*i+1)],atomSorted[-(2*i+2)])]"
   ]
  },
  {
   "cell_type": "code",
   "execution_count": 43,
   "metadata": {},
   "outputs": [
    {
     "data": {
      "text/plain": [
       "array([ True,  True,  True, ...,  True, False,  True], dtype=bool)"
      ]
     },
     "execution_count": 43,
     "metadata": {},
     "output_type": "execute_result"
    }
   ],
   "source": [
    "from numpy import logical_and,logical_xor\n",
    "logical_and(equality[0],equality[1])"
   ]
  },
  {
   "cell_type": "code",
   "execution_count": 77,
   "metadata": {
    "collapsed": true
   },
   "outputs": [],
   "source": [
    "final = logical_and(equality[0],equality[1])\n",
    "for eq in equality[2:]:\n",
    "    final = logical_and(final,eq)"
   ]
  },
  {
   "cell_type": "code",
   "execution_count": 68,
   "metadata": {},
   "outputs": [
    {
     "data": {
      "text/plain": [
       "1400"
      ]
     },
     "execution_count": 68,
     "metadata": {},
     "output_type": "execute_result"
    }
   ],
   "source": [
    "len([i for i, x in enumerate(final) if x])"
   ]
  },
  {
   "cell_type": "code",
   "execution_count": 88,
   "metadata": {
    "collapsed": true
   },
   "outputs": [],
   "source": [
    "equalityLow = []\n",
    "for i in range(17):\n",
    "    equalityLow += [equal(atomSorted[2*i],atomSorted[2*i+1])]\n",
    "finalLow = logical_and(equalityLow[0],equalityLow[1])\n",
    "for eq in equalityLow[2:]:\n",
    "    finalLow = logical_and(finalLow,eq)"
   ]
  },
  {
   "cell_type": "code",
   "execution_count": 70,
   "metadata": {},
   "outputs": [
    {
     "data": {
      "text/plain": [
       "1630"
      ]
     },
     "execution_count": 70,
     "metadata": {},
     "output_type": "execute_result"
    }
   ],
   "source": [
    "len([i for i, x in enumerate(finalLow) if x])"
   ]
  },
  {
   "cell_type": "code",
   "execution_count": 71,
   "metadata": {},
   "outputs": [
    {
     "data": {
      "text/plain": [
       "(1400, 1630, 1120)"
      ]
     },
     "execution_count": 71,
     "metadata": {},
     "output_type": "execute_result"
    }
   ],
   "source": [
    "len([i for i, x in enumerate(final) if x]),len([i for i, x in enumerate(finalLow) if x]),len([i for i, x in enumerate(logical_xor(final,finalLow)) if x])"
   ]
  },
  {
   "cell_type": "markdown",
   "metadata": {},
   "source": [
    "#### maccs"
   ]
  },
  {
   "cell_type": "code",
   "execution_count": 124,
   "metadata": {
    "collapsed": true
   },
   "outputs": [],
   "source": [
    "equality = []\n",
    "for i in range(17):\n",
    "    equality += [equal(maccsSorted[-(2*i+1)],maccsSorted[-(2*i+2)])]\n",
    "finalHiMaccs = logical_and(equality[0],equality[1])\n",
    "for eq in equality[2:]:\n",
    "    finalHiMaccs = logical_and(finalHiMaccs,eq)\n",
    "    \n",
    "equalityLow = []\n",
    "for i in range(17):\n",
    "    equalityLow += [equal(maccsSorted[2*i],maccsSorted[2*i+1])]\n",
    "finalLowMaccs = logical_and(equalityLow[0],equalityLow[1])\n",
    "for eq in equalityLow[2:]:\n",
    "    finalLowMaccs = logical_and(finalLowMaccs,eq)   "
   ]
  },
  {
   "cell_type": "code",
   "execution_count": 73,
   "metadata": {},
   "outputs": [
    {
     "data": {
      "text/plain": [
       "(74, 56, 22)"
      ]
     },
     "execution_count": 73,
     "metadata": {},
     "output_type": "execute_result"
    }
   ],
   "source": [
    "len([i for i, x in enumerate(final) if x]),len([i for i, x in enumerate(finalLow) if x]),len([i for i, x in enumerate(logical_xor(final,finalLow)) if x])"
   ]
  },
  {
   "cell_type": "markdown",
   "metadata": {},
   "source": [
    "### Percentage of dissimilar indices between top 10% and bottom 10% of HOMO values"
   ]
  },
  {
   "cell_type": "markdown",
   "metadata": {},
   "source": [
    "#### AtomPair"
   ]
  },
  {
   "cell_type": "code",
   "execution_count": 79,
   "metadata": {},
   "outputs": [
    {
     "data": {
      "text/plain": [
       "41.85351270553064"
      ]
     },
     "execution_count": 79,
     "metadata": {},
     "output_type": "execute_result"
    }
   ],
   "source": [
    "float(len([i for i, x in enumerate(logical_xor(final,finalLow)) if x]))/float(len(equality[0])) *100"
   ]
  },
  {
   "cell_type": "markdown",
   "metadata": {},
   "source": [
    "### maccs"
   ]
  },
  {
   "cell_type": "code",
   "execution_count": 75,
   "metadata": {},
   "outputs": [
    {
     "data": {
      "text/plain": [
       "13.253012048192772"
      ]
     },
     "execution_count": 75,
     "metadata": {},
     "output_type": "execute_result"
    }
   ],
   "source": [
    "float(len([i for i, x in enumerate(logical_xor(final,finalLow)) if x]))/float(len(equality[0])) *100"
   ]
  },
  {
   "cell_type": "markdown",
   "metadata": {},
   "source": [
    "There were many common elements between molecules with highest and lowest HOMO values. We will now attempt to find out what are the elements that are common between top features and these indices. Also for AtomPair, 41.83 % of features are not common between the highest and lowest HOMO values. Although, the fingerprints are very sparse representations, we can still identify many elements that are distinct, and these elements in turn impact the HOMO value of the molecule. "
   ]
  },
  {
   "cell_type": "markdown",
   "metadata": {},
   "source": [
    "Atom Indices contain the order of the most to least important features for the prediction. So we can match the indices of the ones which are similar to the top indices there. "
   ]
  },
  {
   "cell_type": "markdown",
   "metadata": {},
   "source": [
    "#### AtomPair"
   ]
  },
  {
   "cell_type": "code",
   "execution_count": 117,
   "metadata": {
    "collapsed": true
   },
   "outputs": [],
   "source": [
    "setHi = set(atomIndices[:35]) - set(final.nonzero()[0])"
   ]
  },
  {
   "cell_type": "code",
   "execution_count": 118,
   "metadata": {
    "collapsed": true
   },
   "outputs": [],
   "source": [
    "indices = finalLow.nonzero()[0]\n",
    "setLo = set(atomIndices[:35]) - set(finalLow.nonzero()[0])"
   ]
  },
  {
   "cell_type": "code",
   "execution_count": 121,
   "metadata": {
    "collapsed": true
   },
   "outputs": [],
   "source": [
    "differenceImpFeatures = list(setLo ^ setHi)"
   ]
  },
  {
   "cell_type": "code",
   "execution_count": 120,
   "metadata": {
    "collapsed": true
   },
   "outputs": [],
   "source": [
    "apCount = loadData('AtomPairFoldedCount')\n",
    "apPositions = loadData('AtomPairPositions')"
   ]
  },
  {
   "cell_type": "code",
   "execution_count": 122,
   "metadata": {},
   "outputs": [
    {
     "name": "stdout",
     "output_type": "stream",
     "text": [
      "0 : (('N', 1, 2), 8, ('O', 1, 0))\n",
      "1 : (('N', 1, 2), 8, ('O', 1, 1))\n",
      "2 : (('C', 2, 2), 12, ('N', 1, 2))\n",
      "3 : (('C', 2, 2), 6, ('N', 3, 1))\n",
      "4 : (('N', 1, 2), 4, ('N', 1, 2))\n",
      "5 : (('N', 3, 1), 7, ('N', 1, 2))\n",
      "6 : (('C', 3, 1), 8, ('N', 1, 2))\n"
     ]
    }
   ],
   "source": [
    "actualIndices = []\n",
    "for index in differenceImpFeatures:\n",
    "    actualIndices += [apPositions[index]]\n",
    "\n",
    "for i in range(len(actualIndices)):\n",
    "    print i,':',Pairs.ExplainPairScore(actualIndices[i])"
   ]
  },
  {
   "cell_type": "markdown",
   "metadata": {},
   "source": [
    "#### maccs"
   ]
  },
  {
   "cell_type": "code",
   "execution_count": 134,
   "metadata": {
    "collapsed": true
   },
   "outputs": [],
   "source": [
    "maccsIndices = loadNumpy('maccsTraining80-20Count')"
   ]
  },
  {
   "cell_type": "code",
   "execution_count": 135,
   "metadata": {
    "collapsed": true
   },
   "outputs": [],
   "source": [
    "setHiMaccs = set(maccsIndices[:35]) - set(finalHiMaccs.nonzero()[0])\n",
    "setLoMaccs = set(maccsIndices[:35]) - set(finalLowMaccs.nonzero()[0])"
   ]
  },
  {
   "cell_type": "code",
   "execution_count": 140,
   "metadata": {},
   "outputs": [
    {
     "data": {
      "text/plain": [
       "{23, 55, 62, 70}"
      ]
     },
     "execution_count": 140,
     "metadata": {},
     "output_type": "execute_result"
    }
   ],
   "source": [
    "setLoMaccs-setHiMaccs"
   ]
  },
  {
   "cell_type": "code",
   "execution_count": 145,
   "metadata": {},
   "outputs": [
    {
     "name": "stdout",
     "output_type": "stream",
     "text": [
      "71\n",
      "24\n",
      "56\n",
      "63\n"
     ]
    }
   ],
   "source": [
    "differenceImpFeatures = list(setLoMaccs ^ setHiMaccs)\n",
    "for i in differenceImpFeatures:\n",
    "    print i+1 ## adjustment for indices starting from 1 in MACCSKeys"
   ]
  },
  {
   "cell_type": "raw",
   "metadata": {},
   "source": [
    "71 = NO (Any NO bond)\n",
    "24 = N-O (N-O single bond)\n",
    "56 = ON(O)C (Presence of O in middle with C and NO links on other sides)\n",
    "63 = N=O (N=O double bond)"
   ]
  },
  {
   "cell_type": "code",
   "execution_count": null,
   "metadata": {
    "collapsed": true
   },
   "outputs": [],
   "source": []
  }
 ],
 "metadata": {
  "kernelspec": {
   "display_name": "Python 2",
   "language": "python",
   "name": "python2"
  },
  "language_info": {
   "codemirror_mode": {
    "name": "ipython",
    "version": 2
   },
   "file_extension": ".py",
   "mimetype": "text/x-python",
   "name": "python",
   "nbconvert_exporter": "python",
   "pygments_lexer": "ipython2",
   "version": "2.7.15"
  }
 },
 "nbformat": 4,
 "nbformat_minor": 2
}
